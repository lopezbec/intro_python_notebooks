{
  "nbformat": 4,
  "nbformat_minor": 0,
  "metadata": {
    "coursera": {
      "course_slug": "neural-networks-deep-learning",
      "graded_item_id": "wRuwL",
      "launcher_item_id": "NI888"
    },
    "kernelspec": {
      "display_name": "Python 3",
      "language": "python",
      "name": "python3"
    },
    "language_info": {
      "codemirror_mode": {
        "name": "ipython",
        "version": 3
      },
      "file_extension": ".py",
      "mimetype": "text/x-python",
      "name": "python",
      "nbconvert_exporter": "python",
      "pygments_lexer": "ipython3",
      "version": "3.6.0"
    },
    "colab": {
      "provenance": [],
      "toc_visible": true,
      "collapsed_sections": [
        "pXAfCrp2akTz"
      ]
    }
  },
  "cells": [
    {
      "cell_type": "markdown",
      "metadata": {
        "id": "TO2_3yvEfpZo"
      },
      "source": [
        "\n",
        "\n",
        "\n",
        "<center><b>© Content is made available under the CC-BY-NC-ND 4.0 license. Christian Lopez, lopezbec@lafayette.edu <b><center>"
      ]
    },
    {
      "cell_type": "markdown",
      "source": [
        "<table align=\"left\">\n",
        "  <td>\n",
        "    <a href=\"https://colab.research.google.com/github/lopezbec/intro_python_notebooks/blob/master/Classification_L2NN.ipynb\" target=\"_parent\"><img src=\"https://colab.research.google.com/assets/colab-badge.svg\" alt=\"Open In Colab\"/></a>\n",
        "  </td>\n",
        "  <td>"
      ],
      "metadata": {
        "id": "TZUkS7ofvcjZ"
      }
    },
    {
      "cell_type": "markdown",
      "metadata": {
        "id": "-xNxPITEpH2a"
      },
      "source": [
        "# Implementing a Two Layer Neural Network for Classification\n",
        "\n",
        "This Notebook will give you an introduction to Neural Networks by implementing a Neural Network with two layers (L=2). You will build a NN for a binary classification problem and implement it in a set of simulated datasets with two features to help visualize the difference of NN compared to Logistic Regression. This assignment will step you through how to do the forward and backward propagation steps to train a Neural Network.\n",
        "<br></br>\n",
        "\n",
        "**In this Notebook  you will learn:**\n",
        "- Implement a 2-class classification neural network with a single hidden layer\n",
        "- Use neurons with a non-linear activation function, such as tanh \n",
        "- Compute the cross entropy loss \n",
        "- Implement forward and backward propagation steps\n",
        "<br></br>\n",
        "\n",
        "Most of the notebooks we are going to be using are inspired from existing notebooks that are available online and are made  free for educational purposes. The work of [Andre Ng]( https://en.wikipedia.org/wiki/Andrew_Ng)  and others served as guide and  inspiration for these notebooks. Nonetheless, these notebooks should not be share without prior permission of the instructor. When working in an assignment always remember the [Student Code of Conduct]( https://conduct.lafayette.edu/student-handbook/student-code-of-conduct/).  \n",
        "</br>\n",
        "\n"
      ]
    },
    {
      "cell_type": "markdown",
      "metadata": {
        "id": "eF7lbuDOpH2c"
      },
      "source": [
        "#Setup\n"
      ]
    },
    {
      "cell_type": "code",
      "metadata": {
        "id": "2vXc7pYppH2e"
      },
      "source": [
        "# Package imports\n",
        "import numpy as np\n",
        "import matplotlib.pyplot as plt\n",
        "import sklearn\n",
        "import sklearn.datasets\n",
        "import sklearn.linear_model\n",
        "from sklearn.pipeline import Pipeline\n",
        "from sklearn.preprocessing import PolynomialFeatures\n",
        "from sklearn.preprocessing import StandardScaler\n",
        "from scipy.special import expit, logit\n",
        "\n",
        "\n",
        "%matplotlib inline\n",
        "\n",
        "np.random.seed(1) # set a seed so that the results are consistent"
      ],
      "execution_count": null,
      "outputs": []
    },
    {
      "cell_type": "markdown",
      "metadata": {
        "id": "2NOV2EQvpH2k"
      },
      "source": [
        "## Dataset\n"
      ]
    },
    {
      "cell_type": "markdown",
      "metadata": {
        "id": "JFDEWqAdjRpz"
      },
      "source": [
        "Let’s generate some data to use in this notebook. At the end of the notebook you will be able to test your functions using other simulated datasets."
      ]
    },
    {
      "cell_type": "code",
      "metadata": {
        "id": "V_xEDFOppH2l"
      },
      "source": [
        "np.random.seed(1)\n",
        "m = 400 # number of examples\n",
        "N = int(m/2) # number of points per class\n",
        "D = 2 # dimensionality\n",
        "X = np.zeros((m,D)) # data matrix where each row is a single example\n",
        "Y = np.zeros((m,1), dtype='uint8') # labels vector (0 for red, 1 for blue)\n",
        "a = 4 # maximum ray of the flower\n",
        "\n",
        "for j in range(2):\n",
        "    ix = range(N*j,N*(j+1))\n",
        "    t = np.linspace(j*3.12,(j+1)*3.12,N) + np.random.randn(N)*0.2 # theta\n",
        "    r = a*np.sin(4*t) + np.random.randn(N)*0.2 # radius\n",
        "    X[ix] = np.c_[r*np.sin(t), r*np.cos(t)]\n",
        "    Y[ix] = j\n"
      ],
      "execution_count": null,
      "outputs": []
    },
    {
      "cell_type": "markdown",
      "metadata": {
        "id": "8X27WSHwpH2r"
      },
      "source": [
        "Visualize the dataset using matplotlib. The data looks like a \"flower\" with some red (label y=0) and some blue (y=1) points. Your goal is to build a model to fit this data. In other words, we want the classifier to define regions as either red or blue."
      ]
    },
    {
      "cell_type": "code",
      "metadata": {
        "id": "Kh5qI7oipH2s"
      },
      "source": [
        "# Visualize the data:\n",
        "plt.scatter(X[:, 0], X[:, 1], c=Y[:,0], s=40, cmap=plt.cm.Spectral);"
      ],
      "execution_count": null,
      "outputs": []
    },
    {
      "cell_type": "markdown",
      "metadata": {
        "id": "oKDe-uA7pH2w"
      },
      "source": [
        "This dataset has:\n",
        "\n",
        "- X: a numpy-array (matrix) with dimension (m x n) that contains your features (x1, x2)\n",
        "- Y: a numpy-array ( column vector) with dimension (m x 1) that contains your labels (red:0, blue:1).\n",
        "\n",
        "Lets check these dimensions\n",
        "\n"
      ]
    },
    {
      "cell_type": "markdown",
      "metadata": {
        "id": "pbOkIjclrELe"
      },
      "source": [
        "#### **Exercise**: "
      ]
    },
    {
      "cell_type": "markdown",
      "metadata": {
        "id": "GuCe1tLTluqE"
      },
      "source": [
        "Some of the most common bugs when implementing NN (forwards and backwards propagation steps) has to do with issues with np.arrays dimensions. Due to the broadcasting feature of python, the fact that a line of code does not give you an error, does not mean it is correct. Hence, you need to always know:\n",
        "\n",
        "How many training examples do you have? In addition, what is the `shape` of the variables `X` and `Y`? What are the values of $n^{[0]}$,$n^{[1]}$,...,$n^{[L]}$?   \n"
      ]
    },
    {
      "cell_type": "code",
      "metadata": {
        "id": "DjaBY4o3pH2x"
      },
      "source": [
        "###==== START CODE HERE ====### (≈ 5 lines of code)\n",
        "#shape_X = \n",
        "#shape_Y = \n",
        "#m =  \n",
        "#n_0 = \n",
        "#n_2 = \n",
        "###==== END CODE HERE ====###\n",
        "\n",
        "print ('The shape of X is: ' + str(shape_X))\n",
        "print ('The shape of Y is: ' + str(shape_Y))\n",
        "print ('m = %d training examples!' % (m))\n",
        "print ('n_0 =' + str(n_0))\n",
        "print ('n_2 =' + str(n_2))"
      ],
      "execution_count": null,
      "outputs": []
    },
    {
      "cell_type": "markdown",
      "metadata": {
        "id": "1s9ADu_CpH20"
      },
      "source": [
        "**Expected Output**:\n",
        "       \n",
        "```\n",
        "The shape of X is: (400, 2)\n",
        "The shape of Y is: (400, 1)\n",
        "m = 400 training examples!\n",
        "n_0 =2\n",
        "n_2 =1\n",
        "```"
      ]
    },
    {
      "cell_type": "markdown",
      "metadata": {
        "id": "-OlhmwBtpH22"
      },
      "source": [
        "## 1 - Simple Logistic Regression with sklearn\n",
        "\n",
        "Before building a full neural network, lets first see how logistic regression performs on this problem. You can use sklearn's built-in functions to do that. Run the code below to train a logistic regression classifier on the dataset."
      ]
    },
    {
      "cell_type": "code",
      "metadata": {
        "id": "maq1FrlbpH23"
      },
      "source": [
        "# Train the logistic regression classifier\n",
        "clf = sklearn.linear_model.LogisticRegressionCV()\n",
        "clf.fit(X, Y.reshape(-1,)) #the reshape part is because sklearn lines Y to be an (m,) vector, if you pass a (m,1) array still will work but with a warning"
      ],
      "execution_count": null,
      "outputs": []
    },
    {
      "cell_type": "markdown",
      "metadata": {
        "id": "eYcyyLl7pH27"
      },
      "source": [
        "You can now plot the decision boundary of these models. Run the code below."
      ]
    },
    {
      "cell_type": "code",
      "metadata": {
        "id": "gEuISSBzZUfp"
      },
      "source": [
        "def plot_decision_boundary(model, X, y):\n",
        "    # Set min and max values and give it some padding\n",
        "    x_min, x_max = X[:, 0].min() - 1, X[:, 0].max() + 1\n",
        "    y_min, y_max = X[:, 1].min() - 1, X[:, 1].max() + 1\n",
        "    h = 0.01\n",
        "    # Generate a grid of points with distance h between them\n",
        "    xx, yy = np.meshgrid(np.arange(x_min, x_max, h), np.arange(y_min, y_max, h))\n",
        "    # Predict the function value for the whole grid\n",
        "    Z = model(np.c_[xx.ravel(), yy.ravel()])\n",
        "    Z = Z.reshape(xx.shape)\n",
        "    # Plot the contour and training examples\n",
        "    plt.contourf(xx, yy, Z, cmap=plt.cm.Spectral)\n",
        "    plt.ylabel('x2')\n",
        "    plt.xlabel('x1')\n",
        "    plt.scatter(X[:, 0], X[:, 1], c=y, cmap=plt.cm.Spectral)\n",
        "\n",
        "# Plot the decision boundary for logistic regression\n",
        "plot_decision_boundary(lambda x: clf.predict(x), X, Y[:,0])\n",
        "plt.title(\"Logistic Regression\")\n",
        "\n",
        "# Print accuracy\n",
        "LR_predictions = clf.predict(X)\n",
        "print ('Accuracy of logistic regression: %d ' % float((np.dot(LR_predictions,Y) + np.dot(1-LR_predictions, 1-Y))/float(Y.size)*100) +\n",
        "       '% ' + \"(percentage of correctly labelled datapoints)\")"
      ],
      "execution_count": null,
      "outputs": []
    },
    {
      "cell_type": "markdown",
      "metadata": {
        "id": "eKZL_8xUpH3B"
      },
      "source": [
        " **Interpretation**: The dataset is not linearly separable, so logistic regression doesn't perform well. Hopefully a neural network will do better. Let's try this now! "
      ]
    },
    {
      "cell_type": "markdown",
      "metadata": {
        "id": "2yR-MfJiZZus"
      },
      "source": [
        "Even fitting more complex Logistic Regression Models (i.e., increasing the degree of polynomial does not helps that much)"
      ]
    },
    {
      "cell_type": "code",
      "metadata": {
        "id": "O8NyltkuYDiA",
        "cellView": "form"
      },
      "source": [
        "import warnings\n",
        "warnings.filterwarnings('ignore')\n",
        "\n",
        "Degree_of_Polynomial=10 #@param {type:\"integer\",step:0.5}\n",
        "\n",
        "polybig_features = PolynomialFeatures(degree=Degree_of_Polynomial, include_bias=False)\n",
        "std_scaler = StandardScaler()\n",
        "LogCV = sklearn.linear_model.LogisticRegressionCV()\n",
        "\n",
        "clf = Pipeline([\n",
        "        (\"poly_features\", polybig_features),                                \n",
        "        (\"std_scaler\", std_scaler),\n",
        "        (\"LogCV\", LogCV),\n",
        "    ])\n",
        "\n",
        "clf.fit(X, Y)\n",
        "\n",
        "# Plot the decision boundary for logistic regression\n",
        "plot_decision_boundary(lambda x: clf.predict(x), X, Y[:,0])\n",
        "plt.title(\"Logistic Regression\")\n",
        "\n",
        "# Print accuracy\n",
        "LR_predictions = clf.predict(X)\n",
        "print ('Accuracy of logistic regression: %d ' % float((np.dot(LR_predictions,Y) + np.dot(1-LR_predictions, 1-Y))/float(Y.size)*100) +\n",
        "       '% ' + \"(percentage of correctly labelled datapoints)\")"
      ],
      "execution_count": null,
      "outputs": []
    },
    {
      "cell_type": "markdown",
      "metadata": {
        "id": "L-ZUg0TU7OrY"
      },
      "source": [
        "## 1 - Neural Network model\n"
      ]
    },
    {
      "cell_type": "markdown",
      "metadata": {
        "id": "OdMfxwTvuzRE"
      },
      "source": [
        "Logistic regression did not work well on the \"flower dataset\". You are going to train a Neural Network with a single hidden layer.\n",
        "\n",
        "**Here is our model**:"
      ]
    },
    {
      "cell_type": "markdown",
      "metadata": {
        "id": "aYiOEp7fpH3C"
      },
      "source": [
        "**Mathematically**:\n",
        "\n",
        "For one example $x^{(i)}$:\n",
        "\n",
        "\n",
        "$$z^{[1] (i)} =  x^{(i)} W^{[1]}  + b^{[1]}\\tag{1}$$ \n",
        "$$a^{[1] (i)} = \\tanh(z^{[1] (i)})\\tag{2}$$\n",
        "$$z^{[2] (i)} = a^{[1] (i)} W^{[2]}  + b^{[2]}\\tag{3}$$\n",
        "$$\\hat{y}^{(i)} = a^{[2] (i)} = \\sigma(z^{ [2] (i)})\\tag{4}$$\n",
        "$$y^{(i)}_{prediction} = \\begin{cases} 1 & \\mbox{if } a^{[2](i)} > 0.5 \\\\ 0 & \\mbox{otherwise } \\end{cases}\\tag{5}$$\n",
        "\n",
        "Given the predictions on all the examples, you can also compute the cost $J$ as follows: \n",
        "$$J = - \\frac{1}{m} \\sum\\limits_{i = 0}^{m} \\large\\left(\\small y^{(i)}\\log\\left(a^{[2] (i)}\\right) + (1-y^{(i)})\\log\\left(1- a^{[2] (i)}\\right)  \\large  \\right) \\small \\tag{6}$$\n",
        "\n"
      ]
    },
    {
      "cell_type": "markdown",
      "metadata": {
        "id": "qpSpssaQvxyY"
      },
      "source": [
        "The general methodology to build a Neural Network is to:\n",
        "1. Define the neural network structure ( # of input units,  # of hidden units, etc). \n",
        "2. Initialize the model's parameters\n",
        "3. Loop:\n",
        "    - Implement forward propagation\n",
        "    - Compute loss\n",
        "    - Implement backward propagation to get the gradients\n",
        "    - Update parameters (gradient descent)\n",
        "\n",
        "You often build helper functions to compute steps 1-3 and then merge them into one function we call `nn_model()`. Once you've built `nn_model()` and learnt the right parameters, you can make predictions on new data."
      ]
    },
    {
      "cell_type": "markdown",
      "metadata": {
        "id": "qmh0sUhExpTf"
      },
      "source": [
        "### 1.1 - Defining the neural network structure ####"
      ]
    },
    {
      "cell_type": "markdown",
      "metadata": {
        "id": "kMCZqObkxqnR"
      },
      "source": [
        "####**Exercise**:"
      ]
    },
    {
      "cell_type": "markdown",
      "metadata": {
        "id": "LVjyRtK-pH3D"
      },
      "source": [
        "\n",
        "\n",
        "Define three variables:\n",
        "- n_0: the size of the input layer\n",
        "- n_1: the size of the hidden layer (set this to 4) \n",
        "- n_2: the size of the output layer\n",
        "\n",
        "**Hint**: Use shapes of X and Y to find n_0 and n_2. Also, hard code the hidden layer size to be 4."
      ]
    },
    {
      "cell_type": "code",
      "metadata": {
        "id": "YouYYJmrpH3E"
      },
      "source": [
        "# GRADED FUNCTION: layer_sizes\n",
        "\n",
        "def layer_sizes(X, Y):\n",
        "    \"\"\"\n",
        "    Arguments:\n",
        "    X -- input dataset of shape (input size, number of examples)\n",
        "    Y -- labels of shape (output size, number of examples)\n",
        "    \n",
        "    Returns:\n",
        "    n_x -- the size of the input layer\n",
        "    n_h -- the size of the hidden layer\n",
        "    n_y -- the size of the output layer\n",
        "    \"\"\"\n",
        "    ###==== START CODE HERE ====### (≈ 3 lines of code)\n",
        "    #n_0 = \n",
        "    #n_1 = \n",
        "    #n_2 = \n",
        "    ###==== END CODE HERE ====###\n",
        "    return (n_0, n_1, n_2)"
      ],
      "execution_count": null,
      "outputs": []
    },
    {
      "cell_type": "code",
      "metadata": {
        "id": "VW-DZkXVpH3I"
      },
      "source": [
        "n_0, n_1, n_2 = layer_sizes(X, Y)\n",
        "print(\"The size of the input layer is: n_0 = \" + str(n_0))\n",
        "print(\"The size of the hidden layer is: n_1 = \" + str(n_1))\n",
        "print(\"The size of the output layer is: n_2 = \" + str(n_2))"
      ],
      "execution_count": null,
      "outputs": []
    },
    {
      "cell_type": "markdown",
      "metadata": {
        "id": "kbd7NGMvpH3L"
      },
      "source": [
        "**Expected Output**\n",
        "\n",
        "*(these are not the sizes you will use for your network, they are just used to assess the function you've just coded)*\n",
        "\n",
        "```\n",
        "The size of the input layer is: n_0 = 2\n",
        "The size of the hidden layer is: n_1 = 4\n",
        "The size of the output layer is: n_2 = 1\n",
        "```\n",
        "\n"
      ]
    },
    {
      "cell_type": "markdown",
      "metadata": {
        "id": "gwlbSZT2ybrS"
      },
      "source": [
        "### 1.2 - Initialize the model's parameters ####\n"
      ]
    },
    {
      "cell_type": "markdown",
      "metadata": {
        "id": "rpmkGRvfydld"
      },
      "source": [
        "\n",
        "####**Exercise**:"
      ]
    },
    {
      "cell_type": "markdown",
      "metadata": {
        "id": "OK2v_VK3pH3M"
      },
      "source": [
        " Implement the function `initialize_parameters()`.\n",
        "\n",
        "**Instructions**:\n",
        "- Make sure your parameters' sizes/shapes are right. \n",
        "- You will initialize the weights matrices with random values. \n",
        "    - Use: `np.random.randn(a,b) * 0.01` to randomly initialize a matrix of shape (a,b).\n",
        "- You will initialize the bias vectors as zeros. \n",
        "    - Use: `np.zeros((a,b))` to initialize a matrix of shape (a,b) with zeros."
      ]
    },
    {
      "cell_type": "code",
      "metadata": {
        "id": "WFm7-2v0pH3N"
      },
      "source": [
        "# GRADED FUNCTION: initialize_parameters\n",
        "\n",
        "def initialize_parameters(n_0, n_1, n_2):\n",
        "    \"\"\"\n",
        "    Argument:\n",
        "    n_0 -- size of the input layer\n",
        "    n_1 -- size of the hidden layer\n",
        "    n_2 -- size of the output layer\n",
        "    \n",
        "    Returns:\n",
        "    params -- python dictionary containing your parameters:\n",
        "                    W1 -- weight matrix of shape (n_1, n_0)\n",
        "                    b1 -- bias vector of shape (n_1, 1)\n",
        "                    W2 -- weight matrix of shape (n_2, n_1)\n",
        "                    b2 -- bias vector of shape (n_2, 1)\n",
        "    \"\"\"\n",
        "    \n",
        "    np.random.seed(2) # we set up a seed so that your output matches ours although the initialization is random.\n",
        "    ###==== START CODE HERE ====### (≈ 4 lines of code)\n",
        "    #W1 = \n",
        "    #b1 = \n",
        "    #W2 = \n",
        "    #b2 = \n",
        "    ###==== END CODE HERE ====###\n",
        "    \n",
        "    \n",
        "    parameters = {\"W1\": W1,\n",
        "                  \"b1\": b1,\n",
        "                  \"W2\": W2,\n",
        "                  \"b2\": b2}\n",
        "    \n",
        "    return parameters"
      ],
      "execution_count": null,
      "outputs": []
    },
    {
      "cell_type": "code",
      "metadata": {
        "id": "RMarWGnlpH3Q"
      },
      "source": [
        "parameters = initialize_parameters(n_0, n_1, n_2)\n",
        "print(\"W1 = \" + str(parameters[\"W1\"]))\n",
        "print(\"b1 = \" + str(parameters[\"b1\"]))\n",
        "print(\"W2 = \" + str(parameters[\"W2\"]))\n",
        "print(\"b2 = \" + str(parameters[\"b2\"]))"
      ],
      "execution_count": null,
      "outputs": []
    },
    {
      "cell_type": "markdown",
      "metadata": {
        "id": "xY_NHoZTpH3T"
      },
      "source": [
        "**Expected Output**:\n",
        "\n",
        "\n",
        "\n",
        "```\n",
        "W1 = [[-0.00416758 -0.00056267]\n",
        "     [-0.02136196  0.01640271]\n",
        "     [-0.01793436 -0.00841747]\n",
        "     [ 0.00502881 -0.01245288]]\n",
        "b1 = [[0.]\n",
        "     [0.]\n",
        "     [0.]\n",
        "     [0.]]\n",
        "W2 = [[-0.01057952 -0.00909008  0.00551454  0.02292208]]\n",
        "b2 = [[0.]]\n",
        "```\n",
        "\n",
        "\n"
      ]
    },
    {
      "cell_type": "markdown",
      "metadata": {
        "id": "QyJoZ9_szbfB"
      },
      "source": [
        "### 1.3 - The Loop ####\n"
      ]
    },
    {
      "cell_type": "markdown",
      "metadata": {
        "id": "drF1eCqQ0uyJ"
      },
      "source": [
        "#### 1.3.1 - Forward Propagation ####\n"
      ]
    },
    {
      "cell_type": "markdown",
      "metadata": {
        "id": "pmRjLc_Dzi8I"
      },
      "source": [
        "\n",
        "##### **Exercise**:"
      ]
    },
    {
      "cell_type": "markdown",
      "metadata": {
        "id": "gdxjXhAKpH3V"
      },
      "source": [
        "\n",
        "Implement `forward_propagation()`.\n",
        "\n",
        "**Instructions**:\n",
        "- Look above at the mathematical representation of your classifier.\n",
        "- You can use the function `expit()` for Scipy for the sigmoid activation function.\n",
        "- You can use the function `np.tanh()` for the tanh activation function. It is part of the numpy library.\n",
        "- The steps you have to implement are:\n",
        "    1. Retrieve each parameter from the dictionary \"parameters\" (which is the output of `initialize_parameters()`) by using for example `parameters[\"W1\"]` to get $W^{[1]}$.\n",
        "    2. Implement Forward Propagation. Compute:\n",
        "$Z^{[1]}$, $A^{[1]}$, $Z^{[2]}$ and $A^{[2]}$ \n",
        "(the vector of all your predictions on all the examples in the training set).\n",
        "\n",
        "- Values needed in the backpropagation are stored in \"`cache`\". The `cache` dictionary will be given as an input to the backpropagation function."
      ]
    },
    {
      "cell_type": "code",
      "metadata": {
        "id": "KofE_5cvpH3W"
      },
      "source": [
        "# GRADED FUNCTION: forward_propagation\n",
        "def forward_propagation(A0, parameters):\n",
        "    \"\"\"\n",
        "    Argument:\n",
        "    X -- input data of size (m, n_0)\n",
        "    parameters -- python dictionary containing your parameters (output of initialization function)\n",
        "    \n",
        "    Returns:\n",
        "    A2 -- The sigmoid output of the second activation\n",
        "    cache -- a dictionary containing \"Z1\", \"A1\", \"Z2\" and \"A2\"\n",
        "    \"\"\"\n",
        "   \n",
        "    ###==== START CODE HERE ====### (≈ 8 lines of code)\n",
        "    #Retrieve each parameter from the dictionary \"parameters\"\n",
        "    #W1 = \n",
        "    #b1 = \n",
        "    #W2 = \n",
        "    #b2 = \n",
        " \n",
        "    # Implement Forward Propagation to calculate A2 (probabilities)\n",
        "    #Z1 = \n",
        "    #A1 = \n",
        "    #Z2 = \n",
        "    #A2 = \n",
        "    ###==== END CODE HERE ====###\n",
        "    \n",
        "\n",
        "    cache = {\"Z1\": Z1,\n",
        "             \"A1\": A1,\n",
        "             \"Z2\": Z2,\n",
        "             \"A2\": A2}\n",
        "    \n",
        "    return A2, cache"
      ],
      "execution_count": null,
      "outputs": []
    },
    {
      "cell_type": "code",
      "metadata": {
        "id": "JUro5SmsFoha"
      },
      "source": [
        "def forward_propagation_test_case():\n",
        "    np.random.seed(1)\n",
        "    X_assess = np.random.randn(2, 3).T\n",
        "    b1 = np.random.randn(1,4).T\n",
        "    b2 = np.array([[ -1.3]])\n",
        "\n",
        "    parameters = {'W1': np.array([[-0.00416758, -0.00056267],\n",
        "        [-0.02136196,  0.01640271],\n",
        "        [-0.01793436, -0.00841747],\n",
        "        [ 0.00502881, -0.01245288]]),\n",
        "     'W2': np.array([[-0.01057952, -0.00909008,  0.00551454,  0.02292208]]),\n",
        "     'b1': b1,\n",
        "     'b2': b2}\n",
        "\n",
        "    return X_assess, parameters\n",
        "\n",
        "X_assess, parameters = forward_propagation_test_case()\n",
        "A2, cache = forward_propagation(X_assess, parameters)\n",
        "\n",
        "# Note: we use the mean here just to make sure that your output matches ours. \n",
        "print(np.mean(cache['Z1']) ,np.mean(cache['A1']),np.mean(cache['Z2']),np.mean(cache['A2']))"
      ],
      "execution_count": null,
      "outputs": []
    },
    {
      "cell_type": "markdown",
      "metadata": {
        "id": "Fih8Q8lgpH3d"
      },
      "source": [
        "**Expected Output**:\n",
        "<table style=\"width:50%\">\n",
        "  <tr>\n",
        "    <td> 0.262818640198 0.091999045227 -1.30766601287 0.212877681719 </td> \n",
        "  </tr>\n",
        "</table>"
      ]
    },
    {
      "cell_type": "markdown",
      "metadata": {
        "id": "7fUAio_K0kTJ"
      },
      "source": [
        "#### 1.3.2 Commpute Cost"
      ]
    },
    {
      "cell_type": "markdown",
      "metadata": {
        "id": "qxubD_JlpH3f"
      },
      "source": [
        "Now that you have computed $A^{[2]}$ (in the Python variable \"`A2`\"), which contains $a^{[2](i)}$ for every example, you can compute the cost function as follows:\n",
        "\n",
        "$$J = - \\frac{1}{m} \\sum\\limits_{i = 1}^{m} \\large{(} \\small y^{(i)}\\log\\left(a^{[2] (i)}\\right) + (1-y^{(i)})\\log\\left(1- a^{[2] (i)}\\right) \\large{)} \\small\\$$\n",
        "\n"
      ]
    },
    {
      "cell_type": "markdown",
      "metadata": {
        "id": "nabXRjJI2__u"
      },
      "source": [
        "##### **Exercise**: "
      ]
    },
    {
      "cell_type": "markdown",
      "metadata": {
        "id": "8T_66arK2_hw"
      },
      "source": [
        "Implement `compute_cost()` to compute the value of the cost $J$.\n",
        "\n",
        "\n",
        "*There are many ways to implement the cross-entropy loss (vectorized, non-vectorized, one or multiple lines or code). You can use either `np.multiply()` and then `np.sum()` or directly `np.dot()`.  \n",
        "\n",
        "Note that if you use `np.multiply` followed by `np.sum` the end result will be a type `float`, whereas if you use `np.dot`, the result will be a 2D numpy array.\n",
        "\n",
        "  We can use `np.squeeze()` to remove redundant dimensions (in the case of single float, this will be reduced to a zero-dimension array). We can cast the array as a type `float` using `float()`."
      ]
    },
    {
      "cell_type": "code",
      "metadata": {
        "id": "1FRFLigxpH3f"
      },
      "source": [
        "# GRADED FUNCTION: compute_cost\n",
        "\n",
        "def compute_cost(A2, Y):\n",
        "    \"\"\"\n",
        "    Computes the cross-entropy cost given in equation (13)\n",
        "    \n",
        "    Arguments:\n",
        "    A2 -- The sigmoid output of the second activation, of shape (n_2, number of examples)\n",
        "    Y -- \"true\" labels vector of shape (number of examples, n_2)\n",
        "    parameters -- python dictionary containing your parameters W1, b1, W2 and b2\n",
        "\n",
        "    Returns:\n",
        "    cost -- cross-entropy cost given equation \n",
        "    \n",
        "    \"\"\"\n",
        "    \n",
        "    m = Y.shape[0] # number of example\n",
        "\n",
        "   \n",
        "    ###==== START CODE HERE ====### (≈ 1 lines of code)\n",
        "     # Compute the cross-entropy cost\n",
        "  \n",
        "\n",
        "  \n",
        "    ###==== END CODE HERE ====###\n",
        "  \n",
        "    \n",
        "    \n",
        "    return cost"
      ],
      "execution_count": null,
      "outputs": []
    },
    {
      "cell_type": "code",
      "metadata": {
        "id": "LSrEyoh3LJEJ"
      },
      "source": [
        "def compute_cost_test_case():\n",
        "    np.random.seed(1)\n",
        "    Y_assess = (np.random.randn(3, 1) > 0)\n",
        "    parameters = {'W1': np.array([[-0.00416758, -0.00056267],\n",
        "        [-0.02136196,  0.01640271],\n",
        "        [-0.01793436, -0.00841747],\n",
        "        [ 0.00502881, -0.01245288]]),\n",
        "     'W2': np.array([[-0.01057952, -0.00909008,  0.00551454,  0.02292208]]),\n",
        "     'b1': np.array([[ 0.],\n",
        "        [ 0.],\n",
        "        [ 0.],\n",
        "        [ 0.]]),\n",
        "     'b2': np.array([[ 0.]])}\n",
        "\n",
        "    a2 = (np.array([[ 0.5002307 ,  0.49985831,  0.50023963]]))\n",
        "    \n",
        "    return a2, Y_assess, parameters\n",
        "\n",
        "\n",
        "A2, Y_assess, parameters = compute_cost_test_case()\n",
        "print(\"cost = \" + str(compute_cost(A2, Y_assess)))"
      ],
      "execution_count": null,
      "outputs": []
    },
    {
      "cell_type": "markdown",
      "metadata": {
        "id": "-DLQKUdYpH3o"
      },
      "source": [
        "**Expected Output**:\n",
        "\n",
        "\n",
        "```\n",
        "cost = 0.6930587610394646\n",
        "```\n",
        "\n"
      ]
    },
    {
      "cell_type": "markdown",
      "metadata": {
        "id": "jTSAHGVR-qzF"
      },
      "source": [
        "#### 1.3.3 Backward Propagation"
      ]
    },
    {
      "cell_type": "markdown",
      "metadata": {
        "id": "6rvEC-Ip-1Ji"
      },
      "source": [
        "Using the cache computed during forward propagation, you can now implement backward propagation."
      ]
    },
    {
      "cell_type": "markdown",
      "metadata": {
        "id": "34Yrc1vt-0WW"
      },
      "source": [
        "##### **Exercise**: "
      ]
    },
    {
      "cell_type": "markdown",
      "metadata": {
        "id": "AaQaLFMMpH3o"
      },
      "source": [
        "\n",
        "\n",
        "Implement the function `backward_propagation()`.\n",
        "\n",
        "Backpropagation is usually the hardest (most mathematical) part in NN and Deep learning. \n",
        "\n",
        "- To compute dZ1 you'll need to compute $g^{[1]'}(Z^{[1]})$. Since $g^{[1]}(.)$ is the tanh activation function, if $a = g^{[1]}(z)$ then $g^{[1]'}(z) = 1-a^2$. So you can compute $g^{[1]'}(Z^{[1]})$ using `(1 - np.power(A1, 2))`."
      ]
    },
    {
      "cell_type": "code",
      "metadata": {
        "id": "7GRsjs_GpH3q"
      },
      "source": [
        "# GRADED FUNCTION: backward_propagation\n",
        "\n",
        "def backward_propagation(parameters, cache, X, Y):\n",
        "    \"\"\"\n",
        "    Implement the backward propagation using the instructions above.\n",
        "    \n",
        "    Arguments:\n",
        "    parameters -- python dictionary containing our parameters \n",
        "    cache -- a dictionary containing \"Z1\", \"A1\", \"Z2\" and \"A2\".\n",
        "    X -- input data of shape (number of examples, n_0)\n",
        "    Y -- \"true\" labels vector of shape (number of examples, n_2)\n",
        "    \n",
        "    Returns:\n",
        "    grads -- python dictionary containing your gradients with respect to different parameters\n",
        "    \"\"\"\n",
        "    m = X.shape[0]\n",
        "    \n",
        "    \n",
        "    ### START CODE HERE ### (≈ 10 lines of code)\n",
        "    # First, retrieve W1 and W2 from the dictionary \"parameters\".\n",
        "    #W1 = \n",
        "    #W2 = \n",
        "\n",
        "    # Retrieve also A1 and A2 from dictionary \"cache\".\n",
        "    #A1 = \n",
        "    #A2 = \n",
        "    \n",
        "    # Backward propagation: calculate dW1, db1, dW2, db2. \n",
        "    #(≈ 6 lines of code, corresponding to 6 equations above)\n",
        "    #dZ2 = \n",
        "    #dW2 = \n",
        "\n",
        "    \n",
        "    #db2 =      \n",
        "\n",
        "    #dZ1 = \n",
        "    #dW1 = \n",
        "\n",
        "    \n",
        "    #db1 = \n",
        "    \n",
        "    ### END CODE HERE ###\n",
        "    \n",
        "    grads = {\"dW1\": dW1,\n",
        "             \"db1\": db1,\n",
        "             \"dW2\": dW2,\n",
        "             \"db2\": db2}\n",
        "    \n",
        "    return grads"
      ],
      "execution_count": null,
      "outputs": []
    },
    {
      "cell_type": "code",
      "metadata": {
        "id": "evHEsbCySUzC"
      },
      "source": [
        "def backward_propagation_test_case():\n",
        "    np.random.seed(1)\n",
        "    X_assess = np.random.randn(2, 3).T\n",
        "    Y_assess = (np.random.randn(3, 1) > 0)\n",
        "    parameters = {'W1': np.array([[-0.00416758, -0.00056267],\n",
        "        [-0.02136196,  0.01640271],\n",
        "        [-0.01793436, -0.00841747],\n",
        "        [ 0.00502881, -0.01245288]]),\n",
        "     'W2': np.array([[-0.01057952, -0.00909008,  0.00551454,  0.02292208]]),\n",
        "     'b1': np.array([[ 0.],\n",
        "        [ 0.],\n",
        "        [ 0.],\n",
        "        [ 0.]]),\n",
        "     'b2': np.array([[ 0.]])}\n",
        "\n",
        "    cache = {'A1': np.array([[-0.00616578,  0.0020626 ,  0.00349619],\n",
        "         [-0.05225116,  0.02725659, -0.02646251],\n",
        "         [-0.02009721,  0.0036869 ,  0.02883756],\n",
        "         [ 0.02152675, -0.01385234,  0.02599885]]),\n",
        "  'A2': np.array([[ 0.5002307 ,  0.49985831,  0.50023963]]),\n",
        "  'Z1': np.array([[-0.00616586,  0.0020626 ,  0.0034962 ],\n",
        "         [-0.05229879,  0.02726335, -0.02646869],\n",
        "         [-0.02009991,  0.00368692,  0.02884556],\n",
        "         [ 0.02153007, -0.01385322,  0.02600471]]),\n",
        "  'Z2': np.array([[ 0.00092281, -0.00056678,  0.00095853]])}\n",
        "    return parameters, cache, X_assess, Y_assess\n",
        "\n",
        "parameters, cache, X_assess, Y_assess = backward_propagation_test_case()\n",
        "\n",
        "grads = backward_propagation(parameters, cache, X_assess, Y_assess)\n",
        "print (\"dW1 = \"+ str(grads[\"dW1\"]))\n",
        "print (\"db1 = \"+ str(grads[\"db1\"]))\n",
        "print (\"dW2 = \"+ str(grads[\"dW2\"]))\n",
        "print (\"db2 = \"+ str(grads[\"db2\"]))"
      ],
      "execution_count": null,
      "outputs": []
    },
    {
      "cell_type": "markdown",
      "metadata": {
        "id": "SIw-c3I7pH3w"
      },
      "source": [
        "**Expected output**:\n",
        "```\n",
        "dW1 = [[ 0.00301023 -0.00747267]\n",
        "      [ 0.00257968 -0.00641288]\n",
        "      [-0.00156892  0.003893  ]\n",
        "      [-0.00652037  0.01618243]]\n",
        "db1 = [[ 0.00176201]\n",
        "      [ 0.00150995]\n",
        "      [-0.00091736]\n",
        "      [-0.00381422]]\n",
        "dW2 = [[ 0.00078841  0.01765429 -0.00084166 -0.01022527]]\n",
        "db2 = [[-0.16655712]]\n",
        "```"
      ]
    },
    {
      "cell_type": "markdown",
      "metadata": {
        "id": "xAhhLLNvAzWx"
      },
      "source": [
        "#### 1.3.4 Parameter Update (Gradient Descent Step)"
      ]
    },
    {
      "cell_type": "markdown",
      "metadata": {
        "id": "HOqe9GrAA5On"
      },
      "source": [
        "Now that we have the partial derivatives of our cost function with respect to our weights and bias, we can update them using gradient desce"
      ]
    },
    {
      "cell_type": "markdown",
      "metadata": {
        "id": "vtQ7NDx_BJGg"
      },
      "source": [
        "##### **Exercise**: "
      ]
    },
    {
      "cell_type": "markdown",
      "metadata": {
        "id": "klAHXMFKpH3w"
      },
      "source": [
        " Implement the update rule. Use gradient descent. You have to use (dW1, db1, dW2, db2) in order to update (W1, b1, W2, b2).\n",
        "\n",
        "**General gradient descent rule**: $ \\theta = \\theta - \\alpha \\frac{\\partial J }{ \\partial \\theta }$ where $\\alpha$ is the learning rate and $\\theta$ represents a parameter.\n",
        "\n",
        "\n"
      ]
    },
    {
      "cell_type": "code",
      "metadata": {
        "id": "-0V_Hy1UpH3x"
      },
      "source": [
        "# GRADED FUNCTION: update_parameters\n",
        "\n",
        "def update_parameters(parameters, grads, learning_rate = 1.2):\n",
        "    \"\"\"\n",
        "    Updates parameters using the gradient descent update rule given above\n",
        "    \n",
        "    Arguments:\n",
        "    parameters -- python dictionary containing your parameters \n",
        "    grads -- python dictionary containing your gradients \n",
        "    \n",
        "    Returns:\n",
        "    parameters -- python dictionary containing your updated parameters \n",
        "    \"\"\"\n",
        "    \n",
        "    ###==== START CODE HERE ====### (≈ 12 lines of code)\n",
        "\n",
        "    # Retrieve each parameter from the dictionary \"parameters\"\n",
        "    #W1 = \n",
        "    #b1 = \n",
        "    #W2 = \n",
        "    #b2 = \n",
        "    \n",
        "    # Retrieve each gradient from the dictionary \"grads\"\n",
        "    #dW1 = \n",
        "    #db1 = \n",
        "    #dW2 = \n",
        "    #db2 = \n",
        "    \n",
        "    # Update rule for each parameter\n",
        "    #W1 = \n",
        "    #b1 = \n",
        "    #W2 = \n",
        "    #b2 = \n",
        "\n",
        "    ###==== END CODE HERE ====###\n",
        "    \n",
        "    parameters = {\"W1\": W1,\n",
        "                  \"b1\": b1,\n",
        "                  \"W2\": W2,\n",
        "                  \"b2\": b2}\n",
        "    \n",
        "    return parameters"
      ],
      "execution_count": null,
      "outputs": []
    },
    {
      "cell_type": "code",
      "metadata": {
        "id": "cTdaW7xCkL7G"
      },
      "source": [
        "def update_parameters_test_case():\n",
        "    parameters = {'W1': np.array([[-0.00615039,  0.0169021 ],\n",
        "        [-0.02311792,  0.03137121],\n",
        "        [-0.0169217 , -0.01752545],\n",
        "        [ 0.00935436, -0.05018221]]),\n",
        " 'W2': np.array([[-0.0104319 , -0.04019007,  0.01607211,  0.04440255]]),\n",
        " 'b1': np.array([[ -8.97523455e-07],\n",
        "        [  8.15562092e-06],\n",
        "        [  6.04810633e-07],\n",
        "        [ -2.54560700e-06]]),\n",
        " 'b2': np.array([[  9.14954378e-05]])}\n",
        "\n",
        "    grads = {'dW1': np.array([[ 0.00023322, -0.00205423],\n",
        "        [ 0.00082222, -0.00700776],\n",
        "        [-0.00031831,  0.0028636 ],\n",
        "        [-0.00092857,  0.00809933]]),\n",
        " 'dW2': np.array([[ -1.75740039e-05,   3.70231337e-03,  -1.25683095e-03,\n",
        "          -2.55715317e-03]]),\n",
        " 'db1': np.array([[  1.05570087e-07],\n",
        "        [ -3.81814487e-06],\n",
        "        [ -1.90155145e-07],\n",
        "        [  5.46467802e-07]]),\n",
        " 'db2': np.array([[ -1.08923140e-05]])}\n",
        "    return parameters, grads\n",
        "\n",
        "parameters, grads = update_parameters_test_case()\n",
        "parameters = update_parameters(parameters, grads)\n",
        "\n",
        "print(\"W1 = \" + str(parameters[\"W1\"]))\n",
        "print(\"b1 = \" + str(parameters[\"b1\"]))\n",
        "print(\"W2 = \" + str(parameters[\"W2\"]))\n",
        "print(\"b2 = \" + str(parameters[\"b2\"]))"
      ],
      "execution_count": null,
      "outputs": []
    },
    {
      "cell_type": "markdown",
      "metadata": {
        "id": "IIJGQngOpH31"
      },
      "source": [
        "**Expected Output**:\n",
        "\n",
        "```\n",
        "W1 = [[-0.00643025  0.01936718]\n",
        "     [-0.02410458  0.03978052]\n",
        "     [-0.01653973 -0.02096177]\n",
        "     [ 0.01046864 -0.05990141]]\n",
        "b1 = [[-1.02420756e-06]\n",
        "     [ 1.27373948e-05]\n",
        "     [ 8.32996807e-07]\n",
        "     [-3.20136836e-06]]\n",
        "W2 = [[-0.01041081 -0.04463285  0.01758031  0.04747113]]\n",
        "b2 = [[0.00010457]] \n",
        "```"
      ]
    },
    {
      "cell_type": "markdown",
      "metadata": {
        "id": "XyGe_ZXjpH33"
      },
      "source": [
        "### 1.4 - Creating a Two Layer NN ####\n"
      ]
    },
    {
      "cell_type": "markdown",
      "metadata": {
        "id": "2_hFsZBxCNg_"
      },
      "source": [
        "Now that you have your Initialize model parameters, Forward Propagation, Cost, Backward Propagation, and Update functions, you can integrate them into a single function nn_model()"
      ]
    },
    {
      "cell_type": "markdown",
      "metadata": {
        "id": "uxhbODNmCnPB"
      },
      "source": [
        "##### **Exercise**: "
      ]
    },
    {
      "cell_type": "markdown",
      "metadata": {
        "id": "8p-O7FgyCOAl"
      },
      "source": [
        "Build your neural network model in `nn_model()`. The neural network model has to use the previous functions in the right order."
      ]
    },
    {
      "cell_type": "code",
      "metadata": {
        "id": "B8q5giUppH33"
      },
      "source": [
        "# GRADED FUNCTION: nn_model\n",
        "\n",
        "def nn_model(X, Y, n_1, num_iterations = 10000, print_cost=False):\n",
        "    \"\"\"\n",
        "    Arguments:\n",
        "    X -- dataset of shape ( number of examples, n_0)\n",
        "    Y -- labels of shape (number of examples, n_2)\n",
        "    n_1 -- size of the hidden layer\n",
        "    num_iterations -- Number of iterations in gradient descent loop\n",
        "    print_cost -- if True, print the cost every 1000 iterations\n",
        "    \n",
        "    Returns:\n",
        "    parameters -- parameters learnt by the model. They can then be used to predict.\n",
        "    \"\"\"\n",
        "    \n",
        "    np.random.seed(3)\n",
        "\n",
        "    ###==== START CODE HERE ====### (≈ 12 lines of code)\n",
        "    #n_0 = \n",
        "    #n_2 = \n",
        "    \n",
        "    # Initialize parameters\n",
        "    #parameters = \n",
        "\n",
        "    #W1 = \n",
        "    #b1 = \n",
        "    #W2 = \n",
        "    #b2 = \n",
        "    \n",
        "\n",
        "    # Loop (gradient descent)\n",
        "    for i in range(0, num_iterations):\n",
        "        \n",
        "        # Forward propagation. Inputs: \"X, parameters\". Outputs: \"A2, cache\".\n",
        "        #A2, cache = \n",
        "        \n",
        "        # Cost function. Inputs: \"A2, Y, parameters\". Outputs: \"cost\".\n",
        "        #cost = \n",
        " \n",
        "        # Backpropagation. Inputs: \"parameters, cache, X, Y\". Outputs: \"grads\".\n",
        "        #grads = \n",
        " \n",
        "        # Gradient descent parameter update. Inputs: \"parameters, grads\". Outputs: \"parameters\".\n",
        "        #parameters = \n",
        "        \n",
        "        ###==== END CODE HERE ====###\n",
        "        \n",
        "        # Print the cost every 1000 iterations\n",
        "        if print_cost and i % 1000 == 0:\n",
        "            print (\"Cost after iteration %i: %f\" %(i, cost))\n",
        "\n",
        "    return parameters"
      ],
      "execution_count": null,
      "outputs": []
    },
    {
      "cell_type": "code",
      "metadata": {
        "id": "1KpncGNTSTuH"
      },
      "source": [
        "def nn_model_test_case():\n",
        "    np.random.seed(1)\n",
        "    X_assess = np.random.randn(2, 3).T\n",
        "    Y_assess = (np.random.randn(3, 1) > 0)\n",
        "    return X_assess, Y_assess\n",
        "    \n",
        "X_assess, Y_assess = nn_model_test_case()\n",
        "parameters = nn_model(X_assess, Y_assess, 4, num_iterations=10000, print_cost=True)\n",
        "print(\"W1 = \" + str(parameters[\"W1\"]))\n",
        "print(\"b1 = \" + str(parameters[\"b1\"]))\n",
        "print(\"W2 = \" + str(parameters[\"W2\"]))\n",
        "print(\"b2 = \" + str(parameters[\"b2\"]))"
      ],
      "execution_count": null,
      "outputs": []
    },
    {
      "cell_type": "markdown",
      "metadata": {
        "id": "BEGIkHkrpH3-"
      },
      "source": [
        "**Expected Output**:\n",
        "\n",
        "\n",
        "\n",
        "```\n",
        "Cost after iteration 0: 0.692739\n",
        "        .\n",
        "        .\n",
        "        .\n",
        "Cost after iteration 9000: 0.000023\n",
        "W1 = [[-0.65848169  1.21866811]\n",
        "    [-0.76204273  1.39377573]\n",
        "    [ 0.5792005  -1.10397703]\n",
        "    [ 0.76773391 -1.41477129]]\n",
        "b1 = [[ 0.287592  ]\n",
        "    [ 0.3511264 ]\n",
        "    [-0.2431246 ]\n",
        "    [-0.35772805]]\n",
        "W2 = [[-2.45566237 -3.27042274  2.00784958  3.36773273]]\n",
        "b2 = [[0.20459656]]\n",
        "```\n",
        "\n"
      ]
    },
    {
      "cell_type": "markdown",
      "metadata": {
        "id": "H8L411wRPP-X"
      },
      "source": [
        "#### 1.4.1 Predictions"
      ]
    },
    {
      "cell_type": "markdown",
      "metadata": {
        "id": "d3xqp3EiPTKc"
      },
      "source": [
        "Now that we can train our NN, we can use it to predict the expected class of a new instance. "
      ]
    },
    {
      "cell_type": "markdown",
      "metadata": {
        "id": "F3_gtTH-PYT3"
      },
      "source": [
        "##### **Exercise**: "
      ]
    },
    {
      "cell_type": "markdown",
      "metadata": {
        "id": "CQbOXvBKpH3_"
      },
      "source": [
        "Use your model to predict by building `predict()`.\n",
        "Use forward propagation to predict results.\n",
        "\n",
        "$y_{prediction} =  \\begin{cases} 1 & \\text{if}\\ activation > 0.5 \\\\0 & \\text{otherwise} \\end{cases}$  \n",
        "    \n",
        "As an example, if you would like to set the entries of a matrix X to 0 and 1 based on a threshold you would do: ```X_new = (X > threshold)```"
      ]
    },
    {
      "cell_type": "code",
      "metadata": {
        "id": "eHMG_orppH4A"
      },
      "source": [
        "# GRADED FUNCTION: predict\n",
        "\n",
        "def predict(parameters, X):\n",
        "    \"\"\"\n",
        "    Using the learned parameters, predicts a class for each example in X\n",
        "    \n",
        "    Arguments:\n",
        "    parameters -- python dictionary containing your parameters \n",
        "    X -- input data of size (m, n_0)\n",
        "    \n",
        "    Returns\n",
        "    predictions -- vector of predictions of our model (red: 0 / blue: 1)\n",
        "    \"\"\"\n",
        "    \n",
        "    \n",
        "    ###==== START CODE HERE ===### (≈ 2 lines of code)\n",
        "\n",
        "    # Computes probabilities using forward propagation, and classifies to 0/1 using 0.5 as the threshold.\n",
        "    #A2, cache = \n",
        "    #predictions = \n",
        "\n",
        "    ###=== END CODE HERE ===###\n",
        "    \n",
        "    return predictions"
      ],
      "execution_count": null,
      "outputs": []
    },
    {
      "cell_type": "code",
      "metadata": {
        "id": "7VpbOmaIIpH1"
      },
      "source": [
        "def predict_test_case():\n",
        "    np.random.seed(1)\n",
        "    X_assess = np.random.randn(2, 3).T\n",
        "    parameters = {'W1': np.array([[-0.00615039,  0.0169021 ],\n",
        "        [-0.02311792,  0.03137121],\n",
        "        [-0.0169217 , -0.01752545],\n",
        "        [ 0.00935436, -0.05018221]]),\n",
        "     'W2': np.array([[-0.0104319 , -0.04019007,  0.01607211,  0.04440255]]),\n",
        "     'b1': np.array([[ -8.97523455e-07],\n",
        "        [  8.15562092e-06],\n",
        "        [  6.04810633e-07],\n",
        "        [ -2.54560700e-06]]),\n",
        "     'b2': np.array([[  9.14954378e-05]])}\n",
        "    return parameters, X_assess\n",
        "\n",
        "parameters, X_assess = predict_test_case()\n",
        "\n",
        "predictions = predict(parameters, X_assess)\n",
        "print(\"predictions mean = \" + str(round(np.mean(predictions),4)))\n",
        "print(\"predictions 1-3= \" + str(predictions[0:2,:]))"
      ],
      "execution_count": null,
      "outputs": []
    },
    {
      "cell_type": "markdown",
      "metadata": {
        "id": "fXuCzM-SpH4E"
      },
      "source": [
        "**Expected Output**: \n",
        "\n",
        "```\n",
        "predictions mean = 0.6667\n",
        "predictions 1-3= [[ True False  True]]\n",
        "```"
      ]
    },
    {
      "cell_type": "markdown",
      "metadata": {
        "id": "OwMcLszuUK2W"
      },
      "source": [
        "### 1.5 Testing our NN model"
      ]
    },
    {
      "cell_type": "markdown",
      "metadata": {
        "id": "320rCsyIpH4E"
      },
      "source": [
        "It is time to run the model and see how it performs on our \"flower\" dataset. Run the following code to test your model with a single hidden layer of $n^{[1]}$ hidden units."
      ]
    },
    {
      "cell_type": "code",
      "metadata": {
        "scrolled": false,
        "id": "_ajni5MZpH4F"
      },
      "source": [
        "# Build a model with a n_h-dimensional hidden layer\n",
        "parameters = nn_model(X, Y, n_1 = 4, num_iterations = 10000, print_cost=True)\n",
        "\n",
        "# Plot the decision boundary\n",
        "plot_decision_boundary(lambda x: predict(parameters, x), X, Y[:,0])\n",
        "plt.title(\"Decision Boundary for hidden layer size \" + str(4))"
      ],
      "execution_count": null,
      "outputs": []
    },
    {
      "cell_type": "code",
      "metadata": {
        "id": "5Hhei5nGpH4H"
      },
      "source": [
        "# Print accuracy\n",
        "predictions = predict(parameters, X)\n",
        "print ('Accuracy: %d' % float((np.dot(predictions,Y) + np.dot(1-predictions, 1-Y))/float(Y.size)*100) + '%')"
      ],
      "execution_count": null,
      "outputs": []
    },
    {
      "cell_type": "markdown",
      "metadata": {
        "id": "N_Xp9-W2pH4K"
      },
      "source": [
        "Accuracy is really high compared to Logistic Regression. The model has learnt the leaf patterns of the flower! Neural networks are able to learn  highly non-linear decision boundaries, unlike logistic regression. \n",
        "\n",
        "Now, let's try out several hidden layer sizes."
      ]
    },
    {
      "cell_type": "markdown",
      "metadata": {
        "id": "QHfXyWdKpH4K"
      },
      "source": [
        "#### 1.5.1 - Tuning hidden layer size  ###\n",
        "\n",
        "Run the following code. It may take 1-2 minutes. You will observe different behaviors of the model using NN with various hidden layer sizes."
      ]
    },
    {
      "cell_type": "code",
      "metadata": {
        "scrolled": false,
        "id": "2hQtDUblpH4L"
      },
      "source": [
        "# This may take about 2 minutes to run\n",
        "\n",
        "plt.figure(figsize=(16, 32))\n",
        "hidden_layer_sizes = [2,3,4,5,20]\n",
        "for i, n_1 in enumerate(hidden_layer_sizes):\n",
        "    plt.subplot(5, 2, i+1)\n",
        "    plt.title('Hidden Layer of size %d' % n_1)\n",
        "    parameters = nn_model(X, Y, n_1, num_iterations = 5000)\n",
        "    plot_decision_boundary(lambda x: predict(parameters, x), X, Y[:,0])\n",
        "    predictions = predict(parameters, X)\n",
        "    accuracy = float((np.dot(predictions,Y) + np.dot(1-predictions,1-Y))/float(Y.size)*100)\n",
        "    print (\"Accuracy for {} hidden units: {} %\".format(n_1, accuracy))"
      ],
      "execution_count": null,
      "outputs": []
    },
    {
      "cell_type": "markdown",
      "metadata": {
        "id": "LXSvDrvepH4O"
      },
      "source": [
        "**Interpretation**:\n",
        "- The larger models (with more hidden units) are able to fit the training set better, until eventually the largest models overfit the data. \n",
        "- The best hidden layer size seems to be around n_1 = 5. Indeed, a value around here seems to  fits the data well without also incurring noticeable overfitting.\n",
        "- You will also learn later about regularization in NN, which lets you use very large models (such as n_1 = 50) without much overfitting. "
      ]
    },
    {
      "cell_type": "markdown",
      "metadata": {
        "id": "mY63KBA0pH4O"
      },
      "source": [
        "**Optional questions**:\n",
        "\n",
        "Some optional/ungraded questions that you can explore if you wish: \n",
        "- What happens when you change the tanh activation for a sigmoid activation or a ReLU activation?\n",
        "- Play with the learning_rate. What happens?\n",
        "- What if we change the dataset? (See part next section)"
      ]
    },
    {
      "cell_type": "markdown",
      "metadata": {
        "id": "Izi96jBypH4O"
      },
      "source": [
        "\n",
        "**You've learnt to:**\n",
        "- Build a complete neural network with a hidden layer\n",
        "- Make a good use of a non-linear unit\n",
        "- Implemented forward propagation and backpropagation, and trained a neural network\n",
        "- See the impact of varying the hidden layer size, including overfitting."
      ]
    },
    {
      "cell_type": "markdown",
      "metadata": {
        "id": "9dBStrZypH4P"
      },
      "source": [
        "## 2- Performance on other datasets"
      ]
    },
    {
      "cell_type": "code",
      "metadata": {
        "id": "Z5CI_qYOT2O8",
        "cellView": "form"
      },
      "source": [
        "def load_extra_datasets():  \n",
        "    N = 200\n",
        "    noisy_circles = sklearn.datasets.make_circles(n_samples=N, factor=.5, noise=.3)\n",
        "    noisy_moons = sklearn.datasets.make_moons(n_samples=N, noise=.2)\n",
        "    blobs = sklearn.datasets.make_blobs(n_samples=N, random_state=5, n_features=2, centers=6)\n",
        "    gaussian_quantiles = sklearn.datasets.make_gaussian_quantiles(mean=None, cov=0.5, n_samples=N, n_features=2, n_classes=2, shuffle=True, random_state=None)\n",
        "    no_structure = np.random.rand(N, 2), np.random.rand(N, 2)\n",
        "    \n",
        "    return noisy_circles, noisy_moons, blobs, gaussian_quantiles, no_structure\n",
        "\n",
        "\n",
        "# Datasets\n",
        "noisy_circles, noisy_moons, blobs, gaussian_quantiles, no_structure = load_extra_datasets()\n",
        "\n",
        "datasets = {\"noisy_circles\": noisy_circles,\n",
        "            \"noisy_moons\": noisy_moons,\n",
        "            \"blobs\": blobs,\n",
        "            \"gaussian_quantiles\": gaussian_quantiles}\n",
        "\n",
        "### START CODE HERE ### (choose your dataset)\n",
        "dataset = 'noisy_moons' #@param [\"noisy_circles\", \"noisy_moons\", \"blobs\", \"gaussian_quantiles\"]\n",
        "### END CODE HERE ###\n",
        "\n",
        "X, Y = datasets[dataset]\n",
        "Y = Y.reshape(Y.shape[0],1)\n",
        "\n",
        "# make blobs binary\n",
        "if dataset == \"blobs\":\n",
        "    Y = Y%2\n",
        "\n",
        "# Visualize the data\n",
        "plt.title('Original Dataset' )\n",
        "plt.scatter(X[:, 0], X[:, 1], c=Y[:,0], s=40, cmap=plt.cm.Spectral);\n",
        "\n",
        "\n",
        "# This may take about 2 minutes to run\n",
        "\n",
        "plt.figure(figsize=(16, 32))\n",
        "n_1 =5 #@param {type:\"integer\",step:0.5}\n",
        "\n",
        "\n",
        "\n",
        "parameters = nn_model(X, Y, n_1, num_iterations = 5000)\n",
        "predictions = predict(parameters, X)\n",
        "accuracy = float((np.dot(predictions,Y) + np.dot(1-predictions,1-Y))/float(Y.size)*100)\n",
        "\n",
        "\n",
        "plt.subplot(5, 2, i+1)\n",
        "plt.title('Hidden Layer of size {0}, Accuracy= {1}'.format(n_1, accuracy))\n",
        "plot_decision_boundary(lambda x: predict(parameters, x), X, Y[:,0])"
      ],
      "execution_count": null,
      "outputs": []
    },
    {
      "cell_type": "markdown",
      "metadata": {
        "id": "YIGqLUD8pH4S"
      },
      "source": [
        "\n",
        "Reference:\n",
        "- http://scs.ryerson.ca/~aharley/neural-networks/\n",
        "- http://cs231n.github.io/neural-networks-case-study/"
      ]
    },
    {
      "cell_type": "markdown",
      "metadata": {
        "id": "pXAfCrp2akTz"
      },
      "source": [
        "###### **DO NOT DELETE NOR MODIFY THESE CODE CELLS**\n"
      ]
    },
    {
      "cell_type": "code",
      "metadata": {
        "id": "eVsO07vMiDQg"
      },
      "source": [
        "!wget https://raw.githubusercontent.com/lopezbec/intro_python_notebooks/main/GRADING_l2NN.py\n",
        "\n",
        "# # ###DO NOT DELETE NOR MODIFY THIS CODE CELL####\n",
        "from GRADING_l2NN import GRADING\n",
        "\n",
        "try:\n",
        "    layer_sizes\n",
        "except:\n",
        "    layer_sizes=None\n",
        "try:\n",
        "    initialize_parameters\n",
        "except:\n",
        "    initialize_parameters=None\n",
        "try:\n",
        "    forward_propagation\n",
        "except:\n",
        "    forward_propagation=None\n",
        "try:\n",
        "    compute_cost\n",
        "except:\n",
        "    compute_cost=None\n",
        "\n",
        "try:\n",
        "    backward_propagation\n",
        "except:\n",
        "    backward_propagation=None\n",
        "try:\n",
        "    update_parameters\n",
        "except:\n",
        "    update_parameters=None\n",
        "try:\n",
        "    nn_model\n",
        "except:\n",
        "    nn_model=None\n",
        "try:\n",
        "    predict\n",
        "except:\n",
        "    predict=None\n",
        "\n",
        "GRADING(layer_sizes,initialize_parameters,forward_propagation,\n",
        "        compute_cost,backward_propagation,update_parameters,\n",
        "        nn_model,predict,forward_propagation_test_case,\n",
        "        compute_cost_test_case,backward_propagation_test_case,\n",
        "        update_parameters_test_case,nn_model_test_case,\n",
        "        predict_test_case)\n",
        "\n",
        "\n"
      ],
      "execution_count": null,
      "outputs": []
    }
  ]
}