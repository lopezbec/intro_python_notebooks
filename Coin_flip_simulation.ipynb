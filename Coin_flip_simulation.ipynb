{
  "nbformat": 4,
  "nbformat_minor": 0,
  "metadata": {
    "colab": {
      "provenance": []
    },
    "kernelspec": {
      "name": "python3",
      "display_name": "Python 3"
    },
    "language_info": {
      "name": "python"
    }
  },
  "cells": [
    {
      "cell_type": "code",
      "execution_count": 5,
      "metadata": {
        "colab": {
          "base_uri": "https://localhost:8080/"
        },
        "id": "3g64Qee0nqE7",
        "outputId": "d27bdc15-0252-46ea-df6c-d03198ed12b6"
      },
      "outputs": [
        {
          "output_type": "stream",
          "name": "stdout",
          "text": [
            "Probability that the 4th flip is head given the first three are head: 0.5003\n"
          ]
        }
      ],
      "source": [
        "import random\n",
        "\n",
        "def simulate_coin_flips(trials=1000000):\n",
        "    # Count how many times the first three flips are all heads.\n",
        "    condition_met = 0\n",
        "    # Count how many times, given the condition, the 4th flip is head.\n",
        "    fourth_head = 0\n",
        "\n",
        "    for _ in range(trials):\n",
        "        # Simulate 4 coin flips: 'H' for head, 'T' for tail.\n",
        "        flips = [random.choice(['H', 'T']) for _ in range(4)]\n",
        "\n",
        "        # Check if the first three flips are all head.\n",
        "        if flips[0] == 'H' and flips[1] == 'H' and flips[2] == 'H':\n",
        "            condition_met += 1\n",
        "            # Check if the fourth flip is head.\n",
        "            if flips[3] == 'H':\n",
        "                fourth_head += 1\n",
        "\n",
        "    if condition_met > 0:\n",
        "        probability = fourth_head / condition_met\n",
        "        print(f\"Probability that the 4th flip is head given the first three are head: {probability:.4f}\")\n",
        "    else:\n",
        "        print(\"Condition (first three flips are heads) was never met.\")\n",
        "\n",
        "simulate_coin_flips()\n"
      ]
    },
    {
      "cell_type": "code",
      "source": [
        "import random\n",
        "\n",
        "def simulate_exactly_one_tail(trials=1000000):\n",
        "    one_tail_count = 0\n",
        "\n",
        "    for _ in range(trials):\n",
        "        # Simulate 4 coin flips: 'H' for head, 'T' for tail.\n",
        "        flips = [random.choice(['H', 'T']) for _ in range(4)]\n",
        "        # Count the number of tails in this simulation\n",
        "        if flips.count('T') == 1:\n",
        "            one_tail_count += 1\n",
        "\n",
        "    probability = one_tail_count / trials\n",
        "    print(f\"Probability of exactly one tail in 4 coin flips: {probability:.4f}\")\n",
        "\n",
        "simulate_exactly_one_tail()\n"
      ],
      "metadata": {
        "colab": {
          "base_uri": "https://localhost:8080/"
        },
        "id": "S_Njp5E1oDIG",
        "outputId": "10eb627d-3e12-4393-e1a7-03cbc79b9a15"
      },
      "execution_count": 6,
      "outputs": [
        {
          "output_type": "stream",
          "name": "stdout",
          "text": [
            "Probability of exactly one tail in 4 coin flips: 0.2500\n"
          ]
        }
      ]
    }
  ]
}