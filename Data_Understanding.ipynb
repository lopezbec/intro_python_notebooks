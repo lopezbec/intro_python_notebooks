{
  "nbformat": 4,
  "nbformat_minor": 0,
  "metadata": {
    "kernelspec": {
      "name": "python3",
      "display_name": "Python 3"
    },
    "language_info": {
      "codemirror_mode": {
        "name": "ipython",
        "version": 3
      },
      "file_extension": ".py",
      "mimetype": "text/x-python",
      "name": "python",
      "nbconvert_exporter": "python",
      "pygments_lexer": "ipython3",
      "version": "3.7.3"
    },
    "nav_menu": {},
    "toc": {
      "navigate_menu": true,
      "number_sections": true,
      "sideBar": true,
      "threshold": 6,
      "toc_cell": false,
      "toc_section_display": "block",
      "toc_window_display": false
    },
    "colab": {
      "name": "Data_Understanding.ipynb",
      "provenance": [],
      "collapsed_sections": []
    }
  },
  "cells": [
    {
      "cell_type": "markdown",
      "metadata": {
        "id": "TvCaYYygG0ak"
      },
      "source": [
        "<center><b>© Content is made available under the CC-BY-NC-ND 4.0 license. Christian Lopez, lopezbec@lafayette.edu<center>"
      ]
    },
    {
      "cell_type": "markdown",
      "metadata": {
        "id": "hWckiY_RphgE"
      },
      "source": [
        "#Data Understanding: Python Colab Introduction"
      ]
    },
    {
      "cell_type": "markdown",
      "metadata": {
        "id": "kI-kbu-zojyb"
      },
      "source": [
        "## 1- Loading dataset from a package"
      ]
    },
    {
      "cell_type": "markdown",
      "metadata": {
        "id": "imt0ktEWpk0R"
      },
      "source": [
        "\n",
        "Along with Numpy, [Pandas](https://pandas.pydata.org/) is one of the most used packages of python when it come to manipulating data. This would not be an introduction to Pandas, if you would like to learm more look at  [Python Data Science Handbook Chapter 3]( https://colab.research.google.com/github/jakevdp/PythonDataScienceHandbook/blob/master/notebooks/03.00-Introduction-to-Pandas.ipynb). \n",
        "\n",
        "We will be using the \"diamonds\" dataset from th [seaborn](https://seaborn.pydata.org/) pacakge. \n",
        "\n",
        "\n"
      ]
    },
    {
      "cell_type": "code",
      "metadata": {
        "id": "mFsgMjgti2j5"
      },
      "source": [
        "import seaborn as sns\n",
        "import pandas as pd\n",
        "\n",
        "data = sns.load_dataset('diamonds')\n"
      ],
      "execution_count": null,
      "outputs": []
    },
    {
      "cell_type": "markdown",
      "metadata": {
        "id": "IZB9x00IrJbf"
      },
      "source": [
        "This data is already a Pandas Data Frame object."
      ]
    },
    {
      "cell_type": "code",
      "metadata": {
        "id": "wExs3TTnrJwg"
      },
      "source": [
        "type(data)"
      ],
      "execution_count": null,
      "outputs": []
    },
    {
      "cell_type": "code",
      "metadata": {
        "id": "6K6K8ocMN3ML"
      },
      "source": [
        "pd.DataFrame.head(data)"
      ],
      "execution_count": null,
      "outputs": []
    },
    {
      "cell_type": "markdown",
      "source": [
        "But isn't \"data\" a \"pandas.DataFrame\"?.....YES"
      ],
      "metadata": {
        "id": "FY1oe_QDqRm1"
      }
    },
    {
      "cell_type": "code",
      "metadata": {
        "id": "hryJgk9Ri_ew"
      },
      "source": [
        "data.head()  #The \"head\" method prints the frist 5 rows of the data frame"
      ],
      "execution_count": null,
      "outputs": []
    },
    {
      "cell_type": "code",
      "metadata": {
        "id": "ep8WrtrfQknN"
      },
      "source": [
        "data.tail() #The \"tail\" method prints the last 5 rows of the data frame"
      ],
      "execution_count": null,
      "outputs": []
    },
    {
      "cell_type": "markdown",
      "metadata": {
        "id": "4ADUTRDouHt5"
      },
      "source": [
        "### Data dimensions"
      ]
    },
    {
      "cell_type": "markdown",
      "metadata": {
        "id": "X5KYCib8uJRn"
      },
      "source": [
        "Once you see the data, you need to check how many features (columns) it has, and how many entities (rows). For this we can use the Pandas Data Frame method of [\"shape\"](https://pandas.pydata.org/docs/reference/api/pandas.DataFrame.shape.html?highlight=shape#pandas.DataFrame.shape) (this is very similar to the Numpy Array method of shape)"
      ]
    },
    {
      "cell_type": "code",
      "metadata": {
        "id": "4cfNESR6QnlQ"
      },
      "source": [
        "data.shape    #The 'shape\" method show the total numer of row and columns"
      ],
      "execution_count": null,
      "outputs": []
    },
    {
      "cell_type": "markdown",
      "metadata": {
        "id": "xF5oLYiAru8d"
      },
      "source": [
        "### Data Structure and type"
      ]
    },
    {
      "cell_type": "markdown",
      "metadata": {
        "id": "IGN7sBDbsI5q"
      },
      "source": [
        "To learn more about the different data types of Python review [Python Data Science Handbook Chapter 2]( https://colab.research.google.com/github/jakevdp/PythonDataScienceHandbook/blob/master/notebooks/02.01-Understanding-Data-Types.ipynb#scrollTo=L6xNSSrJr_ho).  "
      ]
    },
    {
      "cell_type": "markdown",
      "metadata": {
        "id": "93K5z63dsIzj"
      },
      "source": [
        "| Data type\t    | Description |\n",
        "|---------------|-------------|\n",
        "| ``bool_``     | Boolean (True or False) stored as a byte |\n",
        "| ``int_``      | Default integer type (same as C ``long``; normally either ``int64`` or ``int32``)| \n",
        "| ``intc``      | Identical to C ``int`` (normally ``int32`` or ``int64``)| \n",
        "| ``intp``      | Integer used for indexing (same as C ``ssize_t``; normally either ``int32`` or ``int64``)| \n",
        "| ``int8``      | Byte (-128 to 127)| \n",
        "| ``int16``     | Integer (-32768 to 32767)|\n",
        "| ``int32``     | Integer (-2147483648 to 2147483647)|\n",
        "| ``int64``     | Integer (-9223372036854775808 to 9223372036854775807)| \n",
        "| ``uint8``     | Unsigned integer (0 to 255)| \n",
        "| ``uint16``    | Unsigned integer (0 to 65535)| \n",
        "| ``uint32``    | Unsigned integer (0 to 4294967295)| \n",
        "| ``uint64``    | Unsigned integer (0 to 18446744073709551615)| \n",
        "| ``float_``    | Shorthand for ``float64``.| \n",
        "| ``float16``   | Half precision float: sign bit, 5 bits exponent, 10 bits mantissa| \n",
        "| ``float32``   | Single precision float: sign bit, 8 bits exponent, 23 bits mantissa| \n",
        "| ``float64``   | Double precision float: sign bit, 11 bits exponent, 52 bits mantissa| \n",
        "| ``complex_``  | Shorthand for ``complex128``.| \n",
        "| ``complex64`` | Complex number, represented by two 32-bit floats| \n",
        "| ``complex128``| Complex number, represented by two 64-bit floats| "
      ]
    },
    {
      "cell_type": "code",
      "metadata": {
        "id": "Y81TtiY7Q2SW"
      },
      "source": [
        "data.dtypes"
      ],
      "execution_count": null,
      "outputs": []
    },
    {
      "cell_type": "markdown",
      "metadata": {
        "id": "gMQMHlCgs-2W"
      },
      "source": [
        "From this we can see that we have a mix of nominal data types (i.e., 'category') and numeric data types (i.e., 'float64' & 'int64'). "
      ]
    },
    {
      "cell_type": "markdown",
      "metadata": {
        "id": "JIoOj_PGtMmX"
      },
      "source": [
        "### Data Summary"
      ]
    },
    {
      "cell_type": "markdown",
      "metadata": {
        "id": "s0mmbLSutRku"
      },
      "source": [
        "We can use the Pandas Data Frame method [\"describe()\"](https://pandas.pydata.org/docs/reference/api/pandas.DataFrame.describe.html) to extract some summary statistics about our data"
      ]
    },
    {
      "cell_type": "code",
      "metadata": {
        "id": "B_I_VkNSm6WS"
      },
      "source": [
        "data.describe()"
      ],
      "execution_count": null,
      "outputs": []
    },
    {
      "cell_type": "markdown",
      "metadata": {
        "id": "ILpIq7SJtrxK"
      },
      "source": [
        "To calculate the mode, we can use the Pandas Data Frame method [\"mode()\"](https://pandas.pydata.org/docs/reference/api/pandas.DataFrame.mode.html) "
      ]
    },
    {
      "cell_type": "code",
      "metadata": {
        "id": "dTm235Rbm-rn"
      },
      "source": [
        "data.mode()"
      ],
      "execution_count": null,
      "outputs": []
    },
    {
      "cell_type": "markdown",
      "metadata": {
        "id": "n68gg7Odugv7"
      },
      "source": [
        "## 2- Loading Data manually\n"
      ]
    },
    {
      "cell_type": "markdown",
      "metadata": {
        "id": "hZGyfra4nsQ4"
      },
      "source": [
        "A useful feature from Google Colab, is that you can access and manipulate files from your Google Drive. When you work directly with Jupyter Notebook in your computer, this would be like working with files directly in your computer. \n",
        "\n",
        "To access the Google Drive files, we need to first “mount” your google drive and provide the “directory” you want to work on. Run the code cell, click on the link,  provide the code for your Google Drive, and press ENTER. \n"
      ]
    },
    {
      "cell_type": "code",
      "metadata": {
        "id": "DqOTkEgonsxG",
        "cellView": "form"
      },
      "source": [
        "import os\n",
        "from google.colab import drive \n",
        "\n",
        "drive.mount('/content/gdrive')\n",
        "\n",
        "Working_Directory = 'My Drive/DS_201' #@param {type:\"string\"}\n",
        "wd=\"/content/gdrive/\"+Working_Directory\n",
        "os.chdir(wd)\n",
        "\n",
        "\n",
        "dirpath = os.getcwd()\n",
        "print(\"current directory is : \" + dirpath)\n",
        "\n",
        "\n",
        "\n"
      ],
      "execution_count": null,
      "outputs": []
    },
    {
      "cell_type": "code",
      "metadata": {
        "id": "VuoMYqjDPWe0"
      },
      "source": [
        "!cd DS_201"
      ],
      "execution_count": null,
      "outputs": []
    },
    {
      "cell_type": "markdown",
      "metadata": {
        "id": "v-o7eKjsy47d"
      },
      "source": [
        "This command show all the files in the current directory"
      ]
    },
    {
      "cell_type": "code",
      "metadata": {
        "id": "ly3c_Xkmycqr"
      },
      "source": [
        "!ls"
      ],
      "execution_count": null,
      "outputs": []
    },
    {
      "cell_type": "markdown",
      "metadata": {
        "id": "n-0stbHexTeC"
      },
      "source": [
        "Now, we can directly download files from an URL (like GitHub). \n",
        "\n",
        "We can use the 'wget' command line:"
      ]
    },
    {
      "cell_type": "code",
      "metadata": {
        "id": "iDJpJXG1xTv4"
      },
      "source": [
        "!wget \"https://raw.githubusercontent.com/lopezbec/COVID19_Tweets_Dataset/main/Summary_Details/SUMMARY_moth.csv\""
      ],
      "execution_count": null,
      "outputs": []
    },
    {
      "cell_type": "code",
      "metadata": {
        "id": "pOjMIP29ye4o"
      },
      "source": [
        "!ls"
      ],
      "execution_count": null,
      "outputs": []
    },
    {
      "cell_type": "markdown",
      "metadata": {
        "id": "feOfFRawyBCa"
      },
      "source": [
        "OR we can use the request package  (if using Jupyter notebooks in you computer, you might not be able to run the \"wget\" commands)"
      ]
    },
    {
      "cell_type": "code",
      "metadata": {
        "id": "OjmiVMmsxhhX"
      },
      "source": [
        "# imported the requests library\n",
        "import requests\n",
        "URL = \"https://raw.githubusercontent.com/lopezbec/COVID19_Tweets_Dataset/main/Summary_Details/SUMMARY_moth.csv\"\n",
        "  \n",
        "# URL of the file to be downloaded \n",
        "r = requests.get(URL) # create HTTP response object\n",
        "  \n",
        "# send a HTTP request to the server and save\n",
        "# the HTTP response in a response object called r\n",
        "with open(\"SUMMARY_moth_v2.csv\",'wb') as f:\n",
        "  \n",
        "    # Saving received content as a csv file in\n",
        "    # binary format\n",
        "  \n",
        "    # write the contents of the response (r.content)\n",
        "    # to a new file in binary mode.\n",
        "    f.write(r.content)"
      ],
      "execution_count": null,
      "outputs": []
    },
    {
      "cell_type": "code",
      "metadata": {
        "id": "VgwZw-Mdyf76"
      },
      "source": [
        "!ls"
      ],
      "execution_count": null,
      "outputs": []
    },
    {
      "cell_type": "markdown",
      "metadata": {
        "id": "NNLzjQewyuqq"
      },
      "source": [
        "Now that the file is in the working direcotyl, we can read it suing Pandas ‘read_csv” method"
      ]
    },
    {
      "cell_type": "code",
      "metadata": {
        "id": "x6yD3ob4yu_7"
      },
      "source": [
        "import pandas as pd\n",
        "\n",
        "data = pd.read_csv('SUMMARY_moth_v2.csv')\n",
        "\n",
        "data.head()"
      ],
      "execution_count": null,
      "outputs": []
    }
  ]
}