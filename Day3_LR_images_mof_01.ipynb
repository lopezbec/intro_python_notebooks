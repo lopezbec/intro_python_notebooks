{
  "nbformat": 4,
  "nbformat_minor": 0,
  "metadata": {
    "kernelspec": {
      "display_name": "Python 3",
      "language": "python",
      "name": "python3"
    },
    "language_info": {
      "codemirror_mode": {
        "name": "ipython",
        "version": 3
      },
      "file_extension": ".py",
      "mimetype": "text/x-python",
      "name": "python",
      "nbconvert_exporter": "python",
      "pygments_lexer": "ipython3",
      "version": "3.7.3"
    },
    "nav_menu": {},
    "toc": {
      "navigate_menu": true,
      "number_sections": true,
      "sideBar": true,
      "threshold": 6,
      "toc_cell": false,
      "toc_section_display": "block",
      "toc_window_display": true
    },
    "toc_position": {
      "height": "616px",
      "left": "0px",
      "right": "20px",
      "top": "106px",
      "width": "213px"
    },
    "colab": {
      "name": "Day3_LR images_mof_01.ipynb",
      "provenance": []
    }
  },
  "cells": [
    {
      "cell_type": "markdown",
      "metadata": {
        "id": "-3MPj0isxPcz"
      },
      "source": [
        "<center><b>©Content is made available under the CC-BY-NC-ND 4.0 license<center>"
      ]
    },
    {
      "cell_type": "markdown",
      "metadata": {
        "id": "LlAkp0AKQDZl"
      },
      "source": [
        "*Géron, A. (2019) 2nd Ed. Hands-on machine learning with Scikit-Learn and TensorFlow: concepts, tools, and techniques to build intelligent systems. O'Reilly Media, Inc.( ISBN-10: 1491962291)*\n",
        "\n",
        "https://github.com/ageron/handson-ml2\n",
        "\n",
        "\n"
      ]
    },
    {
      "cell_type": "markdown",
      "metadata": {
        "id": "v6TnelNRyVcN"
      },
      "source": [
        "## **Chapter 1 – The Machine Learning landscape**\n",
        "\n",
        "_This is the code used to generate some of the figures in chapter 1._"
      ]
    },
    {
      "cell_type": "markdown",
      "metadata": {
        "id": "cuaZCwUbQDZr"
      },
      "source": [
        "# Code example 1-1"
      ]
    },
    {
      "cell_type": "code",
      "metadata": {
        "id": "tOtq3cqsQDZu"
      },
      "source": [
        "# Python ≥3.5 is required\n",
        "import sys\n",
        "assert sys.version_info >= (3, 5)"
      ],
      "execution_count": null,
      "outputs": []
    },
    {
      "cell_type": "code",
      "metadata": {
        "id": "kBkwopijQDZ5"
      },
      "source": [
        "# Scikit-Learn ≥0.20 is required\n",
        "import sklearn\n",
        "assert sklearn.__version__ >= \"0.20\""
      ],
      "execution_count": null,
      "outputs": []
    },
    {
      "cell_type": "markdown",
      "metadata": {
        "id": "FMU-IN4PQDZ9"
      },
      "source": [
        "This function just merges the OECD's life satisfaction data and the IMF's GDP per capita data. It's a bit too long and boring and it's not specific to Machine Learning, which is why I left it out of the book."
      ]
    },
    {
      "cell_type": "code",
      "metadata": {
        "id": "3Uc6qZp4QDZ9"
      },
      "source": [
        "def prepare_country_stats(oecd_bli, gdp_per_capita):\n",
        "    oecd_bli = oecd_bli[oecd_bli[\"INEQUALITY\"]==\"TOT\"]\n",
        "    oecd_bli = oecd_bli.pivot(index=\"Country\", columns=\"Indicator\", values=\"Value\")\n",
        "    gdp_per_capita.rename(columns={\"2015\": \"GDP per capita\"}, inplace=True)\n",
        "    gdp_per_capita.set_index(\"Country\", inplace=True)\n",
        "    full_country_stats = pd.merge(left=oecd_bli, right=gdp_per_capita,\n",
        "                                  left_index=True, right_index=True)\n",
        "    full_country_stats.sort_values(by=\"GDP per capita\", inplace=True)\n",
        "    remove_indices = [0, 1, 6, 8, 33, 34, 35]\n",
        "    keep_indices = list(set(range(36)) - set(remove_indices))\n",
        "    return full_country_stats[[\"GDP per capita\", 'Life satisfaction']].iloc[keep_indices]"
      ],
      "execution_count": null,
      "outputs": []
    },
    {
      "cell_type": "markdown",
      "metadata": {
        "id": "99vBukdNQDaD"
      },
      "source": [
        "The code in the book expects the data files to be located in the current directory. I just tweaked it here to fetch the files in datasets/lifesat."
      ]
    },
    {
      "cell_type": "code",
      "metadata": {
        "id": "6qcQWsR8QDaF"
      },
      "source": [
        "import os\n",
        "datapath = os.path.join(\"datasets\", \"lifesat\", \"\")"
      ],
      "execution_count": null,
      "outputs": []
    },
    {
      "cell_type": "code",
      "metadata": {
        "id": "qJi08z5PQDaJ"
      },
      "source": [
        "# To plot pretty figures directly within Jupyter\n",
        "%matplotlib inline\n",
        "import matplotlib as mpl\n",
        "mpl.rc('axes', labelsize=14)\n",
        "mpl.rc('xtick', labelsize=12)\n",
        "mpl.rc('ytick', labelsize=12)"
      ],
      "execution_count": null,
      "outputs": []
    },
    {
      "cell_type": "code",
      "metadata": {
        "id": "FueqxTbEQDaN"
      },
      "source": [
        "# Download the data\n",
        "import urllib\n",
        "DOWNLOAD_ROOT = \"https://raw.githubusercontent.com/ageron/handson-ml2/master/\"\n",
        "os.makedirs(datapath, exist_ok=True)\n",
        "for filename in (\"oecd_bli_2015.csv\", \"gdp_per_capita.csv\"):\n",
        "    print(\"Downloading\", filename)\n",
        "    url = DOWNLOAD_ROOT + \"datasets/lifesat/\" + filename\n",
        "    urllib.request.urlretrieve(url, datapath + filename)"
      ],
      "execution_count": null,
      "outputs": []
    },
    {
      "cell_type": "code",
      "metadata": {
        "id": "EGuxpa99QDaR"
      },
      "source": [
        "# Code example\n",
        "import matplotlib.pyplot as plt\n",
        "import numpy as np\n",
        "import pandas as pd\n",
        "import sklearn.linear_model\n",
        "\n",
        "# Load the data\n",
        "oecd_bli = pd.read_csv(datapath + \"oecd_bli_2015.csv\", thousands=',')\n",
        "gdp_per_capita = pd.read_csv(datapath + \"gdp_per_capita.csv\",thousands=',',delimiter='\\t',\n",
        "                             encoding='latin1', na_values=\"n/a\")\n",
        "\n",
        "# Prepare the data\n",
        "country_stats = prepare_country_stats(oecd_bli, gdp_per_capita)\n",
        "X = np.c_[country_stats[\"GDP per capita\"]]\n",
        "y = np.c_[country_stats[\"Life satisfaction\"]]\n",
        "\n",
        "\n",
        "# Select a linear model\n",
        "model = sklearn.linear_model.LinearRegression()\n",
        "\n",
        "\n"
      ],
      "execution_count": null,
      "outputs": []
    },
    {
      "cell_type": "code",
      "metadata": {
        "id": "rE5hrua6W8lV"
      },
      "source": [
        "#Create images for \"video\" online training\n",
        "for i in range(2,X.size-1):\n",
        "  sub_X=X[range(i),]\n",
        "  sub_y=y[range(i),]\n",
        "  # Train the model\n",
        "  model.fit(sub_X, sub_y)\n",
        "  x_coe=(round(model.coef_[0][0],7))\n",
        "  inter=round(model.intercept_[0],2)\n",
        "  #Predict the model\n",
        "  y_pred=model.predict(sub_X) \n",
        "\n",
        "  # Visualize the data\n",
        "\n",
        "  fig=plt.figure()\n",
        "  ax=fig.add_axes([0,0,1,1])\n",
        "  ax.scatter(sub_X, sub_y, color='b')\n",
        "  ax.scatter(X[i+1,],y[i+1,], color='r')\n",
        "  ax.set_xlabel('GDP per capita')\n",
        "  ax.set_ylabel('Life satisfaction')\n",
        "  ax.set_title('scatter plot')\n",
        "\n",
        "  plt.ylim(min(y)[0]-0.5, max(y)[0]+0.5)\n",
        "  plt.xlim(min(X)[0]-5000, max(X)[0]+5000)\n",
        "  new_y=[t1+inter for t1 in [x *x_coe  for x in [5000,60000]]]\n",
        "  plt.plot([5000,60000], new_y, color='blue', linewidth=3)\n",
        "  #plt.plot(sub_X, y_pred, color='blue', linewidth=3)\n",
        "  plt.text(10000, 7.5, \"$y$={0}+ {1}$x$\".format(inter,x_coe), fontsize=16, color=\"g\")\n",
        "\n",
        "  plt.show()\n",
        "  fig.savefig('plot{0}.png'.format(i))\n"
      ],
      "execution_count": null,
      "outputs": []
    }
  ]
}