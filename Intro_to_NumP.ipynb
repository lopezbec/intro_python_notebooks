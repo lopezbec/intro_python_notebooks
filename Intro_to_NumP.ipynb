{
  "nbformat": 4,
  "nbformat_minor": 0,
  "metadata": {
    "coursera": {
      "course_slug": "neural-networks-deep-learning",
      "graded_item_id": "XHpfv",
      "launcher_item_id": "Zh0CU"
    },
    "kernelspec": {
      "display_name": "Python 3",
      "language": "python",
      "name": "python3"
    },
    "language_info": {
      "codemirror_mode": {
        "name": "ipython",
        "version": 3
      },
      "file_extension": ".py",
      "mimetype": "text/x-python",
      "name": "python",
      "nbconvert_exporter": "python",
      "pygments_lexer": "ipython3",
      "version": "3.6.0"
    },
    "colab": {
      "name": "Intro_to_NumP.ipynb",
      "provenance": []
    }
  },
  "cells": [
    {
      "cell_type": "markdown",
      "metadata": {
        "id": "YRkIEC7XmK4C"
      },
      "source": [
        "<center><b>©  Content is made available under the CC-BY-NC-ND 4.0 license. Christian Lopez, lopezbec@lafayette.edu<center>"
      ]
    },
    {
      "cell_type": "markdown",
      "metadata": {
        "id": "p62dHC1smMFB"
      },
      "source": [
        "![alt text](https://miro.medium.com/max/1200/1*Xp5sVXs0C7na22Jb5lKw3Q.png)\n",
        "\n"
      ]
    },
    {
      "cell_type": "markdown",
      "source": [
        "<table align=\"left\">\n",
        "  <td>\n",
        "    <a href=\"https://colab.research.google.com/github/lopezbec/intro_python_notebooks/blob/main/Intro_to_NumP.ipynb\" target=\"_parent\"><img src=\"https://colab.research.google.com/assets/colab-badge.svg\" alt=\"Open In Colab\"/></a>\n",
        "  </td>\n",
        "   <td>\n",
        "  </table>"
      ],
      "metadata": {
        "id": "ZXEZaR2sjx1r"
      }
    },
    {
      "cell_type": "markdown",
      "metadata": {
        "id": "FTHAMc6QmL5D"
      },
      "source": [
        "#Introduction to Python's NumPy library\n",
        " This notebooks and the exercise on it will give you a brief introduction to Python's [NumPy](https://https://numpy.org/) library. \n",
        "<br>\n",
        "\n",
        "Most of the notebooks we are going to be using are inspired from existing notebooks that available online and are made  free for educational purposes (e.g., the work of [Andre Ng]( https://en.wikipedia.org/wiki/Andrew_Ng) and the notebooks from the [Python Data Science Handbook](http://shop.oreilly.com/product/0636920034919.do)). Nonetheless, the notebooks should not be share without prior permission of the instructor. When working in an assignment always remember the [Student Code of Conduct]( https://conduct.lafayette.edu/student-handbook/student-code-of-conduct/).  \n",
        "\n"
      ]
    },
    {
      "cell_type": "markdown",
      "metadata": {
        "id": "oW76M612gVSN"
      },
      "source": [
        "# NumPy Basics with Google Colab \n",
        "\n",
        "This assigment will gives you a brief introduction to Python's [NumPy](https://https://numpy.org/) library. Even if you've used Python's NumPy before, this will help familiarize you with functions you'll need.  \n",
        "\n",
        "<br><br>\n",
        "**After this assignment you will:**\n",
        "- Use and undestand NumPy arrays\n"
      ]
    },
    {
      "cell_type": "markdown",
      "metadata": {
        "id": "Km7A49TCsUjU"
      },
      "source": [
        "\n",
        "###**Instructions:**\n",
        "- You will be using Python.\n",
        "\n",
        "- Only modify the code that is within the comments:\n",
        "\n",
        "`### START CODE HERE ###`\n",
        "\n",
        "`### END CODE HERE ###`\n",
        "\n",
        "- You need to run all the code cells on the notebok sequentially\n",
        "- If you are asked to change/update a cell, change/update and run it to check if your result is correct.\n"
      ]
    },
    {
      "cell_type": "markdown",
      "metadata": {
        "id": "JFtwrNc0xnsi"
      },
      "source": [
        "*The following sections were inspired and uses code and text from the  [Introduction to NumPy Notebook](https://colab.research.google.com/github/jakevdp/PythonDataScienceHandbook/blob/master/notebooks/02.00-Introduction-to-NumPy.ipynb#scrollTo=4CLEDpyacmUk) from the [Python Data Science Handbook](http://shop.oreilly.com/product/0636920034919.do)[](https://jupyter.brynmawr.edu/hub/login) "
      ]
    },
    {
      "cell_type": "markdown",
      "metadata": {
        "id": "WQn-xN47v-ik"
      },
      "source": [
        "##1- Introduction to NumPy"
      ]
    },
    {
      "cell_type": "markdown",
      "metadata": {
        "id": "HCrUe-8jgVSV"
      },
      "source": [
        "This Notebooks will cover Python's NumPy (NumPy=*Numerical Python*). This library  provides an efficient interface to store and operate on dense data buffers.\n",
        "\n",
        "In some ways, NumPy arrays are like Python's built-in ``list`` type, but NumPy arrays provide much more efficient storage and data operations as the arrays grow larger in size. Hence, learning to use NumPy effectively will be valuable for you when developmenting and implementing Machine Learning algorithms.\n",
        "\n",
        "Google Colab has Numpy already installed in the VM environment, you just need to import it."
      ]
    },
    {
      "cell_type": "code",
      "metadata": {
        "id": "7PWPk-ThgVSW"
      },
      "source": [
        "import numpy\n",
        "numpy.__version__"
      ],
      "execution_count": null,
      "outputs": []
    },
    {
      "cell_type": "markdown",
      "metadata": {
        "id": "xHvF4DPhxdUu"
      },
      "source": [
        "By convention, you'll find that most people  will import NumPy using ``np`` as an alias:"
      ]
    },
    {
      "cell_type": "code",
      "metadata": {
        "id": "yR9Wz28-BXmn"
      },
      "source": [
        "import numpy as np"
      ],
      "execution_count": null,
      "outputs": []
    },
    {
      "cell_type": "markdown",
      "metadata": {
        "id": "sD4D7BjfBxh6"
      },
      "source": [
        "**Reminder about  Built In Documentation**\n",
        "\n",
        "As you read through this chapter, don't forget that Jupyter Notebooks gives you the ability to quickly explore the contents of a package (by using the tab-completion feature), as well as the documentation of various functions (using the ``?`` character – Refer back to \"Python_Basics\" Notebook.\n",
        "\n"
      ]
    },
    {
      "cell_type": "markdown",
      "metadata": {
        "id": "MMobO5ejDQ4E"
      },
      "source": [
        "For example, to display all the contents of the NumPy namespace, you can type this:\n",
        "\n",
        "\n",
        "```ipython\n",
        ": np.\n",
        "```\n",
        "\n",
        "And to display NumPy's built-in documentation, you can use type and run:\n",
        "\n",
        "```ipython\n",
        ": np?\n",
        "```\n",
        "\n",
        "Now, you go ahead and try it:"
      ]
    },
    {
      "cell_type": "code",
      "metadata": {
        "id": "7iX3vssDDbn6"
      },
      "source": [],
      "execution_count": null,
      "outputs": []
    },
    {
      "cell_type": "markdown",
      "metadata": {
        "id": "p7KT_DhlEPwt"
      },
      "source": [
        "##2- NumPy Arrays"
      ]
    },
    {
      "cell_type": "markdown",
      "metadata": {
        "id": "nPIW4WwfEbl-"
      },
      "source": [
        "Data manipulation in Python is nearly synonymous with NumPy array manipulation: even newer tools like [Pandas](https://pandas.pydata.org/) are built around the NumPy array.\n",
        "\n",
        "This Nothebook will present several examples of using NumPy array manipulation to access data and subarrays, and to split, reshape, and join the arrays.\n",
        "\n",
        "While the types of operations shown here may seem a bit dry and pedantic, they comprise the building blocks for making several of the Machine Learning algorithms, covered in this course, more efficient by using vectors and matrices.\n",
        "\n",
        "We'll cover a few categories of basic array manipulations here."
      ]
    },
    {
      "cell_type": "markdown",
      "metadata": {
        "id": "OAnSrP8GFKHD"
      },
      "source": [
        "### 2.1- Creating NumPy Arrays"
      ]
    },
    {
      "cell_type": "markdown",
      "metadata": {
        "id": "nQV2h-UmrBFS"
      },
      "source": [
        "**Make an array from a list.**\n"
      ]
    },
    {
      "cell_type": "code",
      "metadata": {
        "id": "5HLvidflrJQl"
      },
      "source": [
        "list1=[1,2,4]\n",
        "list2=[3,5,6]"
      ],
      "execution_count": null,
      "outputs": []
    },
    {
      "cell_type": "code",
      "metadata": {
        "id": "Baif1hIZrMZO"
      },
      "source": [
        "list1_array=np.array(list1)\n",
        "list12_array=np.array([list1,list2])"
      ],
      "execution_count": null,
      "outputs": []
    },
    {
      "cell_type": "code",
      "metadata": {
        "id": "EUQLjqnlrXX2"
      },
      "source": [
        "print(list1_array)"
      ],
      "execution_count": null,
      "outputs": []
    },
    {
      "cell_type": "markdown",
      "metadata": {
        "id": "ww8yizCyPiNS"
      },
      "source": [
        "Pay attention to the `[ ]` in the list12_array below. This means that you can think of `list12_array` as a list of a list!\n",
        "\n",
        "You can display these arrays by using the `print()` function:"
      ]
    },
    {
      "cell_type": "code",
      "metadata": {
        "id": "zPqgKouCr7ni"
      },
      "source": [
        "print(list12_array)"
      ],
      "execution_count": null,
      "outputs": []
    },
    {
      "cell_type": "markdown",
      "metadata": {
        "id": "9qUSl-bVsCMl"
      },
      "source": [
        "**Make an array using a function**\n",
        "\n",
        "The arrays made in previous code cells were based on us supplying the list or values.\n",
        "\n",
        "Very often we need large arrays and it is not possible to use our current approach and thus we need to use array creating functions. The most important functions are `zeros` and `ones`. They both take a parameter called shape which determines the shape of the output array.\n",
        "* `zeros` makes an array which is all 0 [see documentation here](https://docs.scipy.org/doc/numpy/reference/generated/numpy.zeros.html)\n",
        "* `ones`  makes an array which is all 1 [see documentation here](https://docs.scipy.org/doc/numpy/reference/generated/numpy.ones.html#numpy.ones)"
      ]
    },
    {
      "cell_type": "code",
      "metadata": {
        "id": "RyHhf6CLsTnN"
      },
      "source": [
        "np.zeros(shape=(2, 10))"
      ],
      "execution_count": null,
      "outputs": []
    },
    {
      "cell_type": "markdown",
      "metadata": {
        "id": "bb6aJ6Edsh50"
      },
      "source": [
        "####**Exercise:**\n"
      ]
    },
    {
      "cell_type": "markdown",
      "metadata": {
        "id": "EBYuZsx1fF9I"
      },
      "source": [
        "Now create an 2-dimentional array of ones of shape (4,4), and store it in `np441"
      ]
    },
    {
      "cell_type": "code",
      "metadata": {
        "id": "oRzjPCdQsX6Y"
      },
      "source": [
        "np441=0\n",
        "### START CODE HERE ### (≈ 1 line of code)\n",
        "\n",
        "### END CODE HERE ###"
      ],
      "execution_count": null,
      "outputs": []
    },
    {
      "cell_type": "code",
      "metadata": {
        "id": "BGcp6OsZtGe1"
      },
      "source": [
        "try:\n",
        "    print(\"np441=\")\n",
        "    print(np441)\n",
        "    print(\"Shape=\"+ str(np441.shape))\n",
        "except Exception as e:\n",
        "    print(\"Something is not working right\")\n",
        "    print(e)"
      ],
      "execution_count": null,
      "outputs": []
    },
    {
      "cell_type": "markdown",
      "metadata": {
        "id": "UEoAhOimtEmy"
      },
      "source": [
        "Expected output: \n",
        "```\n",
        "np441=\n",
        "[[1. 1. 1. 1.]\n",
        " [1. 1. 1. 1.]\n",
        " [1. 1. 1. 1.]\n",
        " [1. 1. 1. 1.]]\n",
        "Shape=(4, 4)\n",
        "```"
      ]
    },
    {
      "cell_type": "markdown",
      "metadata": {
        "id": "di0OJPNCtmTG"
      },
      "source": [
        "\n",
        "Another function we will use is`arange`, which is the exact same thing as regular python `range` except giving back a numpy array.\n",
        "\n",
        "This functions requires only a single argument which is the end point. The start point is assumed to be 0 and step is assumed to be 1. In this variety when in takes three parameters, the first one is the start, second one is the end and the third one is the step.\n"
      ]
    },
    {
      "cell_type": "markdown",
      "metadata": {
        "id": "8dRh4hd3fNU9"
      },
      "source": [
        "####**Exercise:**"
      ]
    },
    {
      "cell_type": "markdown",
      "metadata": {
        "id": "J6xzS4xGt6a-"
      },
      "source": [
        " Now make an array of four evenly spaced odd numbers starting from 1, and store it in `npodds`"
      ]
    },
    {
      "cell_type": "code",
      "metadata": {
        "id": "fW-zUQGrt0x_"
      },
      "source": [
        "npodds=0\n",
        "### START CODE HERE ### (≈ 1 line of code)\n",
        "\n",
        "### END CODE HERE ###\n"
      ],
      "execution_count": null,
      "outputs": []
    },
    {
      "cell_type": "code",
      "metadata": {
        "id": "8orUHr2bu0XX"
      },
      "source": [
        "try:\n",
        "    print(\"npodds=\")\n",
        "    print(npodds)\n",
        "    print(\"Shape=\"+ str(npodds.shape))\n",
        "except Exception as e:\n",
        "    print(\"Something is not working right\")\n",
        "    print(e)"
      ],
      "execution_count": null,
      "outputs": []
    },
    {
      "cell_type": "markdown",
      "metadata": {
        "id": "65EYdFGou5gN"
      },
      "source": [
        "Expected output: \n",
        "```\n",
        "npodds=\n",
        "[1 3 5 7]\n",
        "Shape=(4,)\n",
        "```"
      ]
    },
    {
      "cell_type": "markdown",
      "metadata": {
        "id": "-rpN1ACHFKD6"
      },
      "source": [
        "\n",
        " NumPy's also has a random number generator `np.random.`, which we will *seed* with a set value in order to ensure that the same random arrays are generated each time this code is run. This is critical for reproducibility when training and testing ML models."
      ]
    },
    {
      "cell_type": "markdown",
      "metadata": {
        "id": "KVS2I0ApNZM7"
      },
      "source": [
        "Before we create the arrays with random values, lets look at the `np.random` module. \n",
        "\n",
        "Display NumPy's built-in documentation for the `np.random`, `np.random.normal` and `np.random.randint`\n",
        "\n"
      ]
    },
    {
      "cell_type": "code",
      "metadata": {
        "id": "tjhHPFpxPESz"
      },
      "source": [],
      "execution_count": null,
      "outputs": []
    },
    {
      "cell_type": "markdown",
      "metadata": {
        "id": "aK4ZJc8yPIem"
      },
      "source": [
        "Now we can create a one-dimensional and two-dimensional arrays with:"
      ]
    },
    {
      "cell_type": "code",
      "metadata": {
        "id": "Zv9v-YSJFiSw"
      },
      "source": [
        "np.random.seed(0)  # seed for reproducibility\n",
        "x1 = np.random.randint(10, size=6)  # One-dimensional array\n",
        "x2 = np.random.randint(10, size=(3,5))  # Two-dimensional array"
      ],
      "execution_count": null,
      "outputs": []
    },
    {
      "cell_type": "code",
      "metadata": {
        "id": "Qk6_xBePPhlF"
      },
      "source": [
        "print(x1)"
      ],
      "execution_count": null,
      "outputs": []
    },
    {
      "cell_type": "code",
      "metadata": {
        "id": "kKqB5Q6JFpW1"
      },
      "source": [
        "print(x2)"
      ],
      "execution_count": null,
      "outputs": []
    },
    {
      "cell_type": "markdown",
      "metadata": {
        "id": "ktLxzkeRq0BV"
      },
      "source": [
        "### 2.2- NumPy Array Attributes"
      ]
    },
    {
      "cell_type": "markdown",
      "metadata": {
        "id": "PtH46ZI4cnNg"
      },
      "source": [
        "Let's discuss some useful array attributes. Each array has the attributes:``ndim`` (the number of dimensions), ``shape`` (the size of each dimension), and ``size`` (the total size of the array)."
      ]
    },
    {
      "cell_type": "code",
      "metadata": {
        "id": "E7Ev3s3ZcnNj"
      },
      "source": [
        "print(\"x2 ndim: \", x2.ndim)\n",
        "print(\"x2 shape:\", x2.shape)\n",
        "print(\"x2 size: \", x2.size)"
      ],
      "execution_count": null,
      "outputs": []
    },
    {
      "cell_type": "markdown",
      "metadata": {
        "id": "9DpQnyDYQJXP"
      },
      "source": [
        "- We have `x2 ndim: 2` since this is a two-dimensional array.\n",
        "\n",
        "- We have `x2 shape: (3,5)` since this is a two-dimensional array with 3 rows and 5 columns.\n",
        "\n",
        "- We have `x2 size: 15` since this is a two-dimensional array with 15 elements. "
      ]
    },
    {
      "cell_type": "markdown",
      "metadata": {
        "id": "1vegVkzXcnN0"
      },
      "source": [
        "Another useful attribute is the ``dtype``, the data type of the array:"
      ]
    },
    {
      "cell_type": "code",
      "metadata": {
        "id": "L0qWnxaRcnN3"
      },
      "source": [
        "print(\"dtype:\", x2.dtype)"
      ],
      "execution_count": null,
      "outputs": []
    },
    {
      "cell_type": "markdown",
      "metadata": {
        "id": "rx5wG0ETcnOG"
      },
      "source": [
        "Other attributes include ``itemsize``, which lists the size (in bytes) of each array element, and ``nbytes``, which lists the total size (in bytes) of the array:"
      ]
    },
    {
      "cell_type": "code",
      "metadata": {
        "id": "KoymnEyocnOJ"
      },
      "source": [
        "print(\"itemsize:\", x2.itemsize, \"bytes\")\n",
        "print(\"nbytes:\", x2.nbytes, \"bytes\")"
      ],
      "execution_count": null,
      "outputs": []
    },
    {
      "cell_type": "markdown",
      "metadata": {
        "id": "uVROw-5vcnOV"
      },
      "source": [
        "In general, we expect that ``nbytes`` is equal to ``itemsize`` times ``size``."
      ]
    },
    {
      "cell_type": "markdown",
      "metadata": {
        "id": "M0s1Z7gffcfC"
      },
      "source": [
        "####**Exercise**:"
      ]
    },
    {
      "cell_type": "markdown",
      "metadata": {
        "id": "MnbgXPWNTpbg"
      },
      "source": [
        " Now store the (i) dimension, (ii) shape, (iii)size and (iv) the total size in bytes of the array x1 in: (remove the 0s for your code)\n",
        "\n"
      ]
    },
    {
      "cell_type": "code",
      "metadata": {
        "id": "_aTUul7KTz4K"
      },
      "source": [
        "### START CODE HERE ### (= 4 line of code)\n",
        "x1dim=   0                    #Store the dimension of array x1\n",
        "x1shape= 0                #Store the shape of array x1\n",
        "x1size=  0                 #Store the size of array x1\n",
        "x1sizeb= 0                 #Store the size in bytes of array x1\n",
        "### END CODE HERE ###"
      ],
      "execution_count": null,
      "outputs": []
    },
    {
      "cell_type": "code",
      "metadata": {
        "id": "EJc_sFZYUdyU"
      },
      "source": [
        "try:\n",
        "    print(\"x1 dimensions: \", x1dim)\n",
        "    print(\"x1 shape:\", x1shape)\n",
        "    print(\"x1 size: \", x1size)\n",
        "    print(\"x1 size [bytes]:\", x1sizeb)\n",
        "except Exception as e:\n",
        "    print(\"Something is not working right\")\n",
        "    print(e)"
      ],
      "execution_count": null,
      "outputs": []
    },
    {
      "cell_type": "markdown",
      "metadata": {
        "id": "wegXx-55UcGD"
      },
      "source": [
        "Expected output: \n",
        "```\n",
        "x1 dimmentions:  1\n",
        "x1 shape: (6,)\n",
        "x1 size:  6\n",
        "x1 size [bytes]: 48\n",
        "```"
      ]
    },
    {
      "cell_type": "markdown",
      "metadata": {
        "id": "AuLVWEJXWWqh"
      },
      "source": [
        "Some of the output is as we should have expected. The dimention of x1 is `1`, its size is `6`, and the size in bytes is `48` (6x8=48). However, what about the shape...`(6,)`?\n",
        "\n",
        "This can be interpreted as x1 being a vector. However, this is a vector for indexing purposes, it is not column nor a row vector. \n",
        "\n",
        "To make a colums or a row vector you will need to use reshape (covered bellow ) or:"
      ]
    },
    {
      "cell_type": "code",
      "metadata": {
        "id": "baCRFtnOaZM8"
      },
      "source": [
        "np.random.seed(0)  # seed for reproducibility\n",
        "row_vectx1 = np.random.randint(10, size=(1,6))  # Row vector (2-dimensional array)\n",
        "print(row_vectx1)\n",
        "print(\"x1 shape:\",row_vectx1.shape)"
      ],
      "execution_count": null,
      "outputs": []
    },
    {
      "cell_type": "code",
      "metadata": {
        "id": "7SUKz7xbk18e"
      },
      "source": [
        "np.random.seed(0)  # seed for reproducibility\n",
        "col_vectx1 = np.random.randint(10, size=(6,1))  # Colums vector (2-dimensional array)\n",
        "print(col_vectx1)\n",
        "print(\"x1 shape:\", col_vectx1.shape)\n"
      ],
      "execution_count": null,
      "outputs": []
    },
    {
      "cell_type": "markdown",
      "metadata": {
        "id": "xPAz7hOEfiYz"
      },
      "source": [
        "####**Exercise**"
      ]
    },
    {
      "cell_type": "markdown",
      "metadata": {
        "id": "OR75OzbBlesP"
      },
      "source": [
        " Create a 3-dimensional array with shape= (3,4,2) and fill with numbers draw from a normal distribution with mean=5, and Standard Deviation=1\n",
        "\n"
      ]
    },
    {
      "cell_type": "code",
      "metadata": {
        "id": "LZykp7OClt1H"
      },
      "source": [
        "np.random.seed(0)  # seed for reproducibility\n",
        "x3D_normal=0\n",
        "### START CODE HERE ### (≈ 1 line of code)\n",
        "                    # Row vector (2-dimensional array)\n",
        "### END CODE HERE ###"
      ],
      "execution_count": null,
      "outputs": []
    },
    {
      "cell_type": "code",
      "metadata": {
        "id": "H1u6gy9YmI_c"
      },
      "source": [
        "try:\n",
        "    print(\"x3D_normal=\")\n",
        "    print(x3D_normal)\n",
        "    print(\"Shape=\"+ str(x3D_normal.shape))\n",
        "except Exception as e:\n",
        "    print(\"Something is not working right\")\n",
        "    print(e)"
      ],
      "execution_count": null,
      "outputs": []
    },
    {
      "cell_type": "markdown",
      "metadata": {
        "id": "cRutrxm2m8xc"
      },
      "source": [
        "Expected output: \n",
        "```\n",
        "x3D_normal=\n",
        "[[[6.76405235 5.40015721]\n",
        "  [5.97873798 7.2408932 ]\n",
        "  [6.86755799 4.02272212]\n",
        "  [5.95008842 4.84864279]]\n",
        "\n",
        " [[4.89678115 5.4105985 ]\n",
        "  [5.14404357 6.45427351]\n",
        "  [5.76103773 5.12167502]\n",
        "  [5.44386323 5.33367433]]\n",
        "\n",
        " [[6.49407907 4.79484174]\n",
        "  [5.3130677  4.14590426]\n",
        "  [2.44701018 5.6536186 ]\n",
        "  [5.8644362  4.25783498]]]\n",
        "Shape=(3, 4, 2)\n",
        "```"
      ]
    },
    {
      "cell_type": "markdown",
      "metadata": {
        "id": "k5Zh-ZZKcnOY"
      },
      "source": [
        "##3- Indexing Array"
      ]
    },
    {
      "cell_type": "markdown",
      "metadata": {
        "id": "u-1d5Fo2qnqV"
      },
      "source": [
        "If you are familiar with Python's standard list indexing, indexing in NumPy will feel quite familiar.\n",
        "In Python, as is in many other programming languages all arrays start from 0 so the first element is at position 0.\n",
        "\n",
        "In a one-dimensional array, the $i^{th}$ value (counting from zero) can be accessed by specifying the desired index in square brackets, just as with Python lists, like:\n"
      ]
    },
    {
      "cell_type": "code",
      "metadata": {
        "id": "ZkUmINC-qnql"
      },
      "source": [
        "x1[0]"
      ],
      "execution_count": null,
      "outputs": []
    },
    {
      "cell_type": "code",
      "metadata": {
        "id": "qukDSFqkqnqu"
      },
      "source": [
        "x1[4]"
      ],
      "execution_count": null,
      "outputs": []
    },
    {
      "cell_type": "markdown",
      "metadata": {
        "id": "c6nZxAx8qnq2"
      },
      "source": [
        "To index from the end of the array, you can use negative indices.To access the last element we can use -1 as the index. `x[-1]` is identical to `x[x.shape[0] - 1]` where `shape[0]` is the length or rows of the array."
      ]
    },
    {
      "cell_type": "code",
      "metadata": {
        "id": "OYFWxz7fqnq6"
      },
      "source": [
        "x1[-1]"
      ],
      "execution_count": null,
      "outputs": []
    },
    {
      "cell_type": "markdown",
      "metadata": {
        "id": "8FqHVFFcqnrS"
      },
      "source": [
        "In a multi-dimensional array, items can be accessed using a comma-separated tuple of indices:"
      ]
    },
    {
      "cell_type": "code",
      "metadata": {
        "id": "5LghH36Jqnrk"
      },
      "source": [
        "x2[0, 0]"
      ],
      "execution_count": null,
      "outputs": []
    },
    {
      "cell_type": "code",
      "metadata": {
        "id": "NvgJgzSfqnr4"
      },
      "source": [
        "x2[2, -1]"
      ],
      "execution_count": null,
      "outputs": []
    },
    {
      "cell_type": "markdown",
      "metadata": {
        "id": "dLxpgVLHqnsA"
      },
      "source": [
        "Values can also be modified using any of the above index notation:"
      ]
    },
    {
      "cell_type": "code",
      "metadata": {
        "id": "i5sMji4_qnsD"
      },
      "source": [
        "x2[0, 0] = 12\n",
        "x2"
      ],
      "execution_count": null,
      "outputs": []
    },
    {
      "cell_type": "markdown",
      "metadata": {
        "id": "7TMm9kH9z5m2"
      },
      "source": [
        "Keep in mind that, unlike Python lists, NumPy arrays have a fixed type.\n",
        "This means, for example, that if you attempt to insert a floating-point value to an integer array, the value will be silently truncated. Don't be caught unaware by this behavior!"
      ]
    },
    {
      "cell_type": "code",
      "metadata": {
        "id": "J_YPDdpSz8ip"
      },
      "source": [
        "x1.dtype"
      ],
      "execution_count": null,
      "outputs": []
    },
    {
      "cell_type": "code",
      "metadata": {
        "id": "7aavOk4BqnsR"
      },
      "source": [
        "x1[0] = 3.14159  # this will be truncated!\n",
        "x1"
      ],
      "execution_count": null,
      "outputs": []
    },
    {
      "cell_type": "markdown",
      "metadata": {
        "id": "woNu9fJKqnsa"
      },
      "source": [
        "## 4- Array Slicing: Accessing Subarrays"
      ]
    },
    {
      "cell_type": "markdown",
      "metadata": {
        "id": "idHbfy0Vqnsc"
      },
      "source": [
        "Just as we can use square brackets to access individual array elements, we can also use them to access subarrays with the *slice* notation, marked by the colon (``:``) character.\n",
        "The NumPy slicing syntax follows that of the standard Python list; to access a slice of an array ``x``, use this:\n",
        "``` python\n",
        "x[start:stop:step]\n",
        "```\n",
        "If any of these are unspecified, they default to the values ``start=0``, ``stop=``*``size of dimension``*, ``step=1``.\n",
        "We'll take a look at accessing sub-arrays in one dimension and in multiple dimensions."
      ]
    },
    {
      "cell_type": "markdown",
      "metadata": {
        "id": "WB0ONlsfqnsh"
      },
      "source": [
        "### 4.1- One-dimensional subarrays"
      ]
    },
    {
      "cell_type": "code",
      "metadata": {
        "id": "ofdU8Weu2tpl"
      },
      "source": [
        "x1"
      ],
      "execution_count": null,
      "outputs": []
    },
    {
      "cell_type": "code",
      "metadata": {
        "id": "Ldy2l3Mzl4X0"
      },
      "source": [
        "x1[:]  # all elements"
      ],
      "execution_count": null,
      "outputs": []
    },
    {
      "cell_type": "code",
      "metadata": {
        "id": "3QazqHshqnst"
      },
      "source": [
        "x1[:5]  # first five elements"
      ],
      "execution_count": null,
      "outputs": []
    },
    {
      "cell_type": "code",
      "metadata": {
        "id": "G4RXimp6qns6"
      },
      "source": [
        "x1[5:]  # elements after index 5"
      ],
      "execution_count": null,
      "outputs": []
    },
    {
      "cell_type": "code",
      "metadata": {
        "id": "KRijKEQpqntB"
      },
      "source": [
        "x1[4:7]  # middle sub-array"
      ],
      "execution_count": null,
      "outputs": []
    },
    {
      "cell_type": "code",
      "metadata": {
        "id": "4DwfUkBqqntI"
      },
      "source": [
        "x1[::2]  # every other element"
      ],
      "execution_count": null,
      "outputs": []
    },
    {
      "cell_type": "code",
      "metadata": {
        "id": "tyTA30e8qntP"
      },
      "source": [
        "x1[1::2]  # every other element, starting at index 1"
      ],
      "execution_count": null,
      "outputs": []
    },
    {
      "cell_type": "markdown",
      "metadata": {
        "id": "adPqBVl0qntY"
      },
      "source": [
        "A potentially confusing case is when the ``step`` value is negative.\n",
        "In this case, the defaults for ``start`` and ``stop`` are swapped.\n",
        "This becomes a convenient way to reverse an array:"
      ]
    },
    {
      "cell_type": "code",
      "metadata": {
        "id": "_9Xr-iYoqntb"
      },
      "source": [
        "x1[::-1]  # all elements, reversed"
      ],
      "execution_count": null,
      "outputs": []
    },
    {
      "cell_type": "code",
      "metadata": {
        "id": "WX9p7Hnvqntn"
      },
      "source": [
        "x1[5::-2]  # reversed every other from index 5"
      ],
      "execution_count": null,
      "outputs": []
    },
    {
      "cell_type": "markdown",
      "metadata": {
        "id": "ajOxy1ttqntt"
      },
      "source": [
        "### 4.2- Multi-dimensional subarrays\n",
        "\n",
        "Multi-dimensional slices work in the same way, with multiple slices separated by commas.\n",
        "For example:"
      ]
    },
    {
      "cell_type": "code",
      "metadata": {
        "id": "t0DJMoRtqntw"
      },
      "source": [
        "x2"
      ],
      "execution_count": null,
      "outputs": []
    },
    {
      "cell_type": "code",
      "metadata": {
        "id": "lAO_WcBUqnt5"
      },
      "source": [
        "x2[:2, :3]  # two rows, three columns"
      ],
      "execution_count": null,
      "outputs": []
    },
    {
      "cell_type": "code",
      "metadata": {
        "id": "AuLi5a4Xqnt-"
      },
      "source": [
        "x2[:3, ::2]  # all rows, every other column"
      ],
      "execution_count": null,
      "outputs": []
    },
    {
      "cell_type": "markdown",
      "metadata": {
        "id": "7huF7Rk7qnuG"
      },
      "source": [
        "Finally, subarray dimensions can even be reversed together:"
      ]
    },
    {
      "cell_type": "code",
      "metadata": {
        "id": "DAziT2ShqnuJ"
      },
      "source": [
        "x2[::-1, ::-1]"
      ],
      "execution_count": null,
      "outputs": []
    },
    {
      "cell_type": "markdown",
      "metadata": {
        "id": "qS65E0_cqnuQ"
      },
      "source": [
        "####4.2.1- Accessing array rows and columns\n",
        "\n",
        "One commonly needed routine is accessing of single rows or columns of an array.\n",
        "This can be done by combining indexing and slicing, using an empty slice marked by a single colon (``:``):"
      ]
    },
    {
      "cell_type": "code",
      "metadata": {
        "id": "Vs_Nu-D9qnuT"
      },
      "source": [
        "print(x2[:, 0])  # first column of x2"
      ],
      "execution_count": null,
      "outputs": []
    },
    {
      "cell_type": "code",
      "metadata": {
        "id": "Ps7BipQ-qnuY"
      },
      "source": [
        "print(x2[0, :])  # first row of x2"
      ],
      "execution_count": null,
      "outputs": []
    },
    {
      "cell_type": "markdown",
      "metadata": {
        "id": "L9YYSCpYqnue"
      },
      "source": [
        "In the case of row access, the empty slice can be omitted for a more compact syntax:"
      ]
    },
    {
      "cell_type": "code",
      "metadata": {
        "id": "nDWkrJNEqnug"
      },
      "source": [
        "print(x2[0])  # equivalent to x2[0, :]"
      ],
      "execution_count": null,
      "outputs": []
    },
    {
      "cell_type": "markdown",
      "metadata": {
        "id": "bseOHTsHqnum"
      },
      "source": [
        "###4.3- Subarrays as no-copy views\n",
        "\n",
        "One important–and extremely useful–thing to know about array slices is that they return *views* rather than *copies* of the array data.\n",
        "This is one area in which NumPy array slicing differs from Python list slicing: in lists, slices will be copies.\n",
        "Consider our two-dimensional array from before:"
      ]
    },
    {
      "cell_type": "code",
      "metadata": {
        "id": "vZWgL8U1qnun"
      },
      "source": [
        "print(x2)"
      ],
      "execution_count": null,
      "outputs": []
    },
    {
      "cell_type": "markdown",
      "metadata": {
        "id": "YWFAJUZFqnuq"
      },
      "source": [
        "Let's extract a $2 \\times 2$ subarray from this:"
      ]
    },
    {
      "cell_type": "code",
      "metadata": {
        "id": "0HQ_7s19qnur"
      },
      "source": [
        "x2_sub = x2[:2, :2]\n",
        "print(x2_sub)"
      ],
      "execution_count": null,
      "outputs": []
    },
    {
      "cell_type": "markdown",
      "metadata": {
        "id": "PHaKTAo2qnuv"
      },
      "source": [
        "Now if we modify this subarray, we'll see that the original array is changed! Observe:"
      ]
    },
    {
      "cell_type": "code",
      "metadata": {
        "id": "kdLblglzqnux"
      },
      "source": [
        "x2_sub[0, 0] = 99\n",
        "print(x2_sub)"
      ],
      "execution_count": null,
      "outputs": []
    },
    {
      "cell_type": "code",
      "metadata": {
        "id": "SCebxLsEqnu5"
      },
      "source": [
        "print(x2)"
      ],
      "execution_count": null,
      "outputs": []
    },
    {
      "cell_type": "markdown",
      "metadata": {
        "id": "yVYUtoW5qnu9"
      },
      "source": [
        "This default behavior is actually quite useful: it means that when we work with large datasets, we can access and process pieces of these datasets without the need to copy the underlying data buffer."
      ]
    },
    {
      "cell_type": "markdown",
      "metadata": {
        "id": "UdouZ_GCqnu_"
      },
      "source": [
        "###4.4-Creating copies of arrays\n",
        "\n",
        "Despite the nice features of array views, it is sometimes useful to instead explicitly copy the data within an array or a subarray. This can be most easily done with the ``copy()`` method:"
      ]
    },
    {
      "cell_type": "code",
      "metadata": {
        "id": "cCEruPuvqnvD"
      },
      "source": [
        "x2_sub_copy = x2[:2, :2].copy()\n",
        "print(x2_sub_copy)"
      ],
      "execution_count": null,
      "outputs": []
    },
    {
      "cell_type": "markdown",
      "metadata": {
        "id": "AZxHbdX-qnvM"
      },
      "source": [
        "If we now modify this subarray, the original array is not touched:"
      ]
    },
    {
      "cell_type": "code",
      "metadata": {
        "id": "0rNLElZaqnvO"
      },
      "source": [
        "x2_sub_copy[0, 0] = 42\n",
        "print(x2_sub_copy)"
      ],
      "execution_count": null,
      "outputs": []
    },
    {
      "cell_type": "code",
      "metadata": {
        "id": "L8ok-UiZqnvU"
      },
      "source": [
        "print(x2)"
      ],
      "execution_count": null,
      "outputs": []
    },
    {
      "cell_type": "markdown",
      "metadata": {
        "id": "vyZ1iwiLqnvY"
      },
      "source": [
        "##5- Reshaping of Arrays\n",
        "\n",
        "Another useful type of operation is reshaping of arrays.\n",
        "The most flexible way of doing this is with the ``reshape`` method.\n",
        "For example, if you want to put the numbers 1 through 9 in a $3 \\times 3$ grid, you can do the following:"
      ]
    },
    {
      "cell_type": "code",
      "metadata": {
        "id": "w4M_ezm7qnva"
      },
      "source": [
        "grid = np.arange(1, 10).reshape((3, 3))\n",
        "print(grid)"
      ],
      "execution_count": null,
      "outputs": []
    },
    {
      "cell_type": "markdown",
      "metadata": {
        "id": "fpEHtOp-qnve"
      },
      "source": [
        "Note that for this to work, the size (number of elements) of the initial array must match the size of the reshaped array. \n",
        "Where possible, the ``reshape`` method will use a no-copy view of the initial array, but with non-contiguous memory buffers this is not always the case.\n",
        "\n",
        "Another common reshaping pattern is the conversion of a one-dimensional array into a two-dimensional row or column matrix.\n",
        "This can be done with the ``reshape`` method, or more easily done by making use of the ``newaxis`` keyword within a slice operation:"
      ]
    },
    {
      "cell_type": "code",
      "metadata": {
        "id": "i9iQlDWJqnvg"
      },
      "source": [
        "x = np.array([1, 2, 3])\n",
        "\n",
        "# row vector via reshape\n",
        "x.reshape((1, 3))"
      ],
      "execution_count": null,
      "outputs": []
    },
    {
      "cell_type": "code",
      "metadata": {
        "id": "PXh3Shcpqnvj"
      },
      "source": [
        "# row vector via newaxis\n",
        "x[np.newaxis, :]"
      ],
      "execution_count": null,
      "outputs": []
    },
    {
      "cell_type": "code",
      "metadata": {
        "id": "yxtUHj01qnvo"
      },
      "source": [
        "# column vector via reshape\n",
        "x.reshape((3, 1))"
      ],
      "execution_count": null,
      "outputs": []
    },
    {
      "cell_type": "code",
      "metadata": {
        "id": "4zmTfP_3qnvr"
      },
      "source": [
        "# column vector via newaxis\n",
        "x[:, np.newaxis]"
      ],
      "execution_count": null,
      "outputs": []
    },
    {
      "cell_type": "markdown",
      "metadata": {
        "id": "V79kWqEWqnwB"
      },
      "source": [
        "##6- Array Concatenation and Splitting\n",
        "\n",
        "All of the preceding routines worked on single arrays. It's also possible to combine multiple arrays into one, and to conversely split a single array into multiple arrays. We'll take a look at those operations here."
      ]
    },
    {
      "cell_type": "markdown",
      "metadata": {
        "id": "tK4DxFTLqnwB"
      },
      "source": [
        "###6.1- Concatenation of arrays\n",
        "\n",
        "Concatenation, or joining of two arrays in NumPy, is primarily accomplished using the routines ``np.concatenate``, ``np.vstack``, and ``np.hstack``.\n",
        "``np.concatenate`` takes a tuple or list of arrays as its first argument, as we can see here:"
      ]
    },
    {
      "cell_type": "code",
      "metadata": {
        "id": "R_1jy6TJqnwC"
      },
      "source": [
        "x = np.array([1, 2, 3])\n",
        "y = np.array([3, 2, 1])\n",
        "np.concatenate([x, y])"
      ],
      "execution_count": null,
      "outputs": []
    },
    {
      "cell_type": "markdown",
      "metadata": {
        "id": "0A8EazQcqnwG"
      },
      "source": [
        "You can also concatenate more than two arrays at once:"
      ]
    },
    {
      "cell_type": "code",
      "metadata": {
        "id": "z5coYfrNqnwI"
      },
      "source": [
        "z = [99, 99, 99]\n",
        "print(np.concatenate([x, y, z]))"
      ],
      "execution_count": null,
      "outputs": []
    },
    {
      "cell_type": "markdown",
      "metadata": {
        "id": "HCgqrhplqnwP"
      },
      "source": [
        "It can also be used for two-dimensional arrays:"
      ]
    },
    {
      "cell_type": "code",
      "metadata": {
        "id": "-BN9pD18qnwQ"
      },
      "source": [
        "grid = np.array([[1, 2, 3],\n",
        "                 [4, 5, 6]])"
      ],
      "execution_count": null,
      "outputs": []
    },
    {
      "cell_type": "code",
      "metadata": {
        "id": "BVFWhVJSqnwa"
      },
      "source": [
        "# concatenate along the first axis\n",
        "np.concatenate([grid, grid])"
      ],
      "execution_count": null,
      "outputs": []
    },
    {
      "cell_type": "code",
      "metadata": {
        "id": "EaI-T-nyqnwg"
      },
      "source": [
        "# concatenate along the second axis (zero-indexed)\n",
        "np.concatenate([grid, grid], axis=1)"
      ],
      "execution_count": null,
      "outputs": []
    },
    {
      "cell_type": "markdown",
      "metadata": {
        "id": "x18KjSQHqnwk"
      },
      "source": [
        "For working with arrays of mixed dimensions, it can be clearer to use the ``np.vstack`` (vertical stack) and ``np.hstack`` (horizontal stack) functions:"
      ]
    },
    {
      "cell_type": "code",
      "metadata": {
        "id": "dMfNrm7jqnwm"
      },
      "source": [
        "x = np.array([1, 2, 3])\n",
        "grid = np.array([[9, 8, 7],\n",
        "                 [6, 5, 4]])\n",
        "\n",
        "# vertically stack the arrays\n",
        "np.vstack([x, grid])"
      ],
      "execution_count": null,
      "outputs": []
    },
    {
      "cell_type": "code",
      "metadata": {
        "id": "0dkzAUJvqnwq"
      },
      "source": [
        "# horizontally stack the arrays\n",
        "y = np.array([[99],\n",
        "              [99]])\n",
        "np.hstack([grid, y])"
      ],
      "execution_count": null,
      "outputs": []
    },
    {
      "cell_type": "markdown",
      "metadata": {
        "id": "AAFVpBStqnwu"
      },
      "source": [
        "Similary, ``np.dstack`` will stack arrays along the third axis."
      ]
    },
    {
      "cell_type": "markdown",
      "metadata": {
        "id": "kNZTkWDhqnwv"
      },
      "source": [
        "###6.2- Splitting of arrays\n",
        "\n",
        "The opposite of concatenation is splitting, which is implemented by the functions ``np.split``, ``np.hsplit``, and ``np.vsplit``.  For each of these, we can pass a list of indices giving the split points:"
      ]
    },
    {
      "cell_type": "code",
      "metadata": {
        "id": "P8P9wettqnww"
      },
      "source": [
        "x = [1, 2, 3, 99, 99, 3, 2, 1]\n",
        "x1, x2, x3 = np.split(x, [3, 5])\n",
        "print(x1, x2, x3)"
      ],
      "execution_count": null,
      "outputs": []
    },
    {
      "cell_type": "markdown",
      "metadata": {
        "id": "HuAVWZ7wqnwz"
      },
      "source": [
        "Notice that *N* split-points, leads to *N + 1* subarrays.\n",
        "The related functions ``np.hsplit`` and ``np.vsplit`` are similar:"
      ]
    },
    {
      "cell_type": "code",
      "metadata": {
        "id": "Kn9iBm2Xqnwz"
      },
      "source": [
        "grid = np.arange(16).reshape((4, 4))\n",
        "grid"
      ],
      "execution_count": null,
      "outputs": []
    },
    {
      "cell_type": "code",
      "metadata": {
        "id": "kqElKvR6qnw2"
      },
      "source": [
        "upper, lower = np.vsplit(grid, [2])\n",
        "print(upper)\n",
        "print(lower)"
      ],
      "execution_count": null,
      "outputs": []
    },
    {
      "cell_type": "code",
      "metadata": {
        "id": "D4B9SZMEqnw4"
      },
      "source": [
        "left, right = np.hsplit(grid, [2])\n",
        "print(left)\n",
        "print(right)"
      ],
      "execution_count": null,
      "outputs": []
    },
    {
      "cell_type": "markdown",
      "metadata": {
        "id": "LEcOpy3Tqnw9"
      },
      "source": [
        "Similarly, ``np.dsplit`` will split arrays along the third axis."
      ]
    },
    {
      "cell_type": "markdown",
      "metadata": {
        "id": "B6jqAXOIAsAz"
      },
      "source": [
        "#More about NumPy !!!"
      ]
    },
    {
      "cell_type": "markdown",
      "metadata": {
        "id": "FxWoJVneDHot"
      },
      "source": [
        "\n",
        "\n",
        "More detailed documentation, along with tutorials and other resources, can be found at http://www.numpy.org. \n",
        "\n",
        "In addition, I will encourage  you to go over the Notebooks from the [Python Data Science Handbook](http://shop.oreilly.com/product/0636920034919.do) that cover NumPy:\n",
        "\n",
        "\n",
        "- [Computation on NumPy Arrays: Universal Functions](https://colab.research.google.com/github/jakevdp/PythonDataScienceHandbook/blob/master/notebooks/02.03-Computation-on-arrays-ufuncs.ipynb#scrollTo=Vwsyz5AZ-UCs)\n",
        "\n",
        "- [Aggregations: Min, Max, and Everything In Between](https://colab.research.google.com/github/jakevdp/PythonDataScienceHandbook/blob/master/notebooks/02.04-Computation-on-arrays-aggregates.ipynb)\n",
        "\n",
        "- [Computation on Arrays: Broadcasting](https://colab.research.google.com/github/jakevdp/PythonDataScienceHandbook/blob/master/notebooks/02.05-Computation-on-arrays-broadcasting.ipynb#scrollTo=dnDVbi-C-riP)\n",
        "\n",
        "- [Comparisons, Masks, and Boolean Logic](https://colab.research.google.com/github/jakevdp/PythonDataScienceHandbook/blob/master/notebooks/02.06-Boolean-Arrays-and-Masks.ipynb#scrollTo=LuPLpJi1--Ka)\n",
        "\n",
        "- [Fancy Indexing](https://colab.research.google.com/github/jakevdp/PythonDataScienceHandbook/blob/master/notebooks/02.07-Fancy-Indexing.ipynb)\n",
        "\n",
        "- [Sorting Arrays](https://colab.research.google.com/github/jakevdp/PythonDataScienceHandbook/blob/master/notebooks/02.08-Sorting.ipynb)\n",
        "\n",
        "- [Structured Data: NumPy's Structured Arrays](https://colab.research.google.com/github/jakevdp/PythonDataScienceHandbook/blob/master/notebooks/02.09-Structured-Data-NumPy.ipynb)"
      ]
    },
    {
      "cell_type": "markdown",
      "metadata": {
        "id": "DRTovA0DYLe5"
      },
      "source": [
        "## **DO NOT DELETE NOR MODIFY THESE CODE CELLS**"
      ]
    },
    {
      "cell_type": "code",
      "metadata": {
        "id": "nwlQSjmtMlki"
      },
      "source": [
        "# ###DO NOT DELETE NOR MODIFY THIS CODE CELL####\n",
        "# ###DO NOT DELETE NOR MODIFY THIS CODE CELL####\n",
        "!wget https://raw.githubusercontent.com/lopezbec/intro_python_notebooks/main/Grading_Numpy.py\n",
        "\n",
        "import numpy as np\n",
        "\n",
        "from Grading_Numpy import GRADING_NumPy_intro\n",
        "\n",
        "try:\n",
        "    np441\n",
        "except NameError:\n",
        "    np441 = None\n",
        "try:\n",
        "    npodds\n",
        "except NameError:\n",
        "    npodds = None\n",
        "try:\n",
        "    x1dim\n",
        "except NameError:\n",
        "    x1dim = None\n",
        "try:\n",
        "    x1shape\n",
        "except NameError:\n",
        "    x1shape = None\n",
        "try:\n",
        "    x1size\n",
        "except NameError:\n",
        "    x1size = None\n",
        "try:\n",
        "    x1sizeb\n",
        "except NameError:\n",
        "    x1sizeb = None\n",
        "try:\n",
        "    x3D_normal\n",
        "except NameError:\n",
        "    x3D_normal = None\n",
        "\n",
        "\n",
        "\n",
        "GRADING_NumPy_intro(np441,npodds,x1dim,x1shape,x1size,x1sizeb,x3D_normal)"
      ],
      "execution_count": null,
      "outputs": []
    }
  ]
}