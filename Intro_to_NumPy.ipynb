{
  "nbformat": 4,
  "nbformat_minor": 0,
  "metadata": {
    "coursera": {
      "course_slug": "neural-networks-deep-learning",
      "graded_item_id": "XHpfv",
      "launcher_item_id": "Zh0CU"
    },
    "kernelspec": {
      "display_name": "Python 3",
      "language": "python",
      "name": "python3"
    },
    "language_info": {
      "codemirror_mode": {
        "name": "ipython",
        "version": 3
      },
      "file_extension": ".py",
      "mimetype": "text/x-python",
      "name": "python",
      "nbconvert_exporter": "python",
      "pygments_lexer": "ipython3",
      "version": "3.6.0"
    },
    "colab": {
      "name": "Intro_to_NumP.ipynb",
      "provenance": [],
      "collapsed_sections": []
    }
  },
  "cells": [
    {
      "cell_type": "markdown",
      "metadata": {
        "id": "YRkIEC7XmK4C"
      },
      "source": [
        "<center><b>©  Content is made available under the CC-BY-NC-ND 4.0 license. Christian Lopez, lopezbec@lafayette.edu<center>"
      ]
    },
    {
      "cell_type": "markdown",
      "metadata": {
        "id": "p62dHC1smMFB"
      },
      "source": [
        "![alt text](https://miro.medium.com/max/1200/1*Xp5sVXs0C7na22Jb5lKw3Q.png)\n",
        "\n"
      ]
    },
    {
      "cell_type": "markdown",
      "metadata": {
        "id": "FTHAMc6QmL5D"
      },
      "source": [
        "#Introduction to Python's NumPy library\n",
        " This notebooks and the exercise on it will give you a brief introduction to Python's [NumPy](https://https://numpy.org/) library. \n",
        "<br>\n",
        "\n",
        "Most of the notebooks we are going to be using are inspired from existing notebooks that available online and are made  free for educational purposes (e.g., the work of [Andre Ng]( https://en.wikipedia.org/wiki/Andrew_Ng) and the notebooks from the [Python Data Science Handbook](http://shop.oreilly.com/product/0636920034919.do)). Nonetheless, the notebooks should not be share without prior permission of the instructor. When working in an assignment always remember the [Student Code of Conduct]( https://conduct.lafayette.edu/student-handbook/student-code-of-conduct/).  \n",
        "\n"
      ]
    },
    {
      "cell_type": "markdown",
      "metadata": {
        "id": "oW76M612gVSN"
      },
      "source": [
        "# NumPy Basics with Google Colab \n",
        "\n",
        "This assigment will gives you a brief introduction to Python's [NumPy](https://https://numpy.org/) library. Even if you've used Python's NumPy before, this will help familiarize you with functions you'll need.  \n",
        "\n",
        "<br><br>\n",
        "**After this assignment you will:**\n",
        "- Use and undestand NumPy arrays\n"
      ]
    },
    {
      "cell_type": "markdown",
      "metadata": {
        "id": "Km7A49TCsUjU"
      },
      "source": [
        "\n",
        "###**Instructions:**\n",
        "- You will be using Python 3.\n",
        "\n",
        "- Only modify the code that is within the comments:\n",
        "\n",
        "`### START CODE HERE ###`\n",
        "\n",
        "`### END CODE HERE ###`\n",
        "\n",
        "- You need to run all the code cells on the notebok sequentially\n",
        "- If you are asked to change/update a cell, change/update and run it to check if your result is correct.\n"
      ]
    },
    {
      "cell_type": "markdown",
      "metadata": {
        "id": "JFtwrNc0xnsi"
      },
      "source": [
        "*The following sections were inspired and uses code and text from the  [Introduction to NumPy Notebook](https://colab.research.google.com/github/jakevdp/PythonDataScienceHandbook/blob/master/notebooks/02.00-Introduction-to-NumPy.ipynb#scrollTo=4CLEDpyacmUk) from the [Python Data Science Handbook](http://shop.oreilly.com/product/0636920034919.do)[](https://jupyter.brynmawr.edu/hub/login) "
      ]
    },
    {
      "cell_type": "markdown",
      "metadata": {
        "id": "WQn-xN47v-ik"
      },
      "source": [
        "##1- Introduction to NumPy"
      ]
    },
    {
      "cell_type": "markdown",
      "metadata": {
        "id": "HCrUe-8jgVSV"
      },
      "source": [
        "This Notebooks will cover Python's NumPy (NumPy=*Numerical Python*). This library  provides an efficient interface to store and operate on dense data buffers.\n",
        "\n",
        "In some ways, NumPy arrays are like Python's built-in ``list`` type, but NumPy arrays provide much more efficient storage and data operations as the arrays grow larger in size. Hence, learning to use NumPy effectively will be valuable for you when developmenting and implementing Machine Learning algorithms.\n",
        "\n",
        "Google Colab has Numpy already installed in the VM environment, you just need to import it."
      ]
    },
    {
      "cell_type": "code",
      "metadata": {
        "id": "7PWPk-ThgVSW",
        "colab": {
          "base_uri": "https://localhost:8080/",
          "height": 36
        },
        "outputId": "7d223ead-caff-46c2-bc21-ddb35ab10beb"
      },
      "source": [
        "import numpy\n",
        "numpy.__version__"
      ],
      "execution_count": 72,
      "outputs": [
        {
          "output_type": "execute_result",
          "data": {
            "application/vnd.google.colaboratory.intrinsic+json": {
              "type": "string"
            },
            "text/plain": [
              "'1.19.5'"
            ]
          },
          "metadata": {},
          "execution_count": 72
        }
      ]
    },
    {
      "cell_type": "markdown",
      "metadata": {
        "id": "xHvF4DPhxdUu"
      },
      "source": [
        "By convention, you'll find that most people  will import NumPy using ``np`` as an alias:"
      ]
    },
    {
      "cell_type": "code",
      "metadata": {
        "id": "yR9Wz28-BXmn"
      },
      "source": [
        "import numpy as np"
      ],
      "execution_count": 73,
      "outputs": []
    },
    {
      "cell_type": "markdown",
      "metadata": {
        "id": "sD4D7BjfBxh6"
      },
      "source": [
        "**Reminder about  Built In Documentation**\n",
        "\n",
        "As you read through this chapter, don't forget that Jupyter Notebooks gives you the ability to quickly explore the contents of a package (by using the tab-completion feature), as well as the documentation of various functions (using the ``?`` character – Refer back to \"Python_Basics\" Notebook.\n",
        "\n"
      ]
    },
    {
      "cell_type": "markdown",
      "metadata": {
        "id": "MMobO5ejDQ4E"
      },
      "source": [
        "For example, to display all the contents of the NumPy namespace, you can type this:\n",
        "\n",
        "\n",
        "```ipython\n",
        ": np.\n",
        "```\n",
        "\n",
        "And to display NumPy's built-in documentation, you can use this:\n",
        "\n",
        "```ipython\n",
        ": np?\n",
        "```\n",
        "\n",
        "Now, you go ahead and try it:"
      ]
    },
    {
      "cell_type": "code",
      "metadata": {
        "id": "7iX3vssDDbn6"
      },
      "source": [
        ""
      ],
      "execution_count": 73,
      "outputs": []
    },
    {
      "cell_type": "markdown",
      "metadata": {
        "id": "p7KT_DhlEPwt"
      },
      "source": [
        "##2- NumPy Arrays"
      ]
    },
    {
      "cell_type": "markdown",
      "metadata": {
        "id": "nPIW4WwfEbl-"
      },
      "source": [
        "Data manipulation in Python is nearly synonymous with NumPy array manipulation: even newer tools like [Pandas](https://pandas.pydata.org/) are built around the NumPy array.\n",
        "\n",
        "This Nothebook will present several examples of using NumPy array manipulation to access data and subarrays, and to split, reshape, and join the arrays.\n",
        "\n",
        "While the types of operations shown here may seem a bit dry and pedantic, they comprise the building blocks for making several of the Machine Learning algorithms, covered in this course, more efficient by using vectors and matrices.\n",
        "\n",
        "We'll cover a few categories of basic array manipulations here."
      ]
    },
    {
      "cell_type": "markdown",
      "metadata": {
        "id": "OAnSrP8GFKHD"
      },
      "source": [
        "### 2.1- Creating NumPy Arrays"
      ]
    },
    {
      "cell_type": "markdown",
      "metadata": {
        "id": "nQV2h-UmrBFS"
      },
      "source": [
        "**Make an array from a list.**\n"
      ]
    },
    {
      "cell_type": "code",
      "metadata": {
        "id": "5HLvidflrJQl"
      },
      "source": [
        "list1=[1,2,4]\n",
        "list2=[3,5,6]"
      ],
      "execution_count": 74,
      "outputs": []
    },
    {
      "cell_type": "code",
      "metadata": {
        "id": "Baif1hIZrMZO"
      },
      "source": [
        "list1_array=np.array(list1)\n",
        "list12_array=np.array([list1,list2])"
      ],
      "execution_count": 75,
      "outputs": []
    },
    {
      "cell_type": "code",
      "metadata": {
        "id": "EUQLjqnlrXX2",
        "colab": {
          "base_uri": "https://localhost:8080/"
        },
        "outputId": "eabced31-7bb2-4ffb-b698-51b5517bf12e"
      },
      "source": [
        "print(list1_array)"
      ],
      "execution_count": 76,
      "outputs": [
        {
          "output_type": "stream",
          "name": "stdout",
          "text": [
            "[1 2 4]\n"
          ]
        }
      ]
    },
    {
      "cell_type": "markdown",
      "metadata": {
        "id": "ww8yizCyPiNS"
      },
      "source": [
        "Pay attention to the `[ ]` in the list12_array. This means that you can think of `list12_array` as a list of a list!\n",
        "\n",
        "You can display these arrays by using the `print()` function:"
      ]
    },
    {
      "cell_type": "code",
      "metadata": {
        "id": "zPqgKouCr7ni",
        "colab": {
          "base_uri": "https://localhost:8080/"
        },
        "outputId": "e2c5c69d-f57a-4c0c-b33e-b6d3789cbbfd"
      },
      "source": [
        "print(list12_array)"
      ],
      "execution_count": 77,
      "outputs": [
        {
          "output_type": "stream",
          "name": "stdout",
          "text": [
            "[[1 2 4]\n",
            " [3 5 6]]\n"
          ]
        }
      ]
    },
    {
      "cell_type": "markdown",
      "metadata": {
        "id": "9qUSl-bVsCMl"
      },
      "source": [
        "**Make an array using a function**\n",
        "\n",
        "The arrays made in previous code cells were based on us supplying the list or values.\n",
        "\n",
        "Very often we need large arrays and it is not possible to use our current approach and thus we need to use array creating functions. The most important functions are `zeros` and `ones`. They both take a parameter called shape which determines the shape of the output array.\n",
        "* `zeros` makes an array which is all 0 [see documentation here](https://docs.scipy.org/doc/numpy/reference/generated/numpy.zeros.html)\n",
        "* `ones`  makes an array which is all 1 [see documentation here](https://docs.scipy.org/doc/numpy/reference/generated/numpy.ones.html#numpy.ones)"
      ]
    },
    {
      "cell_type": "code",
      "metadata": {
        "id": "RyHhf6CLsTnN",
        "colab": {
          "base_uri": "https://localhost:8080/"
        },
        "outputId": "f5b5c11b-0021-4c06-8cde-569fb6f7b213"
      },
      "source": [
        "np.zeros(shape=(2, 10))"
      ],
      "execution_count": 78,
      "outputs": [
        {
          "output_type": "execute_result",
          "data": {
            "text/plain": [
              "array([[0., 0., 0., 0., 0., 0., 0., 0., 0., 0.],\n",
              "       [0., 0., 0., 0., 0., 0., 0., 0., 0., 0.]])"
            ]
          },
          "metadata": {},
          "execution_count": 78
        }
      ]
    },
    {
      "cell_type": "markdown",
      "metadata": {
        "id": "bb6aJ6Edsh50"
      },
      "source": [
        "####**Exercise:**\n"
      ]
    },
    {
      "cell_type": "markdown",
      "metadata": {
        "id": "EBYuZsx1fF9I"
      },
      "source": [
        "Now create an 2-dimentional array of ones of shape (4,4), and store it in `np441"
      ]
    },
    {
      "cell_type": "code",
      "metadata": {
        "id": "oRzjPCdQsX6Y"
      },
      "source": [
        "np441=0\n",
        "### START CODE HERE ### (≈ 1 line of code)\n",
        "\n",
        "### END CODE HERE ###"
      ],
      "execution_count": 79,
      "outputs": []
    },
    {
      "cell_type": "code",
      "metadata": {
        "id": "BGcp6OsZtGe1",
        "colab": {
          "base_uri": "https://localhost:8080/"
        },
        "outputId": "fe6422af-7e21-483b-e488-077176a70436"
      },
      "source": [
        "try:\n",
        "    print(\"np441=\")\n",
        "    print(np441)\n",
        "    print(\"Shape=\"+ str(np441.shape))\n",
        "except Exception as e:\n",
        "    print(\"Something is not working right\")\n",
        "    print(e)"
      ],
      "execution_count": 80,
      "outputs": [
        {
          "output_type": "stream",
          "name": "stdout",
          "text": [
            "np441=\n",
            "0\n",
            "Something is not working right\n",
            "'int' object has no attribute 'shape'\n"
          ]
        }
      ]
    },
    {
      "cell_type": "markdown",
      "metadata": {
        "id": "UEoAhOimtEmy"
      },
      "source": [
        "Expected output: \n",
        "```\n",
        "np441=\n",
        "[[1. 1. 1. 1.]\n",
        " [1. 1. 1. 1.]\n",
        " [1. 1. 1. 1.]\n",
        " [1. 1. 1. 1.]]\n",
        "Shape=(4, 4)\n",
        "```"
      ]
    },
    {
      "cell_type": "markdown",
      "metadata": {
        "id": "di0OJPNCtmTG"
      },
      "source": [
        "\n",
        "Another function we will use is`arange`, which is the exact same thing as regular python `range` except giving back a numpy array.\n",
        "\n",
        "This functions requires only a single argument which is the end point. The start point is assumed to be 0 and step is assumed to be 1. In this variety when in takes three parameters, the first one is the start, second one is the end and the third one is the step.\n"
      ]
    },
    {
      "cell_type": "markdown",
      "metadata": {
        "id": "8dRh4hd3fNU9"
      },
      "source": [
        "####**Exercise:**"
      ]
    },
    {
      "cell_type": "markdown",
      "metadata": {
        "id": "J6xzS4xGt6a-"
      },
      "source": [
        " Now make an array of four evenly spaced odd numbers starting from 1, and store it in `npodds`"
      ]
    },
    {
      "cell_type": "code",
      "metadata": {
        "id": "fW-zUQGrt0x_"
      },
      "source": [
        "npodds=0\n",
        "### START CODE HERE ### (≈ 1 line of code)\n",
        "\n",
        "### END CODE HERE ###\n"
      ],
      "execution_count": 81,
      "outputs": []
    },
    {
      "cell_type": "code",
      "metadata": {
        "id": "8orUHr2bu0XX",
        "colab": {
          "base_uri": "https://localhost:8080/"
        },
        "outputId": "264c990f-8a04-4edd-f5b6-39d81b907508"
      },
      "source": [
        "try:\n",
        "    print(\"npodds=\")\n",
        "    print(npodds)\n",
        "    print(\"Shape=\"+ str(npodds.shape))\n",
        "except Exception as e:\n",
        "    print(\"Something is not working right\")\n",
        "    print(e)"
      ],
      "execution_count": 82,
      "outputs": [
        {
          "output_type": "stream",
          "name": "stdout",
          "text": [
            "npodds=\n",
            "0\n",
            "Something is not working right\n",
            "'int' object has no attribute 'shape'\n"
          ]
        }
      ]
    },
    {
      "cell_type": "markdown",
      "metadata": {
        "id": "65EYdFGou5gN"
      },
      "source": [
        "Expected output: \n",
        "```\n",
        "npodds=\n",
        "[1 3 5 7]\n",
        "Shape=(4,)\n",
        "```"
      ]
    },
    {
      "cell_type": "markdown",
      "metadata": {
        "id": "-rpN1ACHFKD6"
      },
      "source": [
        "\n",
        " NumPy's also has a random number generator `np.random.`, which we will *seed* with a set value in order to ensure that the same random arrays are generated each time this code is run. This is critical for reproducibility when training and testing ML models."
      ]
    },
    {
      "cell_type": "markdown",
      "metadata": {
        "id": "KVS2I0ApNZM7"
      },
      "source": [
        "Before we create the arrays with random values, lets look at the `np.random` module. \n",
        "\n",
        "Display NumPy's built-in documentation for the `np.random`, `np.random.normal` and `np.random.randint`\n",
        "\n"
      ]
    },
    {
      "cell_type": "code",
      "metadata": {
        "id": "tjhHPFpxPESz"
      },
      "source": [
        ""
      ],
      "execution_count": 82,
      "outputs": []
    },
    {
      "cell_type": "markdown",
      "metadata": {
        "id": "aK4ZJc8yPIem"
      },
      "source": [
        "Now we can create a one-dimensional and two-dimensional arrays with:"
      ]
    },
    {
      "cell_type": "code",
      "metadata": {
        "id": "Zv9v-YSJFiSw"
      },
      "source": [
        "np.random.seed(0)  # seed for reproducibility\n",
        "x1 = np.random.randint(10, size=6)  # One-dimensional array\n",
        "x2 = np.random.randint(10, size=(3,5))  # Two-dimensional array"
      ],
      "execution_count": 83,
      "outputs": []
    },
    {
      "cell_type": "code",
      "metadata": {
        "id": "Qk6_xBePPhlF",
        "colab": {
          "base_uri": "https://localhost:8080/"
        },
        "outputId": "eae54b4b-e4e7-405e-eda0-182140eb2b08"
      },
      "source": [
        "print(x1)"
      ],
      "execution_count": 84,
      "outputs": [
        {
          "output_type": "stream",
          "name": "stdout",
          "text": [
            "[5 0 3 3 7 9]\n"
          ]
        }
      ]
    },
    {
      "cell_type": "code",
      "metadata": {
        "id": "kKqB5Q6JFpW1",
        "colab": {
          "base_uri": "https://localhost:8080/"
        },
        "outputId": "952d27e2-993a-4fc4-ffe9-5ee9492a5501"
      },
      "source": [
        "print(x2)"
      ],
      "execution_count": 85,
      "outputs": [
        {
          "output_type": "stream",
          "name": "stdout",
          "text": [
            "[[3 5 2 4 7]\n",
            " [6 8 8 1 6]\n",
            " [7 7 8 1 5]]\n"
          ]
        }
      ]
    },
    {
      "cell_type": "markdown",
      "metadata": {
        "id": "ktLxzkeRq0BV"
      },
      "source": [
        "### 2.2- NumPy Array Attributes"
      ]
    },
    {
      "cell_type": "markdown",
      "metadata": {
        "id": "PtH46ZI4cnNg"
      },
      "source": [
        "Let's discuss some useful array attributes. Each array has the attributes:``ndim`` (the number of dimensions), ``shape`` (the size of each dimension), and ``size`` (the total size of the array)."
      ]
    },
    {
      "cell_type": "code",
      "metadata": {
        "id": "E7Ev3s3ZcnNj",
        "colab": {
          "base_uri": "https://localhost:8080/"
        },
        "outputId": "fe9de554-6775-49ea-c4c2-55aa010f4f33"
      },
      "source": [
        "print(\"x2 ndim: \", x2.ndim)\n",
        "print(\"x2 shape:\", x2.shape)\n",
        "print(\"x2 size: \", x2.size)"
      ],
      "execution_count": 86,
      "outputs": [
        {
          "output_type": "stream",
          "name": "stdout",
          "text": [
            "x2 ndim:  2\n",
            "x2 shape: (3, 5)\n",
            "x2 size:  15\n"
          ]
        }
      ]
    },
    {
      "cell_type": "markdown",
      "metadata": {
        "id": "9DpQnyDYQJXP"
      },
      "source": [
        "- We have `x2 ndim: 2` since this is a two-dimensional array.\n",
        "\n",
        "- We have `x2 shape: (3,5)` since this is a two-dimensional array with 3 rows and 5 columns.\n",
        "\n",
        "- We have `x2 size: 15` since this is a two-dimensional array with 15 elements. "
      ]
    },
    {
      "cell_type": "markdown",
      "metadata": {
        "id": "1vegVkzXcnN0"
      },
      "source": [
        "Another useful attribute is the ``dtype``, the data type of the array:"
      ]
    },
    {
      "cell_type": "code",
      "metadata": {
        "id": "L0qWnxaRcnN3",
        "colab": {
          "base_uri": "https://localhost:8080/"
        },
        "outputId": "cf0994ae-2ae6-4811-e879-ded880e21907"
      },
      "source": [
        "print(\"dtype:\", x2.dtype)"
      ],
      "execution_count": 87,
      "outputs": [
        {
          "output_type": "stream",
          "name": "stdout",
          "text": [
            "dtype: int64\n"
          ]
        }
      ]
    },
    {
      "cell_type": "markdown",
      "metadata": {
        "id": "rx5wG0ETcnOG"
      },
      "source": [
        "Other attributes include ``itemsize``, which lists the size (in bytes) of each array element, and ``nbytes``, which lists the total size (in bytes) of the array:"
      ]
    },
    {
      "cell_type": "code",
      "metadata": {
        "id": "KoymnEyocnOJ",
        "colab": {
          "base_uri": "https://localhost:8080/"
        },
        "outputId": "dcd338b0-b4cb-4c94-ad38-df8b13ca8d84"
      },
      "source": [
        "print(\"itemsize:\", x2.itemsize, \"bytes\")\n",
        "print(\"nbytes:\", x2.nbytes, \"bytes\")"
      ],
      "execution_count": 88,
      "outputs": [
        {
          "output_type": "stream",
          "name": "stdout",
          "text": [
            "itemsize: 8 bytes\n",
            "nbytes: 120 bytes\n"
          ]
        }
      ]
    },
    {
      "cell_type": "markdown",
      "metadata": {
        "id": "uVROw-5vcnOV"
      },
      "source": [
        "In general, we expect that ``nbytes`` is equal to ``itemsize`` times ``size``."
      ]
    },
    {
      "cell_type": "markdown",
      "metadata": {
        "id": "M0s1Z7gffcfC"
      },
      "source": [
        "####**Exercise**:"
      ]
    },
    {
      "cell_type": "markdown",
      "metadata": {
        "id": "MnbgXPWNTpbg"
      },
      "source": [
        " Now store the (i) dimension, (ii) shape, (iii)size and (iv) the total size in bytes of the array x1 in: (remove the 0s for your code)\n",
        "\n"
      ]
    },
    {
      "cell_type": "code",
      "metadata": {
        "id": "_aTUul7KTz4K"
      },
      "source": [
        "### START CODE HERE ### (= 4 line of code)\n",
        "x1dim=   0                    #Store the dimension of array x1\n",
        "x1shape= 0                #Store the shape of array x1\n",
        "x1size=  0                 #Store the size of array x1\n",
        "x1sizeb= 0                 #Store the size in bytes of array x1\n",
        "### END CODE HERE ###"
      ],
      "execution_count": 89,
      "outputs": []
    },
    {
      "cell_type": "code",
      "metadata": {
        "id": "EJc_sFZYUdyU",
        "colab": {
          "base_uri": "https://localhost:8080/"
        },
        "outputId": "d8559a63-740f-4a50-9e71-af9d85b35307"
      },
      "source": [
        "try:\n",
        "    print(\"x1 dimensions: \", x1dim)\n",
        "    print(\"x1 shape:\", x1shape)\n",
        "    print(\"x1 size: \", x1size)\n",
        "    print(\"x1 size [bytes]:\", x1sizeb)\n",
        "except Exception as e:\n",
        "    print(\"Something is not working right\")\n",
        "    print(e)"
      ],
      "execution_count": 90,
      "outputs": [
        {
          "output_type": "stream",
          "name": "stdout",
          "text": [
            "x1 dimensions:  0\n",
            "x1 shape: 0\n",
            "x1 size:  0\n",
            "x1 size [bytes]: 0\n"
          ]
        }
      ]
    },
    {
      "cell_type": "markdown",
      "metadata": {
        "id": "wegXx-55UcGD"
      },
      "source": [
        "Expected output: \n",
        "```\n",
        "x1 dimmentions:  1\n",
        "x1 shape: (6,)\n",
        "x1 size:  6\n",
        "x1 size [bytes]: 48\n",
        "```"
      ]
    },
    {
      "cell_type": "markdown",
      "metadata": {
        "id": "AuLVWEJXWWqh"
      },
      "source": [
        "Some of the output is as we should have expected. The dimention of x1 is `1`, its size is `6`, and the size in bytes is `48` (6x8=48). However, what about the shape...`(6,)`?\n",
        "\n",
        "This can be interpreted as x1 being a vector. However, this is a vector for indexing purposes, it is not column nor a row vector. \n",
        "\n",
        "To make a colums or a row vector you will need to use reshape (covered bellow ) or:"
      ]
    },
    {
      "cell_type": "code",
      "metadata": {
        "id": "baCRFtnOaZM8",
        "colab": {
          "base_uri": "https://localhost:8080/"
        },
        "outputId": "1708223a-f329-4a19-bb3e-9b2d7c1df9e0"
      },
      "source": [
        "np.random.seed(0)  # seed for reproducibility\n",
        "row_vectx1 = np.random.randint(10, size=(1,6))  # Row vector (2-dimensional array)\n",
        "print(row_vectx1)\n",
        "print(\"x1 shape:\",row_vectx1.shape)"
      ],
      "execution_count": 91,
      "outputs": [
        {
          "output_type": "stream",
          "name": "stdout",
          "text": [
            "[[5 0 3 3 7 9]]\n",
            "x1 shape: (1, 6)\n"
          ]
        }
      ]
    },
    {
      "cell_type": "code",
      "metadata": {
        "id": "7SUKz7xbk18e",
        "colab": {
          "base_uri": "https://localhost:8080/"
        },
        "outputId": "63e8a560-95a5-4634-cec9-3ff6406f8f89"
      },
      "source": [
        "np.random.seed(0)  # seed for reproducibility\n",
        "col_vectx1 = np.random.randint(10, size=(6,1))  # Colums vector (2-dimensional array)\n",
        "print(col_vectx1)\n",
        "print(\"x1 shape:\", col_vectx1.shape)\n"
      ],
      "execution_count": 92,
      "outputs": [
        {
          "output_type": "stream",
          "name": "stdout",
          "text": [
            "[[5]\n",
            " [0]\n",
            " [3]\n",
            " [3]\n",
            " [7]\n",
            " [9]]\n",
            "x1 shape: (6, 1)\n"
          ]
        }
      ]
    },
    {
      "cell_type": "markdown",
      "metadata": {
        "id": "xPAz7hOEfiYz"
      },
      "source": [
        "####**Exercise**"
      ]
    },
    {
      "cell_type": "markdown",
      "metadata": {
        "id": "OR75OzbBlesP"
      },
      "source": [
        " Create a 3-dimensional array with shape= (3,4,2) and fill with numbers draw from a normal distribution with mean=5, and Standard Deviation=1\n",
        "\n"
      ]
    },
    {
      "cell_type": "code",
      "metadata": {
        "id": "LZykp7OClt1H"
      },
      "source": [
        "np.random.seed(0)  # seed for reproducibility\n",
        "x3D_normal=0\n",
        "### START CODE HERE ### (≈ 1 line of code)\n",
        "                    # Row vector (2-dimensional array)\n",
        "### END CODE HERE ###"
      ],
      "execution_count": 93,
      "outputs": []
    },
    {
      "cell_type": "code",
      "metadata": {
        "id": "H1u6gy9YmI_c",
        "colab": {
          "base_uri": "https://localhost:8080/"
        },
        "outputId": "ce3c0208-a67f-4299-ebe7-80d7fbda0fd6"
      },
      "source": [
        "try:\n",
        "    print(\"x3D_normal=\")\n",
        "    print(x3D_normal)\n",
        "    print(\"Shape=\"+ str(x3D_normal.shape))\n",
        "except Exception as e:\n",
        "    print(\"Something is not working right\")\n",
        "    print(e)"
      ],
      "execution_count": 94,
      "outputs": [
        {
          "output_type": "stream",
          "name": "stdout",
          "text": [
            "x3D_normal=\n",
            "0\n",
            "Something is not working right\n",
            "'int' object has no attribute 'shape'\n"
          ]
        }
      ]
    },
    {
      "cell_type": "markdown",
      "metadata": {
        "id": "cRutrxm2m8xc"
      },
      "source": [
        "Expected output: \n",
        "```\n",
        "x3D_normal=\n",
        "[[[6.76405235 5.40015721]\n",
        "  [5.97873798 7.2408932 ]\n",
        "  [6.86755799 4.02272212]\n",
        "  [5.95008842 4.84864279]]\n",
        "\n",
        " [[4.89678115 5.4105985 ]\n",
        "  [5.14404357 6.45427351]\n",
        "  [5.76103773 5.12167502]\n",
        "  [5.44386323 5.33367433]]\n",
        "\n",
        " [[6.49407907 4.79484174]\n",
        "  [5.3130677  4.14590426]\n",
        "  [2.44701018 5.6536186 ]\n",
        "  [5.8644362  4.25783498]]]\n",
        "Shape=(3, 4, 2)\n",
        "```"
      ]
    },
    {
      "cell_type": "markdown",
      "metadata": {
        "id": "k5Zh-ZZKcnOY"
      },
      "source": [
        "##3- Indexing Array"
      ]
    },
    {
      "cell_type": "markdown",
      "metadata": {
        "id": "u-1d5Fo2qnqV"
      },
      "source": [
        "If you are familiar with Python's standard list indexing, indexing in NumPy will feel quite familiar.\n",
        "In Python, as is in many other programming languages all arrays start from 0 so the first element is at position 0.\n",
        "\n",
        "In a one-dimensional array, the $i^{th}$ value (counting from zero) can be accessed by specifying the desired index in square brackets, just as with Python lists, like:\n"
      ]
    },
    {
      "cell_type": "code",
      "metadata": {
        "id": "ZkUmINC-qnql",
        "colab": {
          "base_uri": "https://localhost:8080/"
        },
        "outputId": "493de463-4331-4947-afe4-8d261e9a7542"
      },
      "source": [
        "x1[0]"
      ],
      "execution_count": 95,
      "outputs": [
        {
          "output_type": "execute_result",
          "data": {
            "text/plain": [
              "5"
            ]
          },
          "metadata": {},
          "execution_count": 95
        }
      ]
    },
    {
      "cell_type": "code",
      "metadata": {
        "id": "qukDSFqkqnqu",
        "colab": {
          "base_uri": "https://localhost:8080/"
        },
        "outputId": "612a48c7-8810-4af3-b2bb-eade0d76ab19"
      },
      "source": [
        "x1[4]"
      ],
      "execution_count": 96,
      "outputs": [
        {
          "output_type": "execute_result",
          "data": {
            "text/plain": [
              "7"
            ]
          },
          "metadata": {},
          "execution_count": 96
        }
      ]
    },
    {
      "cell_type": "markdown",
      "metadata": {
        "id": "c6nZxAx8qnq2"
      },
      "source": [
        "To index from the end of the array, you can use negative indices.To access the last element we can use -1 as the index. `x[-1]` is identical to `x[x.shape[0] - 1]` where `shape[0]` is the length or rows of the array."
      ]
    },
    {
      "cell_type": "code",
      "metadata": {
        "id": "OYFWxz7fqnq6",
        "colab": {
          "base_uri": "https://localhost:8080/"
        },
        "outputId": "596bd611-5657-4a5f-e596-da2a15e8ad3a"
      },
      "source": [
        "x1[-1]"
      ],
      "execution_count": 97,
      "outputs": [
        {
          "output_type": "execute_result",
          "data": {
            "text/plain": [
              "9"
            ]
          },
          "metadata": {},
          "execution_count": 97
        }
      ]
    },
    {
      "cell_type": "markdown",
      "metadata": {
        "id": "8FqHVFFcqnrS"
      },
      "source": [
        "In a multi-dimensional array, items can be accessed using a comma-separated tuple of indices:"
      ]
    },
    {
      "cell_type": "code",
      "metadata": {
        "id": "5LghH36Jqnrk",
        "colab": {
          "base_uri": "https://localhost:8080/"
        },
        "outputId": "b949d682-062f-4649-ca98-afe746ac84a8"
      },
      "source": [
        "x2[0, 0]"
      ],
      "execution_count": 98,
      "outputs": [
        {
          "output_type": "execute_result",
          "data": {
            "text/plain": [
              "3"
            ]
          },
          "metadata": {},
          "execution_count": 98
        }
      ]
    },
    {
      "cell_type": "code",
      "metadata": {
        "id": "NvgJgzSfqnr4",
        "colab": {
          "base_uri": "https://localhost:8080/"
        },
        "outputId": "9b085704-1eb1-4118-af51-821df2738879"
      },
      "source": [
        "x2[2, -1]"
      ],
      "execution_count": 99,
      "outputs": [
        {
          "output_type": "execute_result",
          "data": {
            "text/plain": [
              "5"
            ]
          },
          "metadata": {},
          "execution_count": 99
        }
      ]
    },
    {
      "cell_type": "markdown",
      "metadata": {
        "id": "dLxpgVLHqnsA"
      },
      "source": [
        "Values can also be modified using any of the above index notation:"
      ]
    },
    {
      "cell_type": "code",
      "metadata": {
        "id": "i5sMji4_qnsD",
        "colab": {
          "base_uri": "https://localhost:8080/"
        },
        "outputId": "a07b907f-822c-440a-8fb2-f62a4a30d21b"
      },
      "source": [
        "x2[0, 0] = 12\n",
        "x2"
      ],
      "execution_count": 100,
      "outputs": [
        {
          "output_type": "execute_result",
          "data": {
            "text/plain": [
              "array([[12,  5,  2,  4,  7],\n",
              "       [ 6,  8,  8,  1,  6],\n",
              "       [ 7,  7,  8,  1,  5]])"
            ]
          },
          "metadata": {},
          "execution_count": 100
        }
      ]
    },
    {
      "cell_type": "markdown",
      "metadata": {
        "id": "7TMm9kH9z5m2"
      },
      "source": [
        "Keep in mind that, unlike Python lists, NumPy arrays have a fixed type.\n",
        "This means, for example, that if you attempt to insert a floating-point value to an integer array, the value will be silently truncated. Don't be caught unaware by this behavior!"
      ]
    },
    {
      "cell_type": "code",
      "metadata": {
        "id": "J_YPDdpSz8ip",
        "colab": {
          "base_uri": "https://localhost:8080/"
        },
        "outputId": "5c620e4a-d3ca-4a5e-c88c-452a4a4435a1"
      },
      "source": [
        "x1.dtype"
      ],
      "execution_count": 101,
      "outputs": [
        {
          "output_type": "execute_result",
          "data": {
            "text/plain": [
              "dtype('int64')"
            ]
          },
          "metadata": {},
          "execution_count": 101
        }
      ]
    },
    {
      "cell_type": "code",
      "metadata": {
        "id": "7aavOk4BqnsR",
        "colab": {
          "base_uri": "https://localhost:8080/"
        },
        "outputId": "a9f07e21-7a0a-437b-a8f6-67b994e01259"
      },
      "source": [
        "x1[0] = 3.14159  # this will be truncated!\n",
        "x1"
      ],
      "execution_count": 102,
      "outputs": [
        {
          "output_type": "execute_result",
          "data": {
            "text/plain": [
              "array([3, 0, 3, 3, 7, 9])"
            ]
          },
          "metadata": {},
          "execution_count": 102
        }
      ]
    },
    {
      "cell_type": "markdown",
      "metadata": {
        "id": "woNu9fJKqnsa"
      },
      "source": [
        "## 4- Array Slicing: Accessing Subarrays"
      ]
    },
    {
      "cell_type": "markdown",
      "metadata": {
        "id": "idHbfy0Vqnsc"
      },
      "source": [
        "Just as we can use square brackets to access individual array elements, we can also use them to access subarrays with the *slice* notation, marked by the colon (``:``) character.\n",
        "The NumPy slicing syntax follows that of the standard Python list; to access a slice of an array ``x``, use this:\n",
        "``` python\n",
        "x[start:stop:step]\n",
        "```\n",
        "If any of these are unspecified, they default to the values ``start=0``, ``stop=``*``size of dimension``*, ``step=1``.\n",
        "We'll take a look at accessing sub-arrays in one dimension and in multiple dimensions."
      ]
    },
    {
      "cell_type": "markdown",
      "metadata": {
        "id": "WB0ONlsfqnsh"
      },
      "source": [
        "### 4.1- One-dimensional subarrays"
      ]
    },
    {
      "cell_type": "code",
      "metadata": {
        "id": "ofdU8Weu2tpl",
        "colab": {
          "base_uri": "https://localhost:8080/"
        },
        "outputId": "f7964dae-aa60-4168-aef4-f6c00cbc1a21"
      },
      "source": [
        "x1"
      ],
      "execution_count": 103,
      "outputs": [
        {
          "output_type": "execute_result",
          "data": {
            "text/plain": [
              "array([3, 0, 3, 3, 7, 9])"
            ]
          },
          "metadata": {},
          "execution_count": 103
        }
      ]
    },
    {
      "cell_type": "code",
      "metadata": {
        "id": "Ldy2l3Mzl4X0",
        "colab": {
          "base_uri": "https://localhost:8080/"
        },
        "outputId": "45f48f12-55c0-4f6f-b1fe-dcc1ac44f6ca"
      },
      "source": [
        "x1[:]  # all elements"
      ],
      "execution_count": 104,
      "outputs": [
        {
          "output_type": "execute_result",
          "data": {
            "text/plain": [
              "array([3, 0, 3, 3, 7, 9])"
            ]
          },
          "metadata": {},
          "execution_count": 104
        }
      ]
    },
    {
      "cell_type": "code",
      "metadata": {
        "id": "3QazqHshqnst",
        "colab": {
          "base_uri": "https://localhost:8080/"
        },
        "outputId": "a0dff53e-a4f7-426e-d181-45022ab8a007"
      },
      "source": [
        "x1[:5]  # first five elements"
      ],
      "execution_count": 105,
      "outputs": [
        {
          "output_type": "execute_result",
          "data": {
            "text/plain": [
              "array([3, 0, 3, 3, 7])"
            ]
          },
          "metadata": {},
          "execution_count": 105
        }
      ]
    },
    {
      "cell_type": "code",
      "metadata": {
        "id": "G4RXimp6qns6",
        "colab": {
          "base_uri": "https://localhost:8080/"
        },
        "outputId": "add404cb-f3d7-4e35-899a-7d64c40de5a8"
      },
      "source": [
        "x1[5:]  # elements after index 5"
      ],
      "execution_count": 106,
      "outputs": [
        {
          "output_type": "execute_result",
          "data": {
            "text/plain": [
              "array([9])"
            ]
          },
          "metadata": {},
          "execution_count": 106
        }
      ]
    },
    {
      "cell_type": "code",
      "metadata": {
        "id": "KRijKEQpqntB",
        "colab": {
          "base_uri": "https://localhost:8080/"
        },
        "outputId": "727a45ad-835f-4823-8418-716d68c6bbdc"
      },
      "source": [
        "x1[4:7]  # middle sub-array"
      ],
      "execution_count": 107,
      "outputs": [
        {
          "output_type": "execute_result",
          "data": {
            "text/plain": [
              "array([7, 9])"
            ]
          },
          "metadata": {},
          "execution_count": 107
        }
      ]
    },
    {
      "cell_type": "code",
      "metadata": {
        "id": "4DwfUkBqqntI",
        "colab": {
          "base_uri": "https://localhost:8080/"
        },
        "outputId": "44316b2f-67f9-4905-b1b1-e1e4abf7cba9"
      },
      "source": [
        "x1[::2]  # every other element"
      ],
      "execution_count": 108,
      "outputs": [
        {
          "output_type": "execute_result",
          "data": {
            "text/plain": [
              "array([3, 3, 7])"
            ]
          },
          "metadata": {},
          "execution_count": 108
        }
      ]
    },
    {
      "cell_type": "code",
      "metadata": {
        "id": "tyTA30e8qntP",
        "colab": {
          "base_uri": "https://localhost:8080/"
        },
        "outputId": "4b9f77c4-e105-4d54-badc-77525623b4b1"
      },
      "source": [
        "x1[1::2]  # every other element, starting at index 1"
      ],
      "execution_count": 109,
      "outputs": [
        {
          "output_type": "execute_result",
          "data": {
            "text/plain": [
              "array([0, 3, 9])"
            ]
          },
          "metadata": {},
          "execution_count": 109
        }
      ]
    },
    {
      "cell_type": "markdown",
      "metadata": {
        "id": "adPqBVl0qntY"
      },
      "source": [
        "A potentially confusing case is when the ``step`` value is negative.\n",
        "In this case, the defaults for ``start`` and ``stop`` are swapped.\n",
        "This becomes a convenient way to reverse an array:"
      ]
    },
    {
      "cell_type": "code",
      "metadata": {
        "id": "_9Xr-iYoqntb",
        "colab": {
          "base_uri": "https://localhost:8080/"
        },
        "outputId": "d795616a-2ca9-4248-a1d4-2168234e605f"
      },
      "source": [
        "x1[::-1]  # all elements, reversed"
      ],
      "execution_count": 110,
      "outputs": [
        {
          "output_type": "execute_result",
          "data": {
            "text/plain": [
              "array([9, 7, 3, 3, 0, 3])"
            ]
          },
          "metadata": {},
          "execution_count": 110
        }
      ]
    },
    {
      "cell_type": "code",
      "metadata": {
        "id": "WX9p7Hnvqntn",
        "colab": {
          "base_uri": "https://localhost:8080/"
        },
        "outputId": "1d41071e-7ed3-4176-fd81-f13b8cc201ed"
      },
      "source": [
        "x1[5::-2]  # reversed every other from index 5"
      ],
      "execution_count": 111,
      "outputs": [
        {
          "output_type": "execute_result",
          "data": {
            "text/plain": [
              "array([9, 3, 0])"
            ]
          },
          "metadata": {},
          "execution_count": 111
        }
      ]
    },
    {
      "cell_type": "markdown",
      "metadata": {
        "id": "ajOxy1ttqntt"
      },
      "source": [
        "### 4.2- Multi-dimensional subarrays\n",
        "\n",
        "Multi-dimensional slices work in the same way, with multiple slices separated by commas.\n",
        "For example:"
      ]
    },
    {
      "cell_type": "code",
      "metadata": {
        "id": "t0DJMoRtqntw",
        "colab": {
          "base_uri": "https://localhost:8080/"
        },
        "outputId": "a2ac8045-c6db-4cf4-fd71-c4b7d0a4d505"
      },
      "source": [
        "x2"
      ],
      "execution_count": 112,
      "outputs": [
        {
          "output_type": "execute_result",
          "data": {
            "text/plain": [
              "array([[12,  5,  2,  4,  7],\n",
              "       [ 6,  8,  8,  1,  6],\n",
              "       [ 7,  7,  8,  1,  5]])"
            ]
          },
          "metadata": {},
          "execution_count": 112
        }
      ]
    },
    {
      "cell_type": "code",
      "metadata": {
        "id": "lAO_WcBUqnt5",
        "colab": {
          "base_uri": "https://localhost:8080/"
        },
        "outputId": "805a950e-a115-4d51-e5aa-4f1504cd98eb"
      },
      "source": [
        "x2[:2, :3]  # two rows, three columns"
      ],
      "execution_count": 113,
      "outputs": [
        {
          "output_type": "execute_result",
          "data": {
            "text/plain": [
              "array([[12,  5,  2],\n",
              "       [ 6,  8,  8]])"
            ]
          },
          "metadata": {},
          "execution_count": 113
        }
      ]
    },
    {
      "cell_type": "code",
      "metadata": {
        "id": "AuLi5a4Xqnt-",
        "colab": {
          "base_uri": "https://localhost:8080/"
        },
        "outputId": "a362b656-0b06-48b9-a362-055a890e2809"
      },
      "source": [
        "x2[:3, ::2]  # all rows, every other column"
      ],
      "execution_count": 114,
      "outputs": [
        {
          "output_type": "execute_result",
          "data": {
            "text/plain": [
              "array([[12,  2,  7],\n",
              "       [ 6,  8,  6],\n",
              "       [ 7,  8,  5]])"
            ]
          },
          "metadata": {},
          "execution_count": 114
        }
      ]
    },
    {
      "cell_type": "markdown",
      "metadata": {
        "id": "7huF7Rk7qnuG"
      },
      "source": [
        "Finally, subarray dimensions can even be reversed together:"
      ]
    },
    {
      "cell_type": "code",
      "metadata": {
        "id": "DAziT2ShqnuJ",
        "colab": {
          "base_uri": "https://localhost:8080/"
        },
        "outputId": "bd66439a-f5dd-453d-ba94-71c3aedd6bd4"
      },
      "source": [
        "x2[::-1, ::-1]"
      ],
      "execution_count": 115,
      "outputs": [
        {
          "output_type": "execute_result",
          "data": {
            "text/plain": [
              "array([[ 5,  1,  8,  7,  7],\n",
              "       [ 6,  1,  8,  8,  6],\n",
              "       [ 7,  4,  2,  5, 12]])"
            ]
          },
          "metadata": {},
          "execution_count": 115
        }
      ]
    },
    {
      "cell_type": "markdown",
      "metadata": {
        "id": "qS65E0_cqnuQ"
      },
      "source": [
        "####4.2.1- Accessing array rows and columns\n",
        "\n",
        "One commonly needed routine is accessing of single rows or columns of an array.\n",
        "This can be done by combining indexing and slicing, using an empty slice marked by a single colon (``:``):"
      ]
    },
    {
      "cell_type": "code",
      "metadata": {
        "id": "Vs_Nu-D9qnuT",
        "colab": {
          "base_uri": "https://localhost:8080/"
        },
        "outputId": "3fcf2ad4-8130-4e73-a36d-98af0d478af5"
      },
      "source": [
        "print(x2[:, 0])  # first column of x2"
      ],
      "execution_count": 116,
      "outputs": [
        {
          "output_type": "stream",
          "name": "stdout",
          "text": [
            "[12  6  7]\n"
          ]
        }
      ]
    },
    {
      "cell_type": "code",
      "metadata": {
        "id": "Ps7BipQ-qnuY",
        "colab": {
          "base_uri": "https://localhost:8080/"
        },
        "outputId": "03dd04cf-e581-40ad-8de9-717df51b638b"
      },
      "source": [
        "print(x2[0, :])  # first row of x2"
      ],
      "execution_count": 117,
      "outputs": [
        {
          "output_type": "stream",
          "name": "stdout",
          "text": [
            "[12  5  2  4  7]\n"
          ]
        }
      ]
    },
    {
      "cell_type": "markdown",
      "metadata": {
        "id": "L9YYSCpYqnue"
      },
      "source": [
        "In the case of row access, the empty slice can be omitted for a more compact syntax:"
      ]
    },
    {
      "cell_type": "code",
      "metadata": {
        "id": "nDWkrJNEqnug",
        "colab": {
          "base_uri": "https://localhost:8080/"
        },
        "outputId": "e244fcd8-6a10-4a70-ef60-d90f4fc94ccc"
      },
      "source": [
        "print(x2[0])  # equivalent to x2[0, :]"
      ],
      "execution_count": 118,
      "outputs": [
        {
          "output_type": "stream",
          "name": "stdout",
          "text": [
            "[12  5  2  4  7]\n"
          ]
        }
      ]
    },
    {
      "cell_type": "markdown",
      "metadata": {
        "id": "bseOHTsHqnum"
      },
      "source": [
        "###4.3- Subarrays as no-copy views\n",
        "\n",
        "One important–and extremely useful–thing to know about array slices is that they return *views* rather than *copies* of the array data.\n",
        "This is one area in which NumPy array slicing differs from Python list slicing: in lists, slices will be copies.\n",
        "Consider our two-dimensional array from before:"
      ]
    },
    {
      "cell_type": "code",
      "metadata": {
        "id": "vZWgL8U1qnun",
        "colab": {
          "base_uri": "https://localhost:8080/"
        },
        "outputId": "df340673-b715-4b4b-cb62-a852aa129315"
      },
      "source": [
        "print(x2)"
      ],
      "execution_count": 119,
      "outputs": [
        {
          "output_type": "stream",
          "name": "stdout",
          "text": [
            "[[12  5  2  4  7]\n",
            " [ 6  8  8  1  6]\n",
            " [ 7  7  8  1  5]]\n"
          ]
        }
      ]
    },
    {
      "cell_type": "markdown",
      "metadata": {
        "id": "YWFAJUZFqnuq"
      },
      "source": [
        "Let's extract a $2 \\times 2$ subarray from this:"
      ]
    },
    {
      "cell_type": "code",
      "metadata": {
        "id": "0HQ_7s19qnur",
        "colab": {
          "base_uri": "https://localhost:8080/"
        },
        "outputId": "323e27cf-f70d-4412-de28-0739621d1ff0"
      },
      "source": [
        "x2_sub = x2[:2, :2]\n",
        "print(x2_sub)"
      ],
      "execution_count": 120,
      "outputs": [
        {
          "output_type": "stream",
          "name": "stdout",
          "text": [
            "[[12  5]\n",
            " [ 6  8]]\n"
          ]
        }
      ]
    },
    {
      "cell_type": "markdown",
      "metadata": {
        "id": "PHaKTAo2qnuv"
      },
      "source": [
        "Now if we modify this subarray, we'll see that the original array is changed! Observe:"
      ]
    },
    {
      "cell_type": "code",
      "metadata": {
        "id": "kdLblglzqnux",
        "colab": {
          "base_uri": "https://localhost:8080/"
        },
        "outputId": "5397bd45-828c-4724-f65a-11563e14ffa4"
      },
      "source": [
        "x2_sub[0, 0] = 99\n",
        "print(x2_sub)"
      ],
      "execution_count": 121,
      "outputs": [
        {
          "output_type": "stream",
          "name": "stdout",
          "text": [
            "[[99  5]\n",
            " [ 6  8]]\n"
          ]
        }
      ]
    },
    {
      "cell_type": "code",
      "metadata": {
        "id": "SCebxLsEqnu5",
        "colab": {
          "base_uri": "https://localhost:8080/"
        },
        "outputId": "7a7cb431-ba9e-46cc-f92d-cb60bf663a09"
      },
      "source": [
        "print(x2)"
      ],
      "execution_count": 122,
      "outputs": [
        {
          "output_type": "stream",
          "name": "stdout",
          "text": [
            "[[99  5  2  4  7]\n",
            " [ 6  8  8  1  6]\n",
            " [ 7  7  8  1  5]]\n"
          ]
        }
      ]
    },
    {
      "cell_type": "markdown",
      "metadata": {
        "id": "yVYUtoW5qnu9"
      },
      "source": [
        "This default behavior is actually quite useful: it means that when we work with large datasets, we can access and process pieces of these datasets without the need to copy the underlying data buffer."
      ]
    },
    {
      "cell_type": "markdown",
      "metadata": {
        "id": "UdouZ_GCqnu_"
      },
      "source": [
        "###4.4-Creating copies of arrays\n",
        "\n",
        "Despite the nice features of array views, it is sometimes useful to instead explicitly copy the data within an array or a subarray. This can be most easily done with the ``copy()`` method:"
      ]
    },
    {
      "cell_type": "code",
      "metadata": {
        "id": "cCEruPuvqnvD",
        "colab": {
          "base_uri": "https://localhost:8080/"
        },
        "outputId": "b740bc82-ed25-4232-a3a5-969f4daf39ed"
      },
      "source": [
        "x2_sub_copy = x2[:2, :2].copy()\n",
        "print(x2_sub_copy)"
      ],
      "execution_count": 123,
      "outputs": [
        {
          "output_type": "stream",
          "name": "stdout",
          "text": [
            "[[99  5]\n",
            " [ 6  8]]\n"
          ]
        }
      ]
    },
    {
      "cell_type": "markdown",
      "metadata": {
        "id": "AZxHbdX-qnvM"
      },
      "source": [
        "If we now modify this subarray, the original array is not touched:"
      ]
    },
    {
      "cell_type": "code",
      "metadata": {
        "id": "0rNLElZaqnvO",
        "colab": {
          "base_uri": "https://localhost:8080/"
        },
        "outputId": "d33cf60d-0d44-4a0e-848b-a45bfb40edce"
      },
      "source": [
        "x2_sub_copy[0, 0] = 42\n",
        "print(x2_sub_copy)"
      ],
      "execution_count": 124,
      "outputs": [
        {
          "output_type": "stream",
          "name": "stdout",
          "text": [
            "[[42  5]\n",
            " [ 6  8]]\n"
          ]
        }
      ]
    },
    {
      "cell_type": "code",
      "metadata": {
        "id": "L8ok-UiZqnvU",
        "colab": {
          "base_uri": "https://localhost:8080/"
        },
        "outputId": "57044ee5-2e44-4a72-b2a9-b1d525c8bf0b"
      },
      "source": [
        "print(x2)"
      ],
      "execution_count": 125,
      "outputs": [
        {
          "output_type": "stream",
          "name": "stdout",
          "text": [
            "[[99  5  2  4  7]\n",
            " [ 6  8  8  1  6]\n",
            " [ 7  7  8  1  5]]\n"
          ]
        }
      ]
    },
    {
      "cell_type": "markdown",
      "metadata": {
        "id": "vyZ1iwiLqnvY"
      },
      "source": [
        "##5- Reshaping of Arrays\n",
        "\n",
        "Another useful type of operation is reshaping of arrays.\n",
        "The most flexible way of doing this is with the ``reshape`` method.\n",
        "For example, if you want to put the numbers 1 through 9 in a $3 \\times 3$ grid, you can do the following:"
      ]
    },
    {
      "cell_type": "code",
      "metadata": {
        "id": "w4M_ezm7qnva",
        "colab": {
          "base_uri": "https://localhost:8080/"
        },
        "outputId": "6fc4a0c1-89a0-434f-fb03-79da0c3c064f"
      },
      "source": [
        "grid = np.arange(1, 10).reshape((3, 3))\n",
        "print(grid)"
      ],
      "execution_count": 126,
      "outputs": [
        {
          "output_type": "stream",
          "name": "stdout",
          "text": [
            "[[1 2 3]\n",
            " [4 5 6]\n",
            " [7 8 9]]\n"
          ]
        }
      ]
    },
    {
      "cell_type": "markdown",
      "metadata": {
        "id": "fpEHtOp-qnve"
      },
      "source": [
        "Note that for this to work, the size (number of elements) of the initial array must match the size of the reshaped array. \n",
        "Where possible, the ``reshape`` method will use a no-copy view of the initial array, but with non-contiguous memory buffers this is not always the case.\n",
        "\n",
        "Another common reshaping pattern is the conversion of a one-dimensional array into a two-dimensional row or column matrix.\n",
        "This can be done with the ``reshape`` method, or more easily done by making use of the ``newaxis`` keyword within a slice operation:"
      ]
    },
    {
      "cell_type": "code",
      "metadata": {
        "id": "i9iQlDWJqnvg",
        "colab": {
          "base_uri": "https://localhost:8080/"
        },
        "outputId": "61ee0858-48c2-4d50-d292-97d87581c3a6"
      },
      "source": [
        "x = np.array([1, 2, 3])\n",
        "\n",
        "# row vector via reshape\n",
        "x.reshape((1, 3))"
      ],
      "execution_count": 127,
      "outputs": [
        {
          "output_type": "execute_result",
          "data": {
            "text/plain": [
              "array([[1, 2, 3]])"
            ]
          },
          "metadata": {},
          "execution_count": 127
        }
      ]
    },
    {
      "cell_type": "code",
      "metadata": {
        "id": "PXh3Shcpqnvj",
        "colab": {
          "base_uri": "https://localhost:8080/"
        },
        "outputId": "63a179b5-a3f6-4c2a-f172-2f2c80cd597d"
      },
      "source": [
        "# row vector via newaxis\n",
        "x[np.newaxis, :]"
      ],
      "execution_count": 128,
      "outputs": [
        {
          "output_type": "execute_result",
          "data": {
            "text/plain": [
              "array([[1, 2, 3]])"
            ]
          },
          "metadata": {},
          "execution_count": 128
        }
      ]
    },
    {
      "cell_type": "code",
      "metadata": {
        "id": "yxtUHj01qnvo",
        "colab": {
          "base_uri": "https://localhost:8080/"
        },
        "outputId": "2f1c5f10-5eb1-4ff3-b192-86348e46b2d3"
      },
      "source": [
        "# column vector via reshape\n",
        "x.reshape((3, 1))"
      ],
      "execution_count": 129,
      "outputs": [
        {
          "output_type": "execute_result",
          "data": {
            "text/plain": [
              "array([[1],\n",
              "       [2],\n",
              "       [3]])"
            ]
          },
          "metadata": {},
          "execution_count": 129
        }
      ]
    },
    {
      "cell_type": "code",
      "metadata": {
        "id": "4zmTfP_3qnvr",
        "colab": {
          "base_uri": "https://localhost:8080/"
        },
        "outputId": "8dc1c65a-2414-4da9-9cd3-26f366f08b90"
      },
      "source": [
        "# column vector via newaxis\n",
        "x[:, np.newaxis]"
      ],
      "execution_count": 130,
      "outputs": [
        {
          "output_type": "execute_result",
          "data": {
            "text/plain": [
              "array([[1],\n",
              "       [2],\n",
              "       [3]])"
            ]
          },
          "metadata": {},
          "execution_count": 130
        }
      ]
    },
    {
      "cell_type": "markdown",
      "metadata": {
        "id": "V79kWqEWqnwB"
      },
      "source": [
        "##6- Array Concatenation and Splitting\n",
        "\n",
        "All of the preceding routines worked on single arrays. It's also possible to combine multiple arrays into one, and to conversely split a single array into multiple arrays. We'll take a look at those operations here."
      ]
    },
    {
      "cell_type": "markdown",
      "metadata": {
        "id": "tK4DxFTLqnwB"
      },
      "source": [
        "###6.1- Concatenation of arrays\n",
        "\n",
        "Concatenation, or joining of two arrays in NumPy, is primarily accomplished using the routines ``np.concatenate``, ``np.vstack``, and ``np.hstack``.\n",
        "``np.concatenate`` takes a tuple or list of arrays as its first argument, as we can see here:"
      ]
    },
    {
      "cell_type": "code",
      "metadata": {
        "id": "R_1jy6TJqnwC",
        "colab": {
          "base_uri": "https://localhost:8080/"
        },
        "outputId": "8edf8e64-b7d9-4430-a208-3a45989a530f"
      },
      "source": [
        "x = np.array([1, 2, 3])\n",
        "y = np.array([3, 2, 1])\n",
        "np.concatenate([x, y])"
      ],
      "execution_count": 131,
      "outputs": [
        {
          "output_type": "execute_result",
          "data": {
            "text/plain": [
              "array([1, 2, 3, 3, 2, 1])"
            ]
          },
          "metadata": {},
          "execution_count": 131
        }
      ]
    },
    {
      "cell_type": "markdown",
      "metadata": {
        "id": "0A8EazQcqnwG"
      },
      "source": [
        "You can also concatenate more than two arrays at once:"
      ]
    },
    {
      "cell_type": "code",
      "metadata": {
        "id": "z5coYfrNqnwI",
        "colab": {
          "base_uri": "https://localhost:8080/"
        },
        "outputId": "bc0dcc3b-8687-4742-e77a-db44e4badce7"
      },
      "source": [
        "z = [99, 99, 99]\n",
        "print(np.concatenate([x, y, z]))"
      ],
      "execution_count": 132,
      "outputs": [
        {
          "output_type": "stream",
          "name": "stdout",
          "text": [
            "[ 1  2  3  3  2  1 99 99 99]\n"
          ]
        }
      ]
    },
    {
      "cell_type": "markdown",
      "metadata": {
        "id": "HCgqrhplqnwP"
      },
      "source": [
        "It can also be used for two-dimensional arrays:"
      ]
    },
    {
      "cell_type": "code",
      "metadata": {
        "id": "-BN9pD18qnwQ"
      },
      "source": [
        "grid = np.array([[1, 2, 3],\n",
        "                 [4, 5, 6]])"
      ],
      "execution_count": 133,
      "outputs": []
    },
    {
      "cell_type": "code",
      "metadata": {
        "id": "BVFWhVJSqnwa",
        "colab": {
          "base_uri": "https://localhost:8080/"
        },
        "outputId": "28374e6b-ccf8-49a1-9a82-41505b3484df"
      },
      "source": [
        "# concatenate along the first axis\n",
        "np.concatenate([grid, grid])"
      ],
      "execution_count": 134,
      "outputs": [
        {
          "output_type": "execute_result",
          "data": {
            "text/plain": [
              "array([[1, 2, 3],\n",
              "       [4, 5, 6],\n",
              "       [1, 2, 3],\n",
              "       [4, 5, 6]])"
            ]
          },
          "metadata": {},
          "execution_count": 134
        }
      ]
    },
    {
      "cell_type": "code",
      "metadata": {
        "id": "EaI-T-nyqnwg",
        "colab": {
          "base_uri": "https://localhost:8080/"
        },
        "outputId": "2e6f86a4-8ea7-453e-a65d-7636793d0b42"
      },
      "source": [
        "# concatenate along the second axis (zero-indexed)\n",
        "np.concatenate([grid, grid], axis=1)"
      ],
      "execution_count": 135,
      "outputs": [
        {
          "output_type": "execute_result",
          "data": {
            "text/plain": [
              "array([[1, 2, 3, 1, 2, 3],\n",
              "       [4, 5, 6, 4, 5, 6]])"
            ]
          },
          "metadata": {},
          "execution_count": 135
        }
      ]
    },
    {
      "cell_type": "markdown",
      "metadata": {
        "id": "x18KjSQHqnwk"
      },
      "source": [
        "For working with arrays of mixed dimensions, it can be clearer to use the ``np.vstack`` (vertical stack) and ``np.hstack`` (horizontal stack) functions:"
      ]
    },
    {
      "cell_type": "code",
      "metadata": {
        "id": "dMfNrm7jqnwm",
        "colab": {
          "base_uri": "https://localhost:8080/"
        },
        "outputId": "7a46f67f-8d63-421c-de39-2fb288ceadd3"
      },
      "source": [
        "x = np.array([1, 2, 3])\n",
        "grid = np.array([[9, 8, 7],\n",
        "                 [6, 5, 4]])\n",
        "\n",
        "# vertically stack the arrays\n",
        "np.vstack([x, grid])"
      ],
      "execution_count": 136,
      "outputs": [
        {
          "output_type": "execute_result",
          "data": {
            "text/plain": [
              "array([[1, 2, 3],\n",
              "       [9, 8, 7],\n",
              "       [6, 5, 4]])"
            ]
          },
          "metadata": {},
          "execution_count": 136
        }
      ]
    },
    {
      "cell_type": "code",
      "metadata": {
        "id": "0dkzAUJvqnwq",
        "colab": {
          "base_uri": "https://localhost:8080/"
        },
        "outputId": "6c99cb22-7a97-4f3c-9858-c1a92d5a794a"
      },
      "source": [
        "# horizontally stack the arrays\n",
        "y = np.array([[99],\n",
        "              [99]])\n",
        "np.hstack([grid, y])"
      ],
      "execution_count": 137,
      "outputs": [
        {
          "output_type": "execute_result",
          "data": {
            "text/plain": [
              "array([[ 9,  8,  7, 99],\n",
              "       [ 6,  5,  4, 99]])"
            ]
          },
          "metadata": {},
          "execution_count": 137
        }
      ]
    },
    {
      "cell_type": "markdown",
      "metadata": {
        "id": "AAFVpBStqnwu"
      },
      "source": [
        "Similary, ``np.dstack`` will stack arrays along the third axis."
      ]
    },
    {
      "cell_type": "markdown",
      "metadata": {
        "id": "kNZTkWDhqnwv"
      },
      "source": [
        "###6.2- Splitting of arrays\n",
        "\n",
        "The opposite of concatenation is splitting, which is implemented by the functions ``np.split``, ``np.hsplit``, and ``np.vsplit``.  For each of these, we can pass a list of indices giving the split points:"
      ]
    },
    {
      "cell_type": "code",
      "metadata": {
        "id": "P8P9wettqnww",
        "colab": {
          "base_uri": "https://localhost:8080/"
        },
        "outputId": "a56331bb-edff-48a0-babb-5c41b626ba79"
      },
      "source": [
        "x = [1, 2, 3, 99, 99, 3, 2, 1]\n",
        "x1, x2, x3 = np.split(x, [3, 5])\n",
        "print(x1, x2, x3)"
      ],
      "execution_count": 138,
      "outputs": [
        {
          "output_type": "stream",
          "name": "stdout",
          "text": [
            "[1 2 3] [99 99] [3 2 1]\n"
          ]
        }
      ]
    },
    {
      "cell_type": "markdown",
      "metadata": {
        "id": "HuAVWZ7wqnwz"
      },
      "source": [
        "Notice that *N* split-points, leads to *N + 1* subarrays.\n",
        "The related functions ``np.hsplit`` and ``np.vsplit`` are similar:"
      ]
    },
    {
      "cell_type": "code",
      "metadata": {
        "id": "Kn9iBm2Xqnwz",
        "colab": {
          "base_uri": "https://localhost:8080/"
        },
        "outputId": "fe4aa1c3-57ad-40ea-c2ca-4e1d0e71c1fa"
      },
      "source": [
        "grid = np.arange(16).reshape((4, 4))\n",
        "grid"
      ],
      "execution_count": 139,
      "outputs": [
        {
          "output_type": "execute_result",
          "data": {
            "text/plain": [
              "array([[ 0,  1,  2,  3],\n",
              "       [ 4,  5,  6,  7],\n",
              "       [ 8,  9, 10, 11],\n",
              "       [12, 13, 14, 15]])"
            ]
          },
          "metadata": {},
          "execution_count": 139
        }
      ]
    },
    {
      "cell_type": "code",
      "metadata": {
        "id": "kqElKvR6qnw2",
        "colab": {
          "base_uri": "https://localhost:8080/"
        },
        "outputId": "5acbf953-4379-4c14-8731-4afcfd6c9969"
      },
      "source": [
        "upper, lower = np.vsplit(grid, [2])\n",
        "print(upper)\n",
        "print(lower)"
      ],
      "execution_count": 140,
      "outputs": [
        {
          "output_type": "stream",
          "name": "stdout",
          "text": [
            "[[0 1 2 3]\n",
            " [4 5 6 7]]\n",
            "[[ 8  9 10 11]\n",
            " [12 13 14 15]]\n"
          ]
        }
      ]
    },
    {
      "cell_type": "code",
      "metadata": {
        "id": "D4B9SZMEqnw4",
        "colab": {
          "base_uri": "https://localhost:8080/"
        },
        "outputId": "5c07b9d7-c9bf-4841-91a4-52facb3b10a2"
      },
      "source": [
        "left, right = np.hsplit(grid, [2])\n",
        "print(left)\n",
        "print(right)"
      ],
      "execution_count": 141,
      "outputs": [
        {
          "output_type": "stream",
          "name": "stdout",
          "text": [
            "[[ 0  1]\n",
            " [ 4  5]\n",
            " [ 8  9]\n",
            " [12 13]]\n",
            "[[ 2  3]\n",
            " [ 6  7]\n",
            " [10 11]\n",
            " [14 15]]\n"
          ]
        }
      ]
    },
    {
      "cell_type": "markdown",
      "metadata": {
        "id": "LEcOpy3Tqnw9"
      },
      "source": [
        "Similarly, ``np.dsplit`` will split arrays along the third axis."
      ]
    },
    {
      "cell_type": "markdown",
      "metadata": {
        "id": "B6jqAXOIAsAz"
      },
      "source": [
        "#More about NumPy !!!"
      ]
    },
    {
      "cell_type": "markdown",
      "metadata": {
        "id": "FxWoJVneDHot"
      },
      "source": [
        "\n",
        "\n",
        "More detailed documentation, along with tutorials and other resources, can be found at http://www.numpy.org. \n",
        "\n",
        "In addition, I will encourage  you to go over the Notebooks from the [Python Data Science Handbook](http://shop.oreilly.com/product/0636920034919.do) that cover NumPy:\n",
        "\n",
        "\n",
        "- [Computation on NumPy Arrays: Universal Functions](https://colab.research.google.com/github/jakevdp/PythonDataScienceHandbook/blob/master/notebooks/02.03-Computation-on-arrays-ufuncs.ipynb#scrollTo=Vwsyz5AZ-UCs)\n",
        "\n",
        "- [Aggregations: Min, Max, and Everything In Between](https://colab.research.google.com/github/jakevdp/PythonDataScienceHandbook/blob/master/notebooks/02.04-Computation-on-arrays-aggregates.ipynb)\n",
        "\n",
        "- [Computation on Arrays: Broadcasting](https://colab.research.google.com/github/jakevdp/PythonDataScienceHandbook/blob/master/notebooks/02.05-Computation-on-arrays-broadcasting.ipynb#scrollTo=dnDVbi-C-riP)\n",
        "\n",
        "- [Comparisons, Masks, and Boolean Logic](https://colab.research.google.com/github/jakevdp/PythonDataScienceHandbook/blob/master/notebooks/02.06-Boolean-Arrays-and-Masks.ipynb#scrollTo=LuPLpJi1--Ka)\n",
        "\n",
        "- [Fancy Indexing](https://colab.research.google.com/github/jakevdp/PythonDataScienceHandbook/blob/master/notebooks/02.07-Fancy-Indexing.ipynb)\n",
        "\n",
        "- [Sorting Arrays](https://colab.research.google.com/github/jakevdp/PythonDataScienceHandbook/blob/master/notebooks/02.08-Sorting.ipynb)\n",
        "\n",
        "- [Structured Data: NumPy's Structured Arrays](https://colab.research.google.com/github/jakevdp/PythonDataScienceHandbook/blob/master/notebooks/02.09-Structured-Data-NumPy.ipynb)"
      ]
    },
    {
      "cell_type": "markdown",
      "metadata": {
        "id": "DRTovA0DYLe5"
      },
      "source": [
        "## **DO NOT DELETE NOR MODIFY THESE CODE CELLS**"
      ]
    },
    {
      "cell_type": "code",
      "metadata": {
        "id": "nwlQSjmtMlki",
        "colab": {
          "base_uri": "https://localhost:8080/"
        },
        "outputId": "97a6f074-cda6-4ebc-df3d-c0990637ec67"
      },
      "source": [
        "# ###DO NOT DELETE NOR MODIFY THIS CODE CELL####\n",
        "# ###DO NOT DELETE NOR MODIFY THIS CODE CELL####\n",
        "!wget https://raw.githubusercontent.com/lopezbec/intro_python_notebooks/main/Grading_Numpy.py\n",
        "\n",
        "import numpy as np\n",
        "\n",
        "from Grading_Numpy import GRADING_NumPy_intro\n",
        "\n",
        "try:\n",
        "    np441\n",
        "except NameError:\n",
        "    np441 = None\n",
        "try:\n",
        "    npodds\n",
        "except NameError:\n",
        "    npodds = None\n",
        "try:\n",
        "    x1dim\n",
        "except NameError:\n",
        "    x1dim = None\n",
        "try:\n",
        "    x1shape\n",
        "except NameError:\n",
        "    x1shape = None\n",
        "try:\n",
        "    x1size\n",
        "except NameError:\n",
        "    x1size = None\n",
        "try:\n",
        "    x1sizeb\n",
        "except NameError:\n",
        "    x1sizeb = None\n",
        "try:\n",
        "    x3D_normal\n",
        "except NameError:\n",
        "    x3D_normal = None\n",
        "\n",
        "\n",
        "\n",
        "GRADING_NumPy_intro(np441,npodds,x1dim,x1shape,x1size,x1sizeb,x3D_normal)"
      ],
      "execution_count": 142,
      "outputs": [
        {
          "output_type": "stream",
          "name": "stdout",
          "text": [
            "--2022-02-09 19:32:46--  https://raw.githubusercontent.com/lopezbec/intro_python_notebooks/main/Grading_Numpy.py\n",
            "Resolving raw.githubusercontent.com (raw.githubusercontent.com)... 185.199.109.133, 185.199.111.133, 185.199.110.133, ...\n",
            "Connecting to raw.githubusercontent.com (raw.githubusercontent.com)|185.199.109.133|:443... connected.\n",
            "HTTP request sent, awaiting response... 200 OK\n",
            "Length: 2391 (2.3K) [text/plain]\n",
            "Saving to: ‘Grading_Numpy.py.1’\n",
            "\n",
            "\rGrading_Numpy.py.1    0%[                    ]       0  --.-KB/s               \rGrading_Numpy.py.1  100%[===================>]   2.33K  --.-KB/s    in 0s      \n",
            "\n",
            "2022-02-09 19:32:46 (36.7 MB/s) - ‘Grading_Numpy.py.1’ saved [2391/2391]\n",
            "\n",
            "np441 : False\n",
            "npodds : False\n",
            "x1dim : False\n",
            "x1shape : False\n",
            "x1size : False\n",
            "x1sizeb : False\n",
            "x3D_normal : False\n"
          ]
        }
      ]
    }
  ]
}