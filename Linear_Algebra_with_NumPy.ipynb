{
  "nbformat": 4,
  "nbformat_minor": 0,
  "metadata": {
    "coursera": {
      "course_slug": "neural-networks-deep-learning",
      "graded_item_id": "XHpfv",
      "launcher_item_id": "Zh0CU"
    },
    "kernelspec": {
      "display_name": "Python 3",
      "language": "python",
      "name": "python3"
    },
    "language_info": {
      "codemirror_mode": {
        "name": "ipython",
        "version": 3
      },
      "file_extension": ".py",
      "mimetype": "text/x-python",
      "name": "python",
      "nbconvert_exporter": "python",
      "pygments_lexer": "ipython3",
      "version": "3.6.0"
    },
    "colab": {
      "name": "Linear_Algebra_with_NumPy.ipynb",
      "provenance": [],
      "collapsed_sections": [
        "zr5d-t8sX4bD"
      ]
    }
  },
  "cells": [
    {
      "cell_type": "markdown",
      "metadata": {
        "id": "YRkIEC7XmK4C"
      },
      "source": [
        "<center><b>©Content is made available under the CC-BY-NC-ND 4.0 license. Christian Lopez, lopezbec@lafayette.edu<center>"
      ]
    },
    {
      "cell_type": "markdown",
      "metadata": {
        "id": "p62dHC1smMFB"
      },
      "source": [
        "![alt text](https://miro.medium.com/max/1200/1*Xp5sVXs0C7na22Jb5lKw3Q.png)\n",
        "\n"
      ]
    },
    {
      "cell_type": "markdown",
      "source": [
        "<table align=\"left\">\n",
        "  <td>\n",
        "    <a href=\"https://colab.research.google.com/github/lopezbec/intro_python_notebooks/blob/master/Linear_Algebra_with_NumPy.ipynb\" target=\"_parent\"><img src=\"https://colab.research.google.com/assets/colab-badge.svg\" alt=\"Open In Colab\"/></a>\n",
        "  </td>\n",
        "  <td>"
      ],
      "metadata": {
        "id": "2GHTIXI8hOiW"
      }
    },
    {
      "cell_type": "markdown",
      "metadata": {
        "id": "FTHAMc6QmL5D"
      },
      "source": [
        "#Review of Linear Algebra with Python's NumPy library\n",
        " \n",
        "\n",
        "Most of the notebooks we are going to be using are inspired from existing notebooks that available online and are made  free for educational purposes. Nonetheless, the notebooks of this class should not be shared without prior permission of the instructor. When working in an assignment always remember the [Student Code of Conduct]( https://conduct.lafayette.edu/student-handbook/student-code-of-conduct/).  \n",
        "\n"
      ]
    },
    {
      "cell_type": "markdown",
      "metadata": {
        "id": "oW76M612gVSN"
      },
      "source": [
        "#Linear Algebra with Google Colab \n",
        "\n",
        "This assignment will give you a brief review of Linear Algebra using Python's  [NumPy](https://https://numpy.org/) library. Before going over this Notebook, you should make sure you understand and go over the \"Day4_Intro_to_NumPy\" Notebook. \n",
        "<br><br>\n",
        "\n",
        "**After this assignment you will:**\n",
        "- Be able to use NumPy functions and NumPy matrix/vector  to perform Linear Algebra operations.\n",
        "- Understand the concept of \"broadcasting\"\n",
        "- Be able to vectorize code\n",
        "\n"
      ]
    },
    {
      "cell_type": "markdown",
      "metadata": {
        "id": "Km7A49TCsUjU"
      },
      "source": [
        "\n",
        "###**Instructions:**\n",
        "- You will be using Python 3.\n",
        "\n",
        "- Only modify the code that is within the comments:\n",
        "\n",
        "`### START CODE HERE ###`\n",
        "\n",
        "`### END CODE HERE ###`\n",
        "\n",
        "- You need to run all the code cells on the notebok sequentially\n",
        "- If you are asked to change/update a cell, change/update and run it to check if your result is correct.\n"
      ]
    },
    {
      "cell_type": "markdown",
      "metadata": {
        "id": "bhRYq_eq5mni"
      },
      "source": [
        "## 1 - Matrices Review\n"
      ]
    },
    {
      "cell_type": "markdown",
      "metadata": {
        "id": "dxVaJUqUgVSn"
      },
      "source": [
        "\n",
        "Rectangular array of numbers are written between square brackets and are named with capital letters (e.g., A,C,X,Y). Two-dimensional arrays can be understood as matrices:\n",
        "\n",
        "$$X = \n",
        "\\begin{bmatrix}\n",
        "    1 & 4 & 5 \\\\\n",
        "    0 & 3 & 2 \\\\\n",
        "\\end{bmatrix}\\tag{2-D array}$$\n",
        "<br>\n",
        "\n",
        "Dimension of a matrix are given as [Rows x Columns], for example X is a [2 x3] matrix:\n",
        "\n",
        "$$\\text {X}^{2\\times 3}$$\n",
        "<br>\n",
        "\n",
        "**Matrices Indexing**\n",
        "\n",
        "$\\text{$X_{ij}$ maps to the element in the $i^{th}$ row and $j^{th}$ column of $X$, thus we have:}\\$\n",
        "\n",
        "$$\\text {X}_{1,1}=1$$\n",
        "$$\\text {X}_{1,2}=4$$\n",
        "$$\\text {X}_{2,3}=2$$\n",
        "\n"
      ]
    },
    {
      "cell_type": "markdown",
      "metadata": {
        "id": "oO0xnGmgH3o2"
      },
      "source": [
        "We can create a rectangular array (matrix) using NumPy. However, this NumPy arrays start at index 0. So $X_{1,1}$ is $X_{0,0}$ as shown next:"
      ]
    },
    {
      "cell_type": "code",
      "metadata": {
        "id": "OvQ2QDx7IBR3"
      },
      "source": [
        "import numpy as np"
      ],
      "execution_count": null,
      "outputs": []
    },
    {
      "cell_type": "code",
      "metadata": {
        "id": "J3uhE8byH2PX"
      },
      "source": [
        "X=np.array([[1,4,5],[0,3,2]])   # This creates the 2D array\n",
        "print(X)"
      ],
      "execution_count": null,
      "outputs": []
    },
    {
      "cell_type": "code",
      "metadata": {
        "id": "DXw0V0OCIHyw"
      },
      "source": [
        "print(\"X_11=\",X[0,0])\n",
        "print(\"X_12=\",X[0,1])\n",
        "print(\"X_23=\",X[1,2])"
      ],
      "execution_count": null,
      "outputs": []
    },
    {
      "cell_type": "markdown",
      "metadata": {
        "id": "rq_F5h3D5isK"
      },
      "source": [
        "## 2 - Vectors Review"
      ]
    },
    {
      "cell_type": "markdown",
      "metadata": {
        "id": "4lygDq5dEnzz"
      },
      "source": [
        "\n",
        "\n",
        "In Machine Learning, vectors are often represented as column vectors,\n",
        "which are two-dimensional arrays with a single column. However you could also have row vectos. \n",
        "\n",
        "Vectors are named with lower case letters (e.g., a,c,x,y).\n",
        "\n",
        "$$x = \n",
        "\\begin{bmatrix}\n",
        "    0 & 3 & 4 \\\\\n",
        "\\end{bmatrix}\\tag{Row Vector}$$\n",
        "<br>\n",
        "\n",
        "$$a = \n",
        "\\begin{bmatrix}\n",
        "    1 \\\\\n",
        "    2\\\\\n",
        "    4\\\\\n",
        "\\end{bmatrix}\\tag{Column Vector}$$\n",
        "<br>\n",
        "\n",
        "The vector $x$ is of size [1x3] (row vector), while vector $a$ is of size [3x1] (column vector); hence:\n",
        "$$\\text {$x$}^{1\\times 3}$$\n",
        "$$\\text {$a$}^{3\\times 1}$$\n",
        "\n",
        "**Vector Indexing**\n",
        "\n",
        "$\\text{$v_{i}$ maps to the $i^{th}$ element of the vector $v$, thus we have:}\\$\n",
        "\n",
        "$$\\text {$x$}_{1}=1$$\n",
        "$$\\text {$x$}_{3}=4$$\n",
        "\n"
      ]
    },
    {
      "cell_type": "markdown",
      "metadata": {
        "id": "2MXYnDrJyibV"
      },
      "source": [
        "We can create vectors using NumPy.  With NumPy we can create one-dimensional arrays, like:"
      ]
    },
    {
      "cell_type": "code",
      "metadata": {
        "id": "tFxkPBLB1pNm"
      },
      "source": [
        "x=np.ones(shape=3)\n",
        "print(x)"
      ],
      "execution_count": null,
      "outputs": []
    },
    {
      "cell_type": "code",
      "metadata": {
        "id": "d9XFyME42LG6"
      },
      "source": [
        "print(\"dimensions of x =\", x.shape)"
      ],
      "execution_count": null,
      "outputs": []
    },
    {
      "cell_type": "markdown",
      "metadata": {
        "id": "G6BRpMhn2IlM"
      },
      "source": [
        "While the code cell above creates a one-dimensional array, that looks like a vector with 3 elements, you should create a two-dimensional array for your column vectors. This will make it easier to perform array operations. You can specify  the shape when creating the array or use the reshape function as:"
      ]
    },
    {
      "cell_type": "code",
      "metadata": {
        "id": "AMc6fh3y2EOe"
      },
      "source": [
        "x=np.ones(shape=(3,1))\n",
        "print(x)"
      ],
      "execution_count": null,
      "outputs": []
    },
    {
      "cell_type": "code",
      "metadata": {
        "id": "8hzwqj0s3fmz"
      },
      "source": [
        "x=np.ones(shape=3).reshape((3,1))\n",
        "print(x)"
      ],
      "execution_count": null,
      "outputs": []
    },
    {
      "cell_type": "code",
      "metadata": {
        "id": "biZq4BkR2zjO"
      },
      "source": [
        "print(\"dimentions of x =\", x.shape)"
      ],
      "execution_count": null,
      "outputs": []
    },
    {
      "cell_type": "markdown",
      "metadata": {
        "id": "_m415d6Y5fLY"
      },
      "source": [
        "## 3 - Matrix operations\n"
      ]
    },
    {
      "cell_type": "markdown",
      "metadata": {
        "id": "cVaE3cQi4W6n"
      },
      "source": [
        "\n",
        "When performing matrix operations always make sure to know the dimensions of your matrices and vectors (NumPy arrays in Python) to avoid errors."
      ]
    },
    {
      "cell_type": "markdown",
      "metadata": {
        "id": "diR60HgK43MU"
      },
      "source": [
        "### 3.1- Addition & Substraction\n",
        " \n",
        " In matrix addition and subtractions you add up or substract elements one at a time and you can only add matrices of the same dimensions. The output if a new matrix with the same dimensions of the ones added. For example:\n",
        "\n",
        "$$\\text {A}^{2\\times 2} + \\text {B}^{2\\times 2} =\\text {C}^{2\\times 2} $$\n",
        "<br>\n",
        "$$A=\n",
        "\\begin{bmatrix}\n",
        "    1 & 4  \\\\\n",
        "    0 & 3  \\\\\n",
        "\\end{bmatrix}, \n",
        "B=\n",
        "\\begin{bmatrix}\n",
        "    3 & 1  \\\\\n",
        "    2 & 4  \\\\\n",
        "\\end{bmatrix},\n",
        "C=\\begin{bmatrix}\n",
        "    4 & 5  \\\\\n",
        "    2 & 7  \\\\\n",
        "\\end{bmatrix}$$\n",
        "<br>\n",
        "<br>\n",
        "$$\\text {We have:}\n",
        "\\begin{bmatrix}\n",
        "    1 & 4  \\\\\n",
        "    0 & 3  \\\\\n",
        "\\end{bmatrix} + \n",
        "\\begin{bmatrix}\n",
        "    3 & 1  \\\\\n",
        "    2 & 4  \\\\\n",
        "\\end{bmatrix}=\n",
        "\\begin{bmatrix}\n",
        "    4 & 5  \\\\\n",
        "    2 & 7  \\\\\n",
        "\\end{bmatrix}$$\n",
        "<br>"
      ]
    },
    {
      "cell_type": "markdown",
      "metadata": {
        "id": "r4t3RHDz7Vhc"
      },
      "source": [
        "Using NumPy we have:"
      ]
    },
    {
      "cell_type": "code",
      "metadata": {
        "id": "h01jPlZj7M8E"
      },
      "source": [
        "A=np.array([[1,4],[0,3]])\n",
        "print(\"A=\\n\",A)\n",
        "print(\"\\n\")\n",
        "print(\"A dimensions=\", A.shape)"
      ],
      "execution_count": null,
      "outputs": []
    },
    {
      "cell_type": "code",
      "metadata": {
        "id": "E649pMjS7j7W"
      },
      "source": [
        "B=np.array([[3,1],[2,4]])\n",
        "print(\"B=\\n\",B)\n",
        "print(\"\\n\")\n",
        "print(\"B dimensions=\", B.shape)"
      ],
      "execution_count": null,
      "outputs": []
    },
    {
      "cell_type": "code",
      "metadata": {
        "id": "QII29TtD7syz"
      },
      "source": [
        "C=A+B\n",
        "print(\"C=\\n\", C)\n",
        "print(\"\\n\")\n",
        "print(\"C dimensions=\", C.shape)"
      ],
      "execution_count": null,
      "outputs": []
    },
    {
      "cell_type": "markdown",
      "metadata": {
        "id": "GaasWJaq8jb7"
      },
      "source": [
        "### 3.2- Multiplication & Division by a scalar\n",
        " \n",
        "You can multiply or divide matrices by a scalar ( a real number). To do this, just multiply or divide each element of the matrix  by the scalar. The output is a matrix of the same size as the original matrix\n",
        "\n",
        " For example:\n",
        "\n",
        "$$\\text {A}^{2\\times 2} \\times \\text {$b$}=\\text {C}^{2\\times 2} $$\n",
        "<br>\n",
        "$$A=\n",
        "\\begin{bmatrix}\n",
        "    1 & 4  \\\\\n",
        "    0 & 3  \\\\\n",
        "\\end{bmatrix}, \n",
        "b=2,\n",
        "C=\\begin{bmatrix}\n",
        "    2 & 8  \\\\\n",
        "    0 & 6  \\\\\n",
        "\\end{bmatrix}$$\n",
        "<br>\n",
        "<br>\n",
        "$$\\text {We have:}\n",
        "\\begin{bmatrix}\n",
        "    1 & 4  \\\\\n",
        "    0 & 3  \\\\\n",
        "\\end{bmatrix} \\times 2=\n",
        "\\begin{bmatrix}\n",
        "    2 & 8  \\\\\n",
        "    0 & 6  \\\\\n",
        "\\end{bmatrix}$$\n",
        "<br>"
      ]
    },
    {
      "cell_type": "markdown",
      "metadata": {
        "id": "byHCsL8-9jQ4"
      },
      "source": [
        "Using NumPy we have:"
      ]
    },
    {
      "cell_type": "code",
      "metadata": {
        "id": "KnJLK3pi9jyA"
      },
      "source": [
        "C= A*2\n",
        "print(\"C=\\n\", C)\n",
        "print(\"\\n\")\n",
        "print(\"C dimensions=\", C.shape)"
      ],
      "execution_count": null,
      "outputs": []
    },
    {
      "cell_type": "code",
      "metadata": {
        "id": "IHmawyav-Xy1"
      },
      "source": [
        "C= A/2\n",
        "print(\"C=\\n\", C)\n",
        "print(\"\\n\")\n",
        "print(\"C dimensions=\", C.shape)"
      ],
      "execution_count": null,
      "outputs": []
    },
    {
      "cell_type": "markdown",
      "metadata": {
        "id": "7Loev1GV5bY7"
      },
      "source": [
        "## 4- Matrix Multiplication"
      ]
    },
    {
      "cell_type": "markdown",
      "metadata": {
        "id": "rd_S73icCcDQ"
      },
      "source": [
        "\n",
        " \n",
        "You can multiply matrices by matrices or by vectors. In general if you have a matrix A of dimension $[a\\times b]$ you can multiply it by another matrix B of dimensions $[b\\times c]$. The colums of the 1st matrix (i.e, A) have to mach the rows of 2nd matrix (i.e., B). The output of this multiplication is a matrix of dimensions $[a\\times c]$ (i.e., the row of the 1st matrix by the columns of the 2nd matrix). B could also be a $[b\\times 1]$ column vector\n",
        "\n",
        "$$\\text {A}^{a\\times b} \\cdot  \\text {B}^{b\\times c}=\\text {C}^{a\\times c} $$\n",
        "<br>\n",
        "\n",
        "For exmample:\n",
        "\n",
        "$$\\text {A}^{2\\times 4} \\cdot  \\text {B}^{4\\times 3}=\\text {C}^{2\\times 3} $$\n",
        "<br>\n",
        "\n"
      ]
    },
    {
      "cell_type": "code",
      "metadata": {
        "id": "BeCOoQQ4rRfd"
      },
      "source": [
        "A=np.array([[1,4,5,7],[0,3,7,4]])\n",
        "print(\"A=\\n\",A)\n",
        "print(\"\\n\")\n",
        "print(\"A dimensions=\", A.shape)"
      ],
      "execution_count": null,
      "outputs": []
    },
    {
      "cell_type": "code",
      "metadata": {
        "id": "jtdCmrqfraQh"
      },
      "source": [
        "B=np.array([[3,1,3],[2,4,4],[2,3,4],[2,4,6]])\n",
        "print(\"B=\\n\",B)\n",
        "print(\"\\n\")\n",
        "print(\"B dimensions=\", B.shape)"
      ],
      "execution_count": null,
      "outputs": []
    },
    {
      "cell_type": "code",
      "metadata": {
        "id": "HObLyTcvrmzZ"
      },
      "source": [
        "C= np.dot(A,B)\n",
        "print(\"C=\\n\", C)\n",
        "print(\"\\n\")\n",
        "print(\"C dimensions=\", C.shape)"
      ],
      "execution_count": null,
      "outputs": []
    },
    {
      "cell_type": "markdown",
      "metadata": {
        "id": "NIc25TX3rs3n"
      },
      "source": [
        "There is a key difference between the dot product symbol [$\\cdot] $ vs. the multiplication symbol [$*$]. "
      ]
    },
    {
      "cell_type": "code",
      "metadata": {
        "id": "bcYxilt5rteO"
      },
      "source": [
        "A=np.array([[1,4],[0,3]])\n",
        "print(\"A=\\n\",A)\n",
        "print(\"\\n\")\n",
        "print(\"A dimensions=\", A.shape)\n",
        "\n",
        "B=np.array([[3,4],[1,3]])\n",
        "print(\"B=\\n\",B)\n",
        "print(\"\\n\")\n",
        "print(\"B dimensions=\", B.shape)"
      ],
      "execution_count": null,
      "outputs": []
    },
    {
      "cell_type": "code",
      "metadata": {
        "id": "u20AmCTWsHp-"
      },
      "source": [
        "#Dot product  [np.dot]\n",
        "C= np.dot(A,B)\n",
        "print(\"C=\\n\", C)\n",
        "print(\"\\n\")\n",
        "print(\"C dimensions=\", C.shape)"
      ],
      "execution_count": null,
      "outputs": []
    },
    {
      "cell_type": "code",
      "metadata": {
        "id": "yfZ3Lj1BsI0D"
      },
      "source": [
        "#Elementwise multiplication [*]\n",
        "C= A*B\n",
        "print(\"C=\\n\", C)\n",
        "print(\"\\n\")\n",
        "print(\"C dimensions=\", C.shape)"
      ],
      "execution_count": null,
      "outputs": []
    },
    {
      "cell_type": "markdown",
      "metadata": {
        "id": "6jKI6QjZF8d1"
      },
      "source": [
        "#### 4.1-Using Matrix Multiplication for Linear Regression\n",
        "\n",
        "Imagine we have a dataset with  1 feature and 4 samples. We can store this data in a column vector $x$ with dimensions m=4 and n=1. Lets imagine we also have a hyppothesis: \n",
        "$$h_\\theta (x)= -30+0.3x$$\n",
        "\n",
        "\n",
        "\n",
        "To get all the values of $h_\\theta (x)$ we can create a matrix X with dimentions m=4 and n=1+1 (n=2 where the 1st colums is just full of ones) which can be multiplied by a vector $\\Theta$ of dimensions $[1\\times 2]$. Means we can do: \n",
        "\n",
        "$$Prediction = Data Matrix \\cdot  Parameters$$"
      ]
    },
    {
      "cell_type": "code",
      "metadata": {
        "id": "8JbmQ71seNsO"
      },
      "source": [
        "x=np.array([150, 250, 300, 280]).reshape(4,1) #This is column vector\n",
        "ones=np.ones(4).reshape(4,1)                  #Create a column vector full of ones\n",
        "X=np.concatenate((ones, x), axis=1)           #Create a matrix with the 1st colums full of ones\n",
        "print(X)"
      ],
      "execution_count": null,
      "outputs": []
    },
    {
      "cell_type": "code",
      "metadata": {
        "id": "xnqY7ArKhSPR"
      },
      "source": [
        "theta=np.array([-30,0.3]).reshape(2,1)      #Array of parameters\n",
        "print(theta)"
      ],
      "execution_count": null,
      "outputs": []
    },
    {
      "cell_type": "code",
      "metadata": {
        "id": "hY27OgTqhdSv"
      },
      "source": [
        "H=X.dot(theta)                             #Outputs\n",
        "print(H)"
      ],
      "execution_count": null,
      "outputs": []
    },
    {
      "cell_type": "markdown",
      "metadata": {
        "id": "YHIcbhL2B7kO"
      },
      "source": [
        "**Note** that `np.dot()` performs a matrix-matrix or matrix-vector multiplication. This is different from `np.multiply()` and the `*` operator, which performs an element-wise multiplication.\n"
      ]
    },
    {
      "cell_type": "markdown",
      "metadata": {
        "id": "jXf7LlR9GBd3"
      },
      "source": [
        "### 4.1-Matrix multiplication properties"
      ]
    },
    {
      "cell_type": "markdown",
      "metadata": {
        "id": "pv2dcakdGOdh"
      },
      "source": [
        "As you will see later in this Notebook, using matrices and vector operations allow us to run code faster.  However, you should be careful of how you use those operations, some important properties of matrix operations are:\n",
        "<br><br>\n",
        "- Commutativity\n",
        "\n",
        "When working with raw numbers/scalars multiplication is commutative\n",
        "\n",
        "$$ 3 \\times 5 == 5 \\times 3$$\n",
        "\n",
        "This is not true for matrix\n",
        "\n",
        "$$A \\cdot B \\neq B \\cdot  A$$\n",
        "\n",
        "<center><b>Matrix multiplication is not commutative!!</b></center>\n",
        "<br><br>\n",
        "\n",
        "- Associativity\n",
        "\n",
        "$$3 \\times 5 \\times 2 == 3 \\times 10 = 15 \\times 2$$\n",
        "\n",
        "<center><b>Matrix multiplications is associative!!</b></center>\n",
        "\n",
        "$$A \\cdot  (B \\cdot  C) == (A \\cdot  B) \\cdot  C$$\n",
        "<br><br>\n",
        "\n",
        "- Identity matrix\n",
        "\n",
        " 1 is  known as the identity for any scalar, since for any real number $z$:\n",
        "\n",
        " $$1 \\times z=z$$ \n",
        "\n",
        "\n",
        "For  matrices we have an identity matrix represented by the symbol $\\mathbb{I}$, sometimes expressed as $\\mathbb{I}^{n \\times n}$ or just  $\\mathbb{I}^{n}$ , where $n$ is the dimensions of the matrix. For example:\n",
        "\n",
        "$$n=2 \n",
        "\\begin{bmatrix}\n",
        "    1 & 0  \\\\\n",
        "    0 & 1  \\\\\n",
        "\\end{bmatrix}$$ \\\\\n",
        "$$n=3\n",
        "\\begin{bmatrix}\n",
        "    1 & 0 & 0  \\\\\n",
        "    0 & 1 & 0 \\\\\n",
        "    0 & 0 & 1\\\\\n",
        "\\end{bmatrix}$$ \\\\\n",
        "$$n=4\n",
        "\\begin{bmatrix}\n",
        "    1 & 0 & 0 & 0 \\\\\n",
        "    0 & 1 & 0 & 0  \\\\\n",
        "    0 & 0 & 1 & 0 \\\\\n",
        "    0 & 0 & 0 & 1 \\\\\n",
        "\\end{bmatrix}$$ \\\\\n",
        "\n",
        "\n",
        "\n",
        "Different identity matrices for each set of dimensions are shown above. This identity matrices have 1s along the diagonals, and 0s everyehwere else. When n=1, this will be a 1x1 matrix with a unique value of 1.\n",
        "\n",
        "There is the matrix identify  property that states that for any matrix $A$ which can be multiplied by an identity matrix gives you matrix $A$ back. So\n",
        "\n",
        "$$\\text {A}^{m\\times n} \\cdot \\mathbb{I}^{n \\times n} ={A}^{m\\times n}  $$\n",
        "<br>\n",
        "\n",
        "$$\\text {A}^{3\\times 2} \\cdot \\mathbb{I}^{2 \\times 2} ={A}^{3\\times 2}  $$\n",
        "<br>\n",
        "\n",
        "$$\\begin{bmatrix}\n",
        "    1 & 4  \\\\\n",
        "    0 & 3  \\\\\n",
        "    5 & 3  \\\\\n",
        "\\end{bmatrix}\n",
        "\\cdot\n",
        "\\begin{bmatrix}\n",
        "    1 & 0  \\\\\n",
        "    0 & 1  \\\\\n",
        "\\end{bmatrix}=\n",
        "\\begin{bmatrix}\n",
        "    1 & 4  \\\\\n",
        "    0 & 3  \\\\\n",
        "    5 & 3  \\\\\n",
        "\\end{bmatrix}$$\n",
        "\n",
        "The Identity matrix dimensions are implicit. Also, matrix multiplication is not commutative $A \\cdot B \\neq B \\cdot  A$. \n",
        "Except when B is the identity matrix. That is:\n",
        "\n",
        "$$\\text {A} \\cdot \\mathbb{I} = \\mathbb{I} \\cdot {A} $$\n"
      ]
    },
    {
      "cell_type": "code",
      "metadata": {
        "id": "kSJFDf1dybUu"
      },
      "source": [
        "A=np.array([[1,4], [0,3], [5,3]])\n",
        "print(A)"
      ],
      "execution_count": null,
      "outputs": []
    },
    {
      "cell_type": "code",
      "metadata": {
        "id": "JuU7PbWYytl2"
      },
      "source": [
        "I_2=np.identity(A.shape[1])  #I[2x2]\n",
        "print(I_2)"
      ],
      "execution_count": null,
      "outputs": []
    },
    {
      "cell_type": "code",
      "metadata": {
        "id": "t23IlF9Ny2yV"
      },
      "source": [
        "print(A.dot(I_2))           #A[3x2]. I[2x2]"
      ],
      "execution_count": null,
      "outputs": []
    },
    {
      "cell_type": "code",
      "metadata": {
        "id": "9_zKkLB3zMhC"
      },
      "source": [
        "I_3=np.identity(A.shape[0])   #I[3x3]\n",
        "print(I_3.dot(A))             #I[3x3].A[3x2]"
      ],
      "execution_count": null,
      "outputs": []
    },
    {
      "cell_type": "markdown",
      "metadata": {
        "id": "C03ixyMjGTON"
      },
      "source": [
        "## 5-Inverse and transpose operations"
      ]
    },
    {
      "cell_type": "markdown",
      "metadata": {
        "id": "bu4radjH52Aw"
      },
      "source": [
        "###5.1- Matrix Inverse"
      ]
    },
    {
      "cell_type": "markdown",
      "metadata": {
        "id": "CTHy7FROGVe4"
      },
      "source": [
        "How does the concept of \"the inverse\" relate to real numbers (scalars)?\n",
        "\n",
        "If  1 is the  \"identity element\" (as mentioned above). Each number has an inverse. This is the number you multiply a number by to get the identify element. For example, $(1/z)$ is the inverse of $z$ as: \n",
        "$$z * (1/z) = 1 $$\n",
        "$$ 3 \\times (1/3)=1$$\n",
        "\n",
        "It can also be represented as:\n",
        "\n",
        "$$ z \\times z^{-1}=1$$\n",
        "$$ 3 \\times 3^{-1}=1$$\n",
        "\n",
        "However, in the space of real numbers ($\\mathbb{R}$), not everything has an inverse. For example, 0 does not have an inverse.\n",
        "<br><br>\n",
        "\n",
        "**What is the inverse of a matrix?**\n",
        "\n",
        "If A is an $[m \\times m]$ matrix, then A inverse is $\\text{A}^{-1}$, and we have that:\n",
        "\n",
        "$$\\text {A} \\cdot \\text{A}^{-1}= \\mathbb{I} $$\n",
        "\n",
        "**Only square matrices which are $[m \\times m]$ have inverses!**\n",
        "\n",
        "Turns out that you can, sometimes, find the inverse of a matrix by hand, although this is very hard. Thankfully, there are numerical software for computing a matrices inverse.\n",
        "\n",
        "\n",
        "If A is all zeros then there is no inverse matrix. The intuition should be that matrices that don't have an inverse are a singular matrix or a degenerate matrix (i.e. when it's too close to 0). So if all the values of a matrix reach zero, this can be described as reaching singularity\n"
      ]
    },
    {
      "cell_type": "code",
      "metadata": {
        "id": "y7Bxh87H-jbH"
      },
      "source": [
        "A = np.array([[1,2],[3,4]]) \n",
        "print(A) \n"
      ],
      "execution_count": null,
      "outputs": []
    },
    {
      "cell_type": "markdown",
      "metadata": {
        "id": "7KRv0TI4uGca"
      },
      "source": [
        "We can use the `np.linalg.inv()` method to calculate the inverse (or get extremely close to it)"
      ]
    },
    {
      "cell_type": "code",
      "metadata": {
        "id": "9faK1Fd5-xVW"
      },
      "source": [
        "Ainv = np.linalg.inv(A)   #Caculate the inverse of A\n",
        "print(Ainv)"
      ],
      "execution_count": null,
      "outputs": []
    },
    {
      "cell_type": "code",
      "metadata": {
        "id": "UDTv-OSm-yia"
      },
      "source": [
        "print(A.dot(Ainv))       #A * A_inverse= Identify matrix"
      ],
      "execution_count": null,
      "outputs": []
    },
    {
      "cell_type": "markdown",
      "metadata": {
        "id": "7iQ8T6WA-291"
      },
      "source": [
        "**This is very close tot he identity matrix!**"
      ]
    },
    {
      "cell_type": "markdown",
      "metadata": {
        "id": "gYAuuPvm_GSf"
      },
      "source": [
        "###5.2- Matrix transpose"
      ]
    },
    {
      "cell_type": "markdown",
      "metadata": {
        "id": "-Mq-ybm4_MT9"
      },
      "source": [
        "If we have matrix A (which is $[n \\times m]$) how do you change it to become $[m \\times n]$ while keeping the same values? Well, just  swap rows and columns!\n",
        "\n",
        "How? \n",
        "- Take first row of A - becomes 1st column of $A^T$\n",
        "- Second row of A - becomes 2nd column...\n",
        "<br><br>\n",
        "\n",
        "Hence, if A is an $[n \\times m]$ matrix:\n",
        "\n",
        "- B is a transpose of A (B= $A^T$)\n",
        "- Then B is an $[m \\times n]$ matrix:\n",
        "\n",
        "$$A_{(i,j)} = B_{(j,i)}$$\n",
        "<br><br>\n",
        "$$A=\n",
        "\\begin{bmatrix}\n",
        "    1 & 2 & 4  \\\\\n",
        "    3 & 4 & 7 \\\\\n",
        "\\end{bmatrix},\n",
        "B=\n",
        "\\begin{bmatrix}\n",
        "    1 & 3 \\\\\n",
        "    2 & 4 \\\\\n",
        "    4 & 7\\\\\n",
        "\\end{bmatrix}$$\n"
      ]
    },
    {
      "cell_type": "code",
      "metadata": {
        "id": "7kFPpr6Y-2cC"
      },
      "source": [
        "A = np.array([[1,2,4],[3,4,7]]) \n",
        "print(A) "
      ],
      "execution_count": null,
      "outputs": []
    },
    {
      "cell_type": "code",
      "metadata": {
        "id": "CqfRP64LAEQH"
      },
      "source": [
        "B=A.T\n",
        "print(B)"
      ],
      "execution_count": null,
      "outputs": []
    },
    {
      "cell_type": "markdown",
      "metadata": {
        "id": "EnVv2A0Vyr6V"
      },
      "source": [
        "## 6 - Broadcasting in NumPy"
      ]
    },
    {
      "cell_type": "markdown",
      "metadata": {
        "id": "7mdC40PKgVTk"
      },
      "source": [
        "\n",
        "A very important concept to understand in NumPy is \"**broadcasting**\". It is very useful for performing mathematical operations between arrays of different shapes. However, you need to pay attention to the dimensions of your vectors and matrices. For the full details on broadcasting, you can read the official [broadcasting documentation](http://docs.scipy.org/doc/numpy/user/basics.broadcasting.html)."
      ]
    },
    {
      "cell_type": "markdown",
      "metadata": {
        "id": "auiO1gQ7yz_v"
      },
      "source": [
        "#####6.1- Introducing Broadcasting\n",
        "\n",
        "Recall that for arrays of the same size, binary operations are performed on an element-by-element basis:"
      ]
    },
    {
      "cell_type": "code",
      "metadata": {
        "id": "MXoV5YN6y0AI"
      },
      "source": [
        "a = np.array([0, 1, 2])\n",
        "b = np.array([5, 5, 5])\n",
        "a + b"
      ],
      "execution_count": null,
      "outputs": []
    },
    {
      "cell_type": "markdown",
      "metadata": {
        "id": "QGjDo2OVy0AU"
      },
      "source": [
        "Broadcasting allows these types of binary operations to be performed on arrays of different sizes–for example, we can just as easily add a scalar (think of it as a zero-dimensional array) to an array:"
      ]
    },
    {
      "cell_type": "code",
      "metadata": {
        "id": "2hQJ78Udy0AX"
      },
      "source": [
        "a + 5 "
      ],
      "execution_count": null,
      "outputs": []
    },
    {
      "cell_type": "code",
      "metadata": {
        "id": "ustxYf5rziEf"
      },
      "source": [
        "a + 7"
      ],
      "execution_count": null,
      "outputs": []
    },
    {
      "cell_type": "code",
      "metadata": {
        "id": "SUrbzNmuy0Al"
      },
      "source": [
        "M = np.ones((3, 3))\n",
        "M"
      ],
      "execution_count": null,
      "outputs": []
    },
    {
      "cell_type": "code",
      "metadata": {
        "id": "45TzOGCfy0Ax"
      },
      "source": [
        "M + a"
      ],
      "execution_count": null,
      "outputs": []
    },
    {
      "cell_type": "markdown",
      "metadata": {
        "id": "8dNiy37ry0A8"
      },
      "source": [
        "Here the one-dimensional array ``a`` is stretched, or broadcast across the second dimension in order to match the shape of ``M``.\n",
        "\n",
        "While these examples are relatively easy to understand, more complicated cases can involve broadcasting of both arrays."
      ]
    },
    {
      "cell_type": "markdown",
      "metadata": {
        "id": "NfkawX4TyyQt"
      },
      "source": [
        "\n",
        "<b>For a more detailed overview of Broadcasting, go over the Notebooks from the [Python Data Science Handbook](http://shop.oreilly.com/product/0636920034919.do) that cover [Computation on Arrays: Broadcasting](https://colab.research.google.com/github/jakevdp/PythonDataScienceHandbook/blob/master/notebooks/02.05-Computation-on-arrays-broadcasting.ipynb#scrollTo=dnDVbi-C-riP)</b> "
      ]
    },
    {
      "cell_type": "markdown",
      "metadata": {
        "id": "cnpaXvAu55w0"
      },
      "source": [
        "##7 - Normalizing Features "
      ]
    },
    {
      "cell_type": "markdown",
      "metadata": {
        "id": "9NlC61xHgVTb"
      },
      "source": [
        "\n",
        "\n",
        "Another common technique we use in Machine Learning is to normalize the features of our data (i.e., the columns of our matrices). It often leads to a better performance because gradient descent converges faster after normalization. Here, by normalization we mean changing X to $ \\frac{X}{\\| X\\|} $. This is dividing each column vector of X by its norm.\n",
        "\n",
        "For example, if $$X = \n",
        "\\begin{bmatrix}\n",
        "    0 & 2\\\\\n",
        "    3 & 6 \\\\\n",
        "    4 & 4\\\\\n",
        "\\end{bmatrix}\\tag{3}$$ then $$\\| X\\| = np.linalg.norm(X, axis = 0, keepdims = True) = \\begin{bmatrix}\n",
        "    5  & \\sqrt{56}\\\\\n",
        "\\end{bmatrix}\\tag{4} $$and        $$ X\\_normalized = \\frac{X}{\\| X\\|} = \\begin{bmatrix}\n",
        "    0 & \\frac{2}{\\sqrt{56}} \\\\\n",
        "    \\frac{3}{5} & \\frac{6}{\\sqrt{56}} \\\\\n",
        "     \\frac{4}{5}  & \\frac{4}{\\sqrt{56}} \\\\\n",
        "\\end{bmatrix}\\tag{5}$$ \n",
        "\n",
        "Note that you can divide matrices of different sizes and it works fine thanks to  broadcasting.\n",
        "\n"
      ]
    },
    {
      "cell_type": "markdown",
      "metadata": {
        "id": "wiC4_kmxQbho"
      },
      "source": [
        "####**Exercise**"
      ]
    },
    {
      "cell_type": "markdown",
      "metadata": {
        "id": "Tqpa9cWX6Hld"
      },
      "source": [
        "\n",
        " Implement normalizeCols() to normalize the columns  of a matrix. After applying this function to an input matrix X, each columns  of X should be a vector of unit length (meaning length 1).\n",
        "\n",
        "\n",
        " **Hint:** look at `np.linalg.norm`"
      ]
    },
    {
      "cell_type": "code",
      "metadata": {
        "id": "FC8n5_7ygVTc"
      },
      "source": [
        "# GRADED FUNCTION: normalizeCols\n",
        "\n",
        "def normalizeCols(X):\n",
        "    \"\"\"\n",
        "    Implement a function that normalizes each colum of the matrix X (to have unit length).\n",
        "    \n",
        "    Argument:\n",
        "    X -- A numpy matrix of shape (m, n)\n",
        "    \n",
        "    Returns:\n",
        "    x -- The normalized (by row) NumPy matrix. You are allowed to modify X.\n",
        "    \"\"\"\n",
        "    \n",
        "    ### START CODE HERE ### (≈ 2 lines of code)\n",
        "    # Compute x_norm as the norm 2 of X. Use np.linalg.norm(..., ord = 2, axis = ..., keepdims = True)\n",
        " \n",
        " \n",
        "    ### END CODE HERE ###\n",
        "\n",
        "    return x"
      ],
      "execution_count": null,
      "outputs": []
    },
    {
      "cell_type": "code",
      "metadata": {
        "id": "9pUkR0jGgVTf"
      },
      "source": [
        "X = np.array([\n",
        "     [0,2],\n",
        "     [3,6],\n",
        "     [4,4]])\n",
        "\n",
        "try:\n",
        "    # print results \n",
        "    X_cnorm=normalizeCols(X)\n",
        "    print(\"normalizeCols(X) = \\n\" + str(X_cnorm))\n",
        "    print(\"Shape=\"+ str(X_cnorm.shape))\n",
        "except Exception as e:\n",
        "    print(\"Something is not working right\")\n",
        "    print(e)"
      ],
      "execution_count": null,
      "outputs": []
    },
    {
      "cell_type": "markdown",
      "metadata": {
        "id": "_l3fWBbYgVTi"
      },
      "source": [
        "**Expected Output**: \n",
        "\n",
        "```\n",
        "normalizeCols(X) = \n",
        "[[0.         0.26726124]\n",
        " [0.6        0.80178373]\n",
        " [0.8        0.53452248]]\n",
        "Shape=(3, 2)\n",
        "```\n",
        "\n"
      ]
    },
    {
      "cell_type": "markdown",
      "metadata": {
        "id": "0U8eTfhGgVTj"
      },
      "source": [
        "**Note**:\n",
        "In normalizeCols(), you can try to print the shapes of x_norm and X, and then rerun the assessment. You'll find out that they have different shapes. This is normal given that x_norm takes the norm of each column of X. So x_norm has the same number of columns but only 1 row. So, it work thanks to **Broadcasting**"
      ]
    },
    {
      "cell_type": "markdown",
      "metadata": {
        "id": "NqXPnhufwbMw"
      },
      "source": [
        "Lets check that each colums of X is a vector of unit length."
      ]
    },
    {
      "cell_type": "code",
      "metadata": {
        "id": "eRJ07l2YwXVC"
      },
      "source": [
        "try:\n",
        "    np.sqrt(sum(X_cnorm[:,0]**2))\n",
        "except Exception as e:\n",
        "    print(\"Something is not working right\")\n",
        "    print(e)"
      ],
      "execution_count": null,
      "outputs": []
    },
    {
      "cell_type": "code",
      "metadata": {
        "id": "v3pKsN8DyqW0"
      },
      "source": [
        "try:\n",
        "    np.sqrt(sum(X_cnorm[:,1]**2))\n",
        "except Exception as e:\n",
        "    print(\"Something is not working right\")\n",
        "    print(e)"
      ],
      "execution_count": null,
      "outputs": []
    },
    {
      "cell_type": "markdown",
      "metadata": {
        "id": "JvxLbcAOgVTv"
      },
      "source": [
        "## 8- Vectorization"
      ]
    },
    {
      "cell_type": "markdown",
      "metadata": {
        "id": "lpgJp70lgVTv"
      },
      "source": [
        "\n",
        "In Machine Learning, you deal with very large datasets. Hence, a non-computationally-optimal function can become a huge bottleneck in your algorithm and can result in a model that takes ages to run. To make sure that your code is  computationally efficient, you will use vectorization. For example, try to tell the difference between the following implementations of the dot/outer/elementwise product."
      ]
    },
    {
      "cell_type": "code",
      "metadata": {
        "id": "yDhxx8TU3MIb"
      },
      "source": [
        "import time\n",
        "np.random.seed(2)\n",
        "\n",
        "x1 = np.random.rand(1000).reshape(1000,1)\n",
        "x2 = np.random.rand(1000).reshape(1000,1)"
      ],
      "execution_count": null,
      "outputs": []
    },
    {
      "cell_type": "code",
      "metadata": {
        "id": "pARDtxKz-SKi"
      },
      "source": [
        "### CLASSIC OUTER PRODUCT IMPLEMENTATION ###\n",
        "tic = time.process_time()\n",
        "outer = np.zeros((len(x1),len(x2))) # we create a len(x1)*len(x2) matrix with only zeros\n",
        "for i in range(len(x1)):\n",
        "    for j in range(len(x2)):\n",
        "        outer[i,j] = x1[i,0]*x2[j,0]\n",
        "toc = time.process_time()\n",
        "print (\"CLASSIC outer = \" + str(outer) + \"\\n ----- Computation time = \" + str(1000*(toc - tic)) + \"ms\")\n",
        "\n",
        "\n",
        "### VECTORIZED OUTER PRODUCT ###\n",
        "tic = time.process_time()\n",
        "outer = np.outer(x1.T,x2)\n",
        "toc = time.process_time()\n",
        "print (\"VECTORIZED outer = \" + str(outer) + \"\\n ----- Computation time = \" + str(1000*(toc - tic)) + \"ms\")\n"
      ],
      "execution_count": null,
      "outputs": []
    },
    {
      "cell_type": "markdown",
      "metadata": {
        "id": "FwF02Z9qQhYi"
      },
      "source": [
        "####**Exercise**: "
      ]
    },
    {
      "cell_type": "markdown",
      "metadata": {
        "id": "Aek100a86DPW"
      },
      "source": [
        "Implement the dot product between vectors x1 and x2 using loops (dot_classic) and using the NumPy dot method (dot_vectorized)."
      ]
    },
    {
      "cell_type": "code",
      "metadata": {
        "id": "bqrOluz_gVTw"
      },
      "source": [
        "### CLASSIC DOT PRODUCT OF VECTORS IMPLEMENTATION\n",
        "tic = time.process_time()\n",
        "\n",
        "dot_classic = 0\n",
        "### START CODE HERE ### (≈ 3 lines of code)\n",
        "#The output should be saved in dot_classic\n",
        "\n",
        "\n",
        "\n",
        "### END CODE HERE ###\n",
        "\n",
        "toc = time.process_time()\n",
        "print (\"CLASSIC dot :\" )\n",
        "print(\"Type=\" + str(type(dot_classic)))\n",
        "print (\"Output \" + str(dot_classic) + \"\\n ----- Computation time = \" + str(1000*(toc - tic)) + \"ms\")"
      ],
      "execution_count": null,
      "outputs": []
    },
    {
      "cell_type": "markdown",
      "source": [
        "**Expected Output**: \n",
        "\n",
        "```\n",
        "CLASSIC dot :\n",
        "Type=<class 'numpy.float64'>\n",
        "Output 236.14775068085237\n",
        "```"
      ],
      "metadata": {
        "id": "ROEMi3rVz2lz"
      }
    },
    {
      "cell_type": "code",
      "metadata": {
        "id": "RdBmdmG28fkt"
      },
      "source": [
        "### VECTORIZED DOT PRODUCT OF VECTORS IMPLEMENTATION\n",
        "tic = time.process_time()\n",
        "dot_vectorized=0\n",
        "### START CODE HERE ### (≈ 1 lines of code)\n",
        "#The output should be saved in dot_classic\n",
        "\n",
        "\n",
        "### END CODE HERE ###\n",
        "\n",
        "toc = time.process_time()\n",
        "print (\"VECTORIZED dot :\" )\n",
        "print(\"Type=\" + str(type(dot_vectorized)))\n",
        "print (\"Output = \" + str(dot_vectorized) + \"\\n ----- Computation time = \" + str(1000*(toc - tic)) + \"ms\")"
      ],
      "execution_count": null,
      "outputs": []
    },
    {
      "cell_type": "markdown",
      "metadata": {
        "id": "xTYAd7OI9ZBj"
      },
      "source": [
        "**Expected Output**: \n",
        "\n",
        "```\n",
        "VECTORIZED dot :\n",
        "type=<class 'numpy.float64'>\n",
        "Output = 236.1477506808524\n",
        "```"
      ]
    },
    {
      "cell_type": "markdown",
      "metadata": {
        "id": "kQPNdqE0QlXg"
      },
      "source": [
        "####**Exercise**:"
      ]
    },
    {
      "cell_type": "markdown",
      "metadata": {
        "id": "xTftWzKC--_W"
      },
      "source": [
        "Implement the elementwise multiplication of the vector x1 and x2 using loops (mult_classic) and using the NumPy multiply method (mul_vectorized)."
      ]
    },
    {
      "cell_type": "code",
      "metadata": {
        "id": "Cky43XzD-SEW"
      },
      "source": [
        "### CLASSIC ELEMENTWISE MULTIPLICATION IMPLEMENTATION \n",
        "tic = time.process_time()\n",
        "mul_classic=0\n",
        "### START CODE HERE ### (≈ 3 lines of code)\n",
        "\n",
        "\n",
        "\n",
        "### END CODE HERE ###\n",
        "\n",
        "toc = time.process_time()\n",
        "try:\n",
        "    print (\"CLASSIC elementwise multiplication : \")\n",
        "    print(\"Shape=\" + str(mul_classic.shape))\n",
        "    print (\"Output = \" + str(mul_classic[0:4])  + \"\\n ----- Computation time = \" + str(1000*(toc - tic)) + \"ms\")\n",
        "except Exception as e:\n",
        "    print(\"Something is not working right\")\n",
        "    print(e)"
      ],
      "execution_count": null,
      "outputs": []
    },
    {
      "cell_type": "markdown",
      "source": [
        "\n",
        "\n",
        "**Expected Output**: \n",
        "\n",
        "```\n",
        "CLASSIC elementwise multiplication : \n",
        "Shape=(1000,)\n",
        "Output = [0.2711202  0.01466333 0.0839175  0.35410728]\n",
        "```"
      ],
      "metadata": {
        "id": "hm-TizAtytxD"
      }
    },
    {
      "cell_type": "code",
      "metadata": {
        "id": "Mu45fSjsTuGy"
      },
      "source": [
        "### VECTORIZED ELEMENTWISE MULTIPLICATION IMPLEMENTATION\n",
        "tic = time.process_time()\n",
        "mul_vectorized=0\n",
        "### START CODE HERE ### (≈ 1 lines of code)\n",
        "\n",
        "\n",
        "### END CODE HERE ###\n",
        "\n",
        "toc = time.process_time()\n",
        "try:\n",
        "    print (\"VECTORIZED elementwise multiplication: \")\n",
        "    print(\"Shape=\" + str(mul_vectorized.shape))\n",
        "    print(\"Output=\"+ str(mul_vectorized[0:4])  + \"\\n ----- Computation time = \" + str(1000*(toc - tic)) + \"ms\")\n",
        "except Exception as e:\n",
        "    print(\"Something is not working right\")\n",
        "    print(e)"
      ],
      "execution_count": null,
      "outputs": []
    },
    {
      "cell_type": "markdown",
      "metadata": {
        "id": "OsMFkhK1VCwp"
      },
      "source": [
        "\n",
        "\n",
        "**Expected Output**: \n",
        "\n",
        "```\n",
        "VECTORIZED elementwise multiplication: \n",
        "Shape=(1000, 1)\n",
        "Output=[[0.2711202 ]\n",
        " [0.01466333]\n",
        " [0.0839175 ]\n",
        " [0.35410728]]\n",
        "```"
      ]
    },
    {
      "cell_type": "markdown",
      "metadata": {
        "id": "GS712r2CQqTi"
      },
      "source": [
        "####**Exercise**:"
      ]
    },
    {
      "cell_type": "markdown",
      "metadata": {
        "id": "Y4YNUW5PVHfv"
      },
      "source": [
        " Implement the dot product between the matrix W and the vector x1 using loops (Gdot_classic) and using the NumPy dot method (Gdot_vectorized)."
      ]
    },
    {
      "cell_type": "code",
      "metadata": {
        "id": "uqH4nixHVTvz"
      },
      "source": [
        "np.random.seed(12)\n",
        "W = np.random.rand(4,len(x1)) # Random 3*len(x1) numpy array"
      ],
      "execution_count": null,
      "outputs": []
    },
    {
      "cell_type": "code",
      "metadata": {
        "id": "w4O0WFKs-R79"
      },
      "source": [
        "### CLASSIC GENERAL DOT PRODUCT IMPLEMENTATION ###\n",
        "tic = time.process_time()\n",
        "Gdot_classic=0\n",
        "### START CODE HERE ### (≈ 4 lines of code)\n",
        "\n",
        "\n",
        "\n",
        "\n",
        "### END CODE HERE ###\n",
        "\n",
        "toc = time.process_time()\n",
        "try:\n",
        "    print (\"CLASSIC gdot :\")\n",
        "    print(\"Shape=\" + str(Gdot_classic.shape))\n",
        "    print (\"Output = \" + str(Gdot_classic) + \"\\n ----- Computation time = \" + str(1000*(toc - tic)) + \"ms\")\n",
        "except Exception as e:\n",
        "    print(\"Something is not working right\")\n",
        "    print(e)"
      ],
      "execution_count": null,
      "outputs": []
    },
    {
      "cell_type": "markdown",
      "source": [
        "**Expected Output**: \n",
        "\n",
        "```\n",
        "CLASSIC gdot :\n",
        "Shape=(4,)\n",
        "Output = [249.69255401 239.88807385 234.36335992 243.51061214]\n",
        "```"
      ],
      "metadata": {
        "id": "sOuFmKcnxTIB"
      }
    },
    {
      "cell_type": "code",
      "metadata": {
        "id": "gphCgJaAV0ea"
      },
      "source": [
        "### VECTORIZED GENERAL DOT PRODUCT ###\n",
        "tic = time.process_time()\n",
        "Gdot_vectorized=0\n",
        "### START CODE HERE ### (≈ 1 lines of code)\n",
        "\n",
        "\n",
        "\n",
        "### END CODE HERE ###\n",
        "\n",
        "toc = time.process_time()\n",
        "try:\n",
        "    print (\"VECTORIZED gdot :\")\n",
        "    print(\"Shape=\" + str(Gdot_vectorized.shape))\n",
        "    print( \"Output=\"+ str(Gdot_vectorized) + \"\\n ----- Computation time = \" + str(1000*(toc - tic)) + \"ms\")\n",
        "except Exception as e:\n",
        "    print(\"Something is not working right\")\n",
        "    print(e)\n"
      ],
      "execution_count": null,
      "outputs": []
    },
    {
      "cell_type": "markdown",
      "metadata": {
        "id": "8KZhnpukWF1e"
      },
      "source": [
        "**Expected Output**: \n",
        "\n",
        "```\n",
        "VECTORIZED gdot : \n",
        "Shape=(4, 1)\n",
        "Output=[[249.69255401]\n",
        " [239.88807385]\n",
        " [234.36335992]\n",
        " [243.51061214]]\n",
        "```"
      ]
    },
    {
      "cell_type": "markdown",
      "metadata": {
        "id": "rw3ByRsSgVT5"
      },
      "source": [
        "As you may have noticed, the vectorized implementation is much cleaner and more efficient. For bigger vectors/matrices, the differences in running time become even bigger. \n",
        "\n",
        "**Note** that `np.dot()` performs a matrix-matrix or matrix-vector multiplication. This is different from `np.multiply()` and the `*` operator, which performs an element-wise multiplication."
      ]
    },
    {
      "cell_type": "markdown",
      "metadata": {
        "id": "FxWoJVneDHot"
      },
      "source": [
        "\n",
        "\n",
        "More detailed documentation, along with tutorials and other resources, can be found at http://www.numpy.org."
      ]
    },
    {
      "cell_type": "markdown",
      "metadata": {
        "id": "zr5d-t8sX4bD"
      },
      "source": [
        "## **DO NOT DELETE NOR MODIFY THESE CODE CELLS**\n",
        "\n",
        "\n"
      ]
    },
    {
      "cell_type": "code",
      "metadata": {
        "id": "Bu-1UD6lQNxW"
      },
      "source": [
        "# ###DO NOT DELETE NOR MODIFY THIS CODE CELL####\n",
        "!wget https://raw.githubusercontent.com/lopezbec/intro_python_notebooks/main/Grading_Numpy.py\n",
        "import numpy as np\n",
        "\n",
        "from Grading_Numpy import GRADING_Algebra\n",
        "\n",
        "try:\n",
        "    normalizeCols\n",
        "except NameError:\n",
        "    normalizeCols = None\n",
        "try:\n",
        "    dot_classic\n",
        "except NameError:\n",
        "    dot_classic = None\n",
        "try:\n",
        "    dot_vectorized\n",
        "except NameError:\n",
        "    dot_vectorized = None\n",
        "try:\n",
        "    mul_classic\n",
        "except NameError:\n",
        "    mul_classic = None\n",
        "try:\n",
        "    mul_vectorized\n",
        "except NameError:\n",
        "    mul_vectorized = None\n",
        "try:\n",
        "    Gdot_classic\n",
        "except NameError:\n",
        "    Gdot_classic = None\n",
        "try:\n",
        "    Gdot_vectorized\n",
        "except NameError:\n",
        "    Gdot_vectorized = None\n",
        "\n",
        "testx= np.array([\n",
        "    [10],\n",
        "    [20],\n",
        "    [30]])\n",
        " \n",
        "GRADING_Algebra(testx,normalizeCols,dot_classic,dot_vectorized,mul_classic,mul_vectorized,Gdot_classic,Gdot_vectorized)"
      ],
      "execution_count": null,
      "outputs": []
    }
  ]
}