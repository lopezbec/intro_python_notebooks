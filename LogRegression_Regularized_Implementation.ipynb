{
  "nbformat": 4,
  "nbformat_minor": 0,
  "metadata": {
    "kernelspec": {
      "display_name": "Python [default]",
      "language": "python",
      "name": "python3"
    },
    "language_info": {
      "codemirror_mode": {
        "name": "ipython",
        "version": 3
      },
      "file_extension": ".py",
      "mimetype": "text/x-python",
      "name": "python",
      "nbconvert_exporter": "python",
      "pygments_lexer": "ipython3",
      "version": "3.5.3"
    },
    "colab": {
      "provenance": [],
      "toc_visible": true
    }
  },
  "cells": [
    {
      "cell_type": "markdown",
      "metadata": {
        "id": "14jv7aOI3-rv"
      },
      "source": [
        "<center><b>©Content is made available under the CC-BY-NC-ND 4.0 license. Christian Lopez, lopezbec@lafayette.edu<center>"
      ]
    },
    {
      "cell_type": "markdown",
      "metadata": {
        "id": "hl7qXHRb3ZcI"
      },
      "source": [
        "## Logistic Regression Implementation\n"
      ]
    },
    {
      "cell_type": "markdown",
      "metadata": {
        "id": "osiK3Jrb4Ud6"
      },
      "source": [
        "\n",
        " This Notebook will give you an introduction to Logistic Regression\n",
        "<br>\n",
        "\n",
        "Most of the notebooks we are going to be using are inspired from existing notebooks that are available online and are made  free for educational purposes. The work of [Andre Ng]( https://en.wikipedia.org/wiki/Andrew_Ng)  and others served as guide and  inspiration for these notebooks. Nonetheless, these notebooks should not be share without prior permission of the instructor. When working in an assignment always remember the [Student Code of Conduct]( https://conduct.lafayette.edu/student-handbook/student-code-of-conduct/).  \n",
        "</br>\n"
      ]
    },
    {
      "cell_type": "markdown",
      "metadata": {
        "id": "3T9cIohf3xK-"
      },
      "source": [
        "## 1-Introduction\n",
        "\n",
        "In this exercise, you will implement Logistic Regression and apply it to two different datasets. All the information you need for solving this assignment is in this notebook, and all the code you will be implementing will take place within this notebook.\n",
        "\n",
        "Before we begin with the exercises, we need to import all libraries required for this programming exercise. Throughout the course, we will be using [`numpy`](http://www.numpy.org/) for all arrays and matrix operations, and [`matplotlib`](https://matplotlib.org/) for plotting. In this assignment, we will also use [`scipy`](https://docs.scipy.org/doc/scipy/reference/), which contains scientific and numerical computation functions and tools. \n",
        "\n",
        "You can find instructions on how to install required libraries in the README file in the [github repository](https://github.com/dibgerge/ml-coursera-python-assignments)."
      ]
    },
    {
      "cell_type": "code",
      "metadata": {
        "id": "ujiiJE3Q3ZcO",
        "colab": {
          "base_uri": "https://localhost:8080/"
        },
        "outputId": "e4f3041b-8688-4b78-e747-7e9f49ee52cb"
      },
      "source": [
        "# %load ../../standard_import.txt\n",
        "import pandas as pd\n",
        "import numpy as np\n",
        "import matplotlib as mpl\n",
        "import matplotlib.pyplot as plt\n",
        "\n",
        "from scipy.optimize import minimize\n",
        "\n",
        "from sklearn.preprocessing import PolynomialFeatures\n",
        "from sklearn.preprocessing import StandardScaler\n",
        "\n",
        "%matplotlib inline\n",
        "\n",
        "import seaborn as sns\n",
        "sns.set_context('notebook')\n",
        "sns.set_style('white')\n",
        "\n",
        "import warnings\n",
        "warnings.filterwarnings('ignore')\n",
        "\n",
        "#To check how long our implementation takes\n",
        "import time\n",
        "\n",
        "!wget https://raw.githubusercontent.com/lopezbec/intro_python_notebooks/main/Data_LogR/ex2data1.txt\n",
        "!wget https://raw.githubusercontent.com/lopezbec/intro_python_notebooks/main/Data_LogR/ex2data2.txt\n",
        "np.random.seed(123)"
      ],
      "execution_count": null,
      "outputs": [
        {
          "output_type": "stream",
          "name": "stdout",
          "text": [
            "--2023-03-03 16:29:10--  https://raw.githubusercontent.com/lopezbec/intro_python_notebooks/main/Data_LogR/ex2data1.txt\n",
            "Resolving raw.githubusercontent.com (raw.githubusercontent.com)... 185.199.109.133, 185.199.110.133, 185.199.111.133, ...\n",
            "Connecting to raw.githubusercontent.com (raw.githubusercontent.com)|185.199.109.133|:443... connected.\n",
            "HTTP request sent, awaiting response... 200 OK\n",
            "Length: 3775 (3.7K) [text/plain]\n",
            "Saving to: ‘ex2data1.txt’\n",
            "\n",
            "\rex2data1.txt          0%[                    ]       0  --.-KB/s               \rex2data1.txt        100%[===================>]   3.69K  --.-KB/s    in 0s      \n",
            "\n",
            "2023-03-03 16:29:10 (59.5 MB/s) - ‘ex2data1.txt’ saved [3775/3775]\n",
            "\n",
            "--2023-03-03 16:29:10--  https://raw.githubusercontent.com/lopezbec/intro_python_notebooks/main/Data_LogR/ex2data2.txt\n",
            "Resolving raw.githubusercontent.com (raw.githubusercontent.com)... 185.199.108.133, 185.199.109.133, 185.199.110.133, ...\n",
            "Connecting to raw.githubusercontent.com (raw.githubusercontent.com)|185.199.108.133|:443... connected.\n",
            "HTTP request sent, awaiting response... 200 OK\n",
            "Length: 2233 (2.2K) [text/plain]\n",
            "Saving to: ‘ex2data2.txt’\n",
            "\n",
            "ex2data2.txt        100%[===================>]   2.18K  --.-KB/s    in 0s      \n",
            "\n",
            "2023-03-03 16:29:10 (24.3 MB/s) - ‘ex2data2.txt’ saved [2233/2233]\n",
            "\n"
          ]
        }
      ]
    },
    {
      "cell_type": "markdown",
      "metadata": {
        "id": "O038gpsf5xCV"
      },
      "source": [
        "Lets load our data"
      ]
    },
    {
      "cell_type": "code",
      "metadata": {
        "id": "5coCY0yW3Zcm",
        "colab": {
          "base_uri": "https://localhost:8080/"
        },
        "outputId": "4abdb938-ed6e-481b-c6a5-c82fe609b902"
      },
      "source": [
        "def loaddata(file, delimeter):\n",
        "    data = np.loadtxt(file, delimiter=delimeter)\n",
        "    print('Dimensions: ',data.shape)\n",
        "    print(data[1:6,:])\n",
        "    return(data)\n",
        "\n",
        "data = loaddata('ex2data1.txt', ',')\n",
        "\n",
        "# The first two columns contains the exam scores and the third column\n",
        "# contains the label.\n",
        "X = np.c_[np.ones((data.shape[0],1)), data[:,0:2]]\n",
        "y = np.c_[data[:,2]]"
      ],
      "execution_count": null,
      "outputs": [
        {
          "output_type": "stream",
          "name": "stdout",
          "text": [
            "Dimensions:  (100, 3)\n",
            "[[30.28671077 43.89499752  0.        ]\n",
            " [35.84740877 72.90219803  0.        ]\n",
            " [60.18259939 86.3085521   1.        ]\n",
            " [79.03273605 75.34437644  1.        ]\n",
            " [45.08327748 56.31637178  0.        ]]\n"
          ]
        }
      ]
    },
    {
      "cell_type": "markdown",
      "metadata": {
        "id": "Mpqw_eoe5sBx"
      },
      "source": [
        "### 1.1 Visualizing the data\n"
      ]
    },
    {
      "cell_type": "markdown",
      "metadata": {
        "id": "OzWLz1rdyBja"
      },
      "source": [
        "\n",
        "Before starting to implement any learning algorithm, it is always good to visualize the data if possible. We  display the data on a 2-dimensional plot by calling the function `plotData`. You will now complete the code in `plotData` so that it displays a figure where the axes are the two exam scores, and the positive and negative examples are shown with different markers.\n",
        "\n",
        "To help you get more familiar with plotting, we have left `plotData` empty so you can try to implement it yourself. However, this is an optional (ungraded) exercise. We also provide our implementation below so you can\n",
        "copy it or refer to it. If you choose to copy our example, make sure you learn\n",
        "what each of its commands is doing by consulting the `matplotlib` and `numpy` documentation.\n"
      ]
    },
    {
      "cell_type": "code",
      "metadata": {
        "id": "-4EhnSXt54AB"
      },
      "source": [
        "def plotData(data, label_x, label_y, label_pos, label_neg, axes=None):\n",
        "    # Get indexes for class 0 and class 1\n",
        "    neg = data[:,2] == 0\n",
        "    pos = data[:,2] == 1\n",
        "    \n",
        "    # If no specific axes object has been passed, get the current axes.\n",
        "    if axes == None:\n",
        "        axes = plt.gca()\n",
        "    axes.scatter(data[pos][:,0], data[pos][:,1], marker='+', c='k', s=60, linewidth=2, label=label_pos)\n",
        "    axes.scatter(data[neg][:,0], data[neg][:,1], c='y', s=60, label=label_neg)\n",
        "    axes.set_xlabel(label_x)\n",
        "    axes.set_ylabel(label_y)\n",
        "    axes.legend(frameon= True, fancybox = True);"
      ],
      "execution_count": null,
      "outputs": []
    },
    {
      "cell_type": "code",
      "metadata": {
        "id": "ZAwkzUVI3Zdr",
        "colab": {
          "base_uri": "https://localhost:8080/",
          "height": 285
        },
        "outputId": "656318b4-2360-4ebb-e661-534457312b60"
      },
      "source": [
        "plotData(data, 'Exam 1 score', 'Exam 2 score', 'Admitted', 'Not admitted')"
      ],
      "execution_count": null,
      "outputs": [
        {
          "output_type": "display_data",
          "data": {
            "text/plain": [
              "<Figure size 432x288 with 1 Axes>"
            ],
            "image/png": "[encoded data removed]"
          },
          "metadata": {}
        }
      ]
    },
    {
      "cell_type": "markdown",
      "metadata": {
        "id": "zoZkVVQeyBkd"
      },
      "source": [
        "<a id=\"section1\"></a>\n",
        "## 2 Implementation\n"
      ]
    },
    {
      "cell_type": "markdown",
      "metadata": {
        "id": "sJBCW3CA8L8c"
      },
      "source": [
        "\n",
        "### 2.1 Sigmoid function\n",
        "\n",
        "Before you start with the actual cost function, recall that the logistic regression hypothesis is defined as:\n",
        "\n",
        "$$ h_\\theta(x) = g(\\theta^T x)$$\n",
        "\n",
        "where function $g$ is the sigmoid function. The sigmoid function is defined as: \n",
        "\n",
        "$$g(z) = \\frac{1}{1+e^{-z}}$$\n",
        "\n",
        "Your first step is to implement this function `sigmoid` so it can be\n",
        "called by the rest of your program. When you are finished, try testing a few\n",
        "values by calling `sigmoid(x)` in a new cell. For large positive values of `x`, the sigmoid should be close to 1, while for large negative values, the sigmoid should be close to 0. Evaluating `sigmoid(0)` should give you exactly 0.5. Your code should also work with vectors and matrices. **For a matrix, your function should perform the sigmoid function on every element.**\n",
        "<a id=\"sigmoid\"></a>\n",
        "\n",
        "**Hint** look at the `np.exp`"
      ]
    },
    {
      "cell_type": "code",
      "metadata": {
        "id": "UrMmuJFN8S7l"
      },
      "source": [
        "def sigmoid(z):\n",
        "    \"\"\"\n",
        "    Compute sigmoid function given the input z.\n",
        "    \n",
        "    Parameters\n",
        "    ----------\n",
        "    z : array_like\n",
        "        The input to the sigmoid function. This can be a 1-D vector \n",
        "        or a 2-D matrix. \n",
        "    \n",
        "    Returns\n",
        "    -------\n",
        "    g : array_like\n",
        "        The computed sigmoid function. g has the same shape as z, since\n",
        "        the sigmoid is computed element-wise on z.\n",
        "        \n",
        "    Instructions\n",
        "    ------------\n",
        "    Compute the sigmoid of each value of z (z can be a matrix, vector or scalar).\n",
        "    \"\"\"\n",
        "    # convert input to a numpy array\n",
        "    z = np.array(z)\n",
        "    \n",
        "    # You need to return the following variables correctly \n",
        "    g = np.zeros(z.shape)\n",
        "\n",
        "    ###======= START CODE HERE========== ### (≈ 1 lines of code)\n",
        "  \n",
        "\n",
        "  \n",
        "    ###========= END CODE HERE=========== ###\n",
        "    return g"
      ],
      "execution_count": null,
      "outputs": []
    },
    {
      "cell_type": "markdown",
      "metadata": {
        "id": "TpoROcPlyBk5"
      },
      "source": [
        "The following cell evaluates the sigmoid function at `z=0`. You should get a value of 0.5. You can also try different values for `z` to experiment with the sigmoid function."
      ]
    },
    {
      "cell_type": "code",
      "metadata": {
        "id": "SsVwXipcBqzx",
        "colab": {
          "base_uri": "https://localhost:8080/"
        },
        "outputId": "6df6b890-139e-4da7-f4f2-a82740542384"
      },
      "source": [
        "sigmoid(0)"
      ],
      "execution_count": null,
      "outputs": [
        {
          "output_type": "execute_result",
          "data": {
            "text/plain": [
              "0.5"
            ]
          },
          "metadata": {},
          "execution_count": 6
        }
      ]
    },
    {
      "cell_type": "markdown",
      "metadata": {
        "collapsed": true,
        "id": "20KhaJMZ3ZeE"
      },
      "source": [
        "Scipy actually has a convenience function which does exactly the same:<BR>\n",
        "http://docs.scipy.org/doc/scipy/reference/generated/scipy.special.expit.html#scipy.special.expit"
      ]
    },
    {
      "cell_type": "code",
      "metadata": {
        "id": "VJQciBeKIpYX",
        "colab": {
          "base_uri": "https://localhost:8080/"
        },
        "outputId": "1461c1ee-c953-4ac3-d693-ebb86d7fba47"
      },
      "source": [
        "from scipy.special import expit, logit\n",
        "\n",
        "expit([0])\n"
      ],
      "execution_count": null,
      "outputs": [
        {
          "output_type": "execute_result",
          "data": {
            "text/plain": [
              "array([0.5])"
            ]
          },
          "metadata": {},
          "execution_count": 7
        }
      ]
    },
    {
      "cell_type": "markdown",
      "metadata": {
        "id": "lc-rURxxI4Qg"
      },
      "source": [
        "`logit` is the inverse of `expit`:"
      ]
    },
    {
      "cell_type": "code",
      "metadata": {
        "id": "bTloUQG1I7Rv",
        "colab": {
          "base_uri": "https://localhost:8080/"
        },
        "outputId": "da60a13c-34c1-4443-9792-33e3da8fa1d8"
      },
      "source": [
        "logit(expit([0]))"
      ],
      "execution_count": null,
      "outputs": [
        {
          "output_type": "execute_result",
          "data": {
            "text/plain": [
              "array([0.])"
            ]
          },
          "metadata": {},
          "execution_count": 8
        }
      ]
    },
    {
      "cell_type": "markdown",
      "metadata": {
        "id": "mgZ09WPwyBlx"
      },
      "source": [
        "<a id=\"section2\"></a>\n",
        "### 2.2 Cost function and gradient\n",
        "\n",
        "Now you will implement the cost function and gradient for logistic regression. "
      ]
    },
    {
      "cell_type": "markdown",
      "metadata": {
        "id": "BXztFzz0yBmO"
      },
      "source": [
        "Now, complete the code for the function `costFunction` to return the cost. Recall that the cost function in logistic regression is\n",
        "\n",
        " $$ J(\\theta) = \\frac{1}{m}\\sum_{i=1}^{m}\\big[-y^{(i)}\\, log\\,( h_\\theta\\,(x^{(i)}))-(1-y^{(i)})\\,log\\,(1-h_\\theta(x^{(i)}))\\big]$$\n",
        "\n",
        "Vectorized Cost Function\n",
        "$$ J(\\theta) = -\\frac{1}{m}\\big((\\,log\\,(g(X\\theta))^Ty+(\\,log\\,(1-g(X\\theta))^T(1-y)\\big)$$"
      ]
    },
    {
      "cell_type": "code",
      "metadata": {
        "id": "-xSwYfGD3ZeK"
      },
      "source": [
        "def costFunction(theta, X, y):\n",
        "    \"\"\"\n",
        "    Compute cost  for logistic regression. \n",
        "    \n",
        "    Parameters\n",
        "    ----------\n",
        "    theta : array_like\n",
        "        The parameters for logistic regression. This a vector\n",
        "        of shape (n+1, ).\n",
        "    \n",
        "    X : array_like\n",
        "        The input dataset of shape (m , n+1) where m is the total number\n",
        "        of data points and n is the number of features. We assume the \n",
        "        intercept has already been added to the input.\n",
        "    \n",
        "    y : arra_like\n",
        "        Labels for the input. This is a vector of shape (m , 1).\n",
        "    \n",
        "    Returns\n",
        "    -------\n",
        "    J : float\n",
        "        The computed value for the cost function. \n",
        "    \n",
        "    Instructions\n",
        "    ------------\n",
        "    Compute the cost of a particular choice of theta. You should set J to \n",
        "    the cost.\n",
        "    \"\"\"\n",
        "    # Initialize some useful values\n",
        "    m = y.size  # number of training examples\n",
        "\n",
        "    # You need to return the following variables correctly \n",
        "    J = 0\n",
        "    ###======= START CODE HERE========== ### (≈ 1 lines of code)\n",
        "\n",
        "\n",
        "\n",
        "    ###========= END CODE HERE=========== ###             \n",
        "    if np.isnan(J[0]):\n",
        "        return(np.inf)\n",
        "    return(J[0])"
      ],
      "execution_count": null,
      "outputs": []
    },
    {
      "cell_type": "markdown",
      "metadata": {
        "id": "fNE0dEcE9eR0"
      },
      "source": [
        "Now, complete the code for the function `gradient` to return the gradient. Recall that the gradient of the cost is a vector of the same length as $\\theta$ where the $j^{th}$\n",
        "element (for $j = 0, 1, \\cdots , n$) is defined as follows:\n",
        "\n",
        "$$ \\frac{\\partial J(\\theta)}{\\partial \\theta_j} = \\frac{1}{m} \\sum_{i=1}^m \\left( h_\\theta \\left( x^{(i)} \\right) - y^{(i)} \\right) x_j^{(i)} $$\n",
        "\n",
        "\n",
        "Vectorized Gradient\n",
        "\n",
        " $$ \\frac{\\delta J(\\theta)}{\\delta\\theta_{j}} = \\frac{1}{m} X^T(g(X\\theta)-y)$$\n",
        "\n",
        "\n",
        "Note that while this gradient looks identical to the linear regression gradient, the formula is actually different because linear and logistic regression have different definitions of $h_\\theta(x)$.\n",
        "<a id=\"costFunction\"></a>"
      ]
    },
    {
      "cell_type": "code",
      "metadata": {
        "id": "826OVuio3ZeY"
      },
      "source": [
        "def gradient(theta, X, y):\n",
        "    \"\"\"\n",
        "    Compute cost and gradient for logistic regression. \n",
        "    \n",
        "    Parameters\n",
        "    ----------\n",
        "    theta : array_like\n",
        "        The parameters for logistic regression. This a vector\n",
        "        of shape (n+1, ).\n",
        "    \n",
        "    X : array_like\n",
        "        The input dataset of shape (m , n+1) where m is the total number\n",
        "        of data points and n is the number of features. We assume the \n",
        "        intercept has already been added to the input.\n",
        "    \n",
        "    y : arra_like\n",
        "        Labels for the input. This is a vector of shape (m, ).\n",
        "    \n",
        "    Returns\n",
        "    -------\n",
        "    \n",
        "    grad : array_like\n",
        "        A vector of shape (n+1, ) which is the gradient of the cost\n",
        "        function with respect to theta, at the current values of theta.\n",
        "        \n",
        "    Instructions\n",
        "    ------------\n",
        "    Compute the partial derivatives and set grad to the partial\n",
        "    derivatives of the cost w.r.t. each parameter in theta.\n",
        "    \"\"\"\n",
        "    m = y.size\n",
        "    #Need to reshape to make it work\n",
        "    theta=theta.reshape(-1,1)\n",
        "    ###======= START CODE HERE========== ### (≈ 2 lines of code)\n",
        "\n",
        "\n",
        "\n",
        "    ###========= END CODE HERE=========== ###    \n",
        "\n",
        "    return(grad.flatten())\n"
      ],
      "execution_count": null,
      "outputs": []
    },
    {
      "cell_type": "code",
      "metadata": {
        "id": "GbyKr8hwAGQo",
        "colab": {
          "base_uri": "https://localhost:8080/"
        },
        "outputId": "0d1d9c1f-ed62-4585-b279-f49150c68dd4"
      },
      "source": [
        "# Initialize fitting parameters\n",
        "initial_theta = np.zeros(X.shape[1])\n",
        "\n",
        "cost = costFunction(initial_theta, X, y)\n",
        "\n",
        "print('Cost at initial theta (zeros): {:.3f}'.format(cost))\n",
        "print('\\n')\n",
        "\n",
        "grad = gradient(initial_theta, X, y)\n",
        "\n",
        "print('Gradient at initial theta (zeros):')\n",
        "print('\\t[{:.4f}, {:.4f}, {:.4f}]'.format(*grad))\n",
        "print('\\n')\n",
        "\n",
        "# Compute and display cost and gradient with non-zero theta\n",
        "test_theta = np.array([-24, 0.2, 0.2])\n",
        "cost = costFunction(test_theta, X, y)\n",
        "grad = gradient(test_theta, X, y)\n",
        "\n",
        "print('Cost at test theta: {:.3f}'.format(cost))\n",
        "print('\\n')\n",
        "\n",
        "print('Gradient at test theta:')\n",
        "print('\\t[{:.3f}, {:.3f}, {:.3f}]'.format(*grad))\n",
        "\n"
      ],
      "execution_count": null,
      "outputs": [
        {
          "output_type": "stream",
          "name": "stdout",
          "text": [
            "Cost at initial theta (zeros): 0.693\n",
            "\n",
            "\n",
            "Gradient at initial theta (zeros):\n",
            "\t[-0.1000, -12.0092, -11.2628]\n",
            "\n",
            "\n",
            "Cost at test theta: 0.218\n",
            "\n",
            "\n",
            "Gradient at test theta:\n",
            "\t[0.043, 2.566, 2.647]\n"
          ]
        }
      ]
    },
    {
      "cell_type": "markdown",
      "source": [
        "**Expected Output (approx)**: \n",
        "\n",
        "```\n",
        "Cost at initial theta (zeros): 0.693\n",
        "\n",
        "Gradient at initial theta (zeros):\n",
        "\t[-0.1000, -12.0092, -11.2628]\n",
        "\n",
        "Cost at test theta: 0.218\n",
        "\n",
        "Gradient at test theta:\n",
        "\t[0.043, 2.566, 2.647]\n",
        "```"
      ],
      "metadata": {
        "id": "t5H-iJFco_iI"
      }
    },
    {
      "cell_type": "markdown",
      "metadata": {
        "id": "5Qcz8dLsPC6o"
      },
      "source": [
        "\n",
        "### 2.3 General Batch Gradient Descent\n",
        "\n",
        "In this part, you will create a Batch Graident Descent algoriths that can work for multiple models (e.g., Logistic and Linear Regression)\n",
        "\n",
        "\n",
        "Recall that in batch gradient descent, each iteration performs the update\n",
        "\n",
        "\n",
        "$$ \\theta_j = \\theta_j - \\alpha (\\frac{\\partial J(\\theta)}{\\partial \\theta_j})$$\n",
        "\n",
        "$$ \\qquad \\text{simultaneously update } \\theta_j \\text{ for j}=\\{1,2,...n\\} $$ \n",
        "\n",
        "\n",
        "With each step of gradient descent, your parameters come closer to the optimal values that will achieve the lowest cost J($\\theta$).\n",
        "\n",
        "<br>\n",
        "\n",
        "Next, you will complete a function which implements General Batch Gradient Descent. The starter code for the function `General_Batch_GD` calls `costFunction` and `gradient` on every iteration and saves the cost to a `python` list. Assuming you have implemented all the functions correctly, your value of $J(\\theta)$ should never increase, and should converge to a steady value by the end of the algorithm.\n",
        "<br><br>\n",
        "\n",
        "\n"
      ]
    },
    {
      "cell_type": "code",
      "metadata": {
        "id": "Icix-c0LeDcL"
      },
      "source": [
        "def General_Batch_GD(X, y, theta, alpha, num_iters, costFunction,gradient):\n",
        "    \"\"\"\n",
        "    Performs a vectorized gradient descent to learn `theta`. Updates theta by taking `num_iters`\n",
        "    gradient steps with learning rate `alpha`.\n",
        "    \n",
        "    Parameters\n",
        "    ----------\n",
        "    X : array_like\n",
        "        The input dataset of shape (m , n+1).\n",
        "    \n",
        "    y : arra_like\n",
        "        Value at given features. A vector of shape (m , 1 ).\n",
        "    \n",
        "    theta : array_like\n",
        "        Initial values for the linear regression parameters. \n",
        "        A vector of shape (n+1, ).\n",
        "    \n",
        "    alpha : float\n",
        "        The learning rate.\n",
        "    \n",
        "    num_iters : int\n",
        "        The number of iterations for gradient descent. \n",
        "    \n",
        "    Returns\n",
        "    -------\n",
        "    theta : array_like\n",
        "        The learned linear regression parameters. A vector of shape (n+1, ).\n",
        "    \n",
        "    J_history : list\n",
        "        A python list for the values of the cost function after each iteration.\n",
        "    \n",
        "    Instructions\n",
        "    ------------\n",
        "    Peform a single gradient step on the parameter vector theta.\n",
        "\n",
        "    While debugging, it can be useful to print out the values of \n",
        "    the cost function (computeCost) and gradient.\n",
        "    \"\"\"\n",
        "    # Initialize some useful values\n",
        "    m = y.shape[0]  # number of training examples\n",
        "    \n",
        "    # make a copy of theta, to avoid changing the original array, since numpy arrays\n",
        "    # are passed by reference to functions!!!\n",
        "    theta = theta.copy()\n",
        "    \n",
        "    J_history = [] # Use a python list to save cost in every iteration \n",
        "    ###======= START CODE HERE========== ### (≈ 2 lines of code)\n",
        "\n",
        "\n",
        "\n",
        "\n",
        "\n",
        "\n",
        "    ###========= END CODE HERE=========== ### \n",
        "         \n",
        "    return theta, J_history"
      ],
      "execution_count": null,
      "outputs": []
    },
    {
      "cell_type": "markdown",
      "metadata": {
        "id": "iD5wuJoFCaur"
      },
      "source": [
        "Now lets test out General Gradient Descent Implementation"
      ]
    },
    {
      "cell_type": "code",
      "metadata": {
        "id": "3tY4Wdb-9Sna",
        "colab": {
          "base_uri": "https://localhost:8080/",
          "height": 356
        },
        "outputId": "949b8251-5cda-4866-efd9-6a8d74becbd1"
      },
      "source": [
        "# Lets try our code with T=1000\n",
        "initial_theta = np.zeros(X.shape[1])\n",
        "\n",
        "\n",
        "tic = time.process_time()\n",
        "###======= START CODE HERE========== ### \n",
        "iterations = 80\n",
        "alpha = 21\n",
        "\n",
        "#Lets scale using StandardScaler() to undertand how it workd \n",
        "std_scaler = StandardScaler()\n",
        "#Dont Scale the bias term\n",
        "X_norm_nobias=std_scaler.fit_transform(data[:,0:2])\n",
        "#Now add the bias\n",
        "X_norm = np.c_[np.ones((data.shape[0],1)),X_norm_nobias]\n",
        "\n",
        "theta_GD, J_history = General_Batch_GD(X_norm, y, initial_theta, alpha, iterations, costFunction,gradient)\n",
        "cost_GD=costFunction(theta_GD, X_norm, y)\n",
        "###========= END CODE HERE=========== ### \n",
        "toc = time.process_time()\n",
        "\n",
        "print(\"Time to run:\"+str( round((1000*(toc - tic)),3)) + \"ms\")\n",
        "print('Cost at theta found by optimize.minimize: {:.3f}'.format(cost_GD))\n",
        "\n",
        "\n",
        "print('Theta:')\n",
        "print('\\t[{:.3f}, {:.3f}, {:.3f}]'.format(*theta_GD))\n",
        "\n",
        "\n",
        "# theta for minimized cost J\n",
        "plt.plot(J_history, \"b.\")\n",
        "# #plt.xlim(xmin=0.0)\n",
        "plt.ylabel('Cost J')\n",
        "plt.xlabel('Iterations');"
      ],
      "execution_count": null,
      "outputs": [
        {
          "output_type": "stream",
          "name": "stdout",
          "text": [
            "Time to run:10.622ms\n",
            "Cost at theta found by optimize.minimize: 0.203\n",
            "Theta:\n",
            "\t[1.718, 3.992, 3.726]\n"
          ]
        },
        {
          "output_type": "display_data",
          "data": {
            "text/plain": [
              "<Figure size 432x288 with 1 Axes>"
            ],
            "image/png": "[encoded data removed]"
          },
          "metadata": {}
        }
      ]
    },
    {
      "cell_type": "code",
      "source": [
        "cost_GD"
      ],
      "metadata": {
        "id": "Hxz46LjcF-Ll",
        "outputId": "df3caf95-dd8d-4c01-8bbc-77d46d3e5c64",
        "colab": {
          "base_uri": "https://localhost:8080/"
        }
      },
      "execution_count": null,
      "outputs": [
        {
          "output_type": "execute_result",
          "data": {
            "text/plain": [
              "0.20349775565138792"
            ]
          },
          "metadata": {},
          "execution_count": 14
        }
      ]
    },
    {
      "cell_type": "markdown",
      "source": [
        "**Expected Output (approx)**: \n",
        "\n",
        "```\n",
        "Cost at theta found by optimize.minimize: 0.203\n",
        "\n",
        "Expected theta (approx):\n",
        "\t[1.718, 3.993, 3.725]\n",
        "\n",
        "```"
      ],
      "metadata": {
        "id": "hgp0umYfpOOn"
      }
    },
    {
      "cell_type": "markdown",
      "metadata": {
        "id": "2Qjjb_B8upI6"
      },
      "source": [
        "Congratulations, you implemented Logistics Regression with Batch Gradient Descent!!....??"
      ]
    },
    {
      "cell_type": "markdown",
      "metadata": {
        "id": "y6NMVKXv3Zex"
      },
      "source": [
        "### 2.4 Learning parameters using `scipy.optimize`"
      ]
    },
    {
      "cell_type": "markdown",
      "metadata": {
        "id": "tup_7Tm3yBnf"
      },
      "source": [
        "\n",
        "\n",
        "In the previous assignment, you found the optimal parameters of a linear regression model by implementing gradient descent. You wrote a cost function and calculated its gradient, then took a gradient descent step accordingly. This time, instead of taking gradient descent steps, you will use the [`scipy.optimize` module](https://docs.scipy.org/doc/scipy/reference/optimize.html). SciPy is a numerical computing library for `python`. It provides an optimization module for root finding and minimization. As of `scipy 1.0`, the function `scipy.optimize.minimize` is the method to use for optimization problems(both constrained and unconstrained).\n",
        "\n",
        "For logistic regression, you want to optimize the cost function $J(\\theta)$ with parameters $\\theta$.\n",
        "Concretely, you are going to use `optimize.minimize` to find the best parameters $\\theta$ for the logistic regression cost function, given a fixed dataset (of X and y values). You will pass to `optimize.minimize` the following inputs:\n",
        "- `costFunction`: A cost function that, when given the training set and a particular $\\theta$, computes the logistic regression cost and gradient with respect to $\\theta$ for the dataset (X, y). It is important to note that we only pass the name of the function without the parenthesis. This indicates that we are only providing a reference to this function, and not evaluating the result from this function.\n",
        "- `initial_theta`: The initial values of the parameters we are trying to optimize.\n",
        "- `(X, y)`: These are additional arguments to the cost function.\n",
        "- `jac`: Indication if the cost function returns the [Jacobian (gradient)](https://www.value-at-risk.net/functions/) along with cost value. (True)\n",
        "- `method`: Optimization method/algorithm to use\n",
        "- `options`: Additional options which might be specific to the specific optimization method. In the following, we only tell the algorithm the maximum number of iterations before it terminates.\n",
        "\n",
        "If you have completed the `costFunction` correctly, `optimize.minimize` will converge on the right optimization parameters and return the final values of the cost and $\\theta$ in a class object. Notice that by using `optimize.minimize`, you did not have to write any loops yourself, or set a learning rate like you did for gradient descent. This is all done by `optimize.minimize`: you only needed to provide a function calculating the cost and the gradient.\n",
        "\n",
        "In the following, we already have code written to call `optimize.minimize` with the correct arguments."
      ]
    },
    {
      "cell_type": "code",
      "metadata": {
        "id": "bv1fXe3r3Ze2",
        "colab": {
          "base_uri": "https://localhost:8080/"
        },
        "outputId": "e651f0d3-0c81-4e4e-e37c-bbf69a508270"
      },
      "source": [
        "# set options for optimize.minimize\n",
        "options= {'maxiter': 400}\n",
        "\n",
        "# see documention for scipy's optimize.minimize  for description about\n",
        "# the different parameters\n",
        "# The function returns an object `OptimizeResult`\n",
        "# We use truncated Newton algorithm for optimization which is \n",
        "# equivalent to MATLAB's fminunc\n",
        "# See https://stackoverflow.com/questions/18801002/fminunc-alternate-in-numpy\n",
        "# https://docs.scipy.org/doc/scipy/reference/generated/scipy.optimize.minimize.html\n",
        "\n",
        "#More about the BFGC algorithm:\n",
        "#https://en.wikipedia.org/wiki/Broyden%E2%80%93Fletcher%E2%80%93Goldfarb%E2%80%93Shanno_algorithm\n",
        "\n",
        "\n",
        "#While the the \"TNC\" method (as well as others) has a default scale funciton\n",
        "#Lets scale using StandardScaler() to undertand how it workd \n",
        "std_scaler = StandardScaler()\n",
        "#Dont Scale the bias term\n",
        "X_norm_nobias=std_scaler.fit_transform(data[:,0:2])\n",
        "\n",
        "#Keep your scale values for the future (predictions)\n",
        "mu_sklearn=std_scaler.fit(X).mean_\n",
        "sigma_sklearn=np.sqrt(std_scaler.fit(X).var_)\n",
        "\n",
        "#Now add the bias\n",
        "X_norm = np.c_[np.ones((data.shape[0],1)),X_norm_nobias]\n",
        "\n",
        "\n",
        "tic = time.process_time()\n",
        "res = minimize(costFunction, initial_theta, args=(X_norm,y), method=\"BFGS\", jac=gradient, options=options)\n",
        "toc = time.process_time()\n",
        "\n",
        "# the fun property of `OptimizeResult` object returns\n",
        "# the value of costFunction at optimized theta\n",
        "cost__scipy = res.fun\n",
        "\n",
        "# the optimized theta is in the x property\n",
        "theta_scipy = res.x\n",
        "\n",
        "# Print theta to screen\n",
        "print(\"Time to run:\"+str( round((1000*(toc - tic)),3)) + \"ms\")\n",
        "print('Cost at theta found by optimize.minimize: {:.3f}'.format(cost__scipy))\n",
        "print('\\n');\n",
        "print('theta:')\n",
        "print('\\t[{:.3f}, {:.3f}, {:.3f}]'.format(*theta_scipy))\n"
      ],
      "execution_count": null,
      "outputs": [
        {
          "output_type": "stream",
          "name": "stdout",
          "text": [
            "Time to run:8.213ms\n",
            "Cost at theta found by optimize.minimize: 0.203\n",
            "\n",
            "\n",
            "theta:\n",
            "\t[1.718, 3.993, 3.725]\n"
          ]
        }
      ]
    },
    {
      "cell_type": "markdown",
      "source": [
        "**Expected Output (approx)**: \n",
        "\n",
        "```\n",
        "Expected cost (approx): 0.203\n",
        "\n",
        "Expected theta (approx):\n",
        "\t[1.718, 3.993, 3.725]\n",
        "\n",
        "```"
      ],
      "metadata": {
        "id": "W2titvwHqRgv"
      }
    },
    {
      "cell_type": "markdown",
      "metadata": {
        "id": "G-YIcaygBtGa"
      },
      "source": [
        "<a id=\"section4\"></a>\n",
        "### 2.5 Evaluating logistic regression"
      ]
    },
    {
      "cell_type": "markdown",
      "metadata": {
        "id": "DlxXX-NnyBoO"
      },
      "source": [
        "\n",
        "\n",
        "After learning the parameters, you can use the model to predict whether a particular student will be admitted. For a student with an Exam 1 score of 45 and an Exam 2 score of 85, you should expect to see an admission\n",
        "probability of 0.776. \n",
        "<a id=\"predict\"></a>"
      ]
    },
    {
      "cell_type": "code",
      "metadata": {
        "id": "LVwMYcTw3Zff",
        "colab": {
          "base_uri": "https://localhost:8080/"
        },
        "outputId": "b06ce7f1-d8b3-45d5-b150-683d14c2c156"
      },
      "source": [
        "# Student with Exam 1 score 45 and Exam 2 score 85\n",
        "new_student=np.array([1, 45, 85]).reshape(1,3)\n",
        "#Scale data using same values\n",
        "new_student_scale= (new_student-mu_sklearn)/sigma_sklearn\n",
        "\n",
        "#YOU DONT WANT TO SCALE THE BIAS TERM\n",
        "new_student_scale[0,0]=1\n",
        "\n",
        "# Predict using the optimized Theta values from above (res.x)\n",
        "prob_new_student=sigmoid(new_student_scale.dot(theta_scipy.reshape(-1,1)))\n",
        "print(round(prob_new_student[0,0],4))"
      ],
      "execution_count": null,
      "outputs": [
        {
          "output_type": "stream",
          "name": "stdout",
          "text": [
            "0.7762\n"
          ]
        }
      ]
    },
    {
      "cell_type": "code",
      "metadata": {
        "id": "2wTs9Iu2syj8",
        "colab": {
          "base_uri": "https://localhost:8080/"
        },
        "outputId": "b7dc5f63-35c6-46ce-beb2-d6e923fd59cf"
      },
      "source": [
        "new_student_scale"
      ],
      "execution_count": null,
      "outputs": [
        {
          "output_type": "execute_result",
          "data": {
            "text/plain": [
              "array([[ 1.        , -1.06629865,  1.0155961 ]])"
            ]
          },
          "metadata": {},
          "execution_count": 17
        }
      ]
    },
    {
      "cell_type": "markdown",
      "metadata": {
        "id": "ML6iyZqrCYoN"
      },
      "source": [
        "Another way to evaluate the quality of the parameters we have found is to see how well the learned model predicts on our training set. In this part, your task is to complete the code in function `predict`. The predict function will produce “1” or “0” predictions given a dataset and a learned parameter vector $\\theta$. "
      ]
    },
    {
      "cell_type": "code",
      "metadata": {
        "id": "O6oSB5i63ZfM"
      },
      "source": [
        "def predict(theta, X, threshold=0.5):\n",
        "    \"\"\"\n",
        "    Predict whether the label is 0 or 1 using learned logistic regression.\n",
        "    Computes the predictions for X using a threshold at 0.5 \n",
        "    (i.e., if sigmoid(theta.T*x) >= 0.5, predict 1)\n",
        "\n",
        "    Parameters\n",
        "    ----------\n",
        "    theta : array_like\n",
        "        Parameters for logistic regression. A vector of shape (n+1, ).\n",
        "\n",
        "    X : array_like\n",
        "        The data to use for computing predictions. The rows is the number \n",
        "        of points to compute predictions, and columns is the number of\n",
        "        features, shape (m,n+1).\n",
        "\n",
        "    Returns\n",
        "    -------\n",
        "    p : array_like\n",
        "        Predictions and 0 or 1 for each row in X. \n",
        "\n",
        "    Instructions\n",
        "    ------------\n",
        "    Complete the following code to make predictions using your learned \n",
        "    logistic regression parameters.You should set p to a vector of 0's and 1's    \n",
        "    \"\"\"\n",
        "    m = X.shape[0] # Number of training examples\n",
        "    p = np.zeros(m)\n",
        "    ###======= START CODE HERE========== ### (≈ 1 lines of code)\n",
        "\n",
        "\n",
        "\n",
        "\n",
        "    ###========= END CODE HERE=========== ###\n",
        "    \n",
        "    return(p.astype('int'))"
      ],
      "execution_count": null,
      "outputs": []
    },
    {
      "cell_type": "code",
      "metadata": {
        "id": "TZxbU-nmCONI",
        "colab": {
          "base_uri": "https://localhost:8080/"
        },
        "outputId": "0e09632c-4649-4180-e420-12a3b6d381ed"
      },
      "source": [
        "\n",
        "\n",
        "print('For a student with scores 45 and 85,'\n",
        "      'we predict an admission probability of {:.3f}'.format(prob_new_student[0,0]))\n",
        "print('\\n')\n",
        "\n",
        "# Compute accuracy on our training set\n",
        "p = predict(theta_scipy, X_norm).reshape(-1,1)\n",
        "#p=sigmoid(X_norm.dot(theta_scipy.reshape(-1,1)))>=0.5\n",
        "print('Train Accuracy: {:.2f} %'.format(np.mean(p == y) * 100))\n"
      ],
      "execution_count": null,
      "outputs": [
        {
          "output_type": "stream",
          "name": "stdout",
          "text": [
            "For a student with scores 45 and 85,we predict an admission probability of 0.776\n",
            "\n",
            "\n",
            "Train Accuracy: 89.00 %\n"
          ]
        }
      ]
    },
    {
      "cell_type": "markdown",
      "source": [
        "**Expected Output (approx)**: \n",
        "\n",
        "```\n",
        "Expected value: 0.776\n",
        "\n",
        "Expected accuracy (approx): 89.00 %\n",
        "\n",
        "```"
      ],
      "metadata": {
        "id": "lPDh4mMOqpJ_"
      }
    },
    {
      "cell_type": "markdown",
      "metadata": {
        "id": "d7DFin183ZgP"
      },
      "source": [
        "### 2.6 Decision boundary"
      ]
    },
    {
      "cell_type": "markdown",
      "metadata": {
        "id": "mMZica-LyBn4"
      },
      "source": [
        "Once `optimize.minimize` completes, we want to use the final value for $\\theta$ to visualize the decision boundary on the training data as shown in the figure below. \n"
      ]
    },
    {
      "cell_type": "code",
      "metadata": {
        "id": "uFB9J-3d3ZgV",
        "colab": {
          "base_uri": "https://localhost:8080/",
          "height": 285
        },
        "outputId": "27624b45-8ec3-4cb4-dbc1-926ed9f31d88"
      },
      "source": [
        "plt.scatter(45, 85, s=60, c='r', marker='v', label='(45, 85)')\n",
        "plotData(data, 'Exam 1 score', 'Exam 2 score', 'Admitted', 'Not admitted')\n",
        "\n",
        "x1_min, x1_max = X[:,1].min(), X[:,1].max(),\n",
        "x2_min, x2_max = X[:,2].min(), X[:,2].max(),\n",
        "\n",
        "xx1, xx2 = np.meshgrid(np.linspace(x1_min, x1_max), np.linspace(x2_min, x2_max))\n",
        "h = sigmoid(np.c_[np.ones((xx1.ravel().shape[0],1)), \n",
        "                  (xx1.ravel()-mu_sklearn[1])/sigma_sklearn[1], \n",
        "                   (xx2.ravel()-mu_sklearn[1])/sigma_sklearn[1]].dot(res.x))\n",
        "h = h.reshape(xx1.shape)\n",
        "plt.contour(xx1, xx2, h, [0.5], linewidths=1, colors='b');"
      ],
      "execution_count": null,
      "outputs": [
        {
          "output_type": "display_data",
          "data": {
            "text/plain": [
              "<Figure size 432x288 with 1 Axes>"
            ],
            "image/png": "[encoded data removed]"
          },
          "metadata": {}
        }
      ]
    },
    {
      "cell_type": "markdown",
      "metadata": {
        "id": "-FY2DX1ACyGC"
      },
      "source": [
        "## 3 Regularized logistic regression"
      ]
    },
    {
      "cell_type": "markdown",
      "metadata": {
        "id": "NH3VPNoPyBpM"
      },
      "source": [
        "\n",
        "\n",
        "In this part, you will implement Regularized Logistic Regression to predict whether microchips from a fabrication plant passes quality assurance (QA). During QA, each microchip goes through various tests to ensure it is functioning correctly.\n",
        "\n",
        "Suppose you are the product manager of the factory and you have the test results for some microchips on two different tests. From these two tests, you would like to determine whether the microchips should be accepted or rejected. To help you make the decision, you have a dataset of test results on past microchips, from which you can build a logistic regression model.\n",
        "\n"
      ]
    },
    {
      "cell_type": "code",
      "metadata": {
        "id": "vI1UTv1Y3Zgz",
        "colab": {
          "base_uri": "https://localhost:8080/"
        },
        "outputId": "406a07f6-cd14-4790-ddc9-96c14690ab1e"
      },
      "source": [
        "data2 = loaddata('ex2data2.txt', ',')"
      ],
      "execution_count": null,
      "outputs": [
        {
          "output_type": "stream",
          "name": "stdout",
          "text": [
            "Dimensions:  (118, 3)\n",
            "[[-0.092742  0.68494   1.      ]\n",
            " [-0.21371   0.69225   1.      ]\n",
            " [-0.375     0.50219   1.      ]\n",
            " [-0.51325   0.46564   1.      ]\n",
            " [-0.52477   0.2098    1.      ]]\n"
          ]
        }
      ]
    },
    {
      "cell_type": "code",
      "metadata": {
        "id": "xGBff4uc3ZhG"
      },
      "source": [
        "y = np.c_[data2[:,2]]\n",
        "X = data2[:,0:2]"
      ],
      "execution_count": null,
      "outputs": []
    },
    {
      "cell_type": "markdown",
      "metadata": {
        "id": "_SWFiaZQyBpa"
      },
      "source": [
        "### 3.1 Visualize the data\n",
        "\n",
        "Similar to the previous parts of this exercise, `plotData` is used to generate a figure, where the axes are the two test scores, and the positive (y = 1, accepted) and negative (y = 0, rejected) examples are shown with\n",
        "different markers."
      ]
    },
    {
      "cell_type": "code",
      "metadata": {
        "id": "QmnCW2123ZhT",
        "colab": {
          "base_uri": "https://localhost:8080/",
          "height": 285
        },
        "outputId": "86f335b6-a217-449c-bedf-c2055ce44d6e"
      },
      "source": [
        "plotData(data2, 'Microchip Test 1', 'Microchip Test 2', 'y = 1', 'y = 0')"
      ],
      "execution_count": null,
      "outputs": [
        {
          "output_type": "display_data",
          "data": {
            "text/plain": [
              "<Figure size 432x288 with 1 Axes>"
            ],
            "image/png": "[encoded data removed]"
          },
          "metadata": {}
        }
      ]
    },
    {
      "cell_type": "markdown",
      "metadata": {
        "id": "ioTlhNShyBpt"
      },
      "source": [
        "The above figure shows that our dataset cannot be separated into positive and negative examples by a straight-line through the plot. Therefore, a straight-forward application of logistic regression will not perform well on this dataset since logistic regression will only be able to find a linear decision boundary.\n",
        "\n",
        "\n"
      ]
    },
    {
      "cell_type": "markdown",
      "metadata": {
        "id": "2Ei4jBEKDV1T"
      },
      "source": [
        "### 3.2 Feature mapping\n",
        "\n",
        "One way to fit the data better is to create more features from each data point, by using the function `PolynomialFeatures` "
      ]
    },
    {
      "cell_type": "code",
      "metadata": {
        "id": "caPHsah83Zhl",
        "colab": {
          "base_uri": "https://localhost:8080/"
        },
        "outputId": "8dae06e4-1101-4175-ec4e-9538b617afd4"
      },
      "source": [
        "# Note that this function inserts a column with 'ones' in the design matrix for the intercept.\n",
        "poly = PolynomialFeatures(6, include_bias =True)\n",
        "XX = poly.fit_transform(data2[:,0:2])\n",
        "XX.shape"
      ],
      "execution_count": null,
      "outputs": [
        {
          "output_type": "execute_result",
          "data": {
            "text/plain": [
              "(118, 28)"
            ]
          },
          "metadata": {},
          "execution_count": 24
        }
      ]
    },
    {
      "cell_type": "markdown",
      "metadata": {
        "id": "Lq8DuTaDyBp3"
      },
      "source": [
        "<a id=\"section5\"></a>\n",
        "### 3.3 Cost function Regularized Logistic Regression\n",
        "\n",
        "Now you will implement code to compute the cost function and gradient for regularized logistic regression. Complete the code for the function `costFunctionReg` below to return the cost and gradient.\n",
        "\n",
        "Recall that the regularized cost function in logistic regression is\n",
        "\n",
        "$$ J(\\theta) = \\frac{1}{m} \\sum_{i=1}^m \\left[ -y^{(i)}\\log \\left( h_\\theta \\left(x^{(i)} \\right) \\right) - \\left( 1 - y^{(i)} \\right) \\log \\left( 1 - h_\\theta \\left( x^{(i)} \\right) \\right) \\right] + \\frac{\\lambda}{2m} \\sum_{j=1}^n \\theta_j^2 $$\n",
        "\n",
        "#### Vectorized Cost Function\n",
        "#### $$ J(\\theta) = -\\frac{1}{m}\\big((\\,log\\,(g(X\\theta))^Ty+(\\,log\\,(1-g(X\\theta))^T(1-y)\\big) + ( \\frac{\\lambda}{2m})(\\theta*A)^{T}(\\theta*A) $$\n",
        "\n",
        "Where $A$ is the $(n \\times 1)$ matrix full of ones, with a single 0 in its first entry\n",
        "\n",
        "Note that you should not regularize the parameters $\\theta_0$. "
      ]
    },
    {
      "cell_type": "code",
      "metadata": {
        "id": "zPnpyLYa3ZiD"
      },
      "source": [
        "def costFunctionReg(theta, reg,X, y):\n",
        "    \"\"\"\n",
        "    Compute cost  for logistic regression with regularization.\n",
        "    \n",
        "    Parameters\n",
        "    ----------\n",
        "    theta : array_like\n",
        "        Logistic regression parameters. A vector with shape (n,1 ). n is \n",
        "        the number of features including any intercept. If we have mapped\n",
        "        our initial features into polynomial features, then n is the total \n",
        "        number of polynomial features. \n",
        "    \n",
        "    X : array_like\n",
        "        The data set with shape (m , n). m is the number of examples, and\n",
        "        n is the number of features (after feature mapping).\n",
        "    \n",
        "    y : array_like\n",
        "        The data labels. A vector with shape (m, 1).\n",
        "    \n",
        "    lambda_ : float\n",
        "        The regularization parameter. \n",
        "    \n",
        "    Returns\n",
        "    -------\n",
        "    J : array_like of float , shape (n, )\n",
        "        The computed value for the regularized cost function. \n",
        "    \n",
        "\n",
        "    \n",
        "    Instructions\n",
        "    ------------\n",
        "    Compute the cost `J` of a particular choice of theta.\n",
        "    \"\"\"\n",
        "    m = y.size\n",
        "    A=np.ones(theta.shape)\n",
        "    A[0,]=0\n",
        "    #OR you can use theta[1:] instead of just theta in your regularizaton part\n",
        "    ###======= START CODE HERE========== ### (≈ 6 lines of code) \n",
        "\n",
        "\n",
        "    \n",
        "\n",
        "\n",
        "    ###======= END CODE HERE========== ### \n",
        "    if np.isnan(J[0]):\n",
        "        return(np.inf)\n",
        "    return(J[0])"
      ],
      "execution_count": null,
      "outputs": []
    },
    {
      "cell_type": "markdown",
      "metadata": {
        "id": "pe2jtfG9EHIX"
      },
      "source": [
        "<a id=\"section5\"></a>\n",
        "### 3.3 Gradient of Regularized Logistic Regression\n",
        "\n",
        " The gradient of the cost function is a vector where the $j^{th}$ element is defined as follows:\n",
        "\n",
        "$$ \\frac{\\partial J(\\theta)}{\\partial \\theta_0} = \\frac{1}{m} \\sum_{i=1}^m \\left( h_\\theta \\left(x^{(i)}\\right) - y^{(i)} \\right) x_j^{(i)} \\qquad \\text{for } j =0 $$\n",
        "\n",
        "$$ \\frac{\\partial J(\\theta)}{\\partial \\theta_j} = \\left( \\frac{1}{m} \\sum_{i=1}^m \\left( h_\\theta \\left(x^{(i)}\\right) - y^{(i)} \\right) x_j^{(i)} \\right) + \\frac{\\lambda}{m}\\theta_j \\qquad \\text{for } j \\ge 1 $$\n",
        "<a id=\"costFunctionReg\"></a>\n",
        "\n",
        "#### Vectorized\n",
        "#### $$ \\frac{\\delta J(\\theta)}{\\delta\\theta_{j}} = \\frac{1}{m} X^T(g(X\\theta)-y) + \\frac{\\lambda}{m}\\theta_{j}$$\n",
        "##### $$\\text{Note: intercept parameter } \\theta_{0} \\text{ is not to be regularized}$$"
      ]
    },
    {
      "cell_type": "code",
      "metadata": {
        "id": "luRLD-GS3ZiP"
      },
      "source": [
        "def gradientReg(theta, reg, X,y):\n",
        "    \"\"\"\n",
        "    Compute the gradient for logistic regression with regularization.\n",
        "    \n",
        "    Parameters\n",
        "    ----------\n",
        "    theta : array_like\n",
        "        Logistic regression parameters. A vector with shape (n, ). n is \n",
        "        the number of features including any intercept. If we have mapped\n",
        "        our initial features into polynomial features, then n is the total \n",
        "        number of polynomial features. \n",
        "    \n",
        "    X : array_like\n",
        "        The data set with shape (m , n). m is the number of examples, and\n",
        "        n is the number of features (after feature mapping).\n",
        "    \n",
        "    y : array_like\n",
        "        The data labels. A vector with shape (m, 1).\n",
        "    \n",
        "    lambda_ : float\n",
        "        The regularization parameter. \n",
        "    \n",
        "    Returns\n",
        "    -------\n",
        "\n",
        "    grad : array_like\n",
        "        A vector of shape (n, ) which is the gradient of the cost\n",
        "        function with respect to theta, at the current values of theta.\n",
        "    \n",
        "    \"\"\"\n",
        "    m = y.size\n",
        "    theta=theta.reshape(-1,1)\n",
        "    ###======= START CODE HERE========== ### (≈ 2 lines of code)\n",
        "\n",
        "\n",
        "\n",
        "\n",
        "    ###======= END CODE HERE========== ### \n",
        "       \n",
        "    return(grad.flatten())"
      ],
      "execution_count": null,
      "outputs": []
    },
    {
      "cell_type": "markdown",
      "metadata": {
        "id": "lzzjR59SyBqH"
      },
      "source": [
        "Once you are done with the `costFunctionReg`  and `gradientReg`, we call it below using the initial value of $\\theta$ (initialized to all zeros), and also another test case where $\\theta$ is all ones."
      ]
    },
    {
      "cell_type": "code",
      "metadata": {
        "id": "rq7tBs9hFIcN",
        "colab": {
          "base_uri": "https://localhost:8080/"
        },
        "outputId": "726abfdf-d547-4ee8-b432-e230b0199853"
      },
      "source": [
        "# Initialize fitting parameters\n",
        "initial_theta = np.zeros((XX.shape[1],1))\n",
        "\n",
        "# Set regularization parameter lambda to 1\n",
        "# DO NOT use `lambda` as a variable name in python\n",
        "# because it is a python keyword\n",
        "lambda_ = 1\n",
        "\n",
        "# Compute and display initial cost and gradient for regularized logistic\n",
        "# regression\n",
        "cost_Reg = costFunctionReg(initial_theta,lambda_, XX, y)\n",
        "grad_Reg = gradientReg(initial_theta,lambda_, XX, y)\n",
        "\n",
        "print('Cost at initial theta (zeros): {:.3f}'.format(cost_Reg[0]))\n",
        "print('\\n')\n",
        "\n",
        "print('Gradient at initial theta (zeros) - first five values only:')\n",
        "print('\\t[{:.4f}, {:.4f}, {:.4f}, {:.4f}, {:.4f}]'.format(*grad_Reg))\n",
        "print('\\n')\n",
        "\n",
        "\n",
        "# Compute and display cost and gradient\n",
        "# with all-ones theta and lambda = 10\n",
        "test_theta = np.ones((XX.shape[1],1))\n",
        "cost_Reg = costFunctionReg(test_theta,lambda_, XX, y)\n",
        "grad_Reg = gradientReg(test_theta,lambda_, XX, y)\n",
        "\n",
        "\n",
        "print('------------------------------\\n')\n",
        "print('Cost at test theta    : {:.2f}'.format(cost_Reg[0]))\n",
        "print('\\n')\n",
        "\n",
        "print('Gradient at initial theta (zeros) - first five values only:')\n",
        "print('\\t[{:.4f}, {:.4f}, {:.4f}, {:.4f}, {:.4f}]'.format(*grad_Reg))\n"
      ],
      "execution_count": null,
      "outputs": [
        {
          "output_type": "stream",
          "name": "stdout",
          "text": [
            "Cost at initial theta (zeros): 0.693\n",
            "\n",
            "\n",
            "Gradient at initial theta (zeros) - first five values only:\n",
            "\t[0.0085, 0.0188, 0.0001, 0.0503, 0.0115]\n",
            "\n",
            "\n",
            "------------------------------\n",
            "\n",
            "Cost at test theta    : 2.13\n",
            "\n",
            "\n",
            "Gradient at initial theta (zeros) - first five values only:\n",
            "\t[0.3460, 0.0851, 0.1185, 0.1506, 0.0159]\n"
          ]
        }
      ]
    },
    {
      "cell_type": "markdown",
      "source": [
        "**Expected Output (approx)**: \n",
        "\n",
        "```\n",
        "Cost at initial theta (zeros): 0.693\n",
        "\n",
        "Gradient at initial theta (zeros) - first five values only:\n",
        "\t[0.0085, 0.0188, 0.0001, 0.0503, 0.0115]\n",
        "\n",
        "------------------------------\n",
        "\n",
        "Cost at test theta    : 2.13\n",
        "\n",
        "Gradient at initial theta (zeros) - first five values only:\n",
        "\t[0.3460, 0.0851, 0.1185, 0.1506, 0.0159]\n",
        "```"
      ],
      "metadata": {
        "id": "BBeKjwRHq6Oe"
      }
    },
    {
      "cell_type": "code",
      "metadata": {
        "id": "6-fOSvxh3Zin",
        "colab": {
          "base_uri": "https://localhost:8080/",
          "height": 355
        },
        "outputId": "7b36b166-8769-493f-9eb5-b71effd9d482"
      },
      "source": [
        "fig, axes = plt.subplots(1,3, sharey = True, figsize=(17,5))\n",
        "\n",
        "# Decision boundaries\n",
        "# Lambda = 0 : No regularization --> too flexible, overfitting the training data\n",
        "# Lambda = 1 : Looks about right\n",
        "# Lambda = 100 : Too much regularization --> high bias\n",
        "\n",
        "for i, C in enumerate([0, 1, 100]):\n",
        "    # Optimize costFunctionReg\n",
        "    res2 = minimize(costFunctionReg, initial_theta, args=(C, XX, y), method=\"BFGS\", jac=gradientReg, options={'maxiter':3000})\n",
        "    \n",
        "    # Accuracy\n",
        "    accuracy = 100*sum(predict(res2.x, XX) == y.ravel())/y.size    \n",
        "\n",
        "    # Scatter plot of X,y\n",
        "    plotData(data2, 'Microchip Test 1', 'Microchip Test 2', 'y = 1', 'y = 0', axes.flatten()[i])\n",
        "    \n",
        "    # Plot decisionboundary\n",
        "    x1_min, x1_max = X[:,0].min(), X[:,0].max(),\n",
        "    x2_min, x2_max = X[:,1].min(), X[:,1].max(),\n",
        "    xx1, xx2 = np.meshgrid(np.linspace(x1_min, x1_max), np.linspace(x2_min, x2_max))\n",
        "    h = sigmoid(poly.fit_transform(np.c_[xx1.ravel(), xx2.ravel()]).dot(res2.x))\n",
        "    h = h.reshape(xx1.shape)\n",
        "    axes.flatten()[i].contour(xx1, xx2, h, [0.5], linewidths=1, colors='g');       \n",
        "    axes.flatten()[i].set_title('Train accuracy {}% with Lambda = {}'.format(np.round(accuracy, decimals=2), C))"
      ],
      "execution_count": null,
      "outputs": [
        {
          "output_type": "display_data",
          "data": {
            "text/plain": [
              "<Figure size 1224x360 with 3 Axes>"
            ],
            "image/png": "[encoded data removed]"
          },
          "metadata": {}
        }
      ]
    },
    {
      "cell_type": "markdown",
      "metadata": {
        "id": "zr5d-t8sX4bD"
      },
      "source": [
        "###### **DO NOT DELETE NOR MODIFY THESE CODE CELLS**\n",
        "\n",
        "\n"
      ]
    },
    {
      "cell_type": "code",
      "metadata": {
        "id": "Ha9RZa_2FuWc",
        "colab": {
          "base_uri": "https://localhost:8080/"
        },
        "outputId": "8628c480-2cb1-441f-e18b-dc8e7442830e"
      },
      "source": [
        "# # ###DO NOT DELETE NOR MODIFY THIS CODE CELL####\n",
        "!wget https://raw.githubusercontent.com/lopezbec/intro_python_notebooks/main/GRADING_LogR.py\n",
        "from GRADING_LogR import GRADING_LogR\n",
        "\n",
        "try:\n",
        "    sigmoid\n",
        "except:\n",
        "    sigmoid=None\n",
        "try:\n",
        "    cost\n",
        "except:\n",
        "    cost=None\n",
        "try:\n",
        "    grad\n",
        "except:\n",
        "    grad=None\n",
        "try:\n",
        "    theta_GD\n",
        "except:\n",
        "    theta_GD=None\n",
        "try:\n",
        "    cost_GD\n",
        "except:\n",
        "    cost_GD=None\n",
        "try:\n",
        "    prob_new_student\n",
        "except:\n",
        "    prob_new_student=None\n",
        "try:\n",
        "    cost_Reg\n",
        "except:\n",
        "    cost_Reg=None\n",
        "try:\n",
        "    grad_Reg\n",
        "except:\n",
        "    grad_Reg=None\n",
        "\n",
        "\n",
        "GRADING_LogR(sigmoid,cost,grad,theta_GD,cost_GD,prob_new_student,cost_Reg,grad_Reg)"
      ],
      "execution_count": null,
      "outputs": [
        {
          "output_type": "stream",
          "name": "stdout",
          "text": [
            "--2023-03-03 16:29:21--  https://raw.githubusercontent.com/lopezbec/intro_python_notebooks/main/GRADING_LogR.py\n",
            "Resolving raw.githubusercontent.com (raw.githubusercontent.com)... 185.199.108.133, 185.199.109.133, 185.199.110.133, ...\n",
            "Connecting to raw.githubusercontent.com (raw.githubusercontent.com)|185.199.108.133|:443... connected.\n",
            "HTTP request sent, awaiting response... 200 OK\n",
            "Length: 1344 (1.3K) [text/plain]\n",
            "Saving to: ‘GRADING_LogR.py’\n",
            "\n",
            "GRADING_LogR.py     100%[===================>]   1.31K  --.-KB/s    in 0s      \n",
            "\n",
            "2023-03-03 16:29:21 (29.5 MB/s) - ‘GRADING_LogR.py’ saved [1344/1344]\n",
            "\n",
            "sigmoid : True\n",
            "cost : True\n",
            "grad : True\n",
            "theta_GD : True\n",
            "cost_GD : True\n",
            "predict : True\n",
            "cost_Reg : True\n",
            "grad_Reg : True\n"
          ]
        }
      ]
    }
  ]
}