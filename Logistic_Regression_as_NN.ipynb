{
  "nbformat": 4,
  "nbformat_minor": 0,
  "metadata": {
    "coursera": {
      "course_slug": "neural-networks-deep-learning",
      "graded_item_id": "XaIWT",
      "launcher_item_id": "zAgPl"
    },
    "kernelspec": {
      "display_name": "Python 3",
      "language": "python",
      "name": "python3"
    },
    "language_info": {
      "codemirror_mode": {
        "name": "ipython",
        "version": 3
      },
      "file_extension": ".py",
      "mimetype": "text/x-python",
      "name": "python",
      "nbconvert_exporter": "python",
      "pygments_lexer": "ipython3",
      "version": "3.6.0"
    },
    "colab": {
      "provenance": [],
      "collapsed_sections": [
        "KgnpDlH_VxAI"
      ]
    }
  },
  "cells": [
    {
      "cell_type": "markdown",
      "metadata": {
        "id": "5kmm5U84Xn-r"
      },
      "source": [
        "\n",
        "\n",
        "\n",
        "<center><b>©Content is made available under the CC-BY-NC-ND 4.0 license. Christian Lopez, lopezbec@lafayette.edu<b><center>"
      ]
    },
    {
      "cell_type": "markdown",
      "source": [
        "<table align=\"left\">\n",
        "  <td>\n",
        "    <a href=\"https://colab.research.google.com/github/lopezbec/intro_python_notebooks/blob/master/Logistic_Regression_as_NN.ipynb\" target=\"_parent\"><img src=\"https://colab.research.google.com/assets/colab-badge.svg\" alt=\"Open In Colab\"/></a>\n",
        "  </td>\n",
        "  <td>"
      ],
      "metadata": {
        "id": "NuEKyYlmXi9Y"
      }
    },
    {
      "cell_type": "markdown",
      "metadata": {
        "id": "AYVPObJWQj0m"
      },
      "source": [
        "# Logistic Regression with a Neural Network mindset"
      ]
    },
    {
      "cell_type": "markdown",
      "metadata": {
        "id": "0AP25BR8X1Pt"
      },
      "source": [
        "\n",
        " This Notebook will give give you an introduciton of Neural Network by implementing  Logistics Regression with a Neural Network mindset. In this notebook will build a logistic regression classifier to recognize  cats. This assignment will step you through how to do this with a Neural Network mindset, and so will also hone your intuitions about Neural Networks.\n",
        "<br></br>\n",
        "\n",
        "\n",
        "Most of the notebooks we are going to be using are inspired from existing notebooks that are available online and are made  free for educational purposes. The work of [Andre Ng]( https://en.wikipedia.org/wiki/Andrew_Ng)  and others served as guide and  inspiration for these notebooks. Nonetheless, these notebooks should not be share without prior permission of the instructor. When working in an assignment always remember the [Student Code of Conduct]( https://conduct.lafayette.edu/student-handbook/student-code-of-conduct/).  \n",
        "</br>\n"
      ]
    },
    {
      "cell_type": "markdown",
      "metadata": {
        "id": "Lgrm4VREB85X"
      },
      "source": [
        "### Setup\n",
        "\n",
        "First, let's run the cell below to import all the packages that you will need during this assignment. \n",
        "- [numpy](www.numpy.org) is the fundamental package for scientific computing with Python.\n",
        "- [h5py](http://www.h5py.org) is a common package to interact with a dataset that is stored on an H5 file.\n",
        "- [matplotlib](http://matplotlib.org) is a famous library to plot graphs in Python.\n",
        "- [PIL](http://www.pythonware.com/products/pil/) and [scipy](https://www.scipy.org/) are used here to test your model with your own picture at the end."
      ]
    },
    {
      "cell_type": "code",
      "metadata": {
        "id": "mHUaSiP7B85Y"
      },
      "source": [
        "import numpy as np\n",
        "import matplotlib.pyplot as plt\n",
        "import h5py\n",
        "import scipy\n",
        "from PIL import Image\n",
        "from scipy import ndimage\n",
        "!pip install Pillow\n",
        "from PIL import Image\n",
        "import imageio\n",
        "\n",
        "%matplotlib inline\n",
        "!wget https://raw.githubusercontent.com/lopezbec/intro_python_notebooks/main/Data_LogRNN/test_catvnoncat.h5\n",
        "!wget https://raw.githubusercontent.com/lopezbec/intro_python_notebooks/main/Data_LogRNN/train_catvnoncat.h5\n",
        "!wget https://raw.githubusercontent.com/lopezbec/intro_python_notebooks/main/Data_LogRNN/cat.jpg\n",
        "!wget https://raw.githubusercontent.com/lopezbec/intro_python_notebooks/main/Data_LogRNN/cat2.jpg"
      ],
      "execution_count": null,
      "outputs": []
    },
    {
      "cell_type": "markdown",
      "metadata": {
        "id": "z216qnkWB85i"
      },
      "source": [
        "## 1 - Overview of the Problem set ##"
      ]
    },
    {
      "cell_type": "markdown",
      "metadata": {
        "id": "eVisiptxRe1o"
      },
      "source": [
        "**Problem Statement**: You are given a dataset (\"data.h5\") containing:\n",
        "\n",
        "- a training set of m_train images labeled as cat (y=1) or non-cat (y=0)\n",
        "\n",
        "- a test set of m_test images labeled as cat or non-cat\n",
        "    \n",
        "- each image is of shape (num_px, num_px, 3) where 3 is for the 3 channels (RGB). Thus, each image is square (height = num_px) and (width = num_px).\n",
        "\n",
        "\n",
        "You will build a simple image-recognition algorithm that can correctly classify pictures as cat or non-cat.\n",
        "\n",
        "Let's get more familiar with the dataset. Load the data by running the following code."
      ]
    },
    {
      "cell_type": "code",
      "metadata": {
        "id": "CRCmpFzFRbwL"
      },
      "source": [
        "train_dataset = h5py.File('train_catvnoncat.h5', \"r\")\n",
        "train_set_x_orig = np.array(train_dataset[\"train_set_x\"][:]) # your train set features\n",
        "train_set_y_orig = np.array(train_dataset[\"train_set_y\"][:]) # your train set labels\n",
        "\n",
        "test_dataset = h5py.File('test_catvnoncat.h5', \"r\")\n",
        "test_set_x_orig = np.array(test_dataset[\"test_set_x\"][:]) # your test set features\n",
        "test_set_y_orig = np.array(test_dataset[\"test_set_y\"][:]) # your test set labels\n",
        "\n",
        "classes = np.array(test_dataset[\"list_classes\"][:]) # the list of classes\n",
        "\n",
        "train_set_y_orig = train_set_y_orig.reshape(( train_set_y_orig.shape[0],1))\n",
        "test_set_y_orig = test_set_y_orig.reshape(( test_set_y_orig.shape[0],1))"
      ],
      "execution_count": null,
      "outputs": []
    },
    {
      "cell_type": "markdown",
      "metadata": {
        "id": "Kuttr_uZB85o"
      },
      "source": [
        "We added \"_orig\" at the end of image datasets (train and test) because we are going to preprocess them. After preprocessing, we will end up with train_set_x and test_set_x (the labels train_set_y and test_set_y don't need any preprocessing).\n",
        "\n",
        "Each line of your train_set_x_orig and test_set_x_orig is an array representing an image. You can visualize an example by running the following code. Feel free also to change the `index` value and re-run to see other images. "
      ]
    },
    {
      "cell_type": "code",
      "metadata": {
        "id": "6sasLiIfUx1R"
      },
      "source": [
        "for index in (15,25,4,50):\n",
        "    print (\"y = \" + str(train_set_y_orig[index,:]) + \", it's a '\" + classes[np.squeeze(train_set_y_orig[index,:])].decode(\"utf-8\") +  \"' picture.\")\n",
        "    plt.figure()\n",
        "    plt.imshow(train_set_x_orig[index])\n",
        "    plt.show()"
      ],
      "execution_count": null,
      "outputs": []
    },
    {
      "cell_type": "markdown",
      "metadata": {
        "id": "qYrC-si4B85v"
      },
      "source": [
        "Many software bugs in deep learning come from having matrix/vector dimensions that don't fit. If you can keep your matrix/vector dimensions straight you will go a long way toward eliminating many bugs. \n",
        "\n"
      ]
    },
    {
      "cell_type": "markdown",
      "metadata": {
        "id": "VhJbEQkLSkmI"
      },
      "source": [
        "#### **Exercise:** \n",
        "\n",
        "Find the values for:\n",
        "\n",
        "- m_train (number of training examples)\n",
        "- m_test (number of test examples)\n",
        "- num_px (number of pixel height or width, since they are squares, of a training image)\n",
        "\n",
        "Remember that `train_set_x_orig` is a numpy-array of shape (m_train, num_px, num_px, 3)."
      ]
    },
    {
      "cell_type": "code",
      "metadata": {
        "scrolled": true,
        "id": "U4au4XS1B85x"
      },
      "source": [
        "### START CODE HERE ### (≈ 3 lines of code)\n",
        "#m_train = \n",
        "#m_test = \n",
        "#num_px = \n",
        "### END CODE HERE ###\n",
        "\n",
        "print (\"Number of training examples: m_train = \" + str(m_train))\n",
        "print (\"Number of testing examples: m_test = \" + str(m_test))\n",
        "print (\"Height/Width of each image: num_px = \" + str(num_px))\n",
        "print(\"\\n\")\n",
        "print (\"Each image is of size: (\" + str(num_px) + \", \" + str(num_px) + \", 3)\")\n",
        "print (\"train_set_x shape: \" + str(train_set_x_orig.shape))\n",
        "print (\"train_set_y shape: \" + str(train_set_y_orig.shape))\n",
        "print (\"test_set_x shape: \" + str(test_set_x_orig.shape))\n",
        "print (\"test_set_y shape: \" + str(test_set_y_orig.shape))"
      ],
      "execution_count": null,
      "outputs": []
    },
    {
      "cell_type": "markdown",
      "metadata": {
        "id": "qHJQnullB851"
      },
      "source": [
        "**Expected Output:**\n",
        "\n",
        "```\n",
        "Number of training examples: m_train = 209\n",
        "Number of testing examples: m_test = 50\n",
        "Height/Width of each image: num_px = 64\n",
        "\n",
        "Each image is of size: (64, 64, 3)\n",
        "train_set_x shape: (209, 64, 64, 3)\n",
        "train_set_y shape: (209, 1)\n",
        "test_set_x shape: (50, 64, 64, 3)\n",
        "test_set_y shape: (50, 1)\n",
        "```\n",
        "\n",
        "\n",
        "\n"
      ]
    },
    {
      "cell_type": "markdown",
      "metadata": {
        "id": "eqlmEVEYB852"
      },
      "source": [
        "For convenience, you should now reshape images of shape (num_px, num_px, 3) in a numpy-array of shape (num_px $*$ num_px $*$ 3, 1). After this, our training (and test) dataset is a numpy-array where each row represents a flattened image. There should be m_train (respectively m_test) rows.\n"
      ]
    },
    {
      "cell_type": "markdown",
      "metadata": {
        "id": "LQIv6PL0Ve03"
      },
      "source": [
        "#### **Exercise:** \n",
        "\n",
        "Reshape the training AND test data sets so that images of size (num_px, num_px, 3) are flattened into single vectors of shape (num\\_px $*$ num\\_px $*$ 3, 1).\n",
        "\n",
        "A trick when you want to flatten a matrix X of shape (a,b,c,d) to a matrix X_flatten of shape (b$*$c$*$d, a) is to use: \n",
        "```python\n",
        "X_flatten = X.reshape(X.shape[0], -1)   \n",
        "# The \"-1\" makes reshape flatten the remaining dimensions\n",
        "```"
      ]
    },
    {
      "cell_type": "code",
      "metadata": {
        "id": "6MY5WZP_B853"
      },
      "source": [
        "# Reshape the training AND test examples\n",
        "\n",
        "### START CODE HERE ### (≈ 2 lines of code)\n",
        "#train_set_x_flatten= \n",
        "#test_set_x_flatten= \n",
        "### END CODE HERE ###\n",
        "\n",
        "\n",
        "print (\"train_set_x_flatten shape: \" + str(train_set_x_flatten.shape))\n",
        "print (\"train_set_y shape: \" + str(train_set_y_orig.shape))\n",
        "print (\"test_set_x_flatten shape: \" + str(test_set_x_flatten.shape))\n",
        "print (\"test_set_y shape: \" + str(test_set_y_orig.shape))\n",
        "print (\"Lets check: \" + str(train_set_x_flatten[0,0:5]))"
      ],
      "execution_count": null,
      "outputs": []
    },
    {
      "cell_type": "markdown",
      "metadata": {
        "id": "l0YJrP26B858"
      },
      "source": [
        "**Expected Output**: \n",
        "\n",
        "```\n",
        "train_set_x_flatten shape: (209, 12288)\n",
        "train_set_y shape: (209, 1)\n",
        "test_set_x_flatten shape: (50, 12288)\n",
        "test_set_y shape: (50, 1)\n",
        "Lets check: [17 31 56 22 33]\n",
        "```\n",
        "\n"
      ]
    },
    {
      "cell_type": "markdown",
      "metadata": {
        "id": "PHqCT0tsB859"
      },
      "source": [
        "To represent color images, the red, green and blue channels (RGB) must be specified for each pixel, and so the pixel value is actually a vector of three numbers ranging from 0 to 255.\n",
        "\n",
        "One common preprocessing step in machine learning is to center and standardize your dataset, meaning that you substract the mean of the whole numpy array from each example, and then divide each example by the standard deviation of the whole numpy array. \n",
        "\n",
        "But for picture datasets, it is simpler and more convenient and works almost as well to just divide every row of the dataset by 255 (the maximum value of a pixel channel).\n",
        "\n",
        "\n",
        "Let's standardize our dataset."
      ]
    },
    {
      "cell_type": "code",
      "metadata": {
        "id": "r3rz5MGYB85-"
      },
      "source": [
        "train_set_x = train_set_x_flatten/255.\n",
        "test_set_x = test_set_x_flatten/255"
      ],
      "execution_count": null,
      "outputs": []
    },
    {
      "cell_type": "markdown",
      "metadata": {
        "id": "sFpi3SuSB86C"
      },
      "source": [
        "\n",
        "What you need to remember:\n",
        "\n",
        "Common steps for pre-processing a new dataset are:\n",
        "- Figure out the dimensions and shapes of the problem (m_train, m_test, num_px, ...)\n",
        "- Reshape the datasets such that each example is now a vector of size (num_px \\* num_px \\* 3, 1)\n",
        "- \"Standardize\" the data"
      ]
    },
    {
      "cell_type": "markdown",
      "metadata": {
        "id": "D-sCnaORXJxn"
      },
      "source": [
        "## 2 - General Architecture of the learning algorithm ##"
      ]
    },
    {
      "cell_type": "markdown",
      "metadata": {
        "id": "AC1cAQxEB86D"
      },
      "source": [
        "It's time to design a simple algorithm to distinguish cat images from non-cat images (i.e., binary classifier). You will build a Logistic Regression, using a Neural Network mindset. \n",
        "\n",
        "<br>\n",
        "\n",
        "**Mathematical expression of the algorithm**:\n",
        "\n",
        "For one example $x^{(i)}$:\n",
        "$$z^{(i)} = x^{(i)}w + b \\tag{1}$$\n",
        "$$\\hat{y}^{(i)} = a^{(i)} = sigmoid(z^{(i)})\\tag{2}$$ \n",
        "$$ \\mathcal{L}(a^{(i)}, y^{(i)}) =  - y^{(i)}  \\log(a^{(i)}) - (1-y^{(i)} )  \\log(1-a^{(i)})\\tag{3}$$\n",
        "\n",
        "The cost is then computed by summing over all training examples:\n",
        "$$ J = \\frac{1}{m} \\sum_{i=1}^m \\mathcal{L}(a^{(i)}, y^{(i)})\\tag{4}$$\n",
        "<br>\n",
        "\n",
        "\n",
        "**Key steps**:\n",
        "In this exercise, you will carry out the following steps: \n",
        "- Initialize the parameters of the model\n",
        "- Learn the parameters for the model by minimizing the cost  \n",
        "- Use the learned parameters to make predictions (on the test set)\n",
        "- Analyse the results and conclude\n"
      ]
    },
    {
      "cell_type": "markdown",
      "metadata": {
        "id": "vgsAIAbYB86E"
      },
      "source": [
        "### 2.1 - Building the parts of our algorithm ## \n",
        "\n",
        "The main steps for building a Neural Network are:\n",
        "1. Define the model structure (such as number of input features) \n",
        "2. Initialize the model's parameters\n",
        "3. Loop:\n",
        "    - Calculate current loss (forward propagation)\n",
        "    - Calculate current gradient (backward propagation)\n",
        "    - Update parameters (gradient descent)\n",
        "\n",
        "You often build 1-3 separately and integrate them into one function we call `model()`.\n",
        "\n"
      ]
    },
    {
      "cell_type": "markdown",
      "metadata": {
        "id": "u3gNOU12mR7P"
      },
      "source": [
        "\n",
        "#### **Exercise**:\n",
        "\n",
        "Once again, lets implement a `sigmoid()` functions. \n",
        "$$sigmoid( XW + b) = \\frac{1}{1 + e^{-(XW + b)}}$$ \n",
        "<br>\n",
        "$$sigmoid(z) = \\frac{1}{1 + e^{-(z)}}$$"
      ]
    },
    {
      "cell_type": "code",
      "metadata": {
        "id": "rpX-p7_9B86F"
      },
      "source": [
        "def sigmoid(z):\n",
        "    \"\"\"\n",
        "    Compute the sigmoid of z\n",
        "\n",
        "    Arguments:\n",
        "    z -- A scalar or numpy array of any size.\n",
        "\n",
        "    Return:\n",
        "    g -- sigmoid(z)\n",
        "    \"\"\"\n",
        "\n",
        "    ###===== START CODE HERE =======### (≈ 1 line of code)\n",
        "\n",
        "\n",
        "    ###=====  END CODE HERE =======###\n",
        "    \n",
        "    return g"
      ],
      "execution_count": null,
      "outputs": []
    },
    {
      "cell_type": "markdown",
      "metadata": {
        "id": "Wm5HuTWJnCpj"
      },
      "source": [
        "Lets test it out"
      ]
    },
    {
      "cell_type": "code",
      "metadata": {
        "scrolled": true,
        "id": "U95sQFdpB86J"
      },
      "source": [
        "print (\"sigmoid([0, 2]) = \" + str(sigmoid(np.array([0,2]))))"
      ],
      "execution_count": null,
      "outputs": []
    },
    {
      "cell_type": "markdown",
      "metadata": {
        "id": "xl8MVVFHB86M"
      },
      "source": [
        "Expected Output: \n",
        "\n",
        "\n",
        "\n",
        "```\n",
        "sigmoid([0, 2]) = [0.5        0.88079708]\n",
        "```\n",
        "\n"
      ]
    },
    {
      "cell_type": "markdown",
      "metadata": {
        "id": "bjUgwySfB86N"
      },
      "source": [
        "### 2.2 - Initializing parameters\n",
        "\n"
      ]
    },
    {
      "cell_type": "markdown",
      "metadata": {
        "id": "6ajSKjrhnRTr"
      },
      "source": [
        "####**Exercise:**\n",
        "Implement in the cell below `initialize_with_zeros` to do parameter initialization. You have to initialize w as a vector of zeros. \n",
        "\n",
        "Hint: look at `np.zeros()`"
      ]
    },
    {
      "cell_type": "code",
      "metadata": {
        "id": "6nlUY8FQB86O"
      },
      "source": [
        "def initialize_with_zeros(dim):\n",
        "    \"\"\"\n",
        "    This function creates a vector of zeros of shape (dim, 1) for w and initializes b to 0.\n",
        "    \n",
        "    Argument:\n",
        "    dim -- size of the w vector we want (or number of parameters in this case)\n",
        "    \n",
        "    Returns:\n",
        "    w -- initialized vector of shape (dim x 1)\n",
        "    b -- initialized scalar (corresponds to the bias)\n",
        "    \"\"\"\n",
        "    \n",
        "    ###===== START CODE HERE =======### (≈ 1 line of code)\n",
        "    \n",
        "\n",
        "    \n",
        "    ###======= END CODE HERE =====###\n",
        "    \n",
        "    return w, b"
      ],
      "execution_count": null,
      "outputs": []
    },
    {
      "cell_type": "code",
      "metadata": {
        "id": "iEAHwC2HB86R"
      },
      "source": [
        "dim = 2\n",
        "w, b = initialize_with_zeros(dim)\n",
        "print (\"w = \\n\" + str(w))\n",
        "print (\"b = \" + str(b))"
      ],
      "execution_count": null,
      "outputs": []
    },
    {
      "cell_type": "markdown",
      "metadata": {
        "id": "Uaj61WvkB86V"
      },
      "source": [
        "Expected Output: \n",
        "\n",
        "\n",
        "```\n",
        "w = [[0.]\n",
        "    [0.]]\n",
        "b = 0\n",
        "```\n",
        "\n",
        "\n",
        "\n",
        "For image inputs, w will be of shape (1, num_px $\\times$ num_px $\\times$ 3)."
      ]
    },
    {
      "cell_type": "markdown",
      "metadata": {
        "id": "3f8oGjRmoeNj"
      },
      "source": [
        "### 2.3 - Forward and Backward propagation\n",
        "\n",
        "Now that your parameters are initialized, you can do the \"forward\" and \"backward\" propagation steps for learning the parameters."
      ]
    },
    {
      "cell_type": "markdown",
      "metadata": {
        "id": "F-9t5mF7B86W"
      },
      "source": [
        "\n",
        "\n",
        "\n",
        "\n",
        "#### **Exercise:** \n",
        "\n",
        "Implement a function `propagate()` that computes the cost function and its gradient.\n",
        "\n",
        "**Hints**:\n",
        "\n",
        "Forward Propagation:\n",
        "- You get X\n",
        "- You compute:<br>\n",
        " $A = \\sigma(XW + b)$  which is a $(m \\times 1)$ matrix\n",
        "- You calculate the cost function:<br>\n",
        " $J = -\\frac{1}{m}\\sum_{i=1}^{m}y^{(i)}\\log(a^{(i)})+(1-y^{(i)})\\log(1-a^{(i)})$\n",
        " <br>\n",
        "    Vectorized form: <br>\n",
        "$J(\\theta) = -\\frac{1}{m}\\big((\\,log\\,(A)^Ty+(\\,log\\,(1-A)^T(1-y)\\big)$\n",
        "\n",
        "To update your model parameters you will use: \n",
        "\n",
        "$$ \\frac{\\partial J}{\\partial w} = \\frac{1}{m}X^T(A-Y)$$\n",
        "$$ \\frac{\\partial J}{\\partial b} = \\frac{1}{m} \\sum_{i=1}^m (a^{(i)}-y^{(i)})$$\n",
        "\n",
        "You can have the same partial derivate for both the weights and the bias by just making $x_0^{(i)}$=0\n"
      ]
    },
    {
      "cell_type": "code",
      "metadata": {
        "id": "HttU4xREB86X"
      },
      "source": [
        "def propagate(w, b, X, Y):\n",
        "    \"\"\"\n",
        "    Implement the cost function and its gradient for the \"forward\" propagation step\n",
        "\n",
        "    Arguments:\n",
        "    w -- weights, a numpy array of size (num_px * num_px * 3 , 1), that is (n x 1)\n",
        "    b -- bias, a scalar\n",
        "    X -- data of size (number of examples,num_px * num_px * 3), that is (m x n)\n",
        "    Y -- true \"label\" vector (containing 0 if non-cat, 1 if cat) of \n",
        "    size ( number of examples,  1), that is (m x 1)\n",
        "\n",
        "    Return:\n",
        "    cost -- negative log-likelihood cost for logistic regression\n",
        "    dw -- gradient of the loss with respect to w, thus same shape as w\n",
        "    db -- gradient of the loss with respect to b, thus same shape as b\n",
        "    \n",
        "    Tips:\n",
        "    - Write your code step by step for the propagation. np.log(), np.dot()\n",
        "    \"\"\"\n",
        "    \n",
        "    m = X.shape[0]\n",
        "    \n",
        "    \n",
        "    ###======= START CODE HERE =========### (≈ 4 lines of code)\n",
        "\n",
        "\n",
        "\n",
        "\n",
        "\n",
        "\n",
        "\n",
        "    ###====== END CODE HERE =======###\n",
        "    \n",
        " \n",
        "    #cost = np.squeeze(cost)\n",
        "    \n",
        "    grads = {\"dw\": dw,\n",
        "             \"db\": db}\n",
        "    \n",
        "    return grads, cost"
      ],
      "execution_count": null,
      "outputs": []
    },
    {
      "cell_type": "markdown",
      "metadata": {
        "id": "z9Kns09c0jso"
      },
      "source": [
        "Lets test it out:"
      ]
    },
    {
      "cell_type": "code",
      "metadata": {
        "id": "xXge42EqB86a"
      },
      "source": [
        "#Lets create some fake data to test propagate \n",
        "w = np.array([[1.],[2.]]) \n",
        "b=  2\n",
        "X=  np.array([[1.,2.,-1.],[3.,4.,-3.2]]).T\n",
        "Y = np.array([1,0,1]).reshape((-1,1))\n",
        "\n",
        "grads, cost = propagate(w, b, X, Y)\n",
        "print (\"dw = \\n\" + str(grads[\"dw\"]))\n",
        "print (\"db = \" + str(grads[\"db\"]))\n",
        "print (\"cost = \" + str(cost))"
      ],
      "execution_count": null,
      "outputs": []
    },
    {
      "cell_type": "code",
      "source": [],
      "metadata": {
        "id": "axmtWFLdTgBT"
      },
      "execution_count": null,
      "outputs": []
    },
    {
      "cell_type": "markdown",
      "metadata": {
        "id": "BqkEG58dB86d"
      },
      "source": [
        "**Expected Output**:\n",
        "\n",
        "```\n",
        "dw = [[0.99845601]\n",
        "     [2.39507239]]\n",
        "db = 0.001455578136784208   #Scalar\n",
        "cost = 5.801545319394553    #Scalar\n",
        "```\n",
        "\n"
      ]
    },
    {
      "cell_type": "markdown",
      "metadata": {
        "id": "_CgjOkrc2i0s"
      },
      "source": [
        "### 2.4 - Optimization with Batch Gradient Descent"
      ]
    },
    {
      "cell_type": "markdown",
      "metadata": {
        "id": "LIdF9RB5B86f"
      },
      "source": [
        "\n",
        "- You have initialized your parameters.\n",
        "- You are also able to compute a cost function and its gradient.\n",
        "- Now, you want to update the parameters using Batch Gradient Descent.\n",
        "\n"
      ]
    },
    {
      "cell_type": "markdown",
      "metadata": {
        "id": "qf4y4APg2q5Z"
      },
      "source": [
        "#### **Exercise:** \n",
        "Write down the optimization function. The goal is to learn w and b by minimizing the cost function J. For a parameter θ, the update rule is θ=θ−α dθ, where α is the learning rate and dθ is the derivative of the cost function with respect to θ. However, since we are using a NN mindset, instead of θs, we have weights (w) and the bias term (b)"
      ]
    },
    {
      "cell_type": "code",
      "metadata": {
        "id": "Up_-ZfoJB86g"
      },
      "source": [
        "def Batch_GD(w, b, X, Y, num_iterations, learning_rate, print_cost = False):\n",
        "    \"\"\"\n",
        "    This function optimizes w and b by running a gradient descent algorithm\n",
        "    \n",
        "    Arguments:\n",
        "    w -- weights, a numpy array of size (num_px * num_px * 3, 1)\n",
        "    b -- bias, a scalar\n",
        "    X -- data of shape (num_px * num_px * 3, number of examples)\n",
        "    Y -- true \"label\" vector (containing 0 if non-cat, 1 if cat), of shape (1, number of examples)\n",
        "    num_iterations -- number of iterations of the optimization loop\n",
        "    learning_rate -- learning rate of the gradient descent update rule\n",
        "    print_cost -- True to print the loss every 100 steps\n",
        "    \n",
        "    Returns:\n",
        "    params -- dictionary containing the weights w and bias b\n",
        "    grads -- dictionary containing the gradients of the weights and bias with respect to the cost function\n",
        "    costs -- list of all the costs computed during the optimization, this will be used to plot the learning curve.\n",
        "    \n",
        "    Tips:\n",
        "    You basically need to write down two steps and iterate through them:\n",
        "        1) Calculate the cost and the gradient for the current parameters. Use propagate().\n",
        "        2) Update the parameters using gradient descent rule for w and b.\n",
        "    \"\"\"\n",
        "    \n",
        "    costs = []\n",
        "    \n",
        "    for i in range(num_iterations):\n",
        "        \n",
        "         \n",
        "        ###===== START CODE HERE ======### (≈ 5 lines of code)\n",
        "\n",
        "        # Cost and gradient calculation\n",
        "        \n",
        "       \n",
        "        # Retrieve derivatives from grads\n",
        "        #dw = \n",
        "        #db = \n",
        "        \n",
        "        # update rule \n",
        "\n",
        "\n",
        "\n",
        "\n",
        "        ###==== END CODE HERE =====###\n",
        "        \n",
        "        \n",
        "        # Record the costs\n",
        "        if i % 100 == 0:\n",
        "            costs.append(cost)\n",
        "        \n",
        "        # Print the cost every 100 training iterations\n",
        "        if print_cost and i % 100 == 0:\n",
        "            print (\"Cost after iteration %i: %f\" %(i, cost))\n",
        "    \n",
        "    params = {\"w\": w,\n",
        "              \"b\": b}\n",
        "    \n",
        "    grads = {\"dw\": dw,\n",
        "             \"db\": db}\n",
        "    \n",
        "    return params, grads, costs"
      ],
      "execution_count": null,
      "outputs": []
    },
    {
      "cell_type": "code",
      "metadata": {
        "id": "Nfly2g6UB86i"
      },
      "source": [
        "params, grads, costs = Batch_GD(w, b, X, Y, num_iterations= 100, learning_rate = 0.009, print_cost = False)\n",
        "\n",
        "print (\"w = \\n\" + str(params[\"w\"]))\n",
        "print (\"b = \" + str(params[\"b\"]))\n",
        "print (\"dw = \\n\" + str(grads[\"dw\"]))\n",
        "print (\"db = \" + str(grads[\"db\"]))"
      ],
      "execution_count": null,
      "outputs": []
    },
    {
      "cell_type": "markdown",
      "metadata": {
        "id": "6kvdBz26B86m"
      },
      "source": [
        "**Expected Output**: \n",
        "\n",
        "\n",
        "\n",
        "```\n",
        "w = [[0.19033591]\n",
        "    [0.12259159]]\n",
        "b = 1.92535983\n",
        "dw = [[0.67752042]\n",
        "     [1.41625495]]\n",
        "db = 0.2191945   \n",
        "```\n",
        "\n"
      ]
    },
    {
      "cell_type": "markdown",
      "metadata": {
        "id": "bol2S06zB86n"
      },
      "source": [
        "#### **Exercise:** \n",
        "\n",
        "The previous function will output the learned w and b. We are able to use w and b to predict the labels for a dataset X. Implement the `predict()` function. There are two steps to computing predictions:\n",
        "\n",
        "1. Calculate $\\hat{Y} = A = \\sigma(XW + b)$\n",
        "\n",
        "2. Convert the entries of $\\hat{Y}$ into 0 (if activation <= 0.5) or 1 (if activation > 0.5), stores the predictions in a vector `Y_prediction`. If you wish, you can use an `if`/`else` statement in a `for` loop (though there is also a way to vectorize this). "
      ]
    },
    {
      "cell_type": "code",
      "metadata": {
        "id": "QGVQvLj-B86o"
      },
      "source": [
        "def predict(w, b, X):\n",
        "    '''\n",
        "    Predict whether the label is 0 or 1 using learned logistic regression parameters (w, b)\n",
        "    \n",
        "    Arguments:\n",
        "    w -- weights, a numpy array of size (num_px * num_px * 3, 1)\n",
        "    b -- bias, a scalar\n",
        "    X -- data of shape (number of examples, num_px * num_px * 3)\n",
        "    \n",
        "    Returns:\n",
        "    Y_prediction -- a numpy array (column vector) containing all predictions (0/1) for the examples in X\n",
        "    '''\n",
        "    \n",
        "    m = X.shape[0]\n",
        "    Y_prediction = np.zeros((m,1))\n",
        "    w = w.reshape(X.shape[1], 1)\n",
        "    \n",
        "    \n",
        "    ###==== START CODE HERE ====### (≈ 2 line of code)\n",
        "\n",
        "\n",
        "\n",
        "\n",
        "\n",
        "    ###==== END CODE HERE ====###\n",
        "    return Y_prediction"
      ],
      "execution_count": null,
      "outputs": []
    },
    {
      "cell_type": "markdown",
      "metadata": {
        "id": "Pe0xP1-o4BQP"
      },
      "source": [
        "Lets test it:"
      ]
    },
    {
      "cell_type": "code",
      "metadata": {
        "id": "u8I0QnutB86r"
      },
      "source": [
        "w = np.array([[0.1124579],[0.23106775]])\n",
        "b = -0.3\n",
        "X = np.array([[1.,-1.1,-3.2],[1.2,2.,0.1]]).T\n",
        "print (\"predictions = \\n\" + str(predict(w, b, X)))"
      ],
      "execution_count": null,
      "outputs": []
    },
    {
      "cell_type": "markdown",
      "metadata": {
        "id": "uh-Ow5yHB86u"
      },
      "source": [
        "**Expected Output**: \n",
        "\n",
        "\n",
        "\n",
        "```\n",
        "# This is formatted as codepredictions = \n",
        "[[1.]\n",
        " [1.]\n",
        " [0.]]\n",
        "```\n",
        "\n"
      ]
    },
    {
      "cell_type": "markdown",
      "metadata": {
        "id": "WzxduBReB86v"
      },
      "source": [
        "\n",
        "**What to remember:**\n",
        "\n",
        "You've implemented several functions that:\n",
        "\n",
        "- Initialize (w,b)\n",
        "\n",
        "- Optimize the loss iteratively to learn parameters (w,b):\n",
        "\n",
        "    - computing the cost and its gradient \n",
        "\n",
        "    - updating the parameters using gradient descent\n",
        "\n",
        "- Use the learned (w,b) to predict the labels for a given set of examples\n"
      ]
    },
    {
      "cell_type": "markdown",
      "metadata": {
        "id": "4MQ3PEux4xoN"
      },
      "source": [
        "## 3 - Merge all functions into a model ##"
      ]
    },
    {
      "cell_type": "markdown",
      "metadata": {
        "id": "jnlzhHzoB86v"
      },
      "source": [
        "You will now see how the overall model is structured by putting together all the building blocks (functions implemented in the previous parts) together, in the right order.\n",
        "\n"
      ]
    },
    {
      "cell_type": "markdown",
      "metadata": {
        "id": "rPivK31y42TN"
      },
      "source": [
        "#### **Exercise:** \n",
        "\n",
        "Implement the model function. Use the following notation:\n",
        "- Y_prediction_test for your predictions on the test set\n",
        "- Y_prediction_train for your predictions on the train set\n",
        "- w, costs, grads for the outputs of Batch_GD()"
      ]
    },
    {
      "cell_type": "code",
      "metadata": {
        "id": "RVxBmgxeB86w"
      },
      "source": [
        "def model(X_train, Y_train, X_test, Y_test, num_iterations = 2000, learning_rate = 0.5, print_cost = False):\n",
        "    \"\"\"\n",
        "    Builds the logistic regression model by calling the function you've implemented previously\n",
        "    \n",
        "    Arguments:\n",
        "    X_train -- training set represented by a numpy array of shape (m_train,num_px * num_px * 3)\n",
        "    Y_train -- training labels represented by a numpy array (column vector) of shape (m_train, 1)\n",
        "    X_test -- test set represented by a numpy array of shape (m_test, num_px * num_px * 3)\n",
        "    Y_test -- test labels represented by a numpy array (column vector) of shape (m_test, 1)\n",
        "    num_iterations -- hyperparameter representing the number of iterations to optimize the parameters\n",
        "    learning_rate -- hyperparameter representing the learning rate used in the update rule of optimize()\n",
        "    print_cost -- Set to true to print the cost every 100 iterations\n",
        "    \n",
        "    Returns:\n",
        "    d -- dictionary containing information about the model.\n",
        "    \"\"\"\n",
        "    \n",
        "    ###===== START CODE HERE =====###(≈ 6 line of code)\n",
        "\n",
        "\n",
        "\n",
        "\n",
        "\n",
        "\n",
        "\n",
        "\n",
        "\n",
        "\n",
        "\n",
        "\n",
        "    ###==== END CODE HERE ====###\n",
        "\n",
        "    # Print train/test Errors\n",
        "    print(\"train accuracy: {} %\".format(100 - np.mean(np.abs(Y_prediction_train - Y_train)) * 100))\n",
        "    print(\"test accuracy: {} %\".format(100 - np.mean(np.abs(Y_prediction_test - Y_test)) * 100))\n",
        "\n",
        "    \n",
        "    d = {\"costs\": costs,\n",
        "         \"Y_prediction_test\": Y_prediction_test, \n",
        "         \"Y_prediction_train\" : Y_prediction_train, \n",
        "         \"w\" : w, \n",
        "         \"b\" : b,\n",
        "         \"learning_rate\" : learning_rate,\n",
        "         \"num_iterations\": num_iterations}\n",
        "    \n",
        "    return d"
      ],
      "execution_count": null,
      "outputs": []
    },
    {
      "cell_type": "markdown",
      "metadata": {
        "id": "P0b8LvimB86y"
      },
      "source": [
        "Run the following cell to train your model."
      ]
    },
    {
      "cell_type": "code",
      "metadata": {
        "id": "mv0unqTun8pI"
      },
      "source": [
        "d = model(train_set_x, train_set_y_orig, test_set_x, test_set_y_orig, num_iterations = 2000, learning_rate = 0.005, print_cost = True)"
      ],
      "execution_count": null,
      "outputs": []
    },
    {
      "cell_type": "markdown",
      "metadata": {
        "id": "HKF3K4TXB860"
      },
      "source": [
        "**Expected Output**: \n",
        "\n",
        "<table style=\"width:40%\"> \n",
        "    <tr>\n",
        "        <td> Cost after iteration 0   </td> \n",
        "        <td> 0.693147 </td>\n",
        "    </tr>\n",
        "      <tr>\n",
        "        <td> <center> $\\vdots$ </center> </td> \n",
        "        <td> <center> $\\vdots$ </center> </td> \n",
        "    </tr>  \n",
        "    </tr>\n",
        "      <tr>\n",
        " <td> Cost after iteration 1900   </td> \n",
        "        <td> 0.140872 </td>\n",
        "    </tr>  \n",
        "    <tr>\n",
        "        <td> Train Accuracy  </td> \n",
        "        <td> 99.04306220095694 % </td>\n",
        "    </tr>\n",
        "    <tr>\n",
        "        <td>Test Accuracy </td> \n",
        "        <td> 70.0 % </td>\n",
        "    </tr>\n",
        "</table> \n",
        "\n",
        "\n"
      ]
    },
    {
      "cell_type": "markdown",
      "metadata": {
        "id": "3L1eoRQWB861"
      },
      "source": [
        "Training accuracy is close to 100%. Your model is working and has high enough capacity to fit the training data. Test accuracy is 68%. It is actually not bad for this simple model, given the small dataset we used and that logistic regression is a linear classifier. But no worries, you'll build an even better classifier once we start using NN and Deep NN!\n",
        "\n",
        "Also, you see that the model is clearly overfitting the training data. Later you will learn how to reduce overfitting, for example by using regularization in NN. Using the code below (and changing the `index` variable) you can look at predictions on pictures of the test set."
      ]
    },
    {
      "cell_type": "code",
      "metadata": {
        "id": "4upRIcBeB863"
      },
      "source": [
        "for index in range(1,7):\n",
        "  print (\"y = \" + str(test_set_y_orig[index,0]) + \", you predicted that it is a \\\"\" + classes[int(d[\"Y_prediction_test\"][index,0])].decode(\"utf-8\") +  \"\\\" picture.\")\n",
        "  plt.figure()\n",
        "  plt.imshow(test_set_x[index,:].reshape((num_px, num_px, 3)))\n",
        "  plt.show()\n",
        " "
      ],
      "execution_count": null,
      "outputs": []
    },
    {
      "cell_type": "markdown",
      "metadata": {
        "id": "jcrEr0WvB866"
      },
      "source": [
        "Let's also plot the cost function and the gradients."
      ]
    },
    {
      "cell_type": "code",
      "metadata": {
        "id": "uYWdNYcTB867"
      },
      "source": [
        "# Plot learning curve (with costs)\n",
        "costs = np.squeeze(d['costs'])\n",
        "plt.plot(costs)\n",
        "plt.ylabel('cost')\n",
        "plt.xlabel('iterations (per hundreds)')\n",
        "plt.title(\"Learning rate =\" + str(d[\"learning_rate\"]))\n",
        "plt.show()"
      ],
      "execution_count": null,
      "outputs": []
    },
    {
      "cell_type": "markdown",
      "metadata": {
        "id": "F7ipW9PAB868"
      },
      "source": [
        "**Interpretation**:\n",
        "\n",
        "You can see the cost decreasing. It shows that the parameters are being learned. However, you see that you could train the model even more on the training set. Try to increase the number of iterations in the cell above and rerun the cells. You might see that the training set accuracy goes up, but the test set accuracy goes down. This is  overfitting!! "
      ]
    },
    {
      "cell_type": "markdown",
      "metadata": {
        "id": "OheD04bFB869"
      },
      "source": [
        "### 4 - Choice of learning rate  ##\n",
        "\n",
        "Congratulations on building your first image classification model. Let's analyze it further, and examine possible choices for the learning rate $\\alpha$. "
      ]
    },
    {
      "cell_type": "markdown",
      "metadata": {
        "id": "KR7P0-fPB86-"
      },
      "source": [
        "\n",
        "\n",
        "**Reminder**:\n",
        "In order for Batch Gradient Descent to work you must choose the learning rate wisely. The learning rate $\\alpha$  determines how rapidly we update the parameters. If the learning rate is too large we may \"overshoot\" the optimal value. Similarly, if it is too small we will need too many iterations to converge to the best values. That's why it is crucial to use a well-tuned learning rate.\n",
        "\n",
        "Let's compare the learning curve of our model with several choices of learning rates. Run the cell below. This should take about 1 minute. Feel free also to try different values than the three we have initialized the `learning_rates` variable to contain, and see what happens. "
      ]
    },
    {
      "cell_type": "code",
      "metadata": {
        "id": "gwcnMHQNB86_"
      },
      "source": [
        "learning_rates = [0.01, 0.001, 0.0001]\n",
        "models = {}\n",
        "for i in learning_rates:\n",
        "    print (\"learning rate is: \" + str(i))\n",
        "    models[str(i)] = model(train_set_x, train_set_y_orig, test_set_x, test_set_y_orig, num_iterations = 1500, learning_rate = i, print_cost = False)\n",
        "    print ('\\n' + \"-------------------------------------------------------\" + '\\n')\n",
        "\n",
        "for i in learning_rates:\n",
        "    plt.plot(np.squeeze(models[str(i)][\"costs\"]), label= str(models[str(i)][\"learning_rate\"]))\n",
        "\n",
        "plt.ylabel('cost')\n",
        "plt.xlabel('iterations (hundreds)')\n",
        "\n",
        "legend = plt.legend(loc='upper center', shadow=True)\n",
        "frame = legend.get_frame()\n",
        "frame.set_facecolor('0.90')\n",
        "plt.show()"
      ],
      "execution_count": null,
      "outputs": []
    },
    {
      "cell_type": "markdown",
      "metadata": {
        "id": "jiNZCjuvB87A"
      },
      "source": [
        "**Interpretation**: \n",
        "- Different learning rates give different costs and thus different predictions results.\n",
        "- If the learning rate is too large (0.01), the cost may oscillate up and down. It may even diverge (though in this example, using 0.01 still eventually ends up at a good value for the cost). \n",
        "- A lower cost doesn't mean a better model. You have to check if there is possibly overfitting. It happens when the training accuracy is a lot higher than the test accuracy.\n",
        "- In deep learning, we usually recommend that you: \n",
        "    - Choose the learning rate that better minimizes the cost function.\n",
        "    - If your model overfits, use other techniques to reduce overfitting. (We'll talk about this in later videos.) \n"
      ]
    },
    {
      "cell_type": "markdown",
      "metadata": {
        "id": "hWfZNG-76Gvt"
      },
      "source": [
        "## 5 - Test with your own image ##"
      ]
    },
    {
      "cell_type": "markdown",
      "metadata": {
        "id": "Bk3p-7kMB87B"
      },
      "source": [
        "\n",
        "\n",
        "Congratulations on finishing this assignment. You can use your own image and see the output of your model. To do that:\n",
        "1. Add your image to the VM of Google Colab \n",
        "2. Change your image's name in the following code\n",
        "3. Run the code and check if the algorithm is right (1 = cat, 0 = non-cat)!"
      ]
    },
    {
      "cell_type": "code",
      "metadata": {
        "scrolled": false,
        "id": "EJYOXc0aB87B"
      },
      "source": [
        "\n",
        "#(PUT YOUR IMAGE NAME) \n",
        "my_image = \"cat.jpg\"   # change this to the name of your image file \n",
        "#my_image = \"cat2.jpg\"   # change this to the name of your image file \n",
        "\n",
        "# We preprocess the image to fit your algorithm (*64*64 pixels).\n",
        "fname = my_image\n",
        "img = Image.open( fname )\n",
        "img.show()\n",
        "new_image = img.resize((num_px, num_px))\n",
        "data = np.asarray(new_image, dtype=\"int32\" )\n",
        "\n",
        "plt.figure()\n",
        "plt.imshow(data)\n",
        "\n",
        "data=data.reshape(1,num_px*num_px*3)\n",
        "data=data/255\n",
        "my_predicted_image = predict(d[\"w\"], d[\"b\"], data)\n",
        "print(\"y = \" + str(np.squeeze(my_predicted_image)) + \", your algorithm predicts a \\\"\" + classes[int(np.squeeze(my_predicted_image)),].decode(\"utf-8\") +  \"\\\" picture.\")"
      ],
      "execution_count": null,
      "outputs": []
    },
    {
      "cell_type": "markdown",
      "metadata": {
        "id": "8tfLSZAgB87E"
      },
      "source": [
        "\n",
        "**What to remember from this assignment:**\n",
        "\n",
        "1. Preprocessing the dataset is important.\n",
        "2. You implemented each function separately: initialize(), propagate(), optimize(). Then you built a model().\n",
        "3. Tuning the learning rate (which is an example of a \"hyperparameter\") can make a big difference to the algorithm. \n",
        "\n",
        "You will see more examples of this later in this course!"
      ]
    },
    {
      "cell_type": "markdown",
      "metadata": {
        "id": "nrXgBWUYB87E"
      },
      "source": [
        "Finally, if you'd like, we invite you to try different things on this Notebook. Make sure you submit before trying anything. Once you submit, things you can play with include:\n",
        "    - Play with the learning rate and the number of iterations\n",
        "    - Try different initialization methods and compare the results\n",
        "    - Test other preprocessings (center the data, or divide each row by its standard deviation)"
      ]
    },
    {
      "cell_type": "markdown",
      "metadata": {
        "id": "y-_z56dzB87F"
      },
      "source": [
        "**References**:\n",
        "- http://www.wildml.com/2015/09/implementing-a-neural-network-from-scratch/\n",
        "- https://stats.stackexchange.com/questions/211436/why-do-we-normalize-images-by-subtracting-the-datasets-image-mean-and-not-the-c"
      ]
    },
    {
      "cell_type": "markdown",
      "metadata": {
        "id": "KgnpDlH_VxAI"
      },
      "source": [
        "###### **DO NOT DELETE NOR MODIFY THESE CODE CELLS**"
      ]
    },
    {
      "cell_type": "code",
      "metadata": {
        "id": "D1gX3dvEVzlO"
      },
      "source": [
        "# # ###DO NOT DELETE NOR MODIFY THIS CODE CELL####\n",
        "!wget https://raw.githubusercontent.com/lopezbec/intro_python_notebooks/main/GRADING_LogRNN.py\n",
        "import numpy as np\n",
        "from GRADING_LogRNN import GRADING_LogRNN\n",
        "\n",
        "    \n",
        "\n",
        "try:\n",
        "    m_train\n",
        "except:\n",
        "    m_train=None\n",
        "try:\n",
        "    m_test\n",
        "except:\n",
        "    m_test=None\n",
        "try:\n",
        "    train_set_x_flatten\n",
        "except:\n",
        "    train_set_x_flatten=None\n",
        "try:\n",
        "    sigmoid\n",
        "    sigmoid_in=sigmoid(np.array([0,2,3]))[2]\n",
        "except:\n",
        "    sigmoid=None\n",
        "    sigmoid_in=None\n",
        "try:\n",
        "    initialize_with_zeros\n",
        "except:\n",
        "    initialize_with_zeros=None\n",
        "try:\n",
        "    propagate\n",
        "    propagate_in=propagate(np.array([[1.],[2.]]) , 2, np.array([[1.,2.,-1.],[3.,4.,-3.2]]).T, np.array([0,0,1]).reshape((-1,1)))[1]\n",
        "except:\n",
        "    propagate=None\n",
        "    propagate_in=None\n",
        "try:\n",
        "    params\n",
        "except:\n",
        "    params=None\n",
        "try:\n",
        "    predict\n",
        "    predict_in=predict(np.array([[0.1124579],[0.23106775]]), -0.5,np.array([[1.,-1.1,-3.2],[1.2,2.,0.1]]).T)[0,0]\n",
        "except:\n",
        "    predict=None\n",
        "    predict_in=None\n",
        "try:\n",
        "    d\n",
        "except:\n",
        "    d=None\n",
        "   \n",
        "GRADING_LogRNN(m_train, m_test,train_set_x_flatten,sigmoid_in,initialize_with_zeros,propagate_in,params,predict_in,d)\n"
      ],
      "execution_count": null,
      "outputs": []
    }
  ]
}