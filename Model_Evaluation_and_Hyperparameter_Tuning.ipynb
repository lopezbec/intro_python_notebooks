{
  "nbformat": 4,
  "nbformat_minor": 0,
  "metadata": {
    "anaconda-cloud": {},
    "kernelspec": {
      "name": "python3",
      "display_name": "Python 3"
    },
    "language_info": {
      "codemirror_mode": {
        "name": "ipython",
        "version": 3
      },
      "file_extension": ".py",
      "mimetype": "text/x-python",
      "name": "python",
      "nbconvert_exporter": "python",
      "pygments_lexer": "ipython3",
      "version": "3.5.1"
    },
    "colab": {
      "provenance": [],
      "machine_shape": "hm"
    },
    "accelerator": "GPU"
  },
  "cells": [
    {
      "cell_type": "markdown",
      "metadata": {
        "deletable": true,
        "editable": true,
        "id": "s7AurTGnTrtC"
      },
      "source": [
        "\n",
        "<center><b>©Content is made available under the CC-BY-NC-ND 4.0 license. Christian Lopez, lopezbec@lafayette.edu<b><center>"
      ]
    },
    {
      "cell_type": "markdown",
      "source": [
        "<table align=\"left\">\n",
        "  <td>\n",
        "    <a href=\"https://colab.research.google.com/github/lopezbec/intro_python_notebooks/blob/master/Model_Evaluation_and_Hyperparameter_Tuning.ipynb\" target=\"_parent\"><img src=\"https://colab.research.google.com/assets/colab-badge.svg\" alt=\"Open In Colab\"/></a>\n",
        "  </td>\n",
        "  <td>\n",
        "         </table>\n",
        "          <br><br></br> "
      ],
      "metadata": {
        "id": "8l7I0lY8fY9K"
      }
    },
    {
      "cell_type": "markdown",
      "metadata": {
        "id": "gYhcUyvETrtG"
      },
      "source": [
        "# Model Evaluation and Hyperparameter Tuning\n",
        "\n",
        "---\n",
        "\n"
      ]
    },
    {
      "cell_type": "markdown",
      "metadata": {
        "collapsed": true,
        "deletable": true,
        "editable": true,
        "id": "QcFHAeZTTrtH"
      },
      "source": [
        "In this notebook you will learn how to do hyperparameter tuning using Scikit-learn  and Keras. Specifically, you will learn:\n",
        "\n",
        "- How to do Hyperparameter tuning with Grid Search\n",
        "- How to do Hyperparameter tuning with Random Search\n",
        "- How to do Hyperparameter tuning for NN\n",
        "\n",
        "\n",
        "<br>\n",
        "Most of the notebooks we are going to be using are inspired from existing notebooks that are available online and are made free for educational purposes. Nonetheless, these notebooks should not be share without prior permission of the instructor. When working in an assignment always remember the [Student Code of Conduct](https://conduct.lafayette.edu/student-handbook/student-code-of-conduct/).\n",
        "\n",
        "*The following sections were inspired and uses some of the code and text from the books:\n",
        "\n",
        "- Géron, A. (2019) 2nd Ed. Hands-on machine learning with Scikit-Learn and TensorFlow: concepts, tools, and techniques to build intelligent systems. O'Reilly Media, Inc.( ISBN-10: 1491962291) [Chapter 10](https://github.com/ageron/handson-ml2/blob/master/10_neural_nets_with_keras.ipynb)\n",
        "\n",
        "- VanderPlas, J. (2016). Python data science handbook: Essential tools for working with data. O'Reilly Media ( ISBN-10: 9781491912058 ) [Chapter 5](https://colab.research.google.com/github/jakevdp/PythonDataScienceHandbook/blob/master/notebooks/05.03-Hyperparameters-and-Model-Validation.ipynb)"
      ]
    },
    {
      "cell_type": "markdown",
      "metadata": {
        "id": "09a6dgfMpKQ3"
      },
      "source": [
        "## 1- Model Validation"
      ]
    },
    {
      "cell_type": "markdown",
      "metadata": {
        "deletable": true,
        "editable": true,
        "id": "t9z_TgY2TrtI"
      },
      "source": [
        "\n",
        "\n",
        "In principle, model validation is very simple: after choosing a model and its hyperparameters, we can estimate how effective it is by applying it to some of the  data and comparing the prediction to the known value.\n",
        "\n",
        "The following sections first show a naive approach to model validation and why it\n",
        "fails, before exploring the use of holdout sets and cross-validation for more robust\n",
        "model evaluation."
      ]
    },
    {
      "cell_type": "markdown",
      "metadata": {
        "id": "zQ48_sivpmzI"
      },
      "source": [
        "### 1.1 -Model validation the wrong way"
      ]
    },
    {
      "cell_type": "markdown",
      "metadata": {
        "deletable": true,
        "editable": true,
        "id": "p4xMAOsDTrtJ"
      },
      "source": [
        "\n",
        "\n",
        "Let's demonstrate the naive approach to validation using the Iris data.\n",
        "We will start by loading the data:"
      ]
    },
    {
      "cell_type": "code",
      "metadata": {
        "deletable": true,
        "editable": true,
        "id": "hdtiQVGsTrtK"
      },
      "source": [
        "from sklearn.datasets import load_iris\n",
        "iris = load_iris()\n",
        "X = iris.data\n",
        "y = iris.target"
      ],
      "execution_count": 1,
      "outputs": []
    },
    {
      "cell_type": "markdown",
      "metadata": {
        "id": "dlZbFdGu7AWY"
      },
      "source": [
        "Next we choose a model and hyperparameters. \n",
        "\n",
        "First, we'll use a Polynomial Ridge Logistic Regression model with degrees of polynomial=`25`, and $\\lambda$=`0.001`.\n"
      ]
    },
    {
      "cell_type": "code",
      "metadata": {
        "id": "DtawDk1l0BMa"
      },
      "source": [
        "from sklearn.pipeline import Pipeline\n",
        "from sklearn.linear_model import RidgeClassifier\n",
        "from sklearn.preprocessing import PolynomialFeatures\n",
        "from sklearn.preprocessing import StandardScaler\n",
        "\n",
        "polybig_features = PolynomialFeatures(degree=25, include_bias=False)\n",
        "std_scaler = StandardScaler()\n",
        "Ridge_LogR = RidgeClassifier(0.001)\n",
        "\n",
        "polynomial_LogRegression = Pipeline([\n",
        "        (\"poly_features\", polybig_features),\n",
        "        (\"std_scaler\", std_scaler),\n",
        "        (\"Ridge_LogR\", Ridge_LogR),\n",
        "    ])"
      ],
      "execution_count": 2,
      "outputs": []
    },
    {
      "cell_type": "markdown",
      "metadata": {
        "id": "nTiXczPN8SjD"
      },
      "source": [
        "Then we train the model, and use it to predict labels for data we already know:"
      ]
    },
    {
      "cell_type": "code",
      "metadata": {
        "id": "2MWMUpMZ8XPy"
      },
      "source": [
        "polynomial_LogRegression.fit(X, y)\n",
        "y_model = polynomial_LogRegression.predict(X)\n"
      ],
      "execution_count": 3,
      "outputs": []
    },
    {
      "cell_type": "markdown",
      "metadata": {
        "id": "_Ya4lx_x8X_S"
      },
      "source": [
        "Finally, we compute the fraction of correctly labeled points:"
      ]
    },
    {
      "cell_type": "code",
      "metadata": {
        "id": "Crfrr_dv8Yc8",
        "colab": {
          "base_uri": "https://localhost:8080/"
        },
        "outputId": "71e87651-9c78-4dfd-8b34-ce7fbcda54e0"
      },
      "source": [
        "from sklearn.metrics import accuracy_score\n",
        "accuracy_score(y, y_model)"
      ],
      "execution_count": 4,
      "outputs": [
        {
          "output_type": "execute_result",
          "data": {
            "text/plain": [
              "1.0"
            ]
          },
          "metadata": {},
          "execution_count": 4
        }
      ]
    },
    {
      "cell_type": "markdown",
      "metadata": {
        "id": "496i-STR8dMY"
      },
      "source": [
        "We see an accuracy score of 1.0, which indicates that 100% of points were correctly labeled by our model!"
      ]
    },
    {
      "cell_type": "markdown",
      "metadata": {
        "deletable": true,
        "editable": true,
        "id": "fRz5x8XzTrtS"
      },
      "source": [
        "Lets try another model and hyperparameters. Here we'll use a *K*-neighbors classifier with ``n_neighbors=1``.\n",
        "This is a very simple and intuitive model that says \"the label of an unknown point is the same as the label of its closest training point:\"\n",
        "\n",
        "if you want to know more about *K*-neighbors classifier  look at these [video 1](https://www.youtube.com/watch?v=4HKqjENq9OU) and [video 2](https://www.youtube.com/watch?v=odqIu23OSbs&feature=emb_logo)\n",
        "\n",
        "We can implement it using [sklearn *K*-neighbors classifier](https://scikit-learn.org/stable/modules/generated/sklearn.neighbors.KNeighborsClassifier.html)"
      ]
    },
    {
      "cell_type": "code",
      "metadata": {
        "deletable": true,
        "editable": true,
        "id": "R7iLh4r8TrtU",
        "colab": {
          "base_uri": "https://localhost:8080/"
        },
        "outputId": "4173d0c0-21f2-44db-ad1e-3b1b9872494a"
      },
      "source": [
        "from sklearn.neighbors import KNeighborsClassifier\n",
        "model = KNeighborsClassifier(n_neighbors=1)\n",
        "\n",
        "#we train the model, and use it to predict labels for data we already know:\n",
        "model.fit(X, y)\n",
        "y_model = model.predict(X)\n",
        "\n",
        "#Finally, we compute the fraction of correctly labeled points:\n",
        "accuracy_score(y, y_model)"
      ],
      "execution_count": 5,
      "outputs": [
        {
          "output_type": "execute_result",
          "data": {
            "text/plain": [
              "1.0"
            ]
          },
          "metadata": {},
          "execution_count": 5
        }
      ]
    },
    {
      "cell_type": "markdown",
      "metadata": {
        "deletable": true,
        "editable": true,
        "id": "Y0EYf8UJTrtl"
      },
      "source": [
        "We see an accuracy score of again of 1.0, which indicates that 100% of points were correctly labeled by our model!\n",
        "\n",
        "But is this truly measuring the expected accuracy? Have we really come upon a model that we expect to be correct 100% of the time?\n",
        "\n",
        "As you may have gathered, the answer is no.\n",
        "In fact, this approach contains a fundamental flaw: \n",
        "\n",
        "### **it trains and evaluates the model on the same data**.\n",
        "\n",
        "Furthermore, the nearest neighbor model is an *instance-based* estimator that simply stores the training data, and predicts labels by comparing new data to these stored points: except in contrived cases, it will get 100% accuracy *every time!* Similarly, with a large number Polynomial degrees and low regularization the Logistic Regression will just overfit the data"
      ]
    },
    {
      "cell_type": "markdown",
      "metadata": {
        "id": "M-TU_5KG9vIu"
      },
      "source": [
        "## 2-  Model validation the right way: Holdout sets"
      ]
    },
    {
      "cell_type": "markdown",
      "metadata": {
        "deletable": true,
        "editable": true,
        "id": "X_E5j8RzTrtm"
      },
      "source": [
        "\n",
        "\n",
        "So what can be done?\n",
        "A better sense of a model's performance can be found using what's known as a *holdout set* (validation set): that is, we hold back some subset of the data from the training of the model, and then use this holdout set to check the model performance.\n",
        "This splitting can be done using the ``train_test_split`` utility in Scikit-Learn:"
      ]
    },
    {
      "cell_type": "code",
      "metadata": {
        "deletable": true,
        "editable": true,
        "id": "GnH9uXp_Trtn"
      },
      "source": [
        "from sklearn.model_selection import train_test_split\n",
        "# split the data with 50% in each set\n",
        "X1, X2, y1, y2 = train_test_split(X, y, random_state=0,\n",
        "                                  train_size=0.5)"
      ],
      "execution_count": 6,
      "outputs": []
    },
    {
      "cell_type": "code",
      "metadata": {
        "colab": {
          "base_uri": "https://localhost:8080/"
        },
        "id": "kaeLlaKgTMgj",
        "outputId": "6f57b306-8c43-4c71-8eeb-971512b336c4"
      },
      "source": [
        "polynomial_LogRegression.fit(X1, y1)\n",
        "y1_model = polynomial_LogRegression.predict(X1)\n",
        "accuracy_score(y1, y1_model)\n"
      ],
      "execution_count": 7,
      "outputs": [
        {
          "output_type": "execute_result",
          "data": {
            "text/plain": [
              "1.0"
            ]
          },
          "metadata": {},
          "execution_count": 7
        }
      ]
    },
    {
      "cell_type": "code",
      "metadata": {
        "id": "SLdP0UAT3lSP",
        "colab": {
          "base_uri": "https://localhost:8080/"
        },
        "outputId": "dafeeff3-8a9d-457e-c4b7-5a00efca8784"
      },
      "source": [
        "# fit the model on one set of data\n",
        "polynomial_LogRegression.fit(X1, y1)\n",
        "\n",
        "\n",
        "\n",
        "#Validation\n",
        "y2_model = polynomial_LogRegression.predict(X2)\n",
        "\n",
        "# evaluate the model on the second set of data\n",
        "accuracy_score(y2, y2_model)\n",
        "\n"
      ],
      "execution_count": 8,
      "outputs": [
        {
          "output_type": "execute_result",
          "data": {
            "text/plain": [
              "0.92"
            ]
          },
          "metadata": {},
          "execution_count": 8
        }
      ]
    },
    {
      "cell_type": "code",
      "metadata": {
        "id": "yBdH3nxuAlwD",
        "colab": {
          "base_uri": "https://localhost:8080/"
        },
        "outputId": "0a6c82f0-775c-42b0-90de-e49da9c97439"
      },
      "source": [
        "# fit the model on one set of data\n",
        "model.fit(X1, y1)\n",
        "\n",
        "# evaluate the model on the second set of data\n",
        "y2_model = model.predict(X2)\n",
        "accuracy_score(y2, y2_model)"
      ],
      "execution_count": 9,
      "outputs": [
        {
          "output_type": "execute_result",
          "data": {
            "text/plain": [
              "0.9066666666666666"
            ]
          },
          "metadata": {},
          "execution_count": 9
        }
      ]
    },
    {
      "cell_type": "markdown",
      "metadata": {
        "deletable": true,
        "editable": true,
        "id": "zRhYR3oRTrtr"
      },
      "source": [
        "We see here a more reasonable result:\n",
        "- The Polynomial Ridge Logistic Regression is about 92% accurate on this validation set\n",
        "- The nearest-neighbor classifier is about 90% accurate on this validation set.\n",
        "\n",
        "The hold-out/validations set is similar to unknown data, because the model has not \"seen\" it before."
      ]
    },
    {
      "cell_type": "markdown",
      "metadata": {
        "id": "4Za48F6EBC6G"
      },
      "source": [
        "## 3- Model validation via K-fold Cross-Validation\n"
      ]
    },
    {
      "cell_type": "markdown",
      "metadata": {
        "id": "ektw9lRcCzMw"
      },
      "source": [
        "#### 3.1- *2-Fold* CV"
      ]
    },
    {
      "cell_type": "markdown",
      "metadata": {
        "deletable": true,
        "editable": true,
        "id": "hX8FAoeBTrts"
      },
      "source": [
        "\n",
        "One disadvantage of using a holdout set for model validation is that we have lost a portion of our data to the model training.\n",
        "In the above case, half the dataset does not contribute to the training of the model!\n",
        "This is not optimal, and can cause problems – especially if the initial set of training data is small.\n",
        "\n",
        "One way to address this is to use *cross-validation*; that is, to do a sequence of fits where each subset of the data is used both as a training set and as a validation set.\n",
        "Visually, it might look something like this:\n",
        "\n",
        "![](https://github.com/jakevdp/PythonDataScienceHandbook/blob/master/notebooks/figures/05.03-2-fold-CV.png?raw=1)\n",
        "\n",
        "\n",
        "Here we do two validation trials, alternately using each half of the data as a holdout set.\n",
        "\n",
        "Using the split data from before and the *K*-neighbors classifier, we could implement it like this:"
      ]
    },
    {
      "cell_type": "code",
      "metadata": {
        "deletable": true,
        "editable": true,
        "id": "PMgsV51UTrtt",
        "colab": {
          "base_uri": "https://localhost:8080/"
        },
        "outputId": "b8a19ea2-a791-429c-c75a-8552936fcb14"
      },
      "source": [
        "y2_model = model.fit(X1, y1).predict(X2)\n",
        "y1_model = model.fit(X2, y2).predict(X1)\n",
        "accuracy_score(y1, y1_model), accuracy_score(y2, y2_model)"
      ],
      "execution_count": 10,
      "outputs": [
        {
          "output_type": "execute_result",
          "data": {
            "text/plain": [
              "(0.96, 0.9066666666666666)"
            ]
          },
          "metadata": {},
          "execution_count": 10
        }
      ]
    },
    {
      "cell_type": "markdown",
      "metadata": {
        "id": "19mDJdViC7Ob"
      },
      "source": [
        "#### 3.2- *5-Fold* CV"
      ]
    },
    {
      "cell_type": "markdown",
      "metadata": {
        "deletable": true,
        "editable": true,
        "id": "8dFalP9ITrtw"
      },
      "source": [
        "What comes out are two accuracy scores, which we could combine (by, say, taking the mean) to get a better measure of the global model performance.\n",
        "This particular form of cross-validation is a *two-fold cross-validation*—that is, one in which we have split the data into two sets and used each in turn as a validation set.\n",
        "\n",
        "We could expand on this idea to use even more trials, and more folds in the data—for example, here is a visual depiction of five-fold cross-validation:\n",
        "\n",
        "![](https://github.com/jakevdp/PythonDataScienceHandbook/blob/master/notebooks/figures/05.03-5-fold-CV.png?raw=1)\n",
        "\n",
        "\n",
        "\n",
        "Here we split the data into five groups, and use each of them in turn to evaluate the model fit on the other 4/5 of the data.\n",
        "This would be rather tedious to do by hand, and so we can use Scikit-Learn's ``cross_val_score`` convenience routine to do it succinctly:"
      ]
    },
    {
      "cell_type": "code",
      "metadata": {
        "deletable": true,
        "editable": true,
        "id": "e-BbL2cSTrtx",
        "colab": {
          "base_uri": "https://localhost:8080/"
        },
        "outputId": "9d0403ba-a478-4323-f3f9-2bb3a905d286"
      },
      "source": [
        "from sklearn.model_selection import cross_val_score\n",
        "cross_val_score(model, X, y, cv=5)"
      ],
      "execution_count": 11,
      "outputs": [
        {
          "output_type": "execute_result",
          "data": {
            "text/plain": [
              "array([0.96666667, 0.96666667, 0.93333333, 0.93333333, 1.        ])"
            ]
          },
          "metadata": {},
          "execution_count": 11
        }
      ]
    },
    {
      "cell_type": "code",
      "metadata": {
        "id": "fEhNgWXlHNdw",
        "colab": {
          "base_uri": "https://localhost:8080/"
        },
        "outputId": "34420a2d-e03f-4507-d578-926be8e20930"
      },
      "source": [
        "import numpy as np\n",
        "print(np.mean(cross_val_score(model, X, y, cv=5)))\n",
        "print(round(np.var(cross_val_score(model, X, y, cv=5)),4))"
      ],
      "execution_count": 12,
      "outputs": [
        {
          "output_type": "stream",
          "name": "stdout",
          "text": [
            "0.96\n",
            "0.0006\n"
          ]
        }
      ]
    },
    {
      "cell_type": "markdown",
      "metadata": {
        "id": "Sej3vi9tDCgO"
      },
      "source": [
        "#### 3.3- LOOCV"
      ]
    },
    {
      "cell_type": "markdown",
      "metadata": {
        "deletable": true,
        "editable": true,
        "id": "c8zZ7l3PTrt3"
      },
      "source": [
        "Repeating the validation across different subsets of the data gives us an even better idea of the performance of the algorithm.\n",
        "\n",
        "Scikit-Learn implements a number of useful cross-validation schemes that are useful in particular situations; these are implemented via iterators in the ``cross_validation`` module.\n",
        "For example, we might wish to go to the extreme case in which our number of folds is equal to the number of data points: that is, we train on all points but one in each trial.\n",
        "This type of cross-validation is known as *leave-one-out* cross validation, and can be used as follows:"
      ]
    },
    {
      "cell_type": "code",
      "metadata": {
        "deletable": true,
        "editable": true,
        "id": "amcj74p7Trt4",
        "colab": {
          "base_uri": "https://localhost:8080/"
        },
        "outputId": "1ca498a5-2d3b-4c1d-980f-5523ed7ea52f"
      },
      "source": [
        "from sklearn.model_selection import LeaveOneOut\n",
        "scores = cross_val_score(model, X, y, cv=LeaveOneOut())\n",
        "scores"
      ],
      "execution_count": 13,
      "outputs": [
        {
          "output_type": "execute_result",
          "data": {
            "text/plain": [
              "array([1., 1., 1., 1., 1., 1., 1., 1., 1., 1., 1., 1., 1., 1., 1., 1., 1.,\n",
              "       1., 1., 1., 1., 1., 1., 1., 1., 1., 1., 1., 1., 1., 1., 1., 1., 1.,\n",
              "       1., 1., 1., 1., 1., 1., 1., 1., 1., 1., 1., 1., 1., 1., 1., 1., 1.,\n",
              "       1., 1., 1., 1., 1., 1., 1., 1., 1., 1., 1., 1., 1., 1., 1., 1., 1.,\n",
              "       1., 1., 0., 1., 0., 1., 1., 1., 1., 1., 1., 1., 1., 1., 1., 0., 1.,\n",
              "       1., 1., 1., 1., 1., 1., 1., 1., 1., 1., 1., 1., 1., 1., 1., 1., 1.,\n",
              "       1., 1., 1., 1., 0., 1., 1., 1., 1., 1., 1., 1., 1., 1., 1., 1., 1.,\n",
              "       0., 1., 1., 1., 1., 1., 1., 1., 1., 1., 1., 1., 1., 1., 0., 1., 1.,\n",
              "       1., 1., 1., 1., 1., 1., 1., 1., 1., 1., 1., 1., 1., 1.])"
            ]
          },
          "metadata": {},
          "execution_count": 13
        }
      ]
    },
    {
      "cell_type": "markdown",
      "metadata": {
        "deletable": true,
        "editable": true,
        "id": "6qZCxZdiTrt9"
      },
      "source": [
        "Because we have 150 samples, the leave one out cross-validation yields scores for 150 trials, and the score indicates either successful (1.0) or unsuccessful (0.0) prediction.\n",
        "Taking the mean of these gives an estimate of the error rate:"
      ]
    },
    {
      "cell_type": "code",
      "metadata": {
        "deletable": true,
        "editable": true,
        "id": "4D4B3ku1Trt9",
        "colab": {
          "base_uri": "https://localhost:8080/"
        },
        "outputId": "11ee59b3-b9fc-4209-cdfe-78c7f438c2f6"
      },
      "source": [
        "print(np.mean(scores))\n",
        "print((np.var(scores)))"
      ],
      "execution_count": 14,
      "outputs": [
        {
          "output_type": "stream",
          "name": "stdout",
          "text": [
            "0.96\n",
            "0.0384\n"
          ]
        }
      ]
    },
    {
      "cell_type": "markdown",
      "metadata": {
        "id": "8CGZI_EWMu8V"
      },
      "source": [
        "As you can see while both the LOOCV and the 5-fold CV show a similar average model performance, the variance of the model's performance estimate of the LOOCV is greater  than the 5-fold CV."
      ]
    },
    {
      "cell_type": "markdown",
      "metadata": {
        "deletable": true,
        "editable": true,
        "id": "tanrvuvcTruB"
      },
      "source": [
        "Other cross-validation schemes can be used similarly.\n",
        "For a description of what is available in Scikit-Learn, take a look at Scikit-Learn's online [cross-validation documentation](http://scikit-learn.org/stable/modules/cross_validation.html)."
      ]
    },
    {
      "cell_type": "markdown",
      "metadata": {
        "id": "z-jPf3RhNhv2"
      },
      "source": [
        "## 4- Selecting the Best Model\n"
      ]
    },
    {
      "cell_type": "markdown",
      "metadata": {
        "deletable": true,
        "editable": true,
        "id": "DXoNxSSiTruD"
      },
      "source": [
        "\n",
        "Now that we've seen the basics of validation and cross-validation, we will go into a little  more depth regarding model selection and selection of hyperparameters.\n",
        "These issues are some of the most important aspects of the practice of machine learning.\n",
        "\n",
        "Of core importance is the following question: *if our estimator is underperforming (i.e., overfitting or underfitting), how should we move forward?*\n",
        "There are several possible answers:\n",
        "\n",
        "*Underfitting:*\n",
        "- Use a more complicated/more flexible model\n",
        "- Gather more data to add features to each sample or directly increase the degree of polynomial\n",
        "\n",
        "*Overfitting:*\n",
        "- Use a less complicated/less flexible model/regularize\n",
        "- Gather more training samples\n",
        "\n",
        "\n",
        "The answer to this question is often counter-intuitive.\n",
        "In particular, sometimes using a more complicated model will give worse results, and adding more training samples may not improve your results!\n",
        "The ability to determine what steps will improve your model is what separates the successful machine learning practitioners from the unsuccessful."
      ]
    },
    {
      "cell_type": "markdown",
      "metadata": {
        "id": "KNsyHdCpQY-Y"
      },
      "source": [
        "### 4.1 - The Bias-Variance trade-off"
      ]
    },
    {
      "cell_type": "markdown",
      "metadata": {
        "deletable": true,
        "editable": true,
        "id": "c7YT8hreTruE"
      },
      "source": [
        "\n",
        "\n",
        "Fundamentally, the question of \"the best model\" is about finding a sweet spot  of a model with low *bias* and *variance*.\n",
        "Consider the following figure, which presents two regression fits to the same dataset:\n",
        "\n",
        "![](https://github.com/jakevdp/PythonDataScienceHandbook/blob/master/notebooks/figures/05.03-bias-variance.png?raw=1)\n",
        "\n",
        "\n",
        "It is clear that neither of these models is a particularly good fit to the data, but they fail in different ways.\n",
        "\n",
        "The model on the left attempts to find a straight-line fit through the data.\n",
        "Because the data are intrinsically more complicated than a straight line, the straight-line model will never be able to describe this dataset well.\n",
        "Such a model is said to *underfit* the data: that is, it does not have enough model flexibility to suitably account for all the features in the data; another way of saying this is that the model has high *bias*.\n",
        "\n",
        "The model on the right attempts to fit a high-order polynomial through the data.\n",
        "Here the model fit has enough flexibility to nearly perfectly account for the fine features in the data, but even though it very accurately describes the training data, its precise form seems to be more reflective of the particular noise properties of the data rather than the intrinsic properties of whatever process generated that data.\n",
        "Such a model is said to *overfit* the data: that is, it has so much model flexibility that the model ends up accounting for random errors as well as the underlying data distribution; another way of saying this is that the model has high *variance*."
      ]
    },
    {
      "cell_type": "markdown",
      "metadata": {
        "deletable": true,
        "editable": true,
        "id": "3pK-eSnuTruE"
      },
      "source": [
        "To look at this in another light, consider what happens if we use these two models to predict the y-value for some new data.\n",
        "In the following diagrams, the red/lighter points indicate data that is omitted from the training set:\n",
        "\n",
        "![](https://github.com/jakevdp/PythonDataScienceHandbook/blob/master/notebooks/figures/05.03-bias-variance-2.png?raw=1)\n",
        "\n",
        "\n",
        "The score here is the $R^2$ score, or [coefficient of determination](https://en.wikipedia.org/wiki/Coefficient_of_determination), which measures how well a model performs relative to a simple mean of the target values. $R^2=1$ indicates a perfect match, $R^2=0$ indicates the model does no better than simply taking the mean of the data, and negative values mean even worse models.\n",
        "From the scores associated with these two models, we can make an observation that holds more generally:\n",
        "\n",
        "- For high-bias models, the performance of the model on the validation set is similar to the performance on the training set.\n",
        "- For high-variance models, the performance of the model on the validation set is far worse than the performance on the training set."
      ]
    },
    {
      "cell_type": "markdown",
      "metadata": {
        "deletable": true,
        "editable": true,
        "id": "X61bWvTITruF"
      },
      "source": [
        "If we imagine that we have some ability to tune the model complexity, we would expect the training score and validation score to behave as illustrated in the following figure:\n",
        "\n",
        "![](https://github.com/jakevdp/PythonDataScienceHandbook/blob/master/notebooks/figures/05.03-validation-curve.png?raw=1)\n",
        "\n",
        "The diagram shown here is often called a *validation curve* (very similar to *learning curves* with the exception that the x-axis is a model hyperparameter, not samples), and we see the following essential features:\n",
        "\n",
        "- The training score is everywhere higher than the validation score. This is generally the case: the model will be a better fit to data it has seen than to data it has not seen.\n",
        "- For very low model complexity (a high-bias model), the training data is under-fit, which means that the model is a poor predictor both for the training data and for any previously unseen data.\n",
        "- For very high model complexity (a high-variance model), the training data is over-fit, which means that the model predicts the training data very well, but fails for any previously unseen data.\n",
        "- For some intermediate value, the validation curve has a maximum. This level of complexity indicates a suitable trade-off between bias and variance.\n",
        "\n",
        "The means of tuning the model complexity varies from model to model; when we discuss individual models in depth in later sections, we will see how each model allows for such tuning."
      ]
    },
    {
      "cell_type": "markdown",
      "metadata": {
        "id": "eEgQFRFFbS5W"
      },
      "source": [
        "#### 4.1.2- Validation curves in Scikit-Learn\n"
      ]
    },
    {
      "cell_type": "markdown",
      "metadata": {
        "collapsed": true,
        "deletable": true,
        "editable": true,
        "id": "QdiCbetQTruH"
      },
      "source": [
        "\n",
        "Let's look at an example of using cross-validation to compute the validation curve for a class of models.\n",
        "Here we will use a *polynomial regression* model: this is a generalized linear model in which the degree of the polynomial is a tunable parameter.\n",
        "For example, a degree-1 polynomial fits a straight line to the data; for model parameters $\\theta_0$ and $\\theta_1$:\n",
        "\n",
        "$$\n",
        "y = \\theta_0 + \\theta_1 x\n",
        "$$\n",
        "\n",
        "A degree-3 polynomial fits a cubic curve to the data; for model parameters $\\theta_0, \\theta_1, \\theta_2, \\theta_3$:\n",
        "\n",
        "$$\n",
        "y = \\theta_0 + \\theta_1 x + \\theta_2 x^2 + \\theta_3 x^3\n",
        "$$\n",
        "\n",
        "We can generalize this to any number of polynomial features.\n",
        "In Scikit-Learn, we can implement this with a simple linear regression combined with the polynomial preprocessor.\n",
        "We will use a *pipeline* to string these operations together as we have done in the pass."
      ]
    },
    {
      "cell_type": "code",
      "metadata": {
        "deletable": true,
        "editable": true,
        "id": "_cgnzzFQTruH"
      },
      "source": [
        "from sklearn.preprocessing import PolynomialFeatures\n",
        "from sklearn.linear_model import LinearRegression\n",
        "from sklearn.pipeline import make_pipeline\n",
        "\n",
        "def PolynomialRegression(degree=2, **kwargs):\n",
        "    return make_pipeline(PolynomialFeatures(degree),\n",
        "                         LinearRegression(**kwargs))"
      ],
      "execution_count": 15,
      "outputs": []
    },
    {
      "cell_type": "markdown",
      "metadata": {
        "collapsed": true,
        "deletable": true,
        "editable": true,
        "id": "DQ-fvu73TruK"
      },
      "source": [
        "Now let's create some data to which we will fit our model:"
      ]
    },
    {
      "cell_type": "code",
      "metadata": {
        "deletable": true,
        "editable": true,
        "id": "bJYg1cOsTruL"
      },
      "source": [
        "import numpy as np\n",
        "\n",
        "def make_data(N, err=1.0, rseed=1):\n",
        "    # randomly sample the data\n",
        "    rng = np.random.RandomState(rseed)\n",
        "    X = rng.rand(N, 1) ** 2\n",
        "    y = 10 - 1. / (X.ravel() + 0.1)\n",
        "    if err > 0:\n",
        "        y += err * rng.randn(N)\n",
        "    return X, y\n",
        "\n",
        "X, y = make_data(40)"
      ],
      "execution_count": 16,
      "outputs": []
    },
    {
      "cell_type": "markdown",
      "metadata": {
        "deletable": true,
        "editable": true,
        "id": "2KkxxLUNTruP"
      },
      "source": [
        "We can now visualize our data, along with polynomial fits of several degrees:"
      ]
    },
    {
      "cell_type": "code",
      "metadata": {
        "deletable": true,
        "editable": true,
        "id": "tHV19g0uTruQ",
        "colab": {
          "base_uri": "https://localhost:8080/",
          "height": 440
        },
        "outputId": "7e956161-f320-4583-b6e3-4ad64890dfa3"
      },
      "source": [
        "%matplotlib inline\n",
        "import matplotlib.pyplot as plt\n",
        "import seaborn; seaborn.set()  # plot formatting\n",
        "\n",
        "X_test = np.linspace(-0.1, 1.1, 500)[:, None]\n",
        "\n",
        "plt.scatter(X.ravel(), y, color='black')\n",
        "axis = plt.axis()\n",
        "for degree in [1, 3, 5]:\n",
        "    y_test = PolynomialRegression(degree).fit(X, y).predict(X_test)\n",
        "    plt.plot(X_test.ravel(), y_test, label='degree={0}'.format(degree))\n",
        "plt.xlim(-0.1, 1.0)\n",
        "plt.ylim(-2, 12)\n",
        "plt.legend(loc='best');"
      ],
      "execution_count": 17,
      "outputs": [
        {
          "output_type": "display_data",
          "data": {
            "text/plain": [
              "<Figure size 640x480 with 1 Axes>"
            ],
            "image/png": "[encoded data removed]"
          },
          "metadata": {}
        }
      ]
    },
    {
      "cell_type": "markdown",
      "metadata": {
        "deletable": true,
        "editable": true,
        "id": "pv2rL0z1TruU"
      },
      "source": [
        "The knob controlling model complexity in this case is the degree of the polynomial, which can be any non-negative integer.\n",
        "A useful question to answer is this: what degree of polynomial provides a suitable trade-off between bias (under-fitting) and variance (over-fitting)?\n",
        "\n",
        "We can make progress in this by visualizing the validation curve for this particular data and model; this can be done straightforwardly using the ``validation_curve`` convenience routine provided by Scikit-Learn.\n",
        "Given a model, data, parameter name, and a range to explore, this function will automatically compute both the training score and validation score across the range. In this case the score is the $R^2$ but it can be change to [other metrics](https://scikit-learn.org/stable/modules/model_evaluation.html) :"
      ]
    },
    {
      "cell_type": "code",
      "metadata": {
        "deletable": true,
        "editable": true,
        "id": "BksosWykTruV",
        "colab": {
          "base_uri": "https://localhost:8080/",
          "height": 464
        },
        "outputId": "40d50b2a-2c82-4872-8b9a-2d7658af2ff4"
      },
      "source": [
        "import numpy as np\n",
        "\n",
        "def make_data(N, err=1.0, rseed=1):\n",
        "    # randomly sample the data\n",
        "    rng = np.random.RandomState(rseed)\n",
        "    X = rng.rand(N, 1) ** 4\n",
        "    y = 10 - 1. / (X.ravel() + 0.3)\n",
        "    if err > 0:\n",
        "        y += err * rng.randn(N)\n",
        "    return X, y\n",
        "\n",
        "X, y = make_data(80)\n",
        "\n",
        "\n",
        "from sklearn.model_selection import validation_curve\n",
        "from sklearn.metrics import r2_score\n",
        "degree = np.arange(0, 21)\n",
        "train_score, val_score = validation_curve(PolynomialRegression(), X, y,\n",
        "                                          param_name='polynomialfeatures__degree', \n",
        "                                          param_range=degree, cv=7, scoring=\"r2\")\n",
        "\n",
        "\n",
        "\n",
        "plt.plot(degree, np.median(train_score, 1), color='blue', label='training score')\n",
        "plt.plot(degree, np.median(val_score, 1), color='red', label='validation score')\n",
        "plt.legend(loc='best')\n",
        "plt.ylim(0, 1)\n",
        "\n",
        "plt.xlabel('degree')\n",
        "plt.gca().ticklabel_format(axis='both', style='plain', useOffset=False)\n",
        "plt.ylabel('R^2');"
      ],
      "execution_count": 18,
      "outputs": [
        {
          "output_type": "display_data",
          "data": {
            "text/plain": [
              "<Figure size 640x480 with 1 Axes>"
            ],
            "image/png": "[encoded data removed]"
          },
          "metadata": {}
        }
      ]
    },
    {
      "cell_type": "markdown",
      "metadata": {
        "deletable": true,
        "editable": true,
        "id": "-TD73r0VTruY"
      },
      "source": [
        "This shows precisely the qualitative behavior we expect: the training score is everywhere higher than the validation score; the training score is monotonically improving with increased model complexity; and the validation score reaches a maximum before dropping off as the model becomes over-fit.\n",
        "\n",
        "From the validation curve, we can read-off that the optimal trade-off between bias and variance is found for a third-order polynomial; we can compute and display this fit over the original data as follows:"
      ]
    },
    {
      "cell_type": "code",
      "metadata": {
        "deletable": true,
        "editable": true,
        "id": "VHKQc5oeTruY",
        "colab": {
          "base_uri": "https://localhost:8080/",
          "height": 434
        },
        "outputId": "6e56f620-3535-453c-d906-24c67edf57fe"
      },
      "source": [
        "plt.scatter(X.ravel(), y)\n",
        "lim = plt.axis()\n",
        "y_test = PolynomialRegression(4).fit(X, y).predict(X_test)\n",
        "plt.plot(X_test.ravel(), y_test);\n",
        "plt.axis(lim);"
      ],
      "execution_count": 19,
      "outputs": [
        {
          "output_type": "display_data",
          "data": {
            "text/plain": [
              "<Figure size 640x480 with 1 Axes>"
            ],
            "image/png": "[encoded data removed]"
          },
          "metadata": {}
        }
      ]
    },
    {
      "cell_type": "markdown",
      "metadata": {
        "deletable": true,
        "editable": true,
        "id": "WapNn4-9Trub"
      },
      "source": [
        "Notice that finding this optimal model did not actually require us to compute the training score, but examining the relationship between the training score and validation score can give us useful insight into the performance of the model."
      ]
    },
    {
      "cell_type": "markdown",
      "metadata": {
        "id": "67i0wC1Me1To"
      },
      "source": [
        "#### 4.1.3- Learning Curves"
      ]
    },
    {
      "cell_type": "markdown",
      "metadata": {
        "deletable": true,
        "editable": true,
        "id": "dmbez8hZTruc"
      },
      "source": [
        "\n",
        "\n",
        "One important aspect of model complexity is that the optimal model will generally depend on the size of your training data.\n",
        "For example, let's generate a new dataset with a factor of five more points:"
      ]
    },
    {
      "cell_type": "code",
      "metadata": {
        "deletable": true,
        "editable": true,
        "id": "3Omcq1A9Trud",
        "colab": {
          "base_uri": "https://localhost:8080/",
          "height": 434
        },
        "outputId": "932f0d65-d995-4d8c-af29-f3cc9f9cb309"
      },
      "source": [
        "X2, y2 = make_data(200)\n",
        "plt.scatter(X2.ravel(), y2);"
      ],
      "execution_count": 20,
      "outputs": [
        {
          "output_type": "display_data",
          "data": {
            "text/plain": [
              "<Figure size 640x480 with 1 Axes>"
            ],
            "image/png": "[encoded data removed]"
          },
          "metadata": {}
        }
      ]
    },
    {
      "cell_type": "markdown",
      "metadata": {
        "deletable": true,
        "editable": true,
        "id": "1uIbrap3Trug"
      },
      "source": [
        "We will duplicate the preceding code to plot the validation curve for this larger dataset; for reference let's over-plot the previous results as well:"
      ]
    },
    {
      "cell_type": "code",
      "metadata": {
        "deletable": true,
        "editable": true,
        "id": "6D0bJTanTruh",
        "colab": {
          "base_uri": "https://localhost:8080/",
          "height": 464
        },
        "outputId": "2e349c00-8394-40c4-fab6-79a8861fd0f4"
      },
      "source": [
        "degree = np.arange(21)\n",
        "train_score2, val_score2 = validation_curve(PolynomialRegression(), X2, y2,\n",
        "                                            param_name='polynomialfeatures__degree', \n",
        "                                            param_range=degree, cv=7)\n",
        "\n",
        "\n",
        "plt.plot(degree, np.median(train_score2, 1), color='blue', label='training score')\n",
        "plt.plot(degree, np.median(val_score2, 1), color='red', label='validation score')\n",
        "plt.plot(degree, np.median(train_score, 1), color='blue', alpha=0.3, linestyle='dashed')\n",
        "plt.plot(degree, np.median(val_score, 1), color='red', alpha=0.3, linestyle='dashed')\n",
        "plt.legend(loc='lower center')\n",
        "plt.ylim(0, 1)\n",
        "plt.xlabel('degree')\n",
        "plt.ylabel('score');"
      ],
      "execution_count": 21,
      "outputs": [
        {
          "output_type": "display_data",
          "data": {
            "text/plain": [
              "<Figure size 640x480 with 1 Axes>"
            ],
            "image/png": "[encoded data removed]"
          },
          "metadata": {}
        }
      ]
    },
    {
      "cell_type": "markdown",
      "metadata": {
        "deletable": true,
        "editable": true,
        "id": "0NvnlWSDTrul"
      },
      "source": [
        "The solid lines show the new results, while the fainter dashed lines show the results of the previous smaller dataset.\n",
        "It is clear from the validation curve that the larger dataset can support a much more complicated model: the peak here is probably around a degree of 5, but even a degree-20 model is not seriously over-fitting the data—the validation and training scores remain very close.\n",
        "\n",
        "Thus we see that the behavior of the validation curve has not one but two important inputs: the model complexity and the number of training points.\n",
        "It is often useful to to explore the behavior of the model as a function of the number of training points, which we can do by using increasingly larger subsets of the data to fit our model.\n",
        "A plot of the training/validation score with respect to the size of the training set is known as a *learning curve.*\n",
        "\n",
        "The general behavior we would expect from a learning curve is this:\n",
        "\n",
        "- A model of a given complexity will *overfit* a small dataset: this means the training score will be relatively high, while the validation score will be relatively low.\n",
        "- A model of a given complexity will *underfit* a large dataset: this means that the training score will decrease, but the validation score will increase.\n",
        "- A model will never, except by chance, give a better score to the validation set than the training set: this means the curves should keep getting closer together but never cross.\n",
        "\n",
        "With these features in mind, we would expect a learning curve to look qualitatively like that shown in the following figure:"
      ]
    },
    {
      "cell_type": "markdown",
      "metadata": {
        "deletable": true,
        "editable": true,
        "id": "gT_Q7WqUTrum"
      },
      "source": [
        "![](https://github.com/jakevdp/PythonDataScienceHandbook/blob/master/notebooks/figures/05.03-learning-curve.png?raw=1)"
      ]
    },
    {
      "cell_type": "markdown",
      "metadata": {
        "deletable": true,
        "editable": true,
        "id": "-xXVlzuGTrun"
      },
      "source": [
        "The notable feature of the learning curve is the convergence to a particular score as the number of training samples grows.\n",
        "In particular, once you have enough points that a particular model has converged, *adding more training data will not help you!*\n",
        "The only way to increase model performance in this case is to use another (often more complex) model."
      ]
    },
    {
      "cell_type": "markdown",
      "metadata": {
        "id": "btYCw7fPfTFm"
      },
      "source": [
        "#### 4.1.4-Learning curves in Scikit-Learn"
      ]
    },
    {
      "cell_type": "markdown",
      "metadata": {
        "deletable": true,
        "editable": true,
        "id": "YSBDthCKTrun"
      },
      "source": [
        "\n",
        "Scikit-Learn offers a convenient utility for computing such learning curves from your models; here we will compute a learning curve for our original dataset with a second-order polynomial model and a ninth-order polynomial:"
      ]
    },
    {
      "cell_type": "code",
      "metadata": {
        "deletable": true,
        "editable": true,
        "id": "LnEuGFocTruo",
        "colab": {
          "base_uri": "https://localhost:8080/",
          "height": 511
        },
        "outputId": "b96891a9-e532-4ef7-b4a6-59f40ccaafc7"
      },
      "source": [
        "from sklearn.model_selection import learning_curve\n",
        "\n",
        "fig, ax = plt.subplots(1, 2, figsize=(16, 6))\n",
        "fig.subplots_adjust(left=0.0625, right=0.95, wspace=0.1)\n",
        "\n",
        "for i, degree in enumerate([2, 9]):\n",
        "    N, train_lc, val_lc = learning_curve(PolynomialRegression(degree),\n",
        "                                         X, y, cv=7,\n",
        "                                         train_sizes=np.linspace(0.3, 1, 25))\n",
        "\n",
        "    ax[i].plot(N, np.mean(train_lc, 1), color='blue', label='training score')\n",
        "    ax[i].plot(N, np.mean(val_lc, 1), color='red', label='validation score')\n",
        "    ax[i].hlines(np.mean([train_lc[-1], val_lc[-1]]), N[0], N[-1],\n",
        "                 color='gray', linestyle='dashed')\n",
        "\n",
        "    if (i==0):\n",
        "        ax[i].set_ylim(0, 1)\n",
        "    if (i==1):\n",
        "        ax[i].set_ylim(-30, 1)\n",
        "    ax[i].set_xlim(N[0], N[-1])\n",
        "    ax[i].set_xlabel('training size')\n",
        "    ax[i].set_ylabel('score')\n",
        "    ax[i].set_title('degree = {0}'.format(degree), size=14)\n",
        "    ax[i].legend(loc='best')"
      ],
      "execution_count": 22,
      "outputs": [
        {
          "output_type": "display_data",
          "data": {
            "text/plain": [
              "<Figure size 1600x600 with 2 Axes>"
            ],
            "image/png": "[encoded data removed]"
          },
          "metadata": {}
        }
      ]
    },
    {
      "cell_type": "markdown",
      "metadata": {
        "deletable": true,
        "editable": true,
        "id": "T7eQO9flTrur"
      },
      "source": [
        "This is a valuable diagnostic, because it gives us a visual depiction of how our model responds to increasing training data.\n",
        "In particular, when your learning curve has already converged (i.e., when the training and validation curves are already close to each other) *adding more training data will not significantly improve the fit!*\n",
        "This situation is seen in the left panel, with the learning curve for the degree-2 model.\n",
        "\n",
        "The only way to increase the converged score is to use a different (usually more complicated) model.\n",
        "We see this in the right panel: by moving to a much more complicated model, we increase the score of convergence (indicated by the dashed line), but at the expense of higher model variance (indicated by the difference between the training and validation scores).\n",
        "If we were to add even more data points, the learning curve for the more complicated model would eventually converge.\n",
        "\n",
        "Plotting a learning curve for your particular choice of model and dataset can help you to make this type of decision about how to move forward in improving your analysis."
      ]
    },
    {
      "cell_type": "markdown",
      "metadata": {
        "id": "0A6lCr72fsGW"
      },
      "source": [
        "### 4.2 Hyperparameter Tuning"
      ]
    },
    {
      "cell_type": "markdown",
      "metadata": {
        "id": "yo0DsUFg7y2h"
      },
      "source": [
        "The preceding discussion is meant to give you some intuition into the trade-off between bias and variance, and its dependence on model complexity and training set size. In practice, models generally have more than one knob to turn, and thus plots of validation and learning curves change from lines to multi-dimensional surfaces. In these cases, such visualizations are difficult, and we would rather simply find the particular model that maximizes the validation score.\n",
        "\n",
        "\n",
        "In contrast to model parameters which are learned during training, model hyperparameters are set by you ahead of training and control implementation aspects of the model. Hyperparameters can be thought of as model settings. These settings need to be tuned because the ideal settings for one dataset will not be the same across all datasets. When tuning the hyperparameters of a model, Grid Search and Random Search are the two most popular methods. However,  there are more advanced method such as [Evolutionary Algorithms]( https://towardsdatascience.com/hyperparameter-tuning-in-xgboost-using-genetic-algorithm-17bd2e581b17) as well.\n"
      ]
    },
    {
      "cell_type": "markdown",
      "metadata": {
        "id": "qIabjn9Uf4rS"
      },
      "source": [
        "#### 4.2.1-Grid Search"
      ]
    },
    {
      "cell_type": "markdown",
      "metadata": {
        "deletable": true,
        "editable": true,
        "id": "g6a8NWrrTrus"
      },
      "source": [
        "Grid Search can be thought of as an exhaustive search for selecting a model’s hyperparameters. In Grid Search,  you need to set up a grid of hyperparameter values and for each combination, trains a model and scores on the validation data. In this approach, every combination of hyperparameter values is tried which can be very inefficient. For example, searching 20 different parameter values for each of 4 parameters will require 160,000 trials of cross-validation. This equates to 1,600,000 model fits and 1,600,000 predictions if 10-fold cross validation is used. While Scikit Learn offers the GridSearchCV function to simplify the process, it would be an extremely costly execution both in computing power and time.\n",
        "\n",
        "\n",
        "Here is an example of using grid search to find the optimal polynomial model. We will explore a three-dimensional grid of model features; namely the polynomial degree, the flag telling us whether to fit the intercept, and the flag telling us whether to normalize the problem. This can be set up using Scikit-Learn's `GridSearchCV` meta-estimator:\n"
      ]
    },
    {
      "cell_type": "code",
      "metadata": {
        "deletable": true,
        "editable": true,
        "id": "aXdiqqZyTrut"
      },
      "source": [
        "from sklearn.model_selection import GridSearchCV\n",
        "\n",
        "param_grid = {'polynomialfeatures__degree':[1,5,10,15,20],\n",
        "              'linearregression__fit_intercept': [True, False]}\n",
        "\n",
        "grid = GridSearchCV(PolynomialRegression(), param_grid, cv=10,verbose=1)"
      ],
      "execution_count": 23,
      "outputs": []
    },
    {
      "cell_type": "markdown",
      "metadata": {
        "deletable": true,
        "editable": true,
        "id": "p_7X2ouSTrux"
      },
      "source": [
        "Notice that like a normal estimator, this has not yet been applied to any data.\n",
        "Calling the ``fit()`` method will fit the model at each grid point, keeping track of the scores along the way:"
      ]
    },
    {
      "cell_type": "code",
      "metadata": {
        "deletable": true,
        "editable": true,
        "id": "vD7yvXgsTruy",
        "colab": {
          "base_uri": "https://localhost:8080/"
        },
        "outputId": "dd614348-68ec-42c5-91b5-9dd62335e4a2"
      },
      "source": [
        "grid.fit(X, y);"
      ],
      "execution_count": 24,
      "outputs": [
        {
          "output_type": "stream",
          "name": "stdout",
          "text": [
            "Fitting 10 folds for each of 10 candidates, totalling 100 fits\n"
          ]
        }
      ]
    },
    {
      "cell_type": "markdown",
      "metadata": {
        "deletable": true,
        "editable": true,
        "id": "xUIV_zlHTru3"
      },
      "source": [
        "Now that this is fit, we can ask for the best parameters as follows:"
      ]
    },
    {
      "cell_type": "code",
      "metadata": {
        "deletable": true,
        "editable": true,
        "id": "T0N0NexCTru3",
        "colab": {
          "base_uri": "https://localhost:8080/"
        },
        "outputId": "466e4f02-89f8-4328-b052-26f8e5998e92"
      },
      "source": [
        "grid.best_params_"
      ],
      "execution_count": 25,
      "outputs": [
        {
          "output_type": "execute_result",
          "data": {
            "text/plain": [
              "{'linearregression__fit_intercept': False, 'polynomialfeatures__degree': 1}"
            ]
          },
          "metadata": {},
          "execution_count": 25
        }
      ]
    },
    {
      "cell_type": "markdown",
      "metadata": {
        "deletable": true,
        "editable": true,
        "id": "-I-MLb07Tru6"
      },
      "source": [
        "Finally, if we wish, we can use the best model and show the fit to our data using code from before:"
      ]
    },
    {
      "cell_type": "code",
      "metadata": {
        "id": "Wjm9JA1mkz2e",
        "colab": {
          "base_uri": "https://localhost:8080/",
          "height": 126
        },
        "outputId": "02259d86-96b7-48dd-cd48-a1f40624fd67"
      },
      "source": [
        "grid.best_estimator_"
      ],
      "execution_count": 26,
      "outputs": [
        {
          "output_type": "execute_result",
          "data": {
            "text/plain": [
              "Pipeline(steps=[('polynomialfeatures', PolynomialFeatures(degree=1)),\n",
              "                ('linearregression', LinearRegression(fit_intercept=False))])"
            ],
            "text/html": [
              "<style>#sk-container-id-1 {color: black;background-color: white;}#sk-container-id-1 pre{padding: 0;}#sk-container-id-1 div.sk-toggleable {background-color: white;}#sk-container-id-1 label.sk-toggleable__label {cursor: pointer;display: block;width: 100%;margin-bottom: 0;padding: 0.3em;box-sizing: border-box;text-align: center;}#sk-container-id-1 label.sk-toggleable__label-arrow:before {content: \"▸\";float: left;margin-right: 0.25em;color: #696969;}#sk-container-id-1 label.sk-toggleable__label-arrow:hover:before {color: black;}#sk-container-id-1 div.sk-estimator:hover label.sk-toggleable__label-arrow:before {color: black;}#sk-container-id-1 div.sk-toggleable__content {max-height: 0;max-width: 0;overflow: hidden;text-align: left;background-color: #f0f8ff;}#sk-container-id-1 div.sk-toggleable__content pre {margin: 0.2em;color: black;border-radius: 0.25em;background-color: #f0f8ff;}#sk-container-id-1 input.sk-toggleable__control:checked~div.sk-toggleable__content {max-height: 200px;max-width: 100%;overflow: auto;}#sk-container-id-1 input.sk-toggleable__control:checked~label.sk-toggleable__label-arrow:before {content: \"▾\";}#sk-container-id-1 div.sk-estimator input.sk-toggleable__control:checked~label.sk-toggleable__label {background-color: #d4ebff;}#sk-container-id-1 div.sk-label input.sk-toggleable__control:checked~label.sk-toggleable__label {background-color: #d4ebff;}#sk-container-id-1 input.sk-hidden--visually {border: 0;clip: rect(1px 1px 1px 1px);clip: rect(1px, 1px, 1px, 1px);height: 1px;margin: -1px;overflow: hidden;padding: 0;position: absolute;width: 1px;}#sk-container-id-1 div.sk-estimator {font-family: monospace;background-color: #f0f8ff;border: 1px dotted black;border-radius: 0.25em;box-sizing: border-box;margin-bottom: 0.5em;}#sk-container-id-1 div.sk-estimator:hover {background-color: #d4ebff;}#sk-container-id-1 div.sk-parallel-item::after {content: \"\";width: 100%;border-bottom: 1px solid gray;flex-grow: 1;}#sk-container-id-1 div.sk-label:hover label.sk-toggleable__label {background-color: #d4ebff;}#sk-container-id-1 div.sk-serial::before {content: \"\";position: absolute;border-left: 1px solid gray;box-sizing: border-box;top: 0;bottom: 0;left: 50%;z-index: 0;}#sk-container-id-1 div.sk-serial {display: flex;flex-direction: column;align-items: center;background-color: white;padding-right: 0.2em;padding-left: 0.2em;position: relative;}#sk-container-id-1 div.sk-item {position: relative;z-index: 1;}#sk-container-id-1 div.sk-parallel {display: flex;align-items: stretch;justify-content: center;background-color: white;position: relative;}#sk-container-id-1 div.sk-item::before, #sk-container-id-1 div.sk-parallel-item::before {content: \"\";position: absolute;border-left: 1px solid gray;box-sizing: border-box;top: 0;bottom: 0;left: 50%;z-index: -1;}#sk-container-id-1 div.sk-parallel-item {display: flex;flex-direction: column;z-index: 1;position: relative;background-color: white;}#sk-container-id-1 div.sk-parallel-item:first-child::after {align-self: flex-end;width: 50%;}#sk-container-id-1 div.sk-parallel-item:last-child::after {align-self: flex-start;width: 50%;}#sk-container-id-1 div.sk-parallel-item:only-child::after {width: 0;}#sk-container-id-1 div.sk-dashed-wrapped {border: 1px dashed gray;margin: 0 0.4em 0.5em 0.4em;box-sizing: border-box;padding-bottom: 0.4em;background-color: white;}#sk-container-id-1 div.sk-label label {font-family: monospace;font-weight: bold;display: inline-block;line-height: 1.2em;}#sk-container-id-1 div.sk-label-container {text-align: center;}#sk-container-id-1 div.sk-container {/* jupyter's `normalize.less` sets `[hidden] { display: none; }` but bootstrap.min.css set `[hidden] { display: none !important; }` so we also need the `!important` here to be able to override the default hidden behavior on the sphinx rendered scikit-learn.org. See: https://github.com/scikit-learn/scikit-learn/issues/21755 */display: inline-block !important;position: relative;}#sk-container-id-1 div.sk-text-repr-fallback {display: none;}</style><div id=\"sk-container-id-1\" class=\"sk-top-container\"><div class=\"sk-text-repr-fallback\"><pre>Pipeline(steps=[(&#x27;polynomialfeatures&#x27;, PolynomialFeatures(degree=1)),\n",
              "                (&#x27;linearregression&#x27;, LinearRegression(fit_intercept=False))])</pre><b>In a Jupyter environment, please rerun this cell to show the HTML representation or trust the notebook. <br />On GitHub, the HTML representation is unable to render, please try loading this page with nbviewer.org.</b></div><div class=\"sk-container\" hidden><div class=\"sk-item sk-dashed-wrapped\"><div class=\"sk-label-container\"><div class=\"sk-label sk-toggleable\"><input class=\"sk-toggleable__control sk-hidden--visually\" id=\"sk-estimator-id-1\" type=\"checkbox\" ><label for=\"sk-estimator-id-1\" class=\"sk-toggleable__label sk-toggleable__label-arrow\">Pipeline</label><div class=\"sk-toggleable__content\"><pre>Pipeline(steps=[(&#x27;polynomialfeatures&#x27;, PolynomialFeatures(degree=1)),\n",
              "                (&#x27;linearregression&#x27;, LinearRegression(fit_intercept=False))])</pre></div></div></div><div class=\"sk-serial\"><div class=\"sk-item\"><div class=\"sk-estimator sk-toggleable\"><input class=\"sk-toggleable__control sk-hidden--visually\" id=\"sk-estimator-id-2\" type=\"checkbox\" ><label for=\"sk-estimator-id-2\" class=\"sk-toggleable__label sk-toggleable__label-arrow\">PolynomialFeatures</label><div class=\"sk-toggleable__content\"><pre>PolynomialFeatures(degree=1)</pre></div></div></div><div class=\"sk-item\"><div class=\"sk-estimator sk-toggleable\"><input class=\"sk-toggleable__control sk-hidden--visually\" id=\"sk-estimator-id-3\" type=\"checkbox\" ><label for=\"sk-estimator-id-3\" class=\"sk-toggleable__label sk-toggleable__label-arrow\">LinearRegression</label><div class=\"sk-toggleable__content\"><pre>LinearRegression(fit_intercept=False)</pre></div></div></div></div></div></div></div>"
            ]
          },
          "metadata": {},
          "execution_count": 26
        }
      ]
    },
    {
      "cell_type": "code",
      "metadata": {
        "deletable": true,
        "editable": true,
        "id": "v9BJ-fJVTru7",
        "colab": {
          "base_uri": "https://localhost:8080/",
          "height": 434
        },
        "outputId": "f1e7c39c-5692-45f8-84c2-26f2fd4852e6"
      },
      "source": [
        "model = grid.best_estimator_\n",
        "\n",
        "plt.scatter(X.ravel(), y)\n",
        "lim = plt.axis()\n",
        "y_test = model.fit(X, y).predict(X_test)\n",
        "plt.plot(X_test.ravel(), y_test);\n",
        "plt.axis(lim);"
      ],
      "execution_count": 27,
      "outputs": [
        {
          "output_type": "display_data",
          "data": {
            "text/plain": [
              "<Figure size 640x480 with 1 Axes>"
            ],
            "image/png": "[encoded data removed]"
          },
          "metadata": {}
        }
      ]
    },
    {
      "cell_type": "markdown",
      "metadata": {
        "id": "62dSFjlKk455"
      },
      "source": [
        "Let's look at the score of each hyperparameter combination tested during the grid search:"
      ]
    },
    {
      "cell_type": "code",
      "metadata": {
        "id": "oTzDCYHKk5Ob",
        "colab": {
          "base_uri": "https://localhost:8080/",
          "height": 601
        },
        "outputId": "570719ab-1562-4467-af43-fb2205c7bea6"
      },
      "source": [
        "import pandas as pd\n",
        "table=pd.DataFrame(grid.cv_results_)\n",
        "table"
      ],
      "execution_count": 28,
      "outputs": [
        {
          "output_type": "execute_result",
          "data": {
            "text/plain": [
              "   mean_fit_time  std_fit_time  mean_score_time  std_score_time  \\\n",
              "0       0.004891      0.003256         0.001834        0.001710   \n",
              "1       0.002869      0.001006         0.001107        0.000681   \n",
              "2       0.003812      0.001390         0.001488        0.000909   \n",
              "3       0.004621      0.002513         0.002451        0.003530   \n",
              "4       0.006409      0.005299         0.002241        0.003016   \n",
              "5       0.005753      0.006624         0.001197        0.001166   \n",
              "6       0.002363      0.001911         0.000792        0.000056   \n",
              "7       0.002739      0.002196         0.000803        0.000205   \n",
              "8       0.002121      0.001129         0.001487        0.002071   \n",
              "9       0.002078      0.000688         0.001175        0.000640   \n",
              "\n",
              "  param_linearregression__fit_intercept param_polynomialfeatures__degree  \\\n",
              "0                                  True                                1   \n",
              "1                                  True                                5   \n",
              "2                                  True                               10   \n",
              "3                                  True                               15   \n",
              "4                                  True                               20   \n",
              "5                                 False                                1   \n",
              "6                                 False                                5   \n",
              "7                                 False                               10   \n",
              "8                                 False                               15   \n",
              "9                                 False                               20   \n",
              "\n",
              "                                              params  split0_test_score  \\\n",
              "0  {'linearregression__fit_intercept': True, 'pol...           0.377974   \n",
              "1  {'linearregression__fit_intercept': True, 'pol...           0.467296   \n",
              "2  {'linearregression__fit_intercept': True, 'pol...           0.446502   \n",
              "3  {'linearregression__fit_intercept': True, 'pol...           0.163286   \n",
              "4  {'linearregression__fit_intercept': True, 'pol...          -0.027511   \n",
              "5  {'linearregression__fit_intercept': False, 'po...           0.377974   \n",
              "6  {'linearregression__fit_intercept': False, 'po...           0.467296   \n",
              "7  {'linearregression__fit_intercept': False, 'po...           0.446502   \n",
              "8  {'linearregression__fit_intercept': False, 'po...           0.163285   \n",
              "9  {'linearregression__fit_intercept': False, 'po...          -0.028387   \n",
              "\n",
              "   split1_test_score  split2_test_score  split3_test_score  split4_test_score  \\\n",
              "0          -0.082506       6.758622e-01           0.815818           0.801144   \n",
              "1          -0.003193       4.520739e-01           0.802273           0.867564   \n",
              "2           0.140010      -4.426655e-01           0.562842           0.697971   \n",
              "3           0.072204      -4.953576e+00           0.669477          -5.233712   \n",
              "4          -0.045096      -1.151783e+06           0.468159       -7960.814158   \n",
              "5          -0.082506       6.758622e-01           0.815818           0.801144   \n",
              "6          -0.003193       4.520739e-01           0.802273           0.867564   \n",
              "7           0.140010      -4.426655e-01           0.562842           0.697971   \n",
              "8           0.072204      -4.953980e+00           0.669477          -5.233808   \n",
              "9          -0.045835      -1.147358e+06           0.468520       -7809.869877   \n",
              "\n",
              "   split5_test_score  split6_test_score  split7_test_score  split8_test_score  \\\n",
              "0      -2.918272e-02           0.086356           0.061556          -0.093954   \n",
              "1      -9.804257e-01           0.333415          -0.100996          -0.115675   \n",
              "2      -4.162088e+02           0.402269          -0.039695           0.212527   \n",
              "3      -3.365827e+04           0.319413          -0.160138           0.127650   \n",
              "4      -2.118704e+10           0.282262          -0.159182      -13488.619579   \n",
              "5      -2.918272e-02           0.086356           0.061556          -0.093954   \n",
              "6      -9.804257e-01           0.333415          -0.100996          -0.115675   \n",
              "7      -4.162088e+02           0.402269          -0.039695           0.212527   \n",
              "8      -3.365743e+04           0.319413          -0.160138           0.127645   \n",
              "9      -2.105834e+10           0.282446          -0.159483      -14053.838739   \n",
              "\n",
              "   split9_test_score  mean_test_score  std_test_score  rank_test_score  \n",
              "0           0.663730     3.276797e-01    3.607734e-01                2  \n",
              "1           0.664818     2.387150e-01    5.279366e-01                3  \n",
              "2           0.357247    -4.138718e+01    1.249409e+02                6  \n",
              "3           0.005058    -3.366726e+03    1.009718e+04                8  \n",
              "4         -21.459899    -2.118821e+09    6.356072e+09               10  \n",
              "5           0.663730     3.276797e-01    3.607734e-01                1  \n",
              "6           0.664818     2.387150e-01    5.279366e-01                4  \n",
              "7           0.357247    -4.138718e+01    1.249409e+02                5  \n",
              "8           0.005051    -3.366643e+03    1.009693e+04                7  \n",
              "9         -20.976571    -2.105951e+09    6.317464e+09                9  "
            ],
            "text/html": [
              "\n",
              "  <div id=\"df-e4f5b859-edb7-40e2-9c63-9316754e09fd\">\n",
              "    <div class=\"colab-df-container\">\n",
              "      <div>\n",
              "<style scoped>\n",
              "    .dataframe tbody tr th:only-of-type {\n",
              "        vertical-align: middle;\n",
              "    }\n",
              "\n",
              "    .dataframe tbody tr th {\n",
              "        vertical-align: top;\n",
              "    }\n",
              "\n",
              "    .dataframe thead th {\n",
              "        text-align: right;\n",
              "    }\n",
              "</style>\n",
              "<table border=\"1\" class=\"dataframe\">\n",
              "  <thead>\n",
              "    <tr style=\"text-align: right;\">\n",
              "      <th></th>\n",
              "      <th>mean_fit_time</th>\n",
              "      <th>std_fit_time</th>\n",
              "      <th>mean_score_time</th>\n",
              "      <th>std_score_time</th>\n",
              "      <th>param_linearregression__fit_intercept</th>\n",
              "      <th>param_polynomialfeatures__degree</th>\n",
              "      <th>params</th>\n",
              "      <th>split0_test_score</th>\n",
              "      <th>split1_test_score</th>\n",
              "      <th>split2_test_score</th>\n",
              "      <th>split3_test_score</th>\n",
              "      <th>split4_test_score</th>\n",
              "      <th>split5_test_score</th>\n",
              "      <th>split6_test_score</th>\n",
              "      <th>split7_test_score</th>\n",
              "      <th>split8_test_score</th>\n",
              "      <th>split9_test_score</th>\n",
              "      <th>mean_test_score</th>\n",
              "      <th>std_test_score</th>\n",
              "      <th>rank_test_score</th>\n",
              "    </tr>\n",
              "  </thead>\n",
              "  <tbody>\n",
              "    <tr>\n",
              "      <th>0</th>\n",
              "      <td>0.004891</td>\n",
              "      <td>0.003256</td>\n",
              "      <td>0.001834</td>\n",
              "      <td>0.001710</td>\n",
              "      <td>True</td>\n",
              "      <td>1</td>\n",
              "      <td>{'linearregression__fit_intercept': True, 'pol...</td>\n",
              "      <td>0.377974</td>\n",
              "      <td>-0.082506</td>\n",
              "      <td>6.758622e-01</td>\n",
              "      <td>0.815818</td>\n",
              "      <td>0.801144</td>\n",
              "      <td>-2.918272e-02</td>\n",
              "      <td>0.086356</td>\n",
              "      <td>0.061556</td>\n",
              "      <td>-0.093954</td>\n",
              "      <td>0.663730</td>\n",
              "      <td>3.276797e-01</td>\n",
              "      <td>3.607734e-01</td>\n",
              "      <td>2</td>\n",
              "    </tr>\n",
              "    <tr>\n",
              "      <th>1</th>\n",
              "      <td>0.002869</td>\n",
              "      <td>0.001006</td>\n",
              "      <td>0.001107</td>\n",
              "      <td>0.000681</td>\n",
              "      <td>True</td>\n",
              "      <td>5</td>\n",
              "      <td>{'linearregression__fit_intercept': True, 'pol...</td>\n",
              "      <td>0.467296</td>\n",
              "      <td>-0.003193</td>\n",
              "      <td>4.520739e-01</td>\n",
              "      <td>0.802273</td>\n",
              "      <td>0.867564</td>\n",
              "      <td>-9.804257e-01</td>\n",
              "      <td>0.333415</td>\n",
              "      <td>-0.100996</td>\n",
              "      <td>-0.115675</td>\n",
              "      <td>0.664818</td>\n",
              "      <td>2.387150e-01</td>\n",
              "      <td>5.279366e-01</td>\n",
              "      <td>3</td>\n",
              "    </tr>\n",
              "    <tr>\n",
              "      <th>2</th>\n",
              "      <td>0.003812</td>\n",
              "      <td>0.001390</td>\n",
              "      <td>0.001488</td>\n",
              "      <td>0.000909</td>\n",
              "      <td>True</td>\n",
              "      <td>10</td>\n",
              "      <td>{'linearregression__fit_intercept': True, 'pol...</td>\n",
              "      <td>0.446502</td>\n",
              "      <td>0.140010</td>\n",
              "      <td>-4.426655e-01</td>\n",
              "      <td>0.562842</td>\n",
              "      <td>0.697971</td>\n",
              "      <td>-4.162088e+02</td>\n",
              "      <td>0.402269</td>\n",
              "      <td>-0.039695</td>\n",
              "      <td>0.212527</td>\n",
              "      <td>0.357247</td>\n",
              "      <td>-4.138718e+01</td>\n",
              "      <td>1.249409e+02</td>\n",
              "      <td>6</td>\n",
              "    </tr>\n",
              "    <tr>\n",
              "      <th>3</th>\n",
              "      <td>0.004621</td>\n",
              "      <td>0.002513</td>\n",
              "      <td>0.002451</td>\n",
              "      <td>0.003530</td>\n",
              "      <td>True</td>\n",
              "      <td>15</td>\n",
              "      <td>{'linearregression__fit_intercept': True, 'pol...</td>\n",
              "      <td>0.163286</td>\n",
              "      <td>0.072204</td>\n",
              "      <td>-4.953576e+00</td>\n",
              "      <td>0.669477</td>\n",
              "      <td>-5.233712</td>\n",
              "      <td>-3.365827e+04</td>\n",
              "      <td>0.319413</td>\n",
              "      <td>-0.160138</td>\n",
              "      <td>0.127650</td>\n",
              "      <td>0.005058</td>\n",
              "      <td>-3.366726e+03</td>\n",
              "      <td>1.009718e+04</td>\n",
              "      <td>8</td>\n",
              "    </tr>\n",
              "    <tr>\n",
              "      <th>4</th>\n",
              "      <td>0.006409</td>\n",
              "      <td>0.005299</td>\n",
              "      <td>0.002241</td>\n",
              "      <td>0.003016</td>\n",
              "      <td>True</td>\n",
              "      <td>20</td>\n",
              "      <td>{'linearregression__fit_intercept': True, 'pol...</td>\n",
              "      <td>-0.027511</td>\n",
              "      <td>-0.045096</td>\n",
              "      <td>-1.151783e+06</td>\n",
              "      <td>0.468159</td>\n",
              "      <td>-7960.814158</td>\n",
              "      <td>-2.118704e+10</td>\n",
              "      <td>0.282262</td>\n",
              "      <td>-0.159182</td>\n",
              "      <td>-13488.619579</td>\n",
              "      <td>-21.459899</td>\n",
              "      <td>-2.118821e+09</td>\n",
              "      <td>6.356072e+09</td>\n",
              "      <td>10</td>\n",
              "    </tr>\n",
              "    <tr>\n",
              "      <th>5</th>\n",
              "      <td>0.005753</td>\n",
              "      <td>0.006624</td>\n",
              "      <td>0.001197</td>\n",
              "      <td>0.001166</td>\n",
              "      <td>False</td>\n",
              "      <td>1</td>\n",
              "      <td>{'linearregression__fit_intercept': False, 'po...</td>\n",
              "      <td>0.377974</td>\n",
              "      <td>-0.082506</td>\n",
              "      <td>6.758622e-01</td>\n",
              "      <td>0.815818</td>\n",
              "      <td>0.801144</td>\n",
              "      <td>-2.918272e-02</td>\n",
              "      <td>0.086356</td>\n",
              "      <td>0.061556</td>\n",
              "      <td>-0.093954</td>\n",
              "      <td>0.663730</td>\n",
              "      <td>3.276797e-01</td>\n",
              "      <td>3.607734e-01</td>\n",
              "      <td>1</td>\n",
              "    </tr>\n",
              "    <tr>\n",
              "      <th>6</th>\n",
              "      <td>0.002363</td>\n",
              "      <td>0.001911</td>\n",
              "      <td>0.000792</td>\n",
              "      <td>0.000056</td>\n",
              "      <td>False</td>\n",
              "      <td>5</td>\n",
              "      <td>{'linearregression__fit_intercept': False, 'po...</td>\n",
              "      <td>0.467296</td>\n",
              "      <td>-0.003193</td>\n",
              "      <td>4.520739e-01</td>\n",
              "      <td>0.802273</td>\n",
              "      <td>0.867564</td>\n",
              "      <td>-9.804257e-01</td>\n",
              "      <td>0.333415</td>\n",
              "      <td>-0.100996</td>\n",
              "      <td>-0.115675</td>\n",
              "      <td>0.664818</td>\n",
              "      <td>2.387150e-01</td>\n",
              "      <td>5.279366e-01</td>\n",
              "      <td>4</td>\n",
              "    </tr>\n",
              "    <tr>\n",
              "      <th>7</th>\n",
              "      <td>0.002739</td>\n",
              "      <td>0.002196</td>\n",
              "      <td>0.000803</td>\n",
              "      <td>0.000205</td>\n",
              "      <td>False</td>\n",
              "      <td>10</td>\n",
              "      <td>{'linearregression__fit_intercept': False, 'po...</td>\n",
              "      <td>0.446502</td>\n",
              "      <td>0.140010</td>\n",
              "      <td>-4.426655e-01</td>\n",
              "      <td>0.562842</td>\n",
              "      <td>0.697971</td>\n",
              "      <td>-4.162088e+02</td>\n",
              "      <td>0.402269</td>\n",
              "      <td>-0.039695</td>\n",
              "      <td>0.212527</td>\n",
              "      <td>0.357247</td>\n",
              "      <td>-4.138718e+01</td>\n",
              "      <td>1.249409e+02</td>\n",
              "      <td>5</td>\n",
              "    </tr>\n",
              "    <tr>\n",
              "      <th>8</th>\n",
              "      <td>0.002121</td>\n",
              "      <td>0.001129</td>\n",
              "      <td>0.001487</td>\n",
              "      <td>0.002071</td>\n",
              "      <td>False</td>\n",
              "      <td>15</td>\n",
              "      <td>{'linearregression__fit_intercept': False, 'po...</td>\n",
              "      <td>0.163285</td>\n",
              "      <td>0.072204</td>\n",
              "      <td>-4.953980e+00</td>\n",
              "      <td>0.669477</td>\n",
              "      <td>-5.233808</td>\n",
              "      <td>-3.365743e+04</td>\n",
              "      <td>0.319413</td>\n",
              "      <td>-0.160138</td>\n",
              "      <td>0.127645</td>\n",
              "      <td>0.005051</td>\n",
              "      <td>-3.366643e+03</td>\n",
              "      <td>1.009693e+04</td>\n",
              "      <td>7</td>\n",
              "    </tr>\n",
              "    <tr>\n",
              "      <th>9</th>\n",
              "      <td>0.002078</td>\n",
              "      <td>0.000688</td>\n",
              "      <td>0.001175</td>\n",
              "      <td>0.000640</td>\n",
              "      <td>False</td>\n",
              "      <td>20</td>\n",
              "      <td>{'linearregression__fit_intercept': False, 'po...</td>\n",
              "      <td>-0.028387</td>\n",
              "      <td>-0.045835</td>\n",
              "      <td>-1.147358e+06</td>\n",
              "      <td>0.468520</td>\n",
              "      <td>-7809.869877</td>\n",
              "      <td>-2.105834e+10</td>\n",
              "      <td>0.282446</td>\n",
              "      <td>-0.159483</td>\n",
              "      <td>-14053.838739</td>\n",
              "      <td>-20.976571</td>\n",
              "      <td>-2.105951e+09</td>\n",
              "      <td>6.317464e+09</td>\n",
              "      <td>9</td>\n",
              "    </tr>\n",
              "  </tbody>\n",
              "</table>\n",
              "</div>\n",
              "      <button class=\"colab-df-convert\" onclick=\"convertToInteractive('df-e4f5b859-edb7-40e2-9c63-9316754e09fd')\"\n",
              "              title=\"Convert this dataframe to an interactive table.\"\n",
              "              style=\"display:none;\">\n",
              "        \n",
              "  <svg xmlns=\"http://www.w3.org/2000/svg\" height=\"24px\"viewBox=\"0 0 24 24\"\n",
              "       width=\"24px\">\n",
              "    <path d=\"M0 0h24v24H0V0z\" fill=\"none\"/>\n",
              "    <path d=\"M18.56 5.44l.94 2.06.94-2.06 2.06-.94-2.06-.94-.94-2.06-.94 2.06-2.06.94zm-11 1L8.5 8.5l.94-2.06 2.06-.94-2.06-.94L8.5 2.5l-.94 2.06-2.06.94zm10 10l.94 2.06.94-2.06 2.06-.94-2.06-.94-.94-2.06-.94 2.06-2.06.94z\"/><path d=\"M17.41 7.96l-1.37-1.37c-.4-.4-.92-.59-1.43-.59-.52 0-1.04.2-1.43.59L10.3 9.45l-7.72 7.72c-.78.78-.78 2.05 0 2.83L4 21.41c.39.39.9.59 1.41.59.51 0 1.02-.2 1.41-.59l7.78-7.78 2.81-2.81c.8-.78.8-2.07 0-2.86zM5.41 20L4 18.59l7.72-7.72 1.47 1.35L5.41 20z\"/>\n",
              "  </svg>\n",
              "      </button>\n",
              "      \n",
              "  <style>\n",
              "    .colab-df-container {\n",
              "      display:flex;\n",
              "      flex-wrap:wrap;\n",
              "      gap: 12px;\n",
              "    }\n",
              "\n",
              "    .colab-df-convert {\n",
              "      background-color: #E8F0FE;\n",
              "      border: none;\n",
              "      border-radius: 50%;\n",
              "      cursor: pointer;\n",
              "      display: none;\n",
              "      fill: #1967D2;\n",
              "      height: 32px;\n",
              "      padding: 0 0 0 0;\n",
              "      width: 32px;\n",
              "    }\n",
              "\n",
              "    .colab-df-convert:hover {\n",
              "      background-color: #E2EBFA;\n",
              "      box-shadow: 0px 1px 2px rgba(60, 64, 67, 0.3), 0px 1px 3px 1px rgba(60, 64, 67, 0.15);\n",
              "      fill: #174EA6;\n",
              "    }\n",
              "\n",
              "    [theme=dark] .colab-df-convert {\n",
              "      background-color: #3B4455;\n",
              "      fill: #D2E3FC;\n",
              "    }\n",
              "\n",
              "    [theme=dark] .colab-df-convert:hover {\n",
              "      background-color: #434B5C;\n",
              "      box-shadow: 0px 1px 3px 1px rgba(0, 0, 0, 0.15);\n",
              "      filter: drop-shadow(0px 1px 2px rgba(0, 0, 0, 0.3));\n",
              "      fill: #FFFFFF;\n",
              "    }\n",
              "  </style>\n",
              "\n",
              "      <script>\n",
              "        const buttonEl =\n",
              "          document.querySelector('#df-e4f5b859-edb7-40e2-9c63-9316754e09fd button.colab-df-convert');\n",
              "        buttonEl.style.display =\n",
              "          google.colab.kernel.accessAllowed ? 'block' : 'none';\n",
              "\n",
              "        async function convertToInteractive(key) {\n",
              "          const element = document.querySelector('#df-e4f5b859-edb7-40e2-9c63-9316754e09fd');\n",
              "          const dataTable =\n",
              "            await google.colab.kernel.invokeFunction('convertToInteractive',\n",
              "                                                     [key], {});\n",
              "          if (!dataTable) return;\n",
              "\n",
              "          const docLinkHtml = 'Like what you see? Visit the ' +\n",
              "            '<a target=\"_blank\" href=https://colab.research.google.com/notebooks/data_table.ipynb>data table notebook</a>'\n",
              "            + ' to learn more about interactive tables.';\n",
              "          element.innerHTML = '';\n",
              "          dataTable['output_type'] = 'display_data';\n",
              "          await google.colab.output.renderOutput(dataTable, element);\n",
              "          const docLink = document.createElement('div');\n",
              "          docLink.innerHTML = docLinkHtml;\n",
              "          element.appendChild(docLink);\n",
              "        }\n",
              "      </script>\n",
              "    </div>\n",
              "  </div>\n",
              "  "
            ]
          },
          "metadata": {},
          "execution_count": 28
        }
      ]
    },
    {
      "cell_type": "markdown",
      "metadata": {
        "id": "hTuKFKy0mBPR"
      },
      "source": [
        "The Mean and Standard Deviation for the best model was:"
      ]
    },
    {
      "cell_type": "code",
      "metadata": {
        "id": "DU1CiRDsrqSQ",
        "colab": {
          "base_uri": "https://localhost:8080/",
          "height": 81
        },
        "outputId": "1085b98c-18a9-4f2a-f408-a61351d50cf7"
      },
      "source": [
        "best={'param_linearregression__fit_intercept': True,\n",
        " 'param_polynomialfeatures__degree': 5}\n",
        "sub_table=table.loc[(table[list(best)] == pd.Series(best)).all(axis=1)]\n",
        "sub_table[['mean_test_score', 'std_test_score','param_linearregression__fit_intercept',\n",
        "       'param_polynomialfeatures__degree' ]]"
      ],
      "execution_count": 29,
      "outputs": [
        {
          "output_type": "execute_result",
          "data": {
            "text/plain": [
              "   mean_test_score  std_test_score param_linearregression__fit_intercept  \\\n",
              "1         0.238715        0.527937                                  True   \n",
              "\n",
              "  param_polynomialfeatures__degree  \n",
              "1                                5  "
            ],
            "text/html": [
              "\n",
              "  <div id=\"df-6cc31bc6-08dc-444d-890a-28dbdea07413\">\n",
              "    <div class=\"colab-df-container\">\n",
              "      <div>\n",
              "<style scoped>\n",
              "    .dataframe tbody tr th:only-of-type {\n",
              "        vertical-align: middle;\n",
              "    }\n",
              "\n",
              "    .dataframe tbody tr th {\n",
              "        vertical-align: top;\n",
              "    }\n",
              "\n",
              "    .dataframe thead th {\n",
              "        text-align: right;\n",
              "    }\n",
              "</style>\n",
              "<table border=\"1\" class=\"dataframe\">\n",
              "  <thead>\n",
              "    <tr style=\"text-align: right;\">\n",
              "      <th></th>\n",
              "      <th>mean_test_score</th>\n",
              "      <th>std_test_score</th>\n",
              "      <th>param_linearregression__fit_intercept</th>\n",
              "      <th>param_polynomialfeatures__degree</th>\n",
              "    </tr>\n",
              "  </thead>\n",
              "  <tbody>\n",
              "    <tr>\n",
              "      <th>1</th>\n",
              "      <td>0.238715</td>\n",
              "      <td>0.527937</td>\n",
              "      <td>True</td>\n",
              "      <td>5</td>\n",
              "    </tr>\n",
              "  </tbody>\n",
              "</table>\n",
              "</div>\n",
              "      <button class=\"colab-df-convert\" onclick=\"convertToInteractive('df-6cc31bc6-08dc-444d-890a-28dbdea07413')\"\n",
              "              title=\"Convert this dataframe to an interactive table.\"\n",
              "              style=\"display:none;\">\n",
              "        \n",
              "  <svg xmlns=\"http://www.w3.org/2000/svg\" height=\"24px\"viewBox=\"0 0 24 24\"\n",
              "       width=\"24px\">\n",
              "    <path d=\"M0 0h24v24H0V0z\" fill=\"none\"/>\n",
              "    <path d=\"M18.56 5.44l.94 2.06.94-2.06 2.06-.94-2.06-.94-.94-2.06-.94 2.06-2.06.94zm-11 1L8.5 8.5l.94-2.06 2.06-.94-2.06-.94L8.5 2.5l-.94 2.06-2.06.94zm10 10l.94 2.06.94-2.06 2.06-.94-2.06-.94-.94-2.06-.94 2.06-2.06.94z\"/><path d=\"M17.41 7.96l-1.37-1.37c-.4-.4-.92-.59-1.43-.59-.52 0-1.04.2-1.43.59L10.3 9.45l-7.72 7.72c-.78.78-.78 2.05 0 2.83L4 21.41c.39.39.9.59 1.41.59.51 0 1.02-.2 1.41-.59l7.78-7.78 2.81-2.81c.8-.78.8-2.07 0-2.86zM5.41 20L4 18.59l7.72-7.72 1.47 1.35L5.41 20z\"/>\n",
              "  </svg>\n",
              "      </button>\n",
              "      \n",
              "  <style>\n",
              "    .colab-df-container {\n",
              "      display:flex;\n",
              "      flex-wrap:wrap;\n",
              "      gap: 12px;\n",
              "    }\n",
              "\n",
              "    .colab-df-convert {\n",
              "      background-color: #E8F0FE;\n",
              "      border: none;\n",
              "      border-radius: 50%;\n",
              "      cursor: pointer;\n",
              "      display: none;\n",
              "      fill: #1967D2;\n",
              "      height: 32px;\n",
              "      padding: 0 0 0 0;\n",
              "      width: 32px;\n",
              "    }\n",
              "\n",
              "    .colab-df-convert:hover {\n",
              "      background-color: #E2EBFA;\n",
              "      box-shadow: 0px 1px 2px rgba(60, 64, 67, 0.3), 0px 1px 3px 1px rgba(60, 64, 67, 0.15);\n",
              "      fill: #174EA6;\n",
              "    }\n",
              "\n",
              "    [theme=dark] .colab-df-convert {\n",
              "      background-color: #3B4455;\n",
              "      fill: #D2E3FC;\n",
              "    }\n",
              "\n",
              "    [theme=dark] .colab-df-convert:hover {\n",
              "      background-color: #434B5C;\n",
              "      box-shadow: 0px 1px 3px 1px rgba(0, 0, 0, 0.15);\n",
              "      filter: drop-shadow(0px 1px 2px rgba(0, 0, 0, 0.3));\n",
              "      fill: #FFFFFF;\n",
              "    }\n",
              "  </style>\n",
              "\n",
              "      <script>\n",
              "        const buttonEl =\n",
              "          document.querySelector('#df-6cc31bc6-08dc-444d-890a-28dbdea07413 button.colab-df-convert');\n",
              "        buttonEl.style.display =\n",
              "          google.colab.kernel.accessAllowed ? 'block' : 'none';\n",
              "\n",
              "        async function convertToInteractive(key) {\n",
              "          const element = document.querySelector('#df-6cc31bc6-08dc-444d-890a-28dbdea07413');\n",
              "          const dataTable =\n",
              "            await google.colab.kernel.invokeFunction('convertToInteractive',\n",
              "                                                     [key], {});\n",
              "          if (!dataTable) return;\n",
              "\n",
              "          const docLinkHtml = 'Like what you see? Visit the ' +\n",
              "            '<a target=\"_blank\" href=https://colab.research.google.com/notebooks/data_table.ipynb>data table notebook</a>'\n",
              "            + ' to learn more about interactive tables.';\n",
              "          element.innerHTML = '';\n",
              "          dataTable['output_type'] = 'display_data';\n",
              "          await google.colab.output.renderOutput(dataTable, element);\n",
              "          const docLink = document.createElement('div');\n",
              "          docLink.innerHTML = docLinkHtml;\n",
              "          element.appendChild(docLink);\n",
              "        }\n",
              "      </script>\n",
              "    </div>\n",
              "  </div>\n",
              "  "
            ]
          },
          "metadata": {},
          "execution_count": 29
        }
      ]
    },
    {
      "cell_type": "markdown",
      "metadata": {
        "deletable": true,
        "editable": true,
        "id": "T4NOCoJ2Tru-"
      },
      "source": [
        "The grid search provides many more options, including the ability to specify a custom scoring function, to parallelize the computations, to do randomized searches, and more.\n",
        "For information, refer to Scikit-Learn's [grid search documentation](http://Scikit-Learn.org/stable/modules/grid_search.html)."
      ]
    },
    {
      "cell_type": "markdown",
      "metadata": {
        "id": "vG8-dYnjg1no"
      },
      "source": [
        "#### 4.2.2-Random Search"
      ]
    },
    {
      "cell_type": "markdown",
      "metadata": {
        "id": "7G_vMJe1kgdA"
      },
      "source": [
        "\n",
        "By contrast, Random Search sets up a grid of hyperparameter values and selects random combinations to train the model and score. This allows you to explicitly control the number of parameter combinations that are attempted. The number of search iterations is set based on time or resources. Scikit Learn offers the `RandomizedSearchCV` function for this process.\n",
        "\n",
        "While it’s possible that `RandomizedSearchCV` will not find as accurate of a result as `GridSearchCV`, it surprisingly picks the best result more often than not and in a fraction of the time it takes `GridSearchCV` would have taken. Given the same resources, Randomized Search can even outperform Grid Search.\n"
      ]
    },
    {
      "cell_type": "code",
      "metadata": {
        "id": "LWUf8VoQko2a"
      },
      "source": [
        "from sklearn.model_selection import RandomizedSearchCV\n",
        "\n",
        "np.random.seed(214)\n",
        "param_grid = {'polynomialfeatures__degree': np.arange(20),\n",
        "              'linearregression__fit_intercept': [True, False]}\n",
        "\n",
        "randCV= RandomizedSearchCV(PolynomialRegression(), param_grid, cv=7)\n",
        "\n",
        "randCV.fit(X, y);"
      ],
      "execution_count": 30,
      "outputs": []
    },
    {
      "cell_type": "markdown",
      "metadata": {
        "id": "Z-qwCvO88O3t"
      },
      "source": [
        "Now that this is fit, we can ask for the best parameters as follows:"
      ]
    },
    {
      "cell_type": "code",
      "metadata": {
        "id": "sQhgHSnblVUL",
        "colab": {
          "base_uri": "https://localhost:8080/"
        },
        "outputId": "ee989f05-d861-4b47-88f9-ad5e97c4ec1b"
      },
      "source": [
        "randCV.best_params_"
      ],
      "execution_count": 31,
      "outputs": [
        {
          "output_type": "execute_result",
          "data": {
            "text/plain": [
              "{'polynomialfeatures__degree': 7, 'linearregression__fit_intercept': False}"
            ]
          },
          "metadata": {},
          "execution_count": 31
        }
      ]
    },
    {
      "cell_type": "code",
      "metadata": {
        "id": "yUV-068QlVuv",
        "colab": {
          "base_uri": "https://localhost:8080/",
          "height": 457
        },
        "outputId": "c09b1258-81c6-421c-ae50-06a2e1d53267"
      },
      "source": [
        "model = randCV.best_estimator_\n",
        "\n",
        "plt.scatter(X.ravel(), y)\n",
        "lim = plt.axis()\n",
        "y_test = model.fit(X, y).predict(X_test)\n",
        "plt.plot(X_test.ravel(), y_test);\n",
        "plt.xlim(0, 1)\n",
        "plt.ylim(4, 12)\n"
      ],
      "execution_count": 32,
      "outputs": [
        {
          "output_type": "execute_result",
          "data": {
            "text/plain": [
              "(4.0, 12.0)"
            ]
          },
          "metadata": {},
          "execution_count": 32
        },
        {
          "output_type": "display_data",
          "data": {
            "text/plain": [
              "<Figure size 640x480 with 1 Axes>"
            ],
            "image/png": "[encoded data removed]"
          },
          "metadata": {}
        }
      ]
    },
    {
      "cell_type": "markdown",
      "metadata": {
        "id": "LIUuYWJW96FT"
      },
      "source": [
        "The Mean and Standard Deviation for the best model was:"
      ]
    },
    {
      "cell_type": "code",
      "metadata": {
        "id": "Gxv0sjlu93Ad",
        "colab": {
          "base_uri": "https://localhost:8080/",
          "height": 81
        },
        "outputId": "8f2ace89-36e1-4eaa-d1f5-605619e2a6d5"
      },
      "source": [
        "\n",
        "table=pd.DataFrame(randCV.cv_results_)\n",
        "best={'param_linearregression__fit_intercept': randCV.best_params_['linearregression__fit_intercept'],\n",
        " 'param_polynomialfeatures__degree': randCV.best_params_['polynomialfeatures__degree']}\n",
        "\n",
        "\n",
        "sub_table=table.loc[(table[list(best)] == pd.Series(best)).all(axis=1)]\n",
        "sub_table[['mean_test_score', 'std_test_score','param_linearregression__fit_intercept', 'param_polynomialfeatures__degree' ]]"
      ],
      "execution_count": 33,
      "outputs": [
        {
          "output_type": "execute_result",
          "data": {
            "text/plain": [
              "   mean_test_score  std_test_score param_linearregression__fit_intercept  \\\n",
              "5         0.120518        0.656674                                 False   \n",
              "\n",
              "  param_polynomialfeatures__degree  \n",
              "5                                7  "
            ],
            "text/html": [
              "\n",
              "  <div id=\"df-c27280d8-8441-4ced-a173-3ba1d15c73f7\">\n",
              "    <div class=\"colab-df-container\">\n",
              "      <div>\n",
              "<style scoped>\n",
              "    .dataframe tbody tr th:only-of-type {\n",
              "        vertical-align: middle;\n",
              "    }\n",
              "\n",
              "    .dataframe tbody tr th {\n",
              "        vertical-align: top;\n",
              "    }\n",
              "\n",
              "    .dataframe thead th {\n",
              "        text-align: right;\n",
              "    }\n",
              "</style>\n",
              "<table border=\"1\" class=\"dataframe\">\n",
              "  <thead>\n",
              "    <tr style=\"text-align: right;\">\n",
              "      <th></th>\n",
              "      <th>mean_test_score</th>\n",
              "      <th>std_test_score</th>\n",
              "      <th>param_linearregression__fit_intercept</th>\n",
              "      <th>param_polynomialfeatures__degree</th>\n",
              "    </tr>\n",
              "  </thead>\n",
              "  <tbody>\n",
              "    <tr>\n",
              "      <th>5</th>\n",
              "      <td>0.120518</td>\n",
              "      <td>0.656674</td>\n",
              "      <td>False</td>\n",
              "      <td>7</td>\n",
              "    </tr>\n",
              "  </tbody>\n",
              "</table>\n",
              "</div>\n",
              "      <button class=\"colab-df-convert\" onclick=\"convertToInteractive('df-c27280d8-8441-4ced-a173-3ba1d15c73f7')\"\n",
              "              title=\"Convert this dataframe to an interactive table.\"\n",
              "              style=\"display:none;\">\n",
              "        \n",
              "  <svg xmlns=\"http://www.w3.org/2000/svg\" height=\"24px\"viewBox=\"0 0 24 24\"\n",
              "       width=\"24px\">\n",
              "    <path d=\"M0 0h24v24H0V0z\" fill=\"none\"/>\n",
              "    <path d=\"M18.56 5.44l.94 2.06.94-2.06 2.06-.94-2.06-.94-.94-2.06-.94 2.06-2.06.94zm-11 1L8.5 8.5l.94-2.06 2.06-.94-2.06-.94L8.5 2.5l-.94 2.06-2.06.94zm10 10l.94 2.06.94-2.06 2.06-.94-2.06-.94-.94-2.06-.94 2.06-2.06.94z\"/><path d=\"M17.41 7.96l-1.37-1.37c-.4-.4-.92-.59-1.43-.59-.52 0-1.04.2-1.43.59L10.3 9.45l-7.72 7.72c-.78.78-.78 2.05 0 2.83L4 21.41c.39.39.9.59 1.41.59.51 0 1.02-.2 1.41-.59l7.78-7.78 2.81-2.81c.8-.78.8-2.07 0-2.86zM5.41 20L4 18.59l7.72-7.72 1.47 1.35L5.41 20z\"/>\n",
              "  </svg>\n",
              "      </button>\n",
              "      \n",
              "  <style>\n",
              "    .colab-df-container {\n",
              "      display:flex;\n",
              "      flex-wrap:wrap;\n",
              "      gap: 12px;\n",
              "    }\n",
              "\n",
              "    .colab-df-convert {\n",
              "      background-color: #E8F0FE;\n",
              "      border: none;\n",
              "      border-radius: 50%;\n",
              "      cursor: pointer;\n",
              "      display: none;\n",
              "      fill: #1967D2;\n",
              "      height: 32px;\n",
              "      padding: 0 0 0 0;\n",
              "      width: 32px;\n",
              "    }\n",
              "\n",
              "    .colab-df-convert:hover {\n",
              "      background-color: #E2EBFA;\n",
              "      box-shadow: 0px 1px 2px rgba(60, 64, 67, 0.3), 0px 1px 3px 1px rgba(60, 64, 67, 0.15);\n",
              "      fill: #174EA6;\n",
              "    }\n",
              "\n",
              "    [theme=dark] .colab-df-convert {\n",
              "      background-color: #3B4455;\n",
              "      fill: #D2E3FC;\n",
              "    }\n",
              "\n",
              "    [theme=dark] .colab-df-convert:hover {\n",
              "      background-color: #434B5C;\n",
              "      box-shadow: 0px 1px 3px 1px rgba(0, 0, 0, 0.15);\n",
              "      filter: drop-shadow(0px 1px 2px rgba(0, 0, 0, 0.3));\n",
              "      fill: #FFFFFF;\n",
              "    }\n",
              "  </style>\n",
              "\n",
              "      <script>\n",
              "        const buttonEl =\n",
              "          document.querySelector('#df-c27280d8-8441-4ced-a173-3ba1d15c73f7 button.colab-df-convert');\n",
              "        buttonEl.style.display =\n",
              "          google.colab.kernel.accessAllowed ? 'block' : 'none';\n",
              "\n",
              "        async function convertToInteractive(key) {\n",
              "          const element = document.querySelector('#df-c27280d8-8441-4ced-a173-3ba1d15c73f7');\n",
              "          const dataTable =\n",
              "            await google.colab.kernel.invokeFunction('convertToInteractive',\n",
              "                                                     [key], {});\n",
              "          if (!dataTable) return;\n",
              "\n",
              "          const docLinkHtml = 'Like what you see? Visit the ' +\n",
              "            '<a target=\"_blank\" href=https://colab.research.google.com/notebooks/data_table.ipynb>data table notebook</a>'\n",
              "            + ' to learn more about interactive tables.';\n",
              "          element.innerHTML = '';\n",
              "          dataTable['output_type'] = 'display_data';\n",
              "          await google.colab.output.renderOutput(dataTable, element);\n",
              "          const docLink = document.createElement('div');\n",
              "          docLink.innerHTML = docLinkHtml;\n",
              "          element.appendChild(docLink);\n",
              "        }\n",
              "      </script>\n",
              "    </div>\n",
              "  </div>\n",
              "  "
            ]
          },
          "metadata": {},
          "execution_count": 33
        }
      ]
    },
    {
      "cell_type": "markdown",
      "metadata": {
        "id": "VKI5stkg__YB"
      },
      "source": [
        "As you can see, the Random CV approach managed to find a better set of hyperparameters that provided a `mean_test_score`=0.8972, which is greater  than the one from  the Grid Search CV (0.7541). This was because the Grid Search did not tested the hyperparameter `polynomialfeatures__degree`=4"
      ]
    },
    {
      "cell_type": "markdown",
      "metadata": {
        "id": "Tz9iPsRnB9mA"
      },
      "source": [
        "## 5- Hyperparameter Tuning for NN"
      ]
    },
    {
      "cell_type": "markdown",
      "metadata": {
        "id": "qKLh3dAVEfr5"
      },
      "source": [
        "Let's load, split and scale the MNIST Digits dataset"
      ]
    },
    {
      "cell_type": "code",
      "metadata": {
        "id": "NsAnEnVKtxaw",
        "colab": {
          "base_uri": "https://localhost:8080/"
        },
        "outputId": "d64520dd-7e40-4025-936e-96a58e8294aa"
      },
      "source": [
        "import tensorflow as tf\n",
        "import numpy as np\n",
        "from tensorflow import keras\n",
        "from keras import regularizers\n",
        "import matplotlib.pyplot as plt\n",
        "keras.backend.clear_session()\n",
        "np.random.seed(42)\n",
        "tf.random.set_seed(42)\n",
        "\n",
        "#load dataset\n",
        "fashion_mnist = keras.datasets.mnist\n",
        "(X_train_full, y_train_full), (X_test, y_test) = fashion_mnist.load_data()\n",
        "#Split and Scale dataset\n",
        "X_valid, X_train = X_train_full[:5000]/255., X_train_full[5000:]/255.\n",
        "y_valid, y_train = y_train_full[:5000], y_train_full[5000:]\n",
        "X_test = X_test"
      ],
      "execution_count": 34,
      "outputs": [
        {
          "output_type": "stream",
          "name": "stdout",
          "text": [
            "Downloading data from https://storage.googleapis.com/tensorflow/tf-keras-datasets/mnist.npz\n",
            "11490434/11490434 [==============================] - 2s 0us/step\n"
          ]
        }
      ]
    },
    {
      "cell_type": "code",
      "metadata": {
        "id": "Yw8DVJm2j8bA",
        "colab": {
          "base_uri": "https://localhost:8080/",
          "height": 428
        },
        "outputId": "c930eae5-57a1-4e55-871b-eb73b40e33c7"
      },
      "source": [
        "#Here are the corresponding class names:\n",
        "class_names = [\"0\", \"1\", \"2\", \"3\", \"4\", \"5\", \"6\", \"7\", \"8\", \"9\"]\n",
        "n_rows = 4\n",
        "n_cols = 10\n",
        "plt.figure(figsize=(n_cols * 1.2, n_rows * 1.2))\n",
        "for row in range(n_rows):\n",
        "    for col in range(n_cols):\n",
        "        index = n_cols * row + col\n",
        "        plt.subplot(n_rows, n_cols, index + 1)\n",
        "        plt.imshow(X_train[index], cmap=\"binary\", interpolation=\"nearest\")\n",
        "        plt.axis('off')\n",
        "        plt.title(class_names[y_train[index]], fontsize=12)\n",
        "plt.subplots_adjust(wspace=0.2, hspace=0.5)\n",
        "plt.show()"
      ],
      "execution_count": 35,
      "outputs": [
        {
          "output_type": "display_data",
          "data": {
            "text/plain": [
              "<Figure size 1200x480 with 40 Axes>"
            ],
            "image/png": "[encoded data removed]"
          },
          "metadata": {}
        }
      ]
    },
    {
      "cell_type": "markdown",
      "metadata": {
        "id": "yVmjcAWrwLoM"
      },
      "source": [
        "If you want to load the pre-trained model you need run the code below."
      ]
    },
    {
      "cell_type": "code",
      "metadata": {
        "id": "djO9kI4VwLB5"
      },
      "source": [
        "#!wget https://raw.githubusercontent.com/lopezbec/intro_python_notebooks/main/grid_model.h5\n",
        "#!wget https://raw.githubusercontent.com/lopezbec/intro_python_notebooks/main/rnd_model.h5"
      ],
      "execution_count": 36,
      "outputs": []
    },
    {
      "cell_type": "markdown",
      "metadata": {
        "id": "yEOdeA3zvnBl"
      },
      "source": [
        "Lets build a function that allows us to setup a Keras Sequential Model with different hyperparameters"
      ]
    },
    {
      "cell_type": "code",
      "metadata": {
        "id": "bgCI931-pE0z",
        "colab": {
          "base_uri": "https://localhost:8080/"
        },
        "outputId": "70877a20-a424-471c-f1e0-10a4d0c51e79"
      },
      "source": [
        "def build_model(n_hidden=1, n_neurons=30, reg=0.001, input_shape=[28, 28]):\n",
        "    model = keras.models.Sequential()\n",
        "    model.add(keras.layers.Flatten(input_shape=input_shape))\n",
        "    for layer in range(n_hidden):\n",
        "        model.add(keras.layers.Dense(n_neurons, activation=\"relu\",kernel_regularizer=regularizers.l2(reg)))\n",
        "    model.add(keras.layers.Dense(10,activation=\"softmax\"))\n",
        "    optimizer = \"sgd\"\n",
        "    model.compile(loss='sparse_categorical_crossentropy', optimizer=optimizer, metrics='accuracy')\n",
        "\n",
        "\n",
        "    return model\n",
        "\n",
        "keras_reg = keras.wrappers.scikit_learn.KerasClassifier(build_model)"
      ],
      "execution_count": 50,
      "outputs": [
        {
          "output_type": "stream",
          "name": "stderr",
          "text": [
            "<ipython-input-50-b54c963a4e98>:13: DeprecationWarning: KerasClassifier is deprecated, use Sci-Keras (https://github.com/adriangb/scikeras) instead. See https://www.adriangb.com/scikeras/stable/migration.html for help migrating.\n",
            "  keras_reg = keras.wrappers.scikit_learn.KerasClassifier(build_model)\n"
          ]
        }
      ]
    },
    {
      "cell_type": "markdown",
      "metadata": {
        "id": "LzVgh9fj8T90"
      },
      "source": [
        "### 5.1- Grid Search "
      ]
    },
    {
      "cell_type": "code",
      "metadata": {
        "id": "0cBjBznxB_WL",
        "colab": {
          "base_uri": "https://localhost:8080/"
        },
        "outputId": "f7624736-b55c-469a-c4aa-1e3ea7d0b863"
      },
      "source": [
        "\n",
        "np.random.seed(42)\n",
        "from sklearn.model_selection import RandomizedSearchCV\n",
        "from sklearn.model_selection import GridSearchCV\n",
        "import time\n",
        "\n",
        "#Lets save the model and use TensorBoard\n",
        "#Since the hyperparamter tuning process can take several hours, \n",
        "#saving the model at each epoch allows us to share the model with other\n",
        "#and start traning again if something happens (e.g., we used the 12hr of GPU of Google Colab)\n",
        "checkpoint_cb = keras.callbacks.ModelCheckpoint(\"grid_model.h5\", save_best_only=False)\n",
        "\n",
        "#Lets read the pre-tranined model if there is any. \n",
        "try:  \n",
        "    model = keras.models.load_model(\"grid_model.h5\") \n",
        "    print(\"Continue Training Model\")\n",
        "    # Do something with the file\n",
        "except:\n",
        "    print(\"Training Model from Scratch\")\n",
        "\n",
        "#What set of Hypeparamater you would like to test\n",
        "param_distribs = {\n",
        "    \"n_hidden\": [1,2,3],\n",
        "    \"n_neurons\": [150,200,300],\n",
        "    \"reg\":[0.0001, 0.001]\n",
        "}\n",
        "\n",
        "#We are using a GridSearchCV\n",
        "tic = time.process_time()\n",
        "grid_search_cv = GridSearchCV(keras_reg, param_distribs, cv=3, verbose=1)\n",
        "history=grid_search_cv.fit(X_train, y_train, epochs=5,batch_size=50,\n",
        "                   validation_data=(X_valid, y_valid),callbacks=[checkpoint_cb]) \n",
        "\n",
        "\n",
        "toc = time.process_time()\n",
        "time_grid=toc-tic\n"
      ],
      "execution_count": 51,
      "outputs": [
        {
          "output_type": "stream",
          "name": "stdout",
          "text": [
            "Continue Training Model\n",
            "Fitting 3 folds for each of 18 candidates, totalling 54 fits\n",
            "Epoch 1/5\n",
            "734/734 [==============================] - 3s 3ms/step - loss: 0.9885 - accuracy: 0.7723 - val_loss: 0.5335 - val_accuracy: 0.8740\n",
            "Epoch 2/5\n",
            "734/734 [==============================] - 3s 4ms/step - loss: 0.4759 - accuracy: 0.8825 - val_loss: 0.4088 - val_accuracy: 0.9002\n",
            "Epoch 3/5\n",
            "734/734 [==============================] - 2s 3ms/step - loss: 0.4009 - accuracy: 0.8964 - val_loss: 0.3621 - val_accuracy: 0.9114\n",
            "Epoch 4/5\n",
            "734/734 [==============================] - 2s 3ms/step - loss: 0.3643 - accuracy: 0.9050 - val_loss: 0.3335 - val_accuracy: 0.9170\n",
            "Epoch 5/5\n",
            "734/734 [==============================] - 2s 3ms/step - loss: 0.3401 - accuracy: 0.9112 - val_loss: 0.3152 - val_accuracy: 0.9208\n",
            "573/573 [==============================] - 1s 2ms/step - loss: 0.3420 - accuracy: 0.9094\n",
            "Epoch 1/5\n",
            "734/734 [==============================] - 3s 4ms/step - loss: 1.0116 - accuracy: 0.7627 - val_loss: 0.5397 - val_accuracy: 0.8716\n",
            "Epoch 2/5\n",
            "734/734 [==============================] - 2s 3ms/step - loss: 0.4745 - accuracy: 0.8816 - val_loss: 0.4042 - val_accuracy: 0.9012\n",
            "Epoch 3/5\n",
            "734/734 [==============================] - 2s 3ms/step - loss: 0.3953 - accuracy: 0.8994 - val_loss: 0.3569 - val_accuracy: 0.9094\n",
            "Epoch 4/5\n",
            "734/734 [==============================] - 2s 3ms/step - loss: 0.3574 - accuracy: 0.9079 - val_loss: 0.3290 - val_accuracy: 0.9180\n",
            "Epoch 5/5\n",
            "734/734 [==============================] - 2s 3ms/step - loss: 0.3332 - accuracy: 0.9153 - val_loss: 0.3104 - val_accuracy: 0.9220\n",
            "573/573 [==============================] - 2s 3ms/step - loss: 0.3445 - accuracy: 0.9090\n",
            "Epoch 1/5\n",
            "734/734 [==============================] - 3s 3ms/step - loss: 1.0186 - accuracy: 0.7659 - val_loss: 0.5405 - val_accuracy: 0.8718\n",
            "Epoch 2/5\n",
            "734/734 [==============================] - 2s 3ms/step - loss: 0.4866 - accuracy: 0.8824 - val_loss: 0.4037 - val_accuracy: 0.9052\n",
            "Epoch 3/5\n",
            "734/734 [==============================] - 2s 3ms/step - loss: 0.4033 - accuracy: 0.8988 - val_loss: 0.3543 - val_accuracy: 0.9156\n",
            "Epoch 4/5\n",
            "734/734 [==============================] - 2s 3ms/step - loss: 0.3631 - accuracy: 0.9076 - val_loss: 0.3264 - val_accuracy: 0.9212\n",
            "Epoch 5/5\n",
            "734/734 [==============================] - 3s 4ms/step - loss: 0.3375 - accuracy: 0.9144 - val_loss: 0.3061 - val_accuracy: 0.9264\n",
            "573/573 [==============================] - 1s 2ms/step - loss: 0.3229 - accuracy: 0.9187\n",
            "Epoch 1/5\n",
            "734/734 [==============================] - 3s 3ms/step - loss: 1.2210 - accuracy: 0.7695 - val_loss: 0.7720 - val_accuracy: 0.8718\n",
            "Epoch 2/5\n",
            "734/734 [==============================] - 2s 3ms/step - loss: 0.7076 - accuracy: 0.8822 - val_loss: 0.6413 - val_accuracy: 0.8952\n",
            "Epoch 3/5\n",
            "734/734 [==============================] - 3s 4ms/step - loss: 0.6276 - accuracy: 0.8960 - val_loss: 0.5884 - val_accuracy: 0.9070\n",
            "Epoch 4/5\n",
            "734/734 [==============================] - 2s 3ms/step - loss: 0.5860 - accuracy: 0.9048 - val_loss: 0.5541 - val_accuracy: 0.9158\n",
            "Epoch 5/5\n",
            "734/734 [==============================] - 2s 3ms/step - loss: 0.5567 - accuracy: 0.9103 - val_loss: 0.5304 - val_accuracy: 0.9194\n",
            "573/573 [==============================] - 1s 2ms/step - loss: 0.5560 - accuracy: 0.9120\n",
            "Epoch 1/5\n",
            "734/734 [==============================] - 3s 3ms/step - loss: 1.2125 - accuracy: 0.7722 - val_loss: 0.7669 - val_accuracy: 0.8706\n",
            "Epoch 2/5\n",
            "734/734 [==============================] - 3s 4ms/step - loss: 0.7017 - accuracy: 0.8816 - val_loss: 0.6357 - val_accuracy: 0.9000\n",
            "Epoch 3/5\n",
            "734/734 [==============================] - 2s 3ms/step - loss: 0.6235 - accuracy: 0.8977 - val_loss: 0.5860 - val_accuracy: 0.9078\n",
            "Epoch 4/5\n",
            "734/734 [==============================] - 2s 3ms/step - loss: 0.5832 - accuracy: 0.9062 - val_loss: 0.5540 - val_accuracy: 0.9118\n",
            "Epoch 5/5\n",
            "734/734 [==============================] - 3s 4ms/step - loss: 0.5555 - accuracy: 0.9119 - val_loss: 0.5312 - val_accuracy: 0.9168\n",
            "573/573 [==============================] - 1s 2ms/step - loss: 0.5657 - accuracy: 0.9045\n",
            "Epoch 1/5\n",
            "734/734 [==============================] - 3s 3ms/step - loss: 1.2084 - accuracy: 0.7709 - val_loss: 0.7618 - val_accuracy: 0.8736\n",
            "Epoch 2/5\n",
            "734/734 [==============================] - 3s 4ms/step - loss: 0.7087 - accuracy: 0.8801 - val_loss: 0.6314 - val_accuracy: 0.8996\n",
            "Epoch 3/5\n",
            "734/734 [==============================] - 3s 5ms/step - loss: 0.6280 - accuracy: 0.8957 - val_loss: 0.5801 - val_accuracy: 0.9132\n",
            "Epoch 4/5\n",
            "734/734 [==============================] - 2s 3ms/step - loss: 0.5858 - accuracy: 0.9039 - val_loss: 0.5483 - val_accuracy: 0.9148\n",
            "Epoch 5/5\n",
            "734/734 [==============================] - 2s 3ms/step - loss: 0.5566 - accuracy: 0.9100 - val_loss: 0.5236 - val_accuracy: 0.9196\n",
            "573/573 [==============================] - 1s 2ms/step - loss: 0.5423 - accuracy: 0.9139\n",
            "Epoch 1/5\n",
            "734/734 [==============================] - 3s 3ms/step - loss: 0.9741 - accuracy: 0.7775 - val_loss: 0.5396 - val_accuracy: 0.8762\n",
            "Epoch 2/5\n",
            "734/734 [==============================] - 2s 3ms/step - loss: 0.4813 - accuracy: 0.8818 - val_loss: 0.4144 - val_accuracy: 0.9016\n",
            "Epoch 3/5\n",
            "734/734 [==============================] - 3s 4ms/step - loss: 0.4053 - accuracy: 0.8978 - val_loss: 0.3676 - val_accuracy: 0.9096\n",
            "Epoch 4/5\n",
            "734/734 [==============================] - 2s 3ms/step - loss: 0.3685 - accuracy: 0.9061 - val_loss: 0.3393 - val_accuracy: 0.9184\n",
            "Epoch 5/5\n",
            "734/734 [==============================] - 2s 3ms/step - loss: 0.3442 - accuracy: 0.9120 - val_loss: 0.3212 - val_accuracy: 0.9224\n",
            "573/573 [==============================] - 1s 2ms/step - loss: 0.3461 - accuracy: 0.9132\n",
            "Epoch 1/5\n",
            "734/734 [==============================] - 3s 3ms/step - loss: 0.9598 - accuracy: 0.7790 - val_loss: 0.5342 - val_accuracy: 0.8732\n",
            "Epoch 2/5\n",
            "734/734 [==============================] - 3s 4ms/step - loss: 0.4747 - accuracy: 0.8820 - val_loss: 0.4109 - val_accuracy: 0.9000\n",
            "Epoch 3/5\n",
            "734/734 [==============================] - 2s 3ms/step - loss: 0.4019 - accuracy: 0.8988 - val_loss: 0.3667 - val_accuracy: 0.9098\n",
            "Epoch 4/5\n",
            "734/734 [==============================] - 2s 3ms/step - loss: 0.3661 - accuracy: 0.9078 - val_loss: 0.3399 - val_accuracy: 0.9148\n",
            "Epoch 5/5\n",
            "734/734 [==============================] - 2s 3ms/step - loss: 0.3429 - accuracy: 0.9138 - val_loss: 0.3223 - val_accuracy: 0.9194\n",
            "573/573 [==============================] - 1s 2ms/step - loss: 0.3549 - accuracy: 0.9080\n",
            "Epoch 1/5\n",
            "734/734 [==============================] - 4s 4ms/step - loss: 0.9809 - accuracy: 0.7768 - val_loss: 0.5324 - val_accuracy: 0.8734\n",
            "Epoch 2/5\n",
            "734/734 [==============================] - 2s 3ms/step - loss: 0.4838 - accuracy: 0.8824 - val_loss: 0.4068 - val_accuracy: 0.9012\n",
            "Epoch 3/5\n",
            "734/734 [==============================] - 2s 3ms/step - loss: 0.4080 - accuracy: 0.8977 - val_loss: 0.3617 - val_accuracy: 0.9134\n",
            "Epoch 4/5\n",
            "734/734 [==============================] - 2s 3ms/step - loss: 0.3706 - accuracy: 0.9066 - val_loss: 0.3353 - val_accuracy: 0.9156\n",
            "Epoch 5/5\n",
            "734/734 [==============================] - 2s 3ms/step - loss: 0.3460 - accuracy: 0.9130 - val_loss: 0.3155 - val_accuracy: 0.9250\n",
            "573/573 [==============================] - 2s 3ms/step - loss: 0.3334 - accuracy: 0.9161\n",
            "Epoch 1/5\n",
            "734/734 [==============================] - 3s 3ms/step - loss: 1.2619 - accuracy: 0.7787 - val_loss: 0.8285 - val_accuracy: 0.8752\n",
            "Epoch 2/5\n",
            "734/734 [==============================] - 2s 3ms/step - loss: 0.7677 - accuracy: 0.8822 - val_loss: 0.6979 - val_accuracy: 0.8954\n",
            "Epoch 3/5\n",
            "734/734 [==============================] - 2s 3ms/step - loss: 0.6859 - accuracy: 0.8969 - val_loss: 0.6441 - val_accuracy: 0.9098\n",
            "Epoch 4/5\n",
            "734/734 [==============================] - 2s 3ms/step - loss: 0.6425 - accuracy: 0.9061 - val_loss: 0.6080 - val_accuracy: 0.9186\n",
            "Epoch 5/5\n",
            "734/734 [==============================] - 3s 4ms/step - loss: 0.6113 - accuracy: 0.9120 - val_loss: 0.5823 - val_accuracy: 0.9242\n",
            "573/573 [==============================] - 1s 2ms/step - loss: 0.6085 - accuracy: 0.9116\n",
            "Epoch 1/5\n",
            "734/734 [==============================] - 3s 3ms/step - loss: 1.2296 - accuracy: 0.7836 - val_loss: 0.8155 - val_accuracy: 0.8728\n",
            "Epoch 2/5\n",
            "734/734 [==============================] - 2s 3ms/step - loss: 0.7566 - accuracy: 0.8846 - val_loss: 0.6913 - val_accuracy: 0.9012\n",
            "Epoch 3/5\n",
            "734/734 [==============================] - 2s 3ms/step - loss: 0.6798 - accuracy: 0.9005 - val_loss: 0.6410 - val_accuracy: 0.9110\n",
            "Epoch 4/5\n",
            "734/734 [==============================] - 3s 4ms/step - loss: 0.6378 - accuracy: 0.9086 - val_loss: 0.6079 - val_accuracy: 0.9150\n",
            "Epoch 5/5\n",
            "734/734 [==============================] - 2s 3ms/step - loss: 0.6079 - accuracy: 0.9153 - val_loss: 0.5832 - val_accuracy: 0.9212\n",
            "573/573 [==============================] - 1s 2ms/step - loss: 0.6167 - accuracy: 0.9078\n",
            "Epoch 1/5\n",
            "734/734 [==============================] - 3s 3ms/step - loss: 1.2970 - accuracy: 0.7671 - val_loss: 0.8268 - val_accuracy: 0.8746\n",
            "Epoch 2/5\n",
            "734/734 [==============================] - 2s 3ms/step - loss: 0.7735 - accuracy: 0.8813 - val_loss: 0.6914 - val_accuracy: 0.8994\n",
            "Epoch 3/5\n",
            "734/734 [==============================] - 3s 4ms/step - loss: 0.6894 - accuracy: 0.8967 - val_loss: 0.6382 - val_accuracy: 0.9134\n",
            "Epoch 4/5\n",
            "734/734 [==============================] - 2s 3ms/step - loss: 0.6449 - accuracy: 0.9051 - val_loss: 0.6052 - val_accuracy: 0.9164\n",
            "Epoch 5/5\n",
            "734/734 [==============================] - 2s 3ms/step - loss: 0.6136 - accuracy: 0.9111 - val_loss: 0.5788 - val_accuracy: 0.9226\n",
            "573/573 [==============================] - 1s 2ms/step - loss: 0.5978 - accuracy: 0.9142\n",
            "Epoch 1/5\n",
            "734/734 [==============================] - 3s 3ms/step - loss: 0.9575 - accuracy: 0.7844 - val_loss: 0.5474 - val_accuracy: 0.8776\n",
            "Epoch 2/5\n",
            "734/734 [==============================] - 2s 3ms/step - loss: 0.4898 - accuracy: 0.8836 - val_loss: 0.4246 - val_accuracy: 0.9014\n",
            "Epoch 3/5\n",
            "734/734 [==============================] - 2s 3ms/step - loss: 0.4147 - accuracy: 0.8993 - val_loss: 0.3783 - val_accuracy: 0.9104\n",
            "Epoch 4/5\n",
            "734/734 [==============================] - 3s 4ms/step - loss: 0.3778 - accuracy: 0.9081 - val_loss: 0.3495 - val_accuracy: 0.9160\n",
            "Epoch 5/5\n",
            "734/734 [==============================] - 2s 3ms/step - loss: 0.3533 - accuracy: 0.9134 - val_loss: 0.3312 - val_accuracy: 0.9220\n",
            "573/573 [==============================] - 1s 2ms/step - loss: 0.3552 - accuracy: 0.9126\n",
            "Epoch 1/5\n",
            "734/734 [==============================] - 3s 3ms/step - loss: 0.9722 - accuracy: 0.7905 - val_loss: 0.5457 - val_accuracy: 0.8724\n",
            "Epoch 2/5\n",
            "734/734 [==============================] - 2s 3ms/step - loss: 0.4859 - accuracy: 0.8839 - val_loss: 0.4191 - val_accuracy: 0.9000\n",
            "Epoch 3/5\n",
            "734/734 [==============================] - 3s 4ms/step - loss: 0.4107 - accuracy: 0.9013 - val_loss: 0.3737 - val_accuracy: 0.9068\n",
            "Epoch 4/5\n",
            "734/734 [==============================] - 2s 3ms/step - loss: 0.3734 - accuracy: 0.9095 - val_loss: 0.3459 - val_accuracy: 0.9148\n",
            "Epoch 5/5\n",
            "734/734 [==============================] - 2s 3ms/step - loss: 0.3493 - accuracy: 0.9159 - val_loss: 0.3272 - val_accuracy: 0.9196\n",
            "573/573 [==============================] - 1s 2ms/step - loss: 0.3605 - accuracy: 0.9090\n",
            "Epoch 1/5\n",
            "734/734 [==============================] - 3s 3ms/step - loss: 0.9915 - accuracy: 0.7818 - val_loss: 0.5407 - val_accuracy: 0.8798\n",
            "Epoch 2/5\n",
            "734/734 [==============================] - 2s 3ms/step - loss: 0.4903 - accuracy: 0.8855 - val_loss: 0.4150 - val_accuracy: 0.9054\n",
            "Epoch 3/5\n",
            "734/734 [==============================] - 2s 3ms/step - loss: 0.4142 - accuracy: 0.9002 - val_loss: 0.3701 - val_accuracy: 0.9152\n",
            "Epoch 4/5\n",
            "734/734 [==============================] - 3s 4ms/step - loss: 0.3774 - accuracy: 0.9086 - val_loss: 0.3451 - val_accuracy: 0.9184\n",
            "Epoch 5/5\n",
            "734/734 [==============================] - 2s 3ms/step - loss: 0.3535 - accuracy: 0.9133 - val_loss: 0.3261 - val_accuracy: 0.9240\n",
            "573/573 [==============================] - 1s 2ms/step - loss: 0.3419 - accuracy: 0.9177\n",
            "Epoch 1/5\n",
            "734/734 [==============================] - 3s 3ms/step - loss: 1.3977 - accuracy: 0.7809 - val_loss: 0.9395 - val_accuracy: 0.8742\n",
            "Epoch 2/5\n",
            "734/734 [==============================] - 2s 3ms/step - loss: 0.8732 - accuracy: 0.8844 - val_loss: 0.8047 - val_accuracy: 0.8992\n",
            "Epoch 3/5\n",
            "734/734 [==============================] - 3s 4ms/step - loss: 0.7882 - accuracy: 0.8990 - val_loss: 0.7481 - val_accuracy: 0.9084\n",
            "Epoch 4/5\n",
            "734/734 [==============================] - 2s 3ms/step - loss: 0.7413 - accuracy: 0.9077 - val_loss: 0.7086 - val_accuracy: 0.9150\n",
            "Epoch 5/5\n",
            "734/734 [==============================] - 2s 3ms/step - loss: 0.7070 - accuracy: 0.9140 - val_loss: 0.6798 - val_accuracy: 0.9208\n",
            "573/573 [==============================] - 1s 2ms/step - loss: 0.7044 - accuracy: 0.9133\n",
            "Epoch 1/5\n",
            "734/734 [==============================] - 3s 3ms/step - loss: 1.3639 - accuracy: 0.7881 - val_loss: 0.9295 - val_accuracy: 0.8770\n",
            "Epoch 2/5\n",
            "734/734 [==============================] - 3s 4ms/step - loss: 0.8650 - accuracy: 0.8853 - val_loss: 0.7950 - val_accuracy: 0.9032\n",
            "Epoch 3/5\n",
            "734/734 [==============================] - 2s 3ms/step - loss: 0.7822 - accuracy: 0.9009 - val_loss: 0.7405 - val_accuracy: 0.9128\n",
            "Epoch 4/5\n",
            "734/734 [==============================] - 2s 3ms/step - loss: 0.7364 - accuracy: 0.9096 - val_loss: 0.7036 - val_accuracy: 0.9170\n",
            "Epoch 5/5\n",
            "734/734 [==============================] - 2s 3ms/step - loss: 0.7033 - accuracy: 0.9161 - val_loss: 0.6756 - val_accuracy: 0.9216\n",
            "573/573 [==============================] - 1s 2ms/step - loss: 0.7094 - accuracy: 0.9098\n",
            "Epoch 1/5\n",
            "734/734 [==============================] - 3s 3ms/step - loss: 1.3629 - accuracy: 0.7847 - val_loss: 0.9254 - val_accuracy: 0.8794\n",
            "Epoch 2/5\n",
            "734/734 [==============================] - 2s 3ms/step - loss: 0.8724 - accuracy: 0.8849 - val_loss: 0.7942 - val_accuracy: 0.9042\n",
            "Epoch 3/5\n",
            "734/734 [==============================] - 3s 4ms/step - loss: 0.7881 - accuracy: 0.8995 - val_loss: 0.7402 - val_accuracy: 0.9166\n",
            "Epoch 4/5\n",
            "734/734 [==============================] - 2s 3ms/step - loss: 0.7418 - accuracy: 0.9085 - val_loss: 0.7052 - val_accuracy: 0.9188\n",
            "Epoch 5/5\n",
            "734/734 [==============================] - 2s 3ms/step - loss: 0.7084 - accuracy: 0.9137 - val_loss: 0.6767 - val_accuracy: 0.9240\n",
            "573/573 [==============================] - 1s 2ms/step - loss: 0.6923 - accuracy: 0.9165\n",
            "Epoch 1/5\n",
            "734/734 [==============================] - 3s 4ms/step - loss: 1.0505 - accuracy: 0.7455 - val_loss: 0.5029 - val_accuracy: 0.8820\n",
            "Epoch 2/5\n",
            "734/734 [==============================] - 3s 4ms/step - loss: 0.4436 - accuracy: 0.8905 - val_loss: 0.3807 - val_accuracy: 0.9054\n",
            "Epoch 3/5\n",
            "734/734 [==============================] - 2s 3ms/step - loss: 0.3727 - accuracy: 0.9057 - val_loss: 0.3398 - val_accuracy: 0.9168\n",
            "Epoch 4/5\n",
            "734/734 [==============================] - 2s 3ms/step - loss: 0.3376 - accuracy: 0.9149 - val_loss: 0.3099 - val_accuracy: 0.9238\n",
            "Epoch 5/5\n",
            "734/734 [==============================] - 2s 3ms/step - loss: 0.3126 - accuracy: 0.9221 - val_loss: 0.2929 - val_accuracy: 0.9292\n",
            "573/573 [==============================] - 1s 2ms/step - loss: 0.3184 - accuracy: 0.9201\n",
            "Epoch 1/5\n",
            "734/734 [==============================] - 3s 4ms/step - loss: 0.9946 - accuracy: 0.7674 - val_loss: 0.4985 - val_accuracy: 0.8744\n",
            "Epoch 2/5\n",
            "734/734 [==============================] - 3s 4ms/step - loss: 0.4412 - accuracy: 0.8882 - val_loss: 0.3787 - val_accuracy: 0.9068\n",
            "Epoch 3/5\n",
            "734/734 [==============================] - 2s 3ms/step - loss: 0.3732 - accuracy: 0.9063 - val_loss: 0.3413 - val_accuracy: 0.9160\n",
            "Epoch 4/5\n",
            "734/734 [==============================] - 2s 3ms/step - loss: 0.3384 - accuracy: 0.9165 - val_loss: 0.3143 - val_accuracy: 0.9218\n",
            "Epoch 5/5\n",
            "734/734 [==============================] - 2s 3ms/step - loss: 0.3150 - accuracy: 0.9228 - val_loss: 0.2948 - val_accuracy: 0.9300\n",
            "573/573 [==============================] - 1s 2ms/step - loss: 0.3285 - accuracy: 0.9171\n",
            "Epoch 1/5\n",
            "734/734 [==============================] - 3s 3ms/step - loss: 1.0300 - accuracy: 0.7508 - val_loss: 0.5009 - val_accuracy: 0.8808\n",
            "Epoch 2/5\n",
            "734/734 [==============================] - 3s 4ms/step - loss: 0.4512 - accuracy: 0.8892 - val_loss: 0.3762 - val_accuracy: 0.9058\n",
            "Epoch 3/5\n",
            "734/734 [==============================] - 2s 3ms/step - loss: 0.3794 - accuracy: 0.9051 - val_loss: 0.3363 - val_accuracy: 0.9182\n",
            "Epoch 4/5\n",
            "734/734 [==============================] - 2s 3ms/step - loss: 0.3424 - accuracy: 0.9141 - val_loss: 0.3083 - val_accuracy: 0.9248\n",
            "Epoch 5/5\n",
            "734/734 [==============================] - 3s 3ms/step - loss: 0.3164 - accuracy: 0.9227 - val_loss: 0.2878 - val_accuracy: 0.9320\n",
            "573/573 [==============================] - 1s 2ms/step - loss: 0.3067 - accuracy: 0.9236\n",
            "Epoch 1/5\n",
            "734/734 [==============================] - 3s 4ms/step - loss: 1.4409 - accuracy: 0.7375 - val_loss: 0.8961 - val_accuracy: 0.8760\n",
            "Epoch 2/5\n",
            "734/734 [==============================] - 3s 4ms/step - loss: 0.8197 - accuracy: 0.8857 - val_loss: 0.7506 - val_accuracy: 0.9056\n",
            "Epoch 3/5\n",
            "734/734 [==============================] - 2s 3ms/step - loss: 0.7352 - accuracy: 0.9021 - val_loss: 0.6958 - val_accuracy: 0.9160\n",
            "Epoch 4/5\n",
            "734/734 [==============================] - 2s 3ms/step - loss: 0.6899 - accuracy: 0.9128 - val_loss: 0.6569 - val_accuracy: 0.9244\n",
            "Epoch 5/5\n",
            "734/734 [==============================] - 2s 3ms/step - loss: 0.6564 - accuracy: 0.9198 - val_loss: 0.6300 - val_accuracy: 0.9272\n",
            "573/573 [==============================] - 1s 2ms/step - loss: 0.6558 - accuracy: 0.9191\n",
            "Epoch 1/5\n",
            "734/734 [==============================] - 4s 4ms/step - loss: 1.4144 - accuracy: 0.7525 - val_loss: 0.8682 - val_accuracy: 0.8758\n",
            "Epoch 2/5\n",
            "734/734 [==============================] - 2s 3ms/step - loss: 0.8011 - accuracy: 0.8901 - val_loss: 0.7324 - val_accuracy: 0.9068\n",
            "Epoch 3/5\n",
            "734/734 [==============================] - 2s 3ms/step - loss: 0.7208 - accuracy: 0.9078 - val_loss: 0.6853 - val_accuracy: 0.9156\n",
            "Epoch 4/5\n",
            "734/734 [==============================] - 2s 3ms/step - loss: 0.6767 - accuracy: 0.9181 - val_loss: 0.6496 - val_accuracy: 0.9224\n",
            "Epoch 5/5\n",
            "734/734 [==============================] - 3s 4ms/step - loss: 0.6445 - accuracy: 0.9251 - val_loss: 0.6211 - val_accuracy: 0.9320\n",
            "573/573 [==============================] - 1s 2ms/step - loss: 0.6489 - accuracy: 0.9189\n",
            "Epoch 1/5\n",
            "734/734 [==============================] - 4s 4ms/step - loss: 1.4547 - accuracy: 0.7410 - val_loss: 0.8709 - val_accuracy: 0.8804\n",
            "Epoch 2/5\n",
            "734/734 [==============================] - 2s 3ms/step - loss: 0.8143 - accuracy: 0.8878 - val_loss: 0.7367 - val_accuracy: 0.9070\n",
            "Epoch 3/5\n",
            "734/734 [==============================] - 2s 3ms/step - loss: 0.7335 - accuracy: 0.9042 - val_loss: 0.6876 - val_accuracy: 0.9170\n",
            "Epoch 4/5\n",
            "734/734 [==============================] - 2s 3ms/step - loss: 0.6886 - accuracy: 0.9136 - val_loss: 0.6535 - val_accuracy: 0.9232\n",
            "Epoch 5/5\n",
            "734/734 [==============================] - 3s 4ms/step - loss: 0.6552 - accuracy: 0.9203 - val_loss: 0.6250 - val_accuracy: 0.9296\n",
            "573/573 [==============================] - 1s 2ms/step - loss: 0.6414 - accuracy: 0.9227\n",
            "Epoch 1/5\n",
            "734/734 [==============================] - 3s 3ms/step - loss: 1.0317 - accuracy: 0.7629 - val_loss: 0.5143 - val_accuracy: 0.8798\n",
            "Epoch 2/5\n",
            "734/734 [==============================] - 2s 3ms/step - loss: 0.4496 - accuracy: 0.8905 - val_loss: 0.3865 - val_accuracy: 0.9086\n",
            "Epoch 3/5\n",
            "734/734 [==============================] - 2s 3ms/step - loss: 0.3761 - accuracy: 0.9082 - val_loss: 0.3412 - val_accuracy: 0.9194\n",
            "Epoch 4/5\n",
            "734/734 [==============================] - 2s 3ms/step - loss: 0.3395 - accuracy: 0.9183 - val_loss: 0.3120 - val_accuracy: 0.9264\n",
            "Epoch 5/5\n",
            "734/734 [==============================] - 3s 4ms/step - loss: 0.3139 - accuracy: 0.9250 - val_loss: 0.2939 - val_accuracy: 0.9328\n",
            "573/573 [==============================] - 1s 2ms/step - loss: 0.3195 - accuracy: 0.9236\n",
            "Epoch 1/5\n",
            "734/734 [==============================] - 3s 4ms/step - loss: 0.9874 - accuracy: 0.7741 - val_loss: 0.5035 - val_accuracy: 0.8786\n",
            "Epoch 2/5\n",
            "734/734 [==============================] - 3s 3ms/step - loss: 0.4478 - accuracy: 0.8904 - val_loss: 0.3877 - val_accuracy: 0.9114\n",
            "Epoch 3/5\n",
            "734/734 [==============================] - 3s 4ms/step - loss: 0.3818 - accuracy: 0.9084 - val_loss: 0.3513 - val_accuracy: 0.9190\n",
            "Epoch 4/5\n",
            "734/734 [==============================] - 2s 3ms/step - loss: 0.3469 - accuracy: 0.9179 - val_loss: 0.3243 - val_accuracy: 0.9212\n",
            "Epoch 5/5\n",
            "734/734 [==============================] - 3s 3ms/step - loss: 0.3230 - accuracy: 0.9240 - val_loss: 0.3035 - val_accuracy: 0.9292\n",
            "573/573 [==============================] - 1s 2ms/step - loss: 0.3361 - accuracy: 0.9181\n",
            "Epoch 1/5\n",
            "734/734 [==============================] - 3s 3ms/step - loss: 1.0641 - accuracy: 0.7497 - val_loss: 0.5155 - val_accuracy: 0.8760\n",
            "Epoch 2/5\n",
            "734/734 [==============================] - 2s 3ms/step - loss: 0.4572 - accuracy: 0.8892 - val_loss: 0.3870 - val_accuracy: 0.9084\n",
            "Epoch 3/5\n",
            "734/734 [==============================] - 3s 4ms/step - loss: 0.3839 - accuracy: 0.9077 - val_loss: 0.3459 - val_accuracy: 0.9208\n",
            "Epoch 4/5\n",
            "734/734 [==============================] - 2s 3ms/step - loss: 0.3468 - accuracy: 0.9171 - val_loss: 0.3195 - val_accuracy: 0.9248\n",
            "Epoch 5/5\n",
            "734/734 [==============================] - 2s 3ms/step - loss: 0.3211 - accuracy: 0.9244 - val_loss: 0.2990 - val_accuracy: 0.9318\n",
            "573/573 [==============================] - 1s 2ms/step - loss: 0.3109 - accuracy: 0.9256\n",
            "Epoch 1/5\n",
            "734/734 [==============================] - 3s 3ms/step - loss: 1.4813 - accuracy: 0.7669 - val_loss: 0.9689 - val_accuracy: 0.8840\n",
            "Epoch 2/5\n",
            "734/734 [==============================] - 3s 3ms/step - loss: 0.9112 - accuracy: 0.8907 - val_loss: 0.8455 - val_accuracy: 0.9096\n",
            "Epoch 3/5\n",
            "734/734 [==============================] - 3s 4ms/step - loss: 0.8331 - accuracy: 0.9061 - val_loss: 0.7932 - val_accuracy: 0.9188\n",
            "Epoch 4/5\n",
            "734/734 [==============================] - 2s 3ms/step - loss: 0.7876 - accuracy: 0.9155 - val_loss: 0.7545 - val_accuracy: 0.9248\n",
            "Epoch 5/5\n",
            "734/734 [==============================] - 3s 3ms/step - loss: 0.7518 - accuracy: 0.9227 - val_loss: 0.7252 - val_accuracy: 0.9282\n",
            "573/573 [==============================] - 1s 2ms/step - loss: 0.7499 - accuracy: 0.9208\n",
            "Epoch 1/5\n",
            "734/734 [==============================] - 3s 3ms/step - loss: 1.5009 - accuracy: 0.7607 - val_loss: 0.9775 - val_accuracy: 0.8756\n",
            "Epoch 2/5\n",
            "734/734 [==============================] - 3s 4ms/step - loss: 0.9103 - accuracy: 0.8911 - val_loss: 0.8401 - val_accuracy: 0.9112\n",
            "Epoch 3/5\n",
            "734/734 [==============================] - 3s 4ms/step - loss: 0.8287 - accuracy: 0.9086 - val_loss: 0.7890 - val_accuracy: 0.9210\n",
            "Epoch 4/5\n",
            "734/734 [==============================] - 3s 3ms/step - loss: 0.7815 - accuracy: 0.9182 - val_loss: 0.7501 - val_accuracy: 0.9268\n",
            "Epoch 5/5\n",
            "734/734 [==============================] - 2s 3ms/step - loss: 0.7465 - accuracy: 0.9245 - val_loss: 0.7184 - val_accuracy: 0.9332\n",
            "573/573 [==============================] - 1s 2ms/step - loss: 0.7535 - accuracy: 0.9193\n",
            "Epoch 1/5\n",
            "734/734 [==============================] - 4s 4ms/step - loss: 1.4963 - accuracy: 0.7644 - val_loss: 0.9660 - val_accuracy: 0.8776\n",
            "Epoch 2/5\n",
            "734/734 [==============================] - 2s 3ms/step - loss: 0.9141 - accuracy: 0.8902 - val_loss: 0.8376 - val_accuracy: 0.9102\n",
            "Epoch 3/5\n",
            "734/734 [==============================] - 2s 3ms/step - loss: 0.8323 - accuracy: 0.9075 - val_loss: 0.7862 - val_accuracy: 0.9216\n",
            "Epoch 4/5\n",
            "734/734 [==============================] - 3s 4ms/step - loss: 0.7847 - accuracy: 0.9169 - val_loss: 0.7489 - val_accuracy: 0.9248\n",
            "Epoch 5/5\n",
            "734/734 [==============================] - 3s 4ms/step - loss: 0.7485 - accuracy: 0.9243 - val_loss: 0.7186 - val_accuracy: 0.9324\n",
            "573/573 [==============================] - 1s 2ms/step - loss: 0.7346 - accuracy: 0.9258\n",
            "Epoch 1/5\n",
            "734/734 [==============================] - 4s 4ms/step - loss: 1.0291 - accuracy: 0.7681 - val_loss: 0.5216 - val_accuracy: 0.8846\n",
            "Epoch 2/5\n",
            "734/734 [==============================] - 2s 3ms/step - loss: 0.4637 - accuracy: 0.8915 - val_loss: 0.4031 - val_accuracy: 0.9116\n",
            "Epoch 3/5\n",
            "734/734 [==============================] - 3s 3ms/step - loss: 0.3936 - accuracy: 0.9092 - val_loss: 0.3619 - val_accuracy: 0.9210\n",
            "Epoch 4/5\n",
            "734/734 [==============================] - 2s 3ms/step - loss: 0.3576 - accuracy: 0.9185 - val_loss: 0.3316 - val_accuracy: 0.9294\n",
            "Epoch 5/5\n",
            "734/734 [==============================] - 3s 4ms/step - loss: 0.3319 - accuracy: 0.9259 - val_loss: 0.3135 - val_accuracy: 0.9328\n",
            "573/573 [==============================] - 2s 2ms/step - loss: 0.3390 - accuracy: 0.9234\n",
            "Epoch 1/5\n",
            "734/734 [==============================] - 4s 4ms/step - loss: 1.0120 - accuracy: 0.7813 - val_loss: 0.5118 - val_accuracy: 0.8798\n",
            "Epoch 2/5\n",
            "734/734 [==============================] - 3s 4ms/step - loss: 0.4555 - accuracy: 0.8938 - val_loss: 0.3946 - val_accuracy: 0.9134\n",
            "Epoch 3/5\n",
            "734/734 [==============================] - 3s 3ms/step - loss: 0.3900 - accuracy: 0.9107 - val_loss: 0.3560 - val_accuracy: 0.9220\n",
            "Epoch 4/5\n",
            "734/734 [==============================] - 2s 3ms/step - loss: 0.3552 - accuracy: 0.9205 - val_loss: 0.3302 - val_accuracy: 0.9254\n",
            "Epoch 5/5\n",
            "734/734 [==============================] - 3s 3ms/step - loss: 0.3311 - accuracy: 0.9274 - val_loss: 0.3092 - val_accuracy: 0.9338\n",
            "573/573 [==============================] - 2s 3ms/step - loss: 0.3430 - accuracy: 0.9220\n",
            "Epoch 1/5\n",
            "734/734 [==============================] - 3s 4ms/step - loss: 1.0298 - accuracy: 0.7728 - val_loss: 0.5233 - val_accuracy: 0.8802\n",
            "Epoch 2/5\n",
            "734/734 [==============================] - 3s 4ms/step - loss: 0.4718 - accuracy: 0.8916 - val_loss: 0.4024 - val_accuracy: 0.9120\n",
            "Epoch 3/5\n",
            "734/734 [==============================] - 3s 3ms/step - loss: 0.4010 - accuracy: 0.9073 - val_loss: 0.3611 - val_accuracy: 0.9252\n",
            "Epoch 4/5\n",
            "734/734 [==============================] - 3s 4ms/step - loss: 0.3644 - accuracy: 0.9180 - val_loss: 0.3356 - val_accuracy: 0.9292\n",
            "Epoch 5/5\n",
            "734/734 [==============================] - 3s 4ms/step - loss: 0.3388 - accuracy: 0.9252 - val_loss: 0.3146 - val_accuracy: 0.9346\n",
            "573/573 [==============================] - 1s 2ms/step - loss: 0.3299 - accuracy: 0.9271\n",
            "Epoch 1/5\n",
            "734/734 [==============================] - 3s 4ms/step - loss: 1.6657 - accuracy: 0.7749 - val_loss: 1.1753 - val_accuracy: 0.8822\n",
            "Epoch 2/5\n",
            "734/734 [==============================] - 2s 3ms/step - loss: 1.1096 - accuracy: 0.8913 - val_loss: 1.0473 - val_accuracy: 0.9094\n",
            "Epoch 3/5\n",
            "734/734 [==============================] - 3s 4ms/step - loss: 1.0265 - accuracy: 0.9064 - val_loss: 0.9873 - val_accuracy: 0.9170\n",
            "Epoch 4/5\n",
            "734/734 [==============================] - 2s 3ms/step - loss: 0.9753 - accuracy: 0.9163 - val_loss: 0.9416 - val_accuracy: 0.9274\n",
            "Epoch 5/5\n",
            "734/734 [==============================] - 3s 3ms/step - loss: 0.9340 - accuracy: 0.9240 - val_loss: 0.9069 - val_accuracy: 0.9322\n",
            "573/573 [==============================] - 1s 2ms/step - loss: 0.9298 - accuracy: 0.9221\n",
            "Epoch 1/5\n",
            "734/734 [==============================] - 3s 3ms/step - loss: 1.6582 - accuracy: 0.7837 - val_loss: 1.1677 - val_accuracy: 0.8798\n",
            "Epoch 2/5\n",
            "734/734 [==============================] - 2s 3ms/step - loss: 1.1070 - accuracy: 0.8938 - val_loss: 1.0388 - val_accuracy: 0.9092\n",
            "Epoch 3/5\n",
            "734/734 [==============================] - 3s 4ms/step - loss: 1.0258 - accuracy: 0.9104 - val_loss: 0.9865 - val_accuracy: 0.9180\n",
            "Epoch 4/5\n",
            "734/734 [==============================] - 2s 3ms/step - loss: 0.9747 - accuracy: 0.9195 - val_loss: 0.9438 - val_accuracy: 0.9226\n",
            "Epoch 5/5\n",
            "734/734 [==============================] - 2s 3ms/step - loss: 0.9346 - accuracy: 0.9255 - val_loss: 0.9070 - val_accuracy: 0.9308\n",
            "573/573 [==============================] - 1s 2ms/step - loss: 0.9372 - accuracy: 0.9199\n",
            "Epoch 1/5\n",
            "734/734 [==============================] - 3s 3ms/step - loss: 1.6620 - accuracy: 0.7809 - val_loss: 1.1524 - val_accuracy: 0.8890\n",
            "Epoch 2/5\n",
            "734/734 [==============================] - 3s 4ms/step - loss: 1.1037 - accuracy: 0.8947 - val_loss: 1.0247 - val_accuracy: 0.9146\n",
            "Epoch 3/5\n",
            "734/734 [==============================] - 3s 3ms/step - loss: 1.0213 - accuracy: 0.9098 - val_loss: 0.9700 - val_accuracy: 0.9274\n",
            "Epoch 4/5\n",
            "734/734 [==============================] - 2s 3ms/step - loss: 0.9699 - accuracy: 0.9190 - val_loss: 0.9301 - val_accuracy: 0.9284\n",
            "Epoch 5/5\n",
            "734/734 [==============================] - 2s 3ms/step - loss: 0.9291 - accuracy: 0.9259 - val_loss: 0.8935 - val_accuracy: 0.9382\n",
            "573/573 [==============================] - 1s 2ms/step - loss: 0.9134 - accuracy: 0.9271\n",
            "Epoch 1/5\n",
            "734/734 [==============================] - 4s 4ms/step - loss: 1.1302 - accuracy: 0.7261 - val_loss: 0.4960 - val_accuracy: 0.8772\n",
            "Epoch 2/5\n",
            "734/734 [==============================] - 3s 4ms/step - loss: 0.4297 - accuracy: 0.8932 - val_loss: 0.3660 - val_accuracy: 0.9158\n",
            "Epoch 3/5\n",
            "734/734 [==============================] - 3s 4ms/step - loss: 0.3546 - accuracy: 0.9127 - val_loss: 0.3220 - val_accuracy: 0.9258\n",
            "Epoch 4/5\n",
            "734/734 [==============================] - 3s 3ms/step - loss: 0.3144 - accuracy: 0.9258 - val_loss: 0.2866 - val_accuracy: 0.9350\n",
            "Epoch 5/5\n",
            "734/734 [==============================] - 3s 4ms/step - loss: 0.2853 - accuracy: 0.9338 - val_loss: 0.2686 - val_accuracy: 0.9394\n",
            "573/573 [==============================] - 1s 2ms/step - loss: 0.2929 - accuracy: 0.9300\n",
            "Epoch 1/5\n",
            "734/734 [==============================] - 5s 5ms/step - loss: 1.0554 - accuracy: 0.7509 - val_loss: 0.5040 - val_accuracy: 0.8728\n",
            "Epoch 2/5\n",
            "734/734 [==============================] - 3s 3ms/step - loss: 0.4318 - accuracy: 0.8928 - val_loss: 0.3652 - val_accuracy: 0.9156\n",
            "Epoch 3/5\n",
            "734/734 [==============================] - 3s 4ms/step - loss: 0.3614 - accuracy: 0.9130 - val_loss: 0.3325 - val_accuracy: 0.9190\n",
            "Epoch 4/5\n",
            "734/734 [==============================] - 3s 3ms/step - loss: 0.3225 - accuracy: 0.9237 - val_loss: 0.3073 - val_accuracy: 0.9256\n",
            "Epoch 5/5\n",
            "734/734 [==============================] - 3s 4ms/step - loss: 0.2959 - accuracy: 0.9311 - val_loss: 0.2741 - val_accuracy: 0.9376\n",
            "573/573 [==============================] - 2s 3ms/step - loss: 0.3034 - accuracy: 0.9290\n",
            "Epoch 1/5\n",
            "734/734 [==============================] - 3s 4ms/step - loss: 1.1216 - accuracy: 0.7283 - val_loss: 0.4857 - val_accuracy: 0.8802\n",
            "Epoch 2/5\n",
            "734/734 [==============================] - 3s 4ms/step - loss: 0.4313 - accuracy: 0.8936 - val_loss: 0.3556 - val_accuracy: 0.9168\n",
            "Epoch 3/5\n",
            "734/734 [==============================] - 3s 4ms/step - loss: 0.3607 - accuracy: 0.9121 - val_loss: 0.3234 - val_accuracy: 0.9264\n",
            "Epoch 4/5\n",
            "734/734 [==============================] - 3s 4ms/step - loss: 0.3226 - accuracy: 0.9230 - val_loss: 0.2992 - val_accuracy: 0.9292\n",
            "Epoch 5/5\n",
            "734/734 [==============================] - 3s 4ms/step - loss: 0.2952 - accuracy: 0.9312 - val_loss: 0.2720 - val_accuracy: 0.9392\n",
            "573/573 [==============================] - 2s 3ms/step - loss: 0.2887 - accuracy: 0.9317\n",
            "Epoch 1/5\n",
            "734/734 [==============================] - 3s 4ms/step - loss: 1.6801 - accuracy: 0.6934 - val_loss: 1.0266 - val_accuracy: 0.8734\n",
            "Epoch 2/5\n",
            "734/734 [==============================] - 3s 4ms/step - loss: 0.9395 - accuracy: 0.8876 - val_loss: 0.8685 - val_accuracy: 0.9072\n",
            "Epoch 3/5\n",
            "734/734 [==============================] - 3s 4ms/step - loss: 0.8482 - accuracy: 0.9093 - val_loss: 0.8179 - val_accuracy: 0.9174\n",
            "Epoch 4/5\n",
            "734/734 [==============================] - 3s 4ms/step - loss: 0.7973 - accuracy: 0.9203 - val_loss: 0.7657 - val_accuracy: 0.9304\n",
            "Epoch 5/5\n",
            "734/734 [==============================] - 2s 3ms/step - loss: 0.7583 - accuracy: 0.9281 - val_loss: 0.7324 - val_accuracy: 0.9360\n",
            "573/573 [==============================] - 2s 2ms/step - loss: 0.7573 - accuracy: 0.9259\n",
            "Epoch 1/5\n",
            "734/734 [==============================] - 3s 4ms/step - loss: 1.5420 - accuracy: 0.7491 - val_loss: 0.9866 - val_accuracy: 0.8748\n",
            "Epoch 2/5\n",
            "734/734 [==============================] - 3s 4ms/step - loss: 0.9217 - accuracy: 0.8932 - val_loss: 0.8534 - val_accuracy: 0.9128\n",
            "Epoch 3/5\n",
            "734/734 [==============================] - 3s 4ms/step - loss: 0.8428 - accuracy: 0.9115 - val_loss: 0.8112 - val_accuracy: 0.9198\n",
            "Epoch 4/5\n",
            "734/734 [==============================] - 3s 3ms/step - loss: 0.7946 - accuracy: 0.9227 - val_loss: 0.7690 - val_accuracy: 0.9248\n",
            "Epoch 5/5\n",
            "734/734 [==============================] - 3s 4ms/step - loss: 0.7578 - accuracy: 0.9288 - val_loss: 0.7327 - val_accuracy: 0.9348\n",
            "573/573 [==============================] - 2s 2ms/step - loss: 0.7649 - accuracy: 0.9247\n",
            "Epoch 1/5\n",
            "734/734 [==============================] - 3s 4ms/step - loss: 1.7017 - accuracy: 0.6984 - val_loss: 1.0255 - val_accuracy: 0.8670\n",
            "Epoch 2/5\n",
            "734/734 [==============================] - 3s 4ms/step - loss: 0.9454 - accuracy: 0.8879 - val_loss: 0.8626 - val_accuracy: 0.9124\n",
            "Epoch 3/5\n",
            "734/734 [==============================] - 3s 3ms/step - loss: 0.8569 - accuracy: 0.9084 - val_loss: 0.8130 - val_accuracy: 0.9246\n",
            "Epoch 4/5\n",
            "734/734 [==============================] - 3s 4ms/step - loss: 0.8074 - accuracy: 0.9183 - val_loss: 0.7773 - val_accuracy: 0.9268\n",
            "Epoch 5/5\n",
            "734/734 [==============================] - 3s 3ms/step - loss: 0.7690 - accuracy: 0.9271 - val_loss: 0.7382 - val_accuracy: 0.9354\n",
            "573/573 [==============================] - 1s 2ms/step - loss: 0.7545 - accuracy: 0.9275\n",
            "Epoch 1/5\n",
            "734/734 [==============================] - 3s 4ms/step - loss: 1.0877 - accuracy: 0.7490 - val_loss: 0.4938 - val_accuracy: 0.8850\n",
            "Epoch 2/5\n",
            "734/734 [==============================] - 3s 4ms/step - loss: 0.4412 - accuracy: 0.8937 - val_loss: 0.3846 - val_accuracy: 0.9128\n",
            "Epoch 3/5\n",
            "734/734 [==============================] - 3s 4ms/step - loss: 0.3713 - accuracy: 0.9128 - val_loss: 0.3399 - val_accuracy: 0.9232\n",
            "Epoch 4/5\n",
            "734/734 [==============================] - 3s 4ms/step - loss: 0.3326 - accuracy: 0.9251 - val_loss: 0.3060 - val_accuracy: 0.9342\n",
            "Epoch 5/5\n",
            "734/734 [==============================] - 3s 4ms/step - loss: 0.3041 - accuracy: 0.9335 - val_loss: 0.2869 - val_accuracy: 0.9370\n",
            "573/573 [==============================] - 4s 6ms/step - loss: 0.3137 - accuracy: 0.9287\n",
            "Epoch 1/5\n",
            "734/734 [==============================] - 6s 5ms/step - loss: 1.0541 - accuracy: 0.7527 - val_loss: 0.5078 - val_accuracy: 0.8748\n",
            "Epoch 2/5\n",
            "734/734 [==============================] - 5s 6ms/step - loss: 0.4379 - accuracy: 0.8960 - val_loss: 0.3716 - val_accuracy: 0.9188\n",
            "Epoch 3/5\n",
            "734/734 [==============================] - 3s 4ms/step - loss: 0.3705 - accuracy: 0.9144 - val_loss: 0.3420 - val_accuracy: 0.9232\n",
            "Epoch 4/5\n",
            "734/734 [==============================] - 3s 4ms/step - loss: 0.3324 - accuracy: 0.9264 - val_loss: 0.3108 - val_accuracy: 0.9314\n",
            "Epoch 5/5\n",
            "734/734 [==============================] - 3s 4ms/step - loss: 0.3057 - accuracy: 0.9333 - val_loss: 0.2835 - val_accuracy: 0.9396\n",
            "573/573 [==============================] - 2s 3ms/step - loss: 0.3161 - accuracy: 0.9280\n",
            "Epoch 1/5\n",
            "734/734 [==============================] - 4s 4ms/step - loss: 1.1164 - accuracy: 0.7308 - val_loss: 0.5073 - val_accuracy: 0.8796\n",
            "Epoch 2/5\n",
            "734/734 [==============================] - 3s 4ms/step - loss: 0.4591 - accuracy: 0.8903 - val_loss: 0.3839 - val_accuracy: 0.9138\n",
            "Epoch 3/5\n",
            "734/734 [==============================] - 3s 4ms/step - loss: 0.3882 - accuracy: 0.9095 - val_loss: 0.3461 - val_accuracy: 0.9234\n",
            "Epoch 4/5\n",
            "734/734 [==============================] - 3s 4ms/step - loss: 0.3483 - accuracy: 0.9203 - val_loss: 0.3232 - val_accuracy: 0.9274\n",
            "Epoch 5/5\n",
            "734/734 [==============================] - 3s 4ms/step - loss: 0.3195 - accuracy: 0.9289 - val_loss: 0.2926 - val_accuracy: 0.9396\n",
            "573/573 [==============================] - 2s 2ms/step - loss: 0.3088 - accuracy: 0.9317\n",
            "Epoch 1/5\n",
            "734/734 [==============================] - 3s 4ms/step - loss: 1.7549 - accuracy: 0.7335 - val_loss: 1.1536 - val_accuracy: 0.8776\n",
            "Epoch 2/5\n",
            "734/734 [==============================] - 3s 5ms/step - loss: 1.0818 - accuracy: 0.8929 - val_loss: 1.0168 - val_accuracy: 0.9110\n",
            "Epoch 3/5\n",
            "734/734 [==============================] - 3s 4ms/step - loss: 0.9970 - accuracy: 0.9108 - val_loss: 0.9558 - val_accuracy: 0.9242\n",
            "Epoch 4/5\n",
            "734/734 [==============================] - 3s 4ms/step - loss: 0.9446 - accuracy: 0.9224 - val_loss: 0.9080 - val_accuracy: 0.9292\n",
            "Epoch 5/5\n",
            "734/734 [==============================] - 3s 4ms/step - loss: 0.9024 - accuracy: 0.9294 - val_loss: 0.8744 - val_accuracy: 0.9332\n",
            "573/573 [==============================] - 2s 2ms/step - loss: 0.9044 - accuracy: 0.9260\n",
            "Epoch 1/5\n",
            "734/734 [==============================] - 4s 4ms/step - loss: 1.7694 - accuracy: 0.7295 - val_loss: 1.1627 - val_accuracy: 0.8732\n",
            "Epoch 2/5\n",
            "734/734 [==============================] - 3s 3ms/step - loss: 1.0846 - accuracy: 0.8934 - val_loss: 1.0066 - val_accuracy: 0.9146\n",
            "Epoch 3/5\n",
            "734/734 [==============================] - 3s 4ms/step - loss: 0.9967 - accuracy: 0.9132 - val_loss: 0.9565 - val_accuracy: 0.9214\n",
            "Epoch 4/5\n",
            "734/734 [==============================] - 3s 3ms/step - loss: 0.9423 - accuracy: 0.9251 - val_loss: 0.9116 - val_accuracy: 0.9278\n",
            "Epoch 5/5\n",
            "734/734 [==============================] - 3s 4ms/step - loss: 0.8992 - accuracy: 0.9320 - val_loss: 0.8681 - val_accuracy: 0.9402\n",
            "573/573 [==============================] - 2s 3ms/step - loss: 0.8994 - accuracy: 0.9281\n",
            "Epoch 1/5\n",
            "734/734 [==============================] - 4s 4ms/step - loss: 1.7648 - accuracy: 0.7331 - val_loss: 1.1629 - val_accuracy: 0.8744\n",
            "Epoch 2/5\n",
            "734/734 [==============================] - 3s 4ms/step - loss: 1.0945 - accuracy: 0.8904 - val_loss: 1.0169 - val_accuracy: 0.9120\n",
            "Epoch 3/5\n",
            "734/734 [==============================] - 3s 5ms/step - loss: 1.0079 - accuracy: 0.9095 - val_loss: 0.9594 - val_accuracy: 0.9246\n",
            "Epoch 4/5\n",
            "734/734 [==============================] - 3s 4ms/step - loss: 0.9517 - accuracy: 0.9202 - val_loss: 0.9206 - val_accuracy: 0.9282\n",
            "Epoch 5/5\n",
            "734/734 [==============================] - 3s 4ms/step - loss: 0.9071 - accuracy: 0.9308 - val_loss: 0.8756 - val_accuracy: 0.9394\n",
            "573/573 [==============================] - 2s 2ms/step - loss: 0.8905 - accuracy: 0.9320\n",
            "Epoch 1/5\n",
            "734/734 [==============================] - 4s 5ms/step - loss: 1.0634 - accuracy: 0.7674 - val_loss: 0.5076 - val_accuracy: 0.8906\n",
            "Epoch 2/5\n",
            "734/734 [==============================] - 3s 4ms/step - loss: 0.4591 - accuracy: 0.8996 - val_loss: 0.4003 - val_accuracy: 0.9136\n",
            "Epoch 3/5\n",
            "734/734 [==============================] - 3s 4ms/step - loss: 0.3935 - accuracy: 0.9166 - val_loss: 0.3629 - val_accuracy: 0.9266\n",
            "Epoch 4/5\n",
            "734/734 [==============================] - 3s 4ms/step - loss: 0.3564 - accuracy: 0.9273 - val_loss: 0.3303 - val_accuracy: 0.9350\n",
            "Epoch 5/5\n",
            "734/734 [==============================] - 3s 4ms/step - loss: 0.3289 - accuracy: 0.9357 - val_loss: 0.3120 - val_accuracy: 0.9392\n",
            "573/573 [==============================] - 2s 3ms/step - loss: 0.3371 - accuracy: 0.9321\n",
            "Epoch 1/5\n",
            "734/734 [==============================] - 3s 4ms/step - loss: 1.0975 - accuracy: 0.7585 - val_loss: 0.5236 - val_accuracy: 0.8770\n",
            "Epoch 2/5\n",
            "734/734 [==============================] - 3s 4ms/step - loss: 0.4611 - accuracy: 0.8993 - val_loss: 0.4007 - val_accuracy: 0.9192\n",
            "Epoch 3/5\n",
            "734/734 [==============================] - 3s 4ms/step - loss: 0.3952 - accuracy: 0.9179 - val_loss: 0.3699 - val_accuracy: 0.9218\n",
            "Epoch 4/5\n",
            "734/734 [==============================] - 3s 4ms/step - loss: 0.3575 - accuracy: 0.9284 - val_loss: 0.3397 - val_accuracy: 0.9318\n",
            "Epoch 5/5\n",
            "734/734 [==============================] - 3s 4ms/step - loss: 0.3308 - accuracy: 0.9357 - val_loss: 0.3131 - val_accuracy: 0.9404\n",
            "573/573 [==============================] - 2s 2ms/step - loss: 0.3412 - accuracy: 0.9303\n",
            "Epoch 1/5\n",
            "734/734 [==============================] - 4s 4ms/step - loss: 1.0981 - accuracy: 0.7546 - val_loss: 0.5223 - val_accuracy: 0.8828\n",
            "Epoch 2/5\n",
            "734/734 [==============================] - 3s 4ms/step - loss: 0.4718 - accuracy: 0.8959 - val_loss: 0.4034 - val_accuracy: 0.9176\n",
            "Epoch 3/5\n",
            "734/734 [==============================] - 3s 4ms/step - loss: 0.4029 - accuracy: 0.9141 - val_loss: 0.3652 - val_accuracy: 0.9284\n",
            "Epoch 4/5\n",
            "734/734 [==============================] - 3s 4ms/step - loss: 0.3642 - accuracy: 0.9247 - val_loss: 0.3440 - val_accuracy: 0.9296\n",
            "Epoch 5/5\n",
            "734/734 [==============================] - 3s 4ms/step - loss: 0.3359 - accuracy: 0.9340 - val_loss: 0.3147 - val_accuracy: 0.9422\n",
            "573/573 [==============================] - 2s 3ms/step - loss: 0.3286 - accuracy: 0.9363\n",
            "Epoch 1/5\n",
            "734/734 [==============================] - 4s 4ms/step - loss: 2.0067 - accuracy: 0.7550 - val_loss: 1.4271 - val_accuracy: 0.8912\n",
            "Epoch 2/5\n",
            "734/734 [==============================] - 3s 4ms/step - loss: 1.3635 - accuracy: 0.9000 - val_loss: 1.3035 - val_accuracy: 0.9158\n",
            "Epoch 3/5\n",
            "734/734 [==============================] - 3s 4ms/step - loss: 1.2764 - accuracy: 0.9161 - val_loss: 1.2368 - val_accuracy: 0.9258\n",
            "Epoch 4/5\n",
            "734/734 [==============================] - 3s 4ms/step - loss: 1.2171 - accuracy: 0.9261 - val_loss: 1.1818 - val_accuracy: 0.9330\n",
            "Epoch 5/5\n",
            "734/734 [==============================] - 3s 4ms/step - loss: 1.1669 - accuracy: 0.9340 - val_loss: 1.1397 - val_accuracy: 0.9372\n",
            "573/573 [==============================] - 2s 2ms/step - loss: 1.1623 - accuracy: 0.9303\n",
            "Epoch 1/5\n",
            "734/734 [==============================] - 4s 4ms/step - loss: 2.0119 - accuracy: 0.7648 - val_loss: 1.4426 - val_accuracy: 0.8818\n",
            "Epoch 2/5\n",
            "734/734 [==============================] - 3s 4ms/step - loss: 1.3735 - accuracy: 0.8970 - val_loss: 1.3023 - val_accuracy: 0.9180\n",
            "Epoch 3/5\n",
            "734/734 [==============================] - 3s 4ms/step - loss: 1.2867 - accuracy: 0.9144 - val_loss: 1.2473 - val_accuracy: 0.9250\n",
            "Epoch 4/5\n",
            "734/734 [==============================] - 3s 4ms/step - loss: 1.2268 - accuracy: 0.9252 - val_loss: 1.1961 - val_accuracy: 0.9302\n",
            "Epoch 5/5\n",
            "734/734 [==============================] - 3s 4ms/step - loss: 1.1772 - accuracy: 0.9307 - val_loss: 1.1454 - val_accuracy: 0.9376\n",
            "573/573 [==============================] - 2s 3ms/step - loss: 1.1743 - accuracy: 0.9270\n",
            "Epoch 1/5\n",
            "734/734 [==============================] - 4s 4ms/step - loss: 2.0320 - accuracy: 0.7566 - val_loss: 1.4399 - val_accuracy: 0.8818\n",
            "Epoch 2/5\n",
            "734/734 [==============================] - 3s 4ms/step - loss: 1.3794 - accuracy: 0.8955 - val_loss: 1.2955 - val_accuracy: 0.9188\n",
            "Epoch 3/5\n",
            "734/734 [==============================] - 3s 5ms/step - loss: 1.2877 - accuracy: 0.9122 - val_loss: 1.2370 - val_accuracy: 0.9254\n",
            "Epoch 4/5\n",
            "734/734 [==============================] - 3s 4ms/step - loss: 1.2259 - accuracy: 0.9230 - val_loss: 1.1928 - val_accuracy: 0.9272\n",
            "Epoch 5/5\n",
            "734/734 [==============================] - 3s 4ms/step - loss: 1.1752 - accuracy: 0.9311 - val_loss: 1.1392 - val_accuracy: 0.9394\n",
            "573/573 [==============================] - 2s 2ms/step - loss: 1.1555 - accuracy: 0.9319\n",
            "Epoch 1/5\n",
            "1100/1100 [==============================] - 5s 4ms/step - loss: 0.8809 - accuracy: 0.7998 - val_loss: 0.4396 - val_accuracy: 0.9096\n",
            "Epoch 2/5\n",
            "1100/1100 [==============================] - 4s 3ms/step - loss: 0.4153 - accuracy: 0.9111 - val_loss: 0.3611 - val_accuracy: 0.9284\n",
            "Epoch 3/5\n",
            "1100/1100 [==============================] - 4s 3ms/step - loss: 0.3589 - accuracy: 0.9267 - val_loss: 0.3189 - val_accuracy: 0.9400\n",
            "Epoch 4/5\n",
            "1100/1100 [==============================] - 4s 4ms/step - loss: 0.3234 - accuracy: 0.9377 - val_loss: 0.2977 - val_accuracy: 0.9452\n",
            "Epoch 5/5\n",
            "1100/1100 [==============================] - 4s 3ms/step - loss: 0.2974 - accuracy: 0.9449 - val_loss: 0.2760 - val_accuracy: 0.9508\n"
          ]
        }
      ]
    },
    {
      "cell_type": "code",
      "metadata": {
        "id": "5q7y3IZvCVJg",
        "colab": {
          "base_uri": "https://localhost:8080/"
        },
        "outputId": "cbd9641a-30ea-4d71-cb76-caf6384d9cf0"
      },
      "source": [
        "\n",
        "#lets look at the best model found\n",
        "grid_search_cv.best_params_\n"
      ],
      "execution_count": 52,
      "outputs": [
        {
          "output_type": "execute_result",
          "data": {
            "text/plain": [
              "{'n_hidden': 3, 'n_neurons': 300, 'reg': 0.0001}"
            ]
          },
          "metadata": {},
          "execution_count": 52
        }
      ]
    },
    {
      "cell_type": "code",
      "metadata": {
        "id": "q3nPteFNCsDH",
        "colab": {
          "base_uri": "https://localhost:8080/"
        },
        "outputId": "8ebd1b58-bda6-4a76-b26d-981fbdb20cba"
      },
      "source": [
        "#Load saved model, just in case someting happens while training\n",
        "model_grid = keras.models.load_model(\"grid_model.h5\") \n",
        "model_grid.summary()"
      ],
      "execution_count": 53,
      "outputs": [
        {
          "output_type": "stream",
          "name": "stdout",
          "text": [
            "Model: \"sequential_110\"\n",
            "_________________________________________________________________\n",
            " Layer (type)                Output Shape              Param #   \n",
            "=================================================================\n",
            " flatten_110 (Flatten)       (None, 784)               0         \n",
            "                                                                 \n",
            " dense_322 (Dense)           (None, 300)               235500    \n",
            "                                                                 \n",
            " dense_323 (Dense)           (None, 300)               90300     \n",
            "                                                                 \n",
            " dense_324 (Dense)           (None, 300)               90300     \n",
            "                                                                 \n",
            " dense_325 (Dense)           (None, 10)                3010      \n",
            "                                                                 \n",
            "=================================================================\n",
            "Total params: 419,110\n",
            "Trainable params: 419,110\n",
            "Non-trainable params: 0\n",
            "_________________________________________________________________\n"
          ]
        }
      ]
    },
    {
      "cell_type": "code",
      "metadata": {
        "id": "QoUs1vL5C0R2",
        "colab": {
          "base_uri": "https://localhost:8080/"
        },
        "outputId": "7fec18a3-73d1-482b-82e6-f810bcf73acc"
      },
      "source": [
        "train_grid=model_grid.evaluate(X_train, y_train, verbose=0)\n",
        "valid_grid=model_grid.evaluate(X_valid, y_valid, verbose=0)\n",
        "test_grid=model_grid.evaluate(X_test, y_test, verbose=0)\n",
        "\n",
        "print(\"Time to train the model: {0:.4f} secs \".format((time_grid)))\n",
        "print(\"Training Set Accuracy:   {0:.4%} & Loss:{1:.4f}\".format(train_grid[1],train_grid[0]))\n",
        "print(\"Validation Set Accuracy: {0:.4%} & Loss:{1:.4f}\".format(valid_grid[1],valid_grid[0]))\n",
        "print(\"Test Set Accuracy:       {0:.4%} & Loss:{1:.4f}\".format(test_grid[1],test_grid[0]))"
      ],
      "execution_count": 54,
      "outputs": [
        {
          "output_type": "stream",
          "name": "stdout",
          "text": [
            "Time to train the model: 1016.1053 secs \n",
            "Training Set Accuracy:   94.9000% & Loss:0.2817\n",
            "Validation Set Accuracy: 95.0800% & Loss:0.2760\n",
            "Test Set Accuracy:       94.7400% & Loss:23.7120\n"
          ]
        }
      ]
    },
    {
      "cell_type": "markdown",
      "metadata": {
        "id": "QnN96cgXB2io"
      },
      "source": [
        "### 5.2-  Random Search "
      ]
    },
    {
      "cell_type": "code",
      "metadata": {
        "id": "5fcWCNzUphcD",
        "colab": {
          "base_uri": "https://localhost:8080/"
        },
        "outputId": "01f6a920-4e56-4734-f9f9-4502d36f2517"
      },
      "source": [
        "\n",
        "np.random.seed(42)\n",
        "from sklearn.model_selection import RandomizedSearchCV\n",
        "from sklearn.model_selection import GridSearchCV\n",
        "import time\n",
        "\n",
        "#Lets save the model and use TensorBoard\n",
        "#Since the hyperparamter tuning process can take several hours, \n",
        "#saving the model at each epoch allows us to share the model with other\n",
        "#and start traning again if something happens (e.g., we used the 12hr of GPU of Google Colab)\n",
        "checkpoint_cb = keras.callbacks.ModelCheckpoint(\"rnd_model.h5\", save_best_only=False)\n",
        "\n",
        "#Lets read the pre-tranined model if there is any. \n",
        "try:  \n",
        "    model = keras.models.load_model(\"rnd_model.h5\") \n",
        "    print(\"Continue Training Model\")\n",
        "    # Do something with the file\n",
        "except:\n",
        "    print(\"Training Model from Scratch\")\n",
        "\n",
        "#What set of Hypeparamater you would like to test\n",
        "param_distribs = {\n",
        "    \"n_hidden\": [1,2,3],\n",
        "    \"n_neurons\": [150,200,300],\n",
        "    \"reg\":[0.0001, 0.001]\n",
        "}\n",
        "\n",
        "#We are using a GridSearchCV\n",
        "tic = time.process_time()\n",
        "\n",
        "\n",
        "rnd_search_cv = RandomizedSearchCV(keras_reg, param_distribs, cv=3, verbose=1)\n",
        "history=rnd_search_cv.fit(X_train, y_train, epochs=5,batch_size=50,\n",
        "                  validation_data=(X_valid, y_valid),callbacks=[checkpoint_cb]) \n",
        "\n",
        "\n",
        "\n",
        "\n",
        "toc = time.process_time()\n",
        "time_rnd=toc-tic\n",
        "\n"
      ],
      "execution_count": 55,
      "outputs": [
        {
          "output_type": "stream",
          "name": "stdout",
          "text": [
            "Continue Training Model\n",
            "Fitting 3 folds for each of 10 candidates, totalling 30 fits\n",
            "Epoch 1/5\n",
            "734/734 [==============================] - 3s 3ms/step - loss: 0.9880 - accuracy: 0.7685 - val_loss: 0.5366 - val_accuracy: 0.8762\n",
            "Epoch 2/5\n",
            "734/734 [==============================] - 2s 3ms/step - loss: 0.4752 - accuracy: 0.8816 - val_loss: 0.4092 - val_accuracy: 0.9026\n",
            "Epoch 3/5\n",
            "734/734 [==============================] - 2s 3ms/step - loss: 0.3969 - accuracy: 0.8985 - val_loss: 0.3605 - val_accuracy: 0.9108\n",
            "Epoch 4/5\n",
            "734/734 [==============================] - 2s 3ms/step - loss: 0.3593 - accuracy: 0.9078 - val_loss: 0.3314 - val_accuracy: 0.9172\n",
            "Epoch 5/5\n",
            "734/734 [==============================] - 3s 4ms/step - loss: 0.3346 - accuracy: 0.9138 - val_loss: 0.3133 - val_accuracy: 0.9216\n",
            "573/573 [==============================] - 1s 2ms/step - loss: 0.3374 - accuracy: 0.9131\n",
            "Epoch 1/5\n",
            "734/734 [==============================] - 3s 3ms/step - loss: 1.0014 - accuracy: 0.7683 - val_loss: 0.5481 - val_accuracy: 0.8696\n",
            "Epoch 2/5\n",
            "734/734 [==============================] - 2s 3ms/step - loss: 0.4826 - accuracy: 0.8782 - val_loss: 0.4144 - val_accuracy: 0.8990\n",
            "Epoch 3/5\n",
            "734/734 [==============================] - 2s 3ms/step - loss: 0.4039 - accuracy: 0.8962 - val_loss: 0.3659 - val_accuracy: 0.9050\n",
            "Epoch 4/5\n",
            "734/734 [==============================] - 3s 4ms/step - loss: 0.3653 - accuracy: 0.9057 - val_loss: 0.3374 - val_accuracy: 0.9134\n",
            "Epoch 5/5\n",
            "734/734 [==============================] - 2s 3ms/step - loss: 0.3406 - accuracy: 0.9129 - val_loss: 0.3185 - val_accuracy: 0.9198\n",
            "573/573 [==============================] - 1s 2ms/step - loss: 0.3527 - accuracy: 0.9053\n",
            "Epoch 1/5\n",
            "734/734 [==============================] - 3s 3ms/step - loss: 1.0102 - accuracy: 0.7595 - val_loss: 0.5354 - val_accuracy: 0.8726\n",
            "Epoch 2/5\n",
            "734/734 [==============================] - 2s 3ms/step - loss: 0.4849 - accuracy: 0.8818 - val_loss: 0.4058 - val_accuracy: 0.9014\n",
            "Epoch 3/5\n",
            "734/734 [==============================] - 3s 4ms/step - loss: 0.4065 - accuracy: 0.8970 - val_loss: 0.3603 - val_accuracy: 0.9122\n",
            "Epoch 4/5\n",
            "734/734 [==============================] - 2s 3ms/step - loss: 0.3686 - accuracy: 0.9049 - val_loss: 0.3335 - val_accuracy: 0.9166\n",
            "Epoch 5/5\n",
            "734/734 [==============================] - 2s 3ms/step - loss: 0.3440 - accuracy: 0.9117 - val_loss: 0.3144 - val_accuracy: 0.9202\n",
            "573/573 [==============================] - 1s 2ms/step - loss: 0.3308 - accuracy: 0.9147\n",
            "Epoch 1/5\n",
            "734/734 [==============================] - 3s 3ms/step - loss: 1.2130 - accuracy: 0.7704 - val_loss: 0.7666 - val_accuracy: 0.8730\n",
            "Epoch 2/5\n",
            "734/734 [==============================] - 2s 3ms/step - loss: 0.7077 - accuracy: 0.8790 - val_loss: 0.6384 - val_accuracy: 0.8976\n",
            "Epoch 3/5\n",
            "734/734 [==============================] - 2s 3ms/step - loss: 0.6277 - accuracy: 0.8947 - val_loss: 0.5870 - val_accuracy: 0.9074\n",
            "Epoch 4/5\n",
            "734/734 [==============================] - 3s 4ms/step - loss: 0.5864 - accuracy: 0.9029 - val_loss: 0.5537 - val_accuracy: 0.9146\n",
            "Epoch 5/5\n",
            "734/734 [==============================] - 2s 3ms/step - loss: 0.5575 - accuracy: 0.9095 - val_loss: 0.5308 - val_accuracy: 0.9194\n",
            "573/573 [==============================] - 1s 2ms/step - loss: 0.5592 - accuracy: 0.9089\n",
            "Epoch 1/5\n",
            "734/734 [==============================] - 3s 3ms/step - loss: 1.2507 - accuracy: 0.7629 - val_loss: 0.7768 - val_accuracy: 0.8730\n",
            "Epoch 2/5\n",
            "734/734 [==============================] - 2s 3ms/step - loss: 0.7061 - accuracy: 0.8817 - val_loss: 0.6367 - val_accuracy: 0.8982\n",
            "Epoch 3/5\n",
            "734/734 [==============================] - 2s 3ms/step - loss: 0.6224 - accuracy: 0.8996 - val_loss: 0.5837 - val_accuracy: 0.9078\n",
            "Epoch 4/5\n",
            "734/734 [==============================] - 3s 4ms/step - loss: 0.5793 - accuracy: 0.9089 - val_loss: 0.5498 - val_accuracy: 0.9158\n",
            "Epoch 5/5\n",
            "734/734 [==============================] - 2s 3ms/step - loss: 0.5498 - accuracy: 0.9155 - val_loss: 0.5257 - val_accuracy: 0.9202\n",
            "573/573 [==============================] - 1s 2ms/step - loss: 0.5598 - accuracy: 0.9068\n",
            "Epoch 1/5\n",
            "734/734 [==============================] - 3s 3ms/step - loss: 1.2268 - accuracy: 0.7706 - val_loss: 0.7609 - val_accuracy: 0.8764\n",
            "Epoch 2/5\n",
            "734/734 [==============================] - 2s 3ms/step - loss: 0.7112 - accuracy: 0.8800 - val_loss: 0.6302 - val_accuracy: 0.9018\n",
            "Epoch 3/5\n",
            "734/734 [==============================] - 2s 3ms/step - loss: 0.6298 - accuracy: 0.8955 - val_loss: 0.5800 - val_accuracy: 0.9138\n",
            "Epoch 4/5\n",
            "734/734 [==============================] - 2s 3ms/step - loss: 0.5877 - accuracy: 0.9044 - val_loss: 0.5492 - val_accuracy: 0.9158\n",
            "Epoch 5/5\n",
            "734/734 [==============================] - 2s 3ms/step - loss: 0.5586 - accuracy: 0.9100 - val_loss: 0.5249 - val_accuracy: 0.9212\n",
            "573/573 [==============================] - 1s 2ms/step - loss: 0.5428 - accuracy: 0.9144\n",
            "Epoch 1/5\n",
            "734/734 [==============================] - 3s 3ms/step - loss: 1.0492 - accuracy: 0.7481 - val_loss: 0.5085 - val_accuracy: 0.8846\n",
            "Epoch 2/5\n",
            "734/734 [==============================] - 2s 3ms/step - loss: 0.4504 - accuracy: 0.8899 - val_loss: 0.3850 - val_accuracy: 0.9106\n",
            "Epoch 3/5\n",
            "734/734 [==============================] - 3s 4ms/step - loss: 0.3777 - accuracy: 0.9070 - val_loss: 0.3418 - val_accuracy: 0.9210\n",
            "Epoch 4/5\n",
            "734/734 [==============================] - 2s 3ms/step - loss: 0.3412 - accuracy: 0.9172 - val_loss: 0.3124 - val_accuracy: 0.9292\n",
            "Epoch 5/5\n",
            "734/734 [==============================] - 2s 3ms/step - loss: 0.3154 - accuracy: 0.9243 - val_loss: 0.2945 - val_accuracy: 0.9344\n",
            "573/573 [==============================] - 1s 2ms/step - loss: 0.3200 - accuracy: 0.9243\n",
            "Epoch 1/5\n",
            "734/734 [==============================] - 4s 4ms/step - loss: 1.0365 - accuracy: 0.7581 - val_loss: 0.5158 - val_accuracy: 0.8754\n",
            "Epoch 2/5\n",
            "734/734 [==============================] - 3s 4ms/step - loss: 0.4497 - accuracy: 0.8918 - val_loss: 0.3872 - val_accuracy: 0.9076\n",
            "Epoch 3/5\n",
            "734/734 [==============================] - 2s 3ms/step - loss: 0.3814 - accuracy: 0.9079 - val_loss: 0.3478 - val_accuracy: 0.9176\n",
            "Epoch 4/5\n",
            "734/734 [==============================] - 2s 3ms/step - loss: 0.3460 - accuracy: 0.9168 - val_loss: 0.3214 - val_accuracy: 0.9238\n",
            "Epoch 5/5\n",
            "734/734 [==============================] - 2s 3ms/step - loss: 0.3222 - accuracy: 0.9238 - val_loss: 0.3006 - val_accuracy: 0.9300\n",
            "573/573 [==============================] - 1s 2ms/step - loss: 0.3334 - accuracy: 0.9187\n",
            "Epoch 1/5\n",
            "734/734 [==============================] - 3s 3ms/step - loss: 1.0382 - accuracy: 0.7589 - val_loss: 0.5082 - val_accuracy: 0.8760\n",
            "Epoch 2/5\n",
            "734/734 [==============================] - 3s 4ms/step - loss: 0.4540 - accuracy: 0.8894 - val_loss: 0.3828 - val_accuracy: 0.9070\n",
            "Epoch 3/5\n",
            "734/734 [==============================] - 2s 3ms/step - loss: 0.3831 - accuracy: 0.9059 - val_loss: 0.3456 - val_accuracy: 0.9214\n",
            "Epoch 4/5\n",
            "734/734 [==============================] - 2s 3ms/step - loss: 0.3475 - accuracy: 0.9149 - val_loss: 0.3170 - val_accuracy: 0.9254\n",
            "Epoch 5/5\n",
            "734/734 [==============================] - 2s 3ms/step - loss: 0.3227 - accuracy: 0.9234 - val_loss: 0.2975 - val_accuracy: 0.9336\n",
            "573/573 [==============================] - 1s 2ms/step - loss: 0.3132 - accuracy: 0.9267\n",
            "Epoch 1/5\n",
            "734/734 [==============================] - 3s 4ms/step - loss: 1.3665 - accuracy: 0.7796 - val_loss: 0.9319 - val_accuracy: 0.8764\n",
            "Epoch 2/5\n",
            "734/734 [==============================] - 2s 3ms/step - loss: 0.8702 - accuracy: 0.8833 - val_loss: 0.8010 - val_accuracy: 0.8990\n",
            "Epoch 3/5\n",
            "734/734 [==============================] - 2s 3ms/step - loss: 0.7872 - accuracy: 0.8984 - val_loss: 0.7456 - val_accuracy: 0.9098\n",
            "Epoch 4/5\n",
            "734/734 [==============================] - 2s 3ms/step - loss: 0.7414 - accuracy: 0.9061 - val_loss: 0.7073 - val_accuracy: 0.9176\n",
            "Epoch 5/5\n",
            "734/734 [==============================] - 2s 3ms/step - loss: 0.7076 - accuracy: 0.9134 - val_loss: 0.6799 - val_accuracy: 0.9224\n",
            "573/573 [==============================] - 2s 3ms/step - loss: 0.7054 - accuracy: 0.9126\n",
            "Epoch 1/5\n",
            "734/734 [==============================] - 3s 3ms/step - loss: 1.3692 - accuracy: 0.7859 - val_loss: 0.9343 - val_accuracy: 0.8760\n",
            "Epoch 2/5\n",
            "734/734 [==============================] - 2s 3ms/step - loss: 0.8679 - accuracy: 0.8870 - val_loss: 0.7982 - val_accuracy: 0.9014\n",
            "Epoch 3/5\n",
            "734/734 [==============================] - 2s 3ms/step - loss: 0.7837 - accuracy: 0.9023 - val_loss: 0.7433 - val_accuracy: 0.9096\n",
            "Epoch 4/5\n",
            "734/734 [==============================] - 2s 3ms/step - loss: 0.7376 - accuracy: 0.9105 - val_loss: 0.7066 - val_accuracy: 0.9174\n",
            "Epoch 5/5\n",
            "734/734 [==============================] - 2s 3ms/step - loss: 0.7044 - accuracy: 0.9168 - val_loss: 0.6788 - val_accuracy: 0.9226\n",
            "573/573 [==============================] - 1s 2ms/step - loss: 0.7113 - accuracy: 0.9090\n",
            "Epoch 1/5\n",
            "734/734 [==============================] - 3s 3ms/step - loss: 1.3871 - accuracy: 0.7802 - val_loss: 0.9310 - val_accuracy: 0.8784\n",
            "Epoch 2/5\n",
            "734/734 [==============================] - 2s 3ms/step - loss: 0.8785 - accuracy: 0.8830 - val_loss: 0.7975 - val_accuracy: 0.9016\n",
            "Epoch 3/5\n",
            "734/734 [==============================] - 2s 3ms/step - loss: 0.7932 - accuracy: 0.8982 - val_loss: 0.7432 - val_accuracy: 0.9140\n",
            "Epoch 4/5\n",
            "734/734 [==============================] - 3s 4ms/step - loss: 0.7463 - accuracy: 0.9066 - val_loss: 0.7078 - val_accuracy: 0.9174\n",
            "Epoch 5/5\n",
            "734/734 [==============================] - 2s 3ms/step - loss: 0.7124 - accuracy: 0.9126 - val_loss: 0.6784 - val_accuracy: 0.9230\n",
            "573/573 [==============================] - 1s 2ms/step - loss: 0.6942 - accuracy: 0.9170\n",
            "Epoch 1/5\n",
            "734/734 [==============================] - 3s 3ms/step - loss: 1.2589 - accuracy: 0.7808 - val_loss: 0.8222 - val_accuracy: 0.8766\n",
            "Epoch 2/5\n",
            "734/734 [==============================] - 2s 3ms/step - loss: 0.7633 - accuracy: 0.8825 - val_loss: 0.6939 - val_accuracy: 0.8976\n",
            "Epoch 3/5\n",
            "734/734 [==============================] - 2s 3ms/step - loss: 0.6833 - accuracy: 0.8966 - val_loss: 0.6411 - val_accuracy: 0.9098\n",
            "Epoch 4/5\n",
            "734/734 [==============================] - 3s 3ms/step - loss: 0.6408 - accuracy: 0.9049 - val_loss: 0.6068 - val_accuracy: 0.9146\n",
            "Epoch 5/5\n",
            "734/734 [==============================] - 2s 3ms/step - loss: 0.6105 - accuracy: 0.9115 - val_loss: 0.5822 - val_accuracy: 0.9192\n",
            "573/573 [==============================] - 1s 2ms/step - loss: 0.6095 - accuracy: 0.9115\n",
            "Epoch 1/5\n",
            "734/734 [==============================] - 3s 3ms/step - loss: 1.2558 - accuracy: 0.7807 - val_loss: 0.8284 - val_accuracy: 0.8692\n",
            "Epoch 2/5\n",
            "734/734 [==============================] - 2s 3ms/step - loss: 0.7613 - accuracy: 0.8845 - val_loss: 0.6959 - val_accuracy: 0.8994\n",
            "Epoch 3/5\n",
            "734/734 [==============================] - 2s 3ms/step - loss: 0.6803 - accuracy: 0.9006 - val_loss: 0.6437 - val_accuracy: 0.9066\n",
            "Epoch 4/5\n",
            "734/734 [==============================] - 2s 3ms/step - loss: 0.6370 - accuracy: 0.9086 - val_loss: 0.6100 - val_accuracy: 0.9130\n",
            "Epoch 5/5\n",
            "734/734 [==============================] - 2s 3ms/step - loss: 0.6066 - accuracy: 0.9150 - val_loss: 0.5852 - val_accuracy: 0.9184\n",
            "573/573 [==============================] - 1s 2ms/step - loss: 0.6171 - accuracy: 0.9069\n",
            "Epoch 1/5\n",
            "734/734 [==============================] - 3s 3ms/step - loss: 1.2974 - accuracy: 0.7696 - val_loss: 0.8391 - val_accuracy: 0.8742\n",
            "Epoch 2/5\n",
            "734/734 [==============================] - 2s 3ms/step - loss: 0.7773 - accuracy: 0.8817 - val_loss: 0.6967 - val_accuracy: 0.9002\n",
            "Epoch 3/5\n",
            "734/734 [==============================] - 2s 3ms/step - loss: 0.6893 - accuracy: 0.8976 - val_loss: 0.6414 - val_accuracy: 0.9142\n",
            "Epoch 4/5\n",
            "734/734 [==============================] - 2s 3ms/step - loss: 0.6436 - accuracy: 0.9066 - val_loss: 0.6071 - val_accuracy: 0.9168\n",
            "Epoch 5/5\n",
            "734/734 [==============================] - 2s 3ms/step - loss: 0.6118 - accuracy: 0.9122 - val_loss: 0.5801 - val_accuracy: 0.9236\n",
            "573/573 [==============================] - 1s 2ms/step - loss: 0.5942 - accuracy: 0.9167\n",
            "Epoch 1/5\n",
            "734/734 [==============================] - 3s 3ms/step - loss: 1.6222 - accuracy: 0.7171 - val_loss: 0.9900 - val_accuracy: 0.8800\n",
            "Epoch 2/5\n",
            "734/734 [==============================] - 3s 4ms/step - loss: 0.9235 - accuracy: 0.8922 - val_loss: 0.8618 - val_accuracy: 0.9090\n",
            "Epoch 3/5\n",
            "734/734 [==============================] - 3s 3ms/step - loss: 0.8444 - accuracy: 0.9102 - val_loss: 0.8133 - val_accuracy: 0.9194\n",
            "Epoch 4/5\n",
            "734/734 [==============================] - 3s 3ms/step - loss: 0.7969 - accuracy: 0.9212 - val_loss: 0.7673 - val_accuracy: 0.9284\n",
            "Epoch 5/5\n",
            "734/734 [==============================] - 3s 3ms/step - loss: 0.7584 - accuracy: 0.9291 - val_loss: 0.7361 - val_accuracy: 0.9328\n",
            "573/573 [==============================] - 1s 2ms/step - loss: 0.7598 - accuracy: 0.9275\n",
            "Epoch 1/5\n",
            "734/734 [==============================] - 3s 3ms/step - loss: 1.6518 - accuracy: 0.7299 - val_loss: 1.0030 - val_accuracy: 0.8684\n",
            "Epoch 2/5\n",
            "734/734 [==============================] - 3s 4ms/step - loss: 0.9253 - accuracy: 0.8937 - val_loss: 0.8528 - val_accuracy: 0.9144\n",
            "Epoch 3/5\n",
            "734/734 [==============================] - 3s 3ms/step - loss: 0.8447 - accuracy: 0.9115 - val_loss: 0.8045 - val_accuracy: 0.9230\n",
            "Epoch 4/5\n",
            "734/734 [==============================] - 2s 3ms/step - loss: 0.7958 - accuracy: 0.9227 - val_loss: 0.7693 - val_accuracy: 0.9262\n",
            "Epoch 5/5\n",
            "734/734 [==============================] - 3s 4ms/step - loss: 0.7591 - accuracy: 0.9289 - val_loss: 0.7321 - val_accuracy: 0.9372\n",
            "573/573 [==============================] - 2s 3ms/step - loss: 0.7643 - accuracy: 0.9237\n",
            "Epoch 1/5\n",
            "734/734 [==============================] - 3s 4ms/step - loss: 1.7293 - accuracy: 0.7000 - val_loss: 1.0374 - val_accuracy: 0.8622\n",
            "Epoch 2/5\n",
            "734/734 [==============================] - 2s 3ms/step - loss: 0.9538 - accuracy: 0.8868 - val_loss: 0.8682 - val_accuracy: 0.9088\n",
            "Epoch 3/5\n",
            "734/734 [==============================] - 2s 3ms/step - loss: 0.8587 - accuracy: 0.9089 - val_loss: 0.8171 - val_accuracy: 0.9202\n",
            "Epoch 4/5\n",
            "734/734 [==============================] - 3s 4ms/step - loss: 0.8065 - accuracy: 0.9191 - val_loss: 0.7748 - val_accuracy: 0.9250\n",
            "Epoch 5/5\n",
            "734/734 [==============================] - 3s 3ms/step - loss: 0.7672 - accuracy: 0.9272 - val_loss: 0.7380 - val_accuracy: 0.9362\n",
            "573/573 [==============================] - 2s 3ms/step - loss: 0.7524 - accuracy: 0.9283\n",
            "Epoch 1/5\n",
            "734/734 [==============================] - 3s 4ms/step - loss: 1.0333 - accuracy: 0.7785 - val_loss: 0.5094 - val_accuracy: 0.8922\n",
            "Epoch 2/5\n",
            "734/734 [==============================] - 2s 3ms/step - loss: 0.4601 - accuracy: 0.8984 - val_loss: 0.4040 - val_accuracy: 0.9118\n",
            "Epoch 3/5\n",
            "734/734 [==============================] - 3s 3ms/step - loss: 0.3927 - accuracy: 0.9152 - val_loss: 0.3627 - val_accuracy: 0.9290\n",
            "Epoch 4/5\n",
            "734/734 [==============================] - 3s 4ms/step - loss: 0.3554 - accuracy: 0.9268 - val_loss: 0.3315 - val_accuracy: 0.9354\n",
            "Epoch 5/5\n",
            "734/734 [==============================] - 2s 3ms/step - loss: 0.3283 - accuracy: 0.9355 - val_loss: 0.3155 - val_accuracy: 0.9398\n",
            "573/573 [==============================] - 2s 3ms/step - loss: 0.3390 - accuracy: 0.9300\n",
            "Epoch 1/5\n",
            "734/734 [==============================] - 3s 4ms/step - loss: 1.0143 - accuracy: 0.7746 - val_loss: 0.5169 - val_accuracy: 0.8794\n",
            "Epoch 2/5\n",
            "734/734 [==============================] - 2s 3ms/step - loss: 0.4550 - accuracy: 0.9004 - val_loss: 0.3961 - val_accuracy: 0.9212\n",
            "Epoch 3/5\n",
            "734/734 [==============================] - 3s 4ms/step - loss: 0.3913 - accuracy: 0.9183 - val_loss: 0.3646 - val_accuracy: 0.9254\n",
            "Epoch 4/5\n",
            "734/734 [==============================] - 3s 4ms/step - loss: 0.3537 - accuracy: 0.9300 - val_loss: 0.3372 - val_accuracy: 0.9310\n",
            "Epoch 5/5\n",
            "734/734 [==============================] - 2s 3ms/step - loss: 0.3270 - accuracy: 0.9360 - val_loss: 0.3097 - val_accuracy: 0.9444\n",
            "573/573 [==============================] - 1s 2ms/step - loss: 0.3370 - accuracy: 0.9318\n",
            "Epoch 1/5\n",
            "734/734 [==============================] - 3s 4ms/step - loss: 1.0851 - accuracy: 0.7550 - val_loss: 0.5128 - val_accuracy: 0.8854\n",
            "Epoch 2/5\n",
            "734/734 [==============================] - 3s 4ms/step - loss: 0.4676 - accuracy: 0.8980 - val_loss: 0.3968 - val_accuracy: 0.9190\n",
            "Epoch 3/5\n",
            "734/734 [==============================] - 2s 3ms/step - loss: 0.4006 - accuracy: 0.9163 - val_loss: 0.3657 - val_accuracy: 0.9288\n",
            "Epoch 4/5\n",
            "734/734 [==============================] - 2s 3ms/step - loss: 0.3630 - accuracy: 0.9256 - val_loss: 0.3459 - val_accuracy: 0.9302\n",
            "Epoch 5/5\n",
            "734/734 [==============================] - 3s 4ms/step - loss: 0.3361 - accuracy: 0.9335 - val_loss: 0.3125 - val_accuracy: 0.9420\n",
            "573/573 [==============================] - 1s 2ms/step - loss: 0.3300 - accuracy: 0.9335\n",
            "Epoch 1/5\n",
            "734/734 [==============================] - 3s 4ms/step - loss: 1.7477 - accuracy: 0.7375 - val_loss: 1.1448 - val_accuracy: 0.8836\n",
            "Epoch 2/5\n",
            "734/734 [==============================] - 2s 3ms/step - loss: 1.0789 - accuracy: 0.8949 - val_loss: 1.0131 - val_accuracy: 0.9092\n",
            "Epoch 3/5\n",
            "734/734 [==============================] - 2s 3ms/step - loss: 0.9925 - accuracy: 0.9123 - val_loss: 0.9572 - val_accuracy: 0.9216\n",
            "Epoch 4/5\n",
            "734/734 [==============================] - 3s 3ms/step - loss: 0.9402 - accuracy: 0.9231 - val_loss: 0.9035 - val_accuracy: 0.9320\n",
            "Epoch 5/5\n",
            "734/734 [==============================] - 3s 4ms/step - loss: 0.8977 - accuracy: 0.9314 - val_loss: 0.8692 - val_accuracy: 0.9378\n",
            "573/573 [==============================] - 1s 2ms/step - loss: 0.8977 - accuracy: 0.9280\n",
            "Epoch 1/5\n",
            "734/734 [==============================] - 4s 4ms/step - loss: 1.7818 - accuracy: 0.7146 - val_loss: 1.1666 - val_accuracy: 0.8722\n",
            "Epoch 2/5\n",
            "734/734 [==============================] - 3s 4ms/step - loss: 1.0804 - accuracy: 0.8940 - val_loss: 1.0094 - val_accuracy: 0.9160\n",
            "Epoch 3/5\n",
            "734/734 [==============================] - 2s 3ms/step - loss: 0.9923 - accuracy: 0.9153 - val_loss: 0.9606 - val_accuracy: 0.9218\n",
            "Epoch 4/5\n",
            "734/734 [==============================] - 2s 3ms/step - loss: 0.9386 - accuracy: 0.9263 - val_loss: 0.9126 - val_accuracy: 0.9288\n",
            "Epoch 5/5\n",
            "734/734 [==============================] - 2s 3ms/step - loss: 0.8972 - accuracy: 0.9323 - val_loss: 0.8731 - val_accuracy: 0.9366\n",
            "573/573 [==============================] - 1s 2ms/step - loss: 0.8983 - accuracy: 0.9275\n",
            "Epoch 1/5\n",
            "734/734 [==============================] - 4s 4ms/step - loss: 1.8127 - accuracy: 0.7240 - val_loss: 1.1573 - val_accuracy: 0.8732\n",
            "Epoch 2/5\n",
            "734/734 [==============================] - 2s 3ms/step - loss: 1.0888 - accuracy: 0.8918 - val_loss: 1.0056 - val_accuracy: 0.9148\n",
            "Epoch 3/5\n",
            "734/734 [==============================] - 2s 3ms/step - loss: 1.0013 - accuracy: 0.9104 - val_loss: 0.9524 - val_accuracy: 0.9278\n",
            "Epoch 4/5\n",
            "734/734 [==============================] - 2s 3ms/step - loss: 0.9477 - accuracy: 0.9203 - val_loss: 0.9130 - val_accuracy: 0.9280\n",
            "Epoch 5/5\n",
            "734/734 [==============================] - 3s 4ms/step - loss: 0.9048 - accuracy: 0.9285 - val_loss: 0.8717 - val_accuracy: 0.9382\n",
            "573/573 [==============================] - 1s 2ms/step - loss: 0.8893 - accuracy: 0.9310\n",
            "Epoch 1/5\n",
            "734/734 [==============================] - 4s 4ms/step - loss: 1.6927 - accuracy: 0.7702 - val_loss: 1.1735 - val_accuracy: 0.8812\n",
            "Epoch 2/5\n",
            "734/734 [==============================] - 2s 3ms/step - loss: 1.1120 - accuracy: 0.8917 - val_loss: 1.0407 - val_accuracy: 0.9078\n",
            "Epoch 3/5\n",
            "734/734 [==============================] - 2s 3ms/step - loss: 1.0265 - accuracy: 0.9077 - val_loss: 0.9837 - val_accuracy: 0.9164\n",
            "Epoch 4/5\n",
            "734/734 [==============================] - 2s 3ms/step - loss: 0.9743 - accuracy: 0.9173 - val_loss: 0.9367 - val_accuracy: 0.9252\n",
            "Epoch 5/5\n",
            "734/734 [==============================] - 3s 4ms/step - loss: 0.9328 - accuracy: 0.9243 - val_loss: 0.9027 - val_accuracy: 0.9310\n",
            "573/573 [==============================] - 1s 2ms/step - loss: 0.9290 - accuracy: 0.9222\n",
            "Epoch 1/5\n",
            "734/734 [==============================] - 3s 4ms/step - loss: 1.6628 - accuracy: 0.7806 - val_loss: 1.1712 - val_accuracy: 0.8834\n",
            "Epoch 2/5\n",
            "734/734 [==============================] - 2s 3ms/step - loss: 1.1057 - accuracy: 0.8946 - val_loss: 1.0403 - val_accuracy: 0.9112\n",
            "Epoch 3/5\n",
            "734/734 [==============================] - 2s 3ms/step - loss: 1.0251 - accuracy: 0.9095 - val_loss: 0.9880 - val_accuracy: 0.9168\n",
            "Epoch 4/5\n",
            "734/734 [==============================] - 2s 3ms/step - loss: 0.9747 - accuracy: 0.9194 - val_loss: 0.9454 - val_accuracy: 0.9218\n",
            "Epoch 5/5\n",
            "734/734 [==============================] - 3s 4ms/step - loss: 0.9352 - accuracy: 0.9256 - val_loss: 0.9080 - val_accuracy: 0.9312\n",
            "573/573 [==============================] - 1s 2ms/step - loss: 0.9390 - accuracy: 0.9206\n",
            "Epoch 1/5\n",
            "734/734 [==============================] - 3s 3ms/step - loss: 1.6776 - accuracy: 0.7777 - val_loss: 1.1709 - val_accuracy: 0.8814\n",
            "Epoch 2/5\n",
            "734/734 [==============================] - 2s 3ms/step - loss: 1.1138 - accuracy: 0.8926 - val_loss: 1.0348 - val_accuracy: 0.9132\n",
            "Epoch 3/5\n",
            "734/734 [==============================] - 3s 4ms/step - loss: 1.0281 - accuracy: 0.9075 - val_loss: 0.9799 - val_accuracy: 0.9230\n",
            "Epoch 4/5\n",
            "734/734 [==============================] - 2s 3ms/step - loss: 0.9754 - accuracy: 0.9170 - val_loss: 0.9359 - val_accuracy: 0.9284\n",
            "Epoch 5/5\n",
            "734/734 [==============================] - 2s 3ms/step - loss: 0.9338 - accuracy: 0.9248 - val_loss: 0.8995 - val_accuracy: 0.9352\n",
            "573/573 [==============================] - 1s 2ms/step - loss: 0.9144 - accuracy: 0.9276\n",
            "Epoch 1/5\n",
            "734/734 [==============================] - 3s 4ms/step - loss: 1.0072 - accuracy: 0.7709 - val_loss: 0.5535 - val_accuracy: 0.8740\n",
            "Epoch 2/5\n",
            "734/734 [==============================] - 2s 3ms/step - loss: 0.4882 - accuracy: 0.8798 - val_loss: 0.4230 - val_accuracy: 0.8976\n",
            "Epoch 3/5\n",
            "734/734 [==============================] - 2s 3ms/step - loss: 0.4101 - accuracy: 0.8951 - val_loss: 0.3739 - val_accuracy: 0.9102\n",
            "Epoch 4/5\n",
            "734/734 [==============================] - 2s 3ms/step - loss: 0.3724 - accuracy: 0.9048 - val_loss: 0.3441 - val_accuracy: 0.9184\n",
            "Epoch 5/5\n",
            "734/734 [==============================] - 2s 3ms/step - loss: 0.3476 - accuracy: 0.9108 - val_loss: 0.3262 - val_accuracy: 0.9216\n",
            "573/573 [==============================] - 1s 2ms/step - loss: 0.3505 - accuracy: 0.9117\n",
            "Epoch 1/5\n",
            "734/734 [==============================] - 3s 3ms/step - loss: 0.9373 - accuracy: 0.7905 - val_loss: 0.5227 - val_accuracy: 0.8770\n",
            "Epoch 2/5\n",
            "734/734 [==============================] - 2s 3ms/step - loss: 0.4674 - accuracy: 0.8873 - val_loss: 0.4037 - val_accuracy: 0.9032\n",
            "Epoch 3/5\n",
            "734/734 [==============================] - 2s 3ms/step - loss: 0.3966 - accuracy: 0.9012 - val_loss: 0.3601 - val_accuracy: 0.9130\n",
            "Epoch 4/5\n",
            "734/734 [==============================] - 2s 3ms/step - loss: 0.3613 - accuracy: 0.9094 - val_loss: 0.3341 - val_accuracy: 0.9168\n",
            "Epoch 5/5\n",
            "734/734 [==============================] - 3s 4ms/step - loss: 0.3382 - accuracy: 0.9154 - val_loss: 0.3163 - val_accuracy: 0.9224\n",
            "573/573 [==============================] - 2s 2ms/step - loss: 0.3506 - accuracy: 0.9079\n",
            "Epoch 1/5\n",
            "734/734 [==============================] - 3s 3ms/step - loss: 0.9795 - accuracy: 0.7767 - val_loss: 0.5339 - val_accuracy: 0.8752\n",
            "Epoch 2/5\n",
            "734/734 [==============================] - 2s 3ms/step - loss: 0.4874 - accuracy: 0.8812 - val_loss: 0.4108 - val_accuracy: 0.9024\n",
            "Epoch 3/5\n",
            "734/734 [==============================] - 2s 3ms/step - loss: 0.4115 - accuracy: 0.8965 - val_loss: 0.3666 - val_accuracy: 0.9118\n",
            "Epoch 4/5\n",
            "734/734 [==============================] - 2s 3ms/step - loss: 0.3739 - accuracy: 0.9053 - val_loss: 0.3407 - val_accuracy: 0.9150\n",
            "Epoch 5/5\n",
            "734/734 [==============================] - 3s 4ms/step - loss: 0.3491 - accuracy: 0.9110 - val_loss: 0.3202 - val_accuracy: 0.9200\n",
            "573/573 [==============================] - 2s 3ms/step - loss: 0.3362 - accuracy: 0.9157\n",
            "Epoch 1/5\n",
            "1100/1100 [==============================] - 4s 3ms/step - loss: 0.9158 - accuracy: 0.7919 - val_loss: 0.4441 - val_accuracy: 0.9056\n",
            "Epoch 2/5\n",
            "1100/1100 [==============================] - 4s 3ms/step - loss: 0.4158 - accuracy: 0.9099 - val_loss: 0.3603 - val_accuracy: 0.9276\n",
            "Epoch 3/5\n",
            "1100/1100 [==============================] - 4s 4ms/step - loss: 0.3573 - accuracy: 0.9265 - val_loss: 0.3170 - val_accuracy: 0.9394\n",
            "Epoch 4/5\n",
            "1100/1100 [==============================] - 3s 3ms/step - loss: 0.3196 - accuracy: 0.9386 - val_loss: 0.2919 - val_accuracy: 0.9454\n",
            "Epoch 5/5\n",
            "1100/1100 [==============================] - 4s 3ms/step - loss: 0.2920 - accuracy: 0.9460 - val_loss: 0.2712 - val_accuracy: 0.9518\n"
          ]
        }
      ]
    },
    {
      "cell_type": "code",
      "metadata": {
        "id": "zZ21EEq8n9A9",
        "colab": {
          "base_uri": "https://localhost:8080/"
        },
        "outputId": "7cefb958-cbb1-41e7-ec6e-c3571c81d90d"
      },
      "source": [
        "\n",
        "#lets look at the best model found\n",
        "rnd_search_cv.best_params_\n"
      ],
      "execution_count": 56,
      "outputs": [
        {
          "output_type": "execute_result",
          "data": {
            "text/plain": [
              "{'reg': 0.0001, 'n_neurons': 300, 'n_hidden': 3}"
            ]
          },
          "metadata": {},
          "execution_count": 56
        }
      ]
    },
    {
      "cell_type": "code",
      "metadata": {
        "id": "DBZw9MYN-4aZ",
        "colab": {
          "base_uri": "https://localhost:8080/"
        },
        "outputId": "f0072c5e-23da-4921-83d2-e64e536a7003"
      },
      "source": [
        "#Load saved model, just in case someting happens while training\n",
        "model_rnd = keras.models.load_model(\"rnd_model.h5\") \n",
        "model_rnd.summary()"
      ],
      "execution_count": 57,
      "outputs": [
        {
          "output_type": "stream",
          "name": "stdout",
          "text": [
            "Model: \"sequential_141\"\n",
            "_________________________________________________________________\n",
            " Layer (type)                Output Shape              Param #   \n",
            "=================================================================\n",
            " flatten_141 (Flatten)       (None, 784)               0         \n",
            "                                                                 \n",
            " dense_410 (Dense)           (None, 300)               235500    \n",
            "                                                                 \n",
            " dense_411 (Dense)           (None, 300)               90300     \n",
            "                                                                 \n",
            " dense_412 (Dense)           (None, 300)               90300     \n",
            "                                                                 \n",
            " dense_413 (Dense)           (None, 10)                3010      \n",
            "                                                                 \n",
            "=================================================================\n",
            "Total params: 419,110\n",
            "Trainable params: 419,110\n",
            "Non-trainable params: 0\n",
            "_________________________________________________________________\n"
          ]
        }
      ]
    },
    {
      "cell_type": "code",
      "metadata": {
        "id": "PMrWw3IFrRAW",
        "colab": {
          "base_uri": "https://localhost:8080/"
        },
        "outputId": "2b99beaf-8644-49c9-a797-0edc120c4623"
      },
      "source": [
        "train_rnd=model_rnd.evaluate(X_train, y_train, verbose=0)\n",
        "valid_rnd=model_rnd.evaluate(X_valid, y_valid, verbose=0)\n",
        "test_rnd=model_rnd.evaluate(X_test, y_test, verbose=0)\n",
        "\n",
        "print(\"Time to train the model: {0:.4f} secs \".format((time_rnd)))\n",
        "print(\"Training Set Accuracy:   {0:.4%} & Loss:{1:.4f}\".format(train_rnd[1],train_rnd[0]))\n",
        "print(\"Validation Set Accuracy: {0:.4%} & Loss:{1:.4f}\".format(valid_rnd[1],valid_rnd[0]))\n",
        "print(\"Test Set Accuracy:       {0:.4%} & Loss:{1:.4f}\".format(test_rnd[1],test_rnd[0]))"
      ],
      "execution_count": 58,
      "outputs": [
        {
          "output_type": "stream",
          "name": "stdout",
          "text": [
            "Time to train the model: 557.6545 secs \n",
            "Training Set Accuracy:   95.1273% & Loss:0.2758\n",
            "Validation Set Accuracy: 95.1800% & Loss:0.2712\n",
            "Test Set Accuracy:       94.6200% & Loss:24.3035\n"
          ]
        }
      ]
    },
    {
      "cell_type": "markdown",
      "metadata": {
        "id": "HhDWzYAPDDyn"
      },
      "source": [
        "Lets compare the models"
      ]
    },
    {
      "cell_type": "code",
      "metadata": {
        "id": "_32qlCpNDHXP",
        "colab": {
          "base_uri": "https://localhost:8080/"
        },
        "outputId": "68fe3585-d435-4d1a-a8c0-3b37d86e6be3"
      },
      "source": [
        "#model_rnd.summary()\n",
        "print(rnd_search_cv.best_params_)\n",
        "print(\"Time to train the model: {0:.4f} secs \".format((time_rnd)))\n",
        "print(\"Training Set Accuracy:   {0:.4%} & Loss:{1:.4f}\".format(train_rnd[1],train_rnd[0]))\n",
        "print(\"Validation Set Accuracy: {0:.4%} & Loss:{1:.4f}\".format(valid_rnd[1],valid_rnd[0]))\n",
        "print(\"Test Set Accuracy:       {0:.4%} & Loss:{1:.4f}\".format(test_rnd[1],test_rnd[0]))"
      ],
      "execution_count": 59,
      "outputs": [
        {
          "output_type": "stream",
          "name": "stdout",
          "text": [
            "{'reg': 0.0001, 'n_neurons': 300, 'n_hidden': 3}\n",
            "Time to train the model: 557.6545 secs \n",
            "Training Set Accuracy:   95.1273% & Loss:0.2758\n",
            "Validation Set Accuracy: 95.1800% & Loss:0.2712\n",
            "Test Set Accuracy:       94.6200% & Loss:24.3035\n"
          ]
        }
      ]
    },
    {
      "cell_type": "code",
      "metadata": {
        "id": "PT4213sEDLDJ",
        "colab": {
          "base_uri": "https://localhost:8080/"
        },
        "outputId": "03bebde3-7c3b-4586-c823-e44e66add8fd"
      },
      "source": [
        "#model_grid.summary()\n",
        "print(grid_search_cv.best_params_)\n",
        "print(\"Time to train the model: {0:.4f} secs \".format((time_grid)))\n",
        "print(\"Training Set Accuracy:   {0:.4%} & Loss:{1:.4f}\".format(train_grid[1],train_grid[0]))\n",
        "print(\"Validation Set Accuracy: {0:.4%} & Loss:{1:.4f}\".format(valid_grid[1],valid_grid[0]))\n",
        "print(\"Test Set Accuracy:       {0:.4%} & Loss:{1:.4f}\".format(test_grid[1],test_grid[0]))"
      ],
      "execution_count": 60,
      "outputs": [
        {
          "output_type": "stream",
          "name": "stdout",
          "text": [
            "{'n_hidden': 3, 'n_neurons': 300, 'reg': 0.0001}\n",
            "Time to train the model: 1016.1053 secs \n",
            "Training Set Accuracy:   94.9000% & Loss:0.2817\n",
            "Validation Set Accuracy: 95.0800% & Loss:0.2760\n",
            "Test Set Accuracy:       94.7400% & Loss:23.7120\n"
          ]
        }
      ]
    }
  ]
}