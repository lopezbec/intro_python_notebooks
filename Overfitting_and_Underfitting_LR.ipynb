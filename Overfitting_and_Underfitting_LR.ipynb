{
  "nbformat": 4,
  "nbformat_minor": 0,
  "metadata": {
    "kernelspec": {
      "display_name": "Python 3",
      "language": "python",
      "name": "python3"
    },
    "language_info": {
      "codemirror_mode": {
        "name": "ipython",
        "version": 3
      },
      "file_extension": ".py",
      "mimetype": "text/x-python",
      "name": "python",
      "nbconvert_exporter": "python",
      "pygments_lexer": "ipython3",
      "version": "3.7.3"
    },
    "nav_menu": {},
    "toc": {
      "navigate_menu": true,
      "number_sections": true,
      "sideBar": true,
      "threshold": 6,
      "toc_cell": false,
      "toc_section_display": "block",
      "toc_window_display": false
    },
    "colab": {
      "provenance": []
    }
  },
  "cells": [
    {
      "cell_type": "markdown",
      "metadata": {
        "id": "TvCaYYygG0ak"
      },
      "source": [
        "<center><b>© Content is made available under the CC-BY-NC-ND 4.0 license. Christian Lopez, lopezbec@lafayette.edu<center>"
      ]
    },
    {
      "cell_type": "markdown",
      "source": [
        "<table align=\"left\">\n",
        "  <td>\n",
        "    <a href=\"https://colab.research.google.com/github/lopezbec/intro_python_notebooks/blob/master/Overfitting_and_Underfitting_LR.ipynb\" target=\"_parent\"><img src=\"https://colab.research.google.com/assets/colab-badge.svg\" alt=\"Open In Colab\"/></a>\n",
        "  </td>\n",
        "  <td>\n",
        "      </table>\n",
        "        <br><br></br> \n"
      ],
      "metadata": {
        "id": "uOYgHkdCzxgB"
      }
    },
    {
      "cell_type": "markdown",
      "metadata": {
        "id": "hWckiY_RphgE"
      },
      "source": [
        "#Introduction to Overfitting and Underfitting"
      ]
    },
    {
      "cell_type": "markdown",
      "metadata": {
        "id": "kI-kbu-zojyb"
      },
      "source": [
        " This notebook gives you a brief introduction to the issues of Overfitting and Underfitting in Machine Learning, with a focus on Linear Regression\n",
        "<br>\n",
        "\n",
        "Most of the notebooks we are going to be using are inspired from existing notebooks that available online and are made  free for educational purposes. Nonetheless, this notebook should not be share without prior permission of the instructor. When working in an assignment always remember the [Student Code of Conduct]( https://conduct.lafayette.edu/student-handbook/student-code-of-conduct/).  \n"
      ]
    },
    {
      "cell_type": "markdown",
      "metadata": {
        "id": "DAcX_pPPg2yw"
      },
      "source": [
        "*The following sections were inspired and uses code and text from the notebook:\n",
        "\n",
        "Géron, A. (2019)   2nd Ed. Hands-on machine learning with Scikit-Learn and TensorFlow: concepts, tools, and techniques to build intelligent systems. O'Reilly Media, Inc.( ISBN-10: 1491962291) [Chapter 4:](https://github.com/ageron/handson-ml2/blob/master/04_training_linear_models.ipynb)\n"
      ]
    },
    {
      "cell_type": "markdown",
      "metadata": {
        "id": "3QwasjN6GMgL"
      },
      "source": [
        "# Setup"
      ]
    },
    {
      "cell_type": "code",
      "metadata": {
        "id": "IFsdePPeGMgk"
      },
      "source": [
        "# Python ≥3.5 is required\n",
        "import sys\n",
        "assert sys.version_info >= (3, 5)\n",
        "\n",
        "# Scikit-Learn ≥0.20 is required\n",
        "import sklearn\n",
        "assert sklearn.__version__ >= \"0.20\"\n",
        "#Scikit-learn for implemeting LinearRegression from a existing algorithm.\n",
        "from sklearn.linear_model import LinearRegression\n",
        "\n",
        "# Common imports\n",
        "import numpy as np\n",
        "import os\n",
        "\n",
        "from IPython.display import clear_output\n",
        "\n",
        "# to make this notebook's output stable across runs\n",
        "np.random.seed(42)\n",
        "np.random.seed(124)\n",
        "\n",
        "# To plot pretty figures\n",
        "%matplotlib inline\n",
        "import matplotlib as mpl\n",
        "import matplotlib.pyplot as plt\n",
        "# mpl.rc('axes', labelsize=14)\n",
        "# mpl.rc('xtick', labelsize=12)\n",
        "# mpl.rc('ytick', labelsize=12)\n",
        "\n",
        "\n",
        "# Ignore useless warnings (see SciPy issue #5998)\n",
        "import warnings\n",
        "warnings.filterwarnings(action=\"ignore\", message=\"^internal gelsd\")\n",
        "\n"
      ],
      "execution_count": 2,
      "outputs": []
    },
    {
      "cell_type": "markdown",
      "metadata": {
        "id": "18yVsJtYR0eQ"
      },
      "source": [
        "Lets look at a smaller (m=20) and less \"noisy\" dataset "
      ]
    },
    {
      "cell_type": "code",
      "metadata": {
        "id": "XIve9bH6RzUK",
        "outputId": "070a3965-895b-41e2-c889-048fa264a978",
        "colab": {
          "base_uri": "https://localhost:8080/",
          "height": 287
        }
      },
      "source": [
        "\n",
        "np.random.seed(12)\n",
        "np.random.seed(1234)\n",
        "X = 2 * np.random.rand(20, 1)\n",
        "y = 2 - 2 * X  + 5* X**2+ (0.5*np.random.randn(20, 1))\n",
        "plt.plot(X, y, \"b.\")\n",
        "plt.xlabel(\"$x$\", fontsize=18)\n",
        "plt.ylabel(\"$y$\", rotation=0, fontsize=18)\n",
        "plt.show()"
      ],
      "execution_count": 3,
      "outputs": [
        {
          "output_type": "display_data",
          "data": {
            "text/plain": [
              "<Figure size 432x288 with 1 Axes>"
            ],
            "image/png": "[encoded data removed]"
          },
          "metadata": {
            "needs_background": "light"
          }
        }
      ]
    },
    {
      "cell_type": "markdown",
      "metadata": {
        "id": "tuhNLwSGlu8n"
      },
      "source": [
        "### What happen to our cost as we implement more features in our model?\n",
        "\n"
      ]
    },
    {
      "cell_type": "code",
      "source": [
        "\n",
        "def computeCost(X, y, theta):\n",
        "    return 1/(2*y.size)*np.sum(np.square(X.dot(theta)-y))\n",
        "\n",
        "#Create polynomial features\n",
        "from sklearn.preprocessing import PolynomialFeatures\n",
        "Degree_of_the_Polynomial_Model=2 #@param {type:\"integer\", min:1, max:14, step:1}\n",
        "poly_features = PolynomialFeatures(degree=Degree_of_the_Polynomial_Model, include_bias=False)\n",
        "X_poly = poly_features.fit_transform(X)\n",
        "\n",
        "#Fit model\n",
        "lin_reg = LinearRegression()\n",
        "lin_reg.fit(X_poly, y)\n",
        "\n",
        "#Compute cost\n",
        "coe=lin_reg.coef_\n",
        "interc=lin_reg.intercept_\n",
        "coe=coe.reshape(coe.size,1)\n",
        "interc=interc.reshape(interc.size,1)\n",
        "theta_p=np.vstack([interc,coe])\n",
        "##Add X_0= ones for our intercept\n",
        "X_new_poly2 = np.hstack([np.ones(shape=(y.size,1)), X_poly])\n",
        "cost=computeCost(X_new_poly2, y, theta_p)\n",
        "\n",
        "from sklearn.preprocessing import StandardScaler\n",
        "from sklearn.pipeline import Pipeline\n",
        "from sklearn.metrics import mean_squared_error, r2_score\n",
        "X_new=np.linspace(0, 2, 100).reshape(100, 1)\n",
        "\n",
        "style=\"g-\" \n",
        "width=1\n",
        "degree=Degree_of_the_Polynomial_Model\n",
        "\n",
        "polybig_features = PolynomialFeatures(degree=degree, include_bias=False)\n",
        "std_scaler = StandardScaler()\n",
        "lin_reg = LinearRegression()\n",
        "\n",
        "\n",
        "polynomial_regression = Pipeline([\n",
        "        (\"poly_features\", polybig_features),\n",
        "        (\"std_scaler\", std_scaler),\n",
        "        (\"lin_reg\", lin_reg),\n",
        "    ])\n",
        "polynomial_regression.fit(X, y)\n",
        "y_newbig = polynomial_regression.predict(X_new)\n",
        "\n",
        "\n",
        "\n",
        "plt.plot(X_new, y_newbig, \"r\", linewidth=width)\n",
        "plt.text(0.25, 20,\"Degree of Polymial={}\".format(degree), fontsize=16, color=\"r\")\n",
        "\n",
        "\n",
        "\n",
        "plt.plot(X, y, \"b.\", linewidth=3)\n",
        "\n",
        "plt.xlabel(\"$x_1$\", fontsize=18)\n",
        "plt.ylabel(\"$y$\", rotation=0, fontsize=18)\n",
        "plt.axis([0, 2.1, -20, 30])\n",
        "\n",
        "plt.text(0.25, 15,\"Cost={}\".format(round(cost,4)), fontsize=16, color=\"r\")\n"
      ],
      "metadata": {
        "cellView": "form",
        "colab": {
          "base_uri": "https://localhost:8080/",
          "height": 309
        },
        "id": "UE-cTEOxz8EM",
        "outputId": "156c15ad-5cf8-47ce-d423-8244abf7e6ef"
      },
      "execution_count": 6,
      "outputs": [
        {
          "output_type": "execute_result",
          "data": {
            "text/plain": [
              "Text(0.25, 15, 'Cost=0.0725')"
            ]
          },
          "metadata": {},
          "execution_count": 6
        },
        {
          "output_type": "display_data",
          "data": {
            "text/plain": [
              "<Figure size 432x288 with 1 Axes>"
            ],
            "image/png": "[encoded data removed]"
          },
          "metadata": {
            "needs_background": "light"
          }
        }
      ]
    },
    {
      "cell_type": "code",
      "metadata": {
        "id": "zRN1etf-lOhh",
        "cellView": "form",
        "outputId": "0085ba68-71d6-469d-f706-fc9237f9aa11",
        "colab": {
          "base_uri": "https://localhost:8080/",
          "height": 309
        }
      },
      "source": [
        "\n",
        "def computeCost(X, y, theta):\n",
        "    return 1/(2*y.size)*np.sum(np.square(X.dot(theta)-y))\n",
        "\n",
        "#Create polynomial features\n",
        "from sklearn.preprocessing import PolynomialFeatures\n",
        "Degree_of_the_Polynomial_Model=5 #@param {type:\"integer\", min:1, max:14, step:1}\n",
        "poly_features = PolynomialFeatures(degree=Degree_of_the_Polynomial_Model, include_bias=False)\n",
        "X_poly = poly_features.fit_transform(X)\n",
        "\n",
        "#Fit model\n",
        "lin_reg = LinearRegression()\n",
        "lin_reg.fit(X_poly, y)\n",
        "\n",
        "#Compute cost\n",
        "coe=lin_reg.coef_\n",
        "interc=lin_reg.intercept_\n",
        "coe=coe.reshape(coe.size,1)\n",
        "interc=interc.reshape(interc.size,1)\n",
        "theta_p=np.vstack([interc,coe])\n",
        "##Add X_0= ones for our intercept\n",
        "X_new_poly2 = np.hstack([np.ones(shape=(y.size,1)), X_poly])\n",
        "cost=computeCost(X_new_poly2, y, theta_p)\n",
        "\n",
        "from sklearn.preprocessing import StandardScaler\n",
        "from sklearn.pipeline import Pipeline\n",
        "from sklearn.metrics import mean_squared_error, r2_score\n",
        "X_new=np.linspace(0, 2, 100).reshape(100, 1)\n",
        "\n",
        "style=\"g-\" \n",
        "width=1\n",
        "degree=Degree_of_the_Polynomial_Model\n",
        "\n",
        "polybig_features = PolynomialFeatures(degree=degree, include_bias=False)\n",
        "std_scaler = StandardScaler()\n",
        "lin_reg = LinearRegression()\n",
        "\n",
        "\n",
        "polynomial_regression = Pipeline([\n",
        "        (\"poly_features\", polybig_features),\n",
        "        (\"std_scaler\", std_scaler),\n",
        "        (\"lin_reg\", lin_reg),\n",
        "    ])\n",
        "polynomial_regression.fit(X, y)\n",
        "y_newbig = polynomial_regression.predict(X_new)\n",
        "\n",
        "\n",
        "\n",
        "plt.plot(X_new, y_newbig, \"r\", linewidth=width)\n",
        "plt.text(0.25, 20,\"Degree of Polymial={}\".format(degree), fontsize=16, color=\"r\")\n",
        "\n",
        "\n",
        "\n",
        "plt.plot(X, y, \"b.\", linewidth=3)\n",
        "\n",
        "plt.xlabel(\"$x_1$\", fontsize=18)\n",
        "plt.ylabel(\"$y$\", rotation=0, fontsize=18)\n",
        "plt.axis([0, 2.1, -20, 30])\n",
        "\n",
        "plt.text(0.25, 15,\"Cost={}\".format(round(cost,4)), fontsize=16, color=\"r\")\n"
      ],
      "execution_count": 8,
      "outputs": [
        {
          "output_type": "execute_result",
          "data": {
            "text/plain": [
              "Text(0.25, 15, 'Cost=0.0537')"
            ]
          },
          "metadata": {},
          "execution_count": 8
        },
        {
          "output_type": "display_data",
          "data": {
            "text/plain": [
              "<Figure size 432x288 with 1 Axes>"
            ],
            "image/png": "[encoded data removed]"
          },
          "metadata": {
            "needs_background": "light"
          }
        }
      ]
    },
    {
      "cell_type": "code",
      "metadata": {
        "id": "23VN1jXMmDe6",
        "cellView": "both",
        "outputId": "27c02f75-913c-4476-9f98-12941bfd9a55",
        "colab": {
          "base_uri": "https://localhost:8080/",
          "height": 297
        }
      },
      "source": [
        "\n",
        "\n",
        "costL=[]\n",
        "\n",
        "\n",
        "for d in range(1,300):\n",
        "    #Create polynomial features\n",
        "    from sklearn.preprocessing import PolynomialFeatures\n",
        "\n",
        "\n",
        "    Degree_of_the_Polynomial_Model=d\n",
        "    poly_features = PolynomialFeatures(degree=Degree_of_the_Polynomial_Model, include_bias=False)\n",
        "    X_poly = poly_features.fit_transform(X)\n",
        "\n",
        "    #Fit model\n",
        "    lin_reg = LinearRegression()\n",
        "    lin_reg.fit(X_poly, y)\n",
        "\n",
        "    #Compute cost\n",
        "    coe=lin_reg.coef_\n",
        "    interc=lin_reg.intercept_\n",
        "    coe=coe.reshape(coe.size,1)\n",
        "    interc=interc.reshape(interc.size,1)\n",
        "    theta_p=np.vstack([interc,coe])\n",
        "    ##Add X_0= ones for our intercept\n",
        "    X_new_poly2 = np.hstack([np.ones(shape=(y.size,1)), X_poly])\n",
        "    cost=computeCost(X_new_poly2, y, theta_p)\n",
        "\n",
        "    from sklearn.preprocessing import StandardScaler\n",
        "    from sklearn.pipeline import Pipeline\n",
        "    from sklearn.metrics import mean_squared_error, r2_score\n",
        "    X_new=np.linspace(0, 2, 100).reshape(100, 1)\n",
        "\n",
        "    style=\"g-\" \n",
        "    width=1\n",
        "    degree=Degree_of_the_Polynomial_Model\n",
        "\n",
        "    polybig_features = PolynomialFeatures(degree=degree, include_bias=False)\n",
        "    std_scaler = StandardScaler()\n",
        "    lin_reg = LinearRegression()\n",
        "\n",
        "\n",
        "    polynomial_regression = Pipeline([\n",
        "            (\"poly_features\", polybig_features),\n",
        "            (\"std_scaler\", std_scaler),\n",
        "            (\"lin_reg\", lin_reg),\n",
        "        ])\n",
        "    polynomial_regression.fit(X, y)\n",
        "    y_newbig = polynomial_regression.predict(X_new)\n",
        "\n",
        "    costL.append(cost)\n",
        "\n",
        "plt.plot(costL)\n",
        "plt.xlim(xmin=0.0)\n",
        "plt.ylabel('Cost J')\n",
        "plt.xlabel('Polynomial Order')\n",
        "print(\"Polynomial order with min cost:\",costL.index(min(costL)))"
      ],
      "execution_count": null,
      "outputs": [
        {
          "output_type": "stream",
          "text": [
            "Polynomial order with min cost: 21\n"
          ],
          "name": "stdout"
        },
        {
          "output_type": "display_data",
          "data": {
            "image/png": "[encoded data removed]",
            "text/plain": [
              "<Figure size 432x288 with 1 Axes>"
            ]
          },
          "metadata": {
            "tags": [],
            "needs_background": "light"
          }
        }
      ]
    },
    {
      "cell_type": "code",
      "metadata": {
        "id": "AqTPTFKdlb5c",
        "outputId": "1aa87102-751e-4877-e4b7-08ef31f5b7ce",
        "colab": {
          "base_uri": "https://localhost:8080/",
          "height": 301
        }
      },
      "source": [
        "plt.plot(costL)\n",
        "plt.xlim(xmin=2,xmax=50)\n",
        "plt.ylim(ymin=0,ymax=0.1)\n",
        "plt.ylabel('Cost J')\n",
        "plt.xlabel('Polynomial Order')\n",
        "plt.axvline(x=19,linewidth=4, color='r')"
      ],
      "execution_count": null,
      "outputs": [
        {
          "output_type": "execute_result",
          "data": {
            "text/plain": [
              "<matplotlib.lines.Line2D at 0x7f4a2eddee80>"
            ]
          },
          "metadata": {
            "tags": []
          },
          "execution_count": 6
        },
        {
          "output_type": "display_data",
          "data": {
            "image/png": "[encoded data removed]",
            "text/plain": [
              "<Figure size 432x288 with 1 Axes>"
            ]
          },
          "metadata": {
            "tags": [],
            "needs_background": "light"
          }
        }
      ]
    },
    {
      "cell_type": "markdown",
      "metadata": {
        "id": "7BlzZeJ5o3Y5"
      },
      "source": [
        "Look at the trend of the cost function as the order of the polynomial approaches (m-1), and after m. "
      ]
    },
    {
      "cell_type": "markdown",
      "metadata": {
        "id": "2yildXoJiMIf"
      },
      "source": [
        "##But why are we training a LR model? What is the goal we are trying to achieve?\n",
        "(Go back to ppt)\n"
      ]
    },
    {
      "cell_type": "markdown",
      "metadata": {
        "id": "n0sSKESvjOaE"
      },
      "source": [
        "Let’s plot the same data with a high polynomial model, but this time let’s look at the 'whole plot'"
      ]
    },
    {
      "cell_type": "code",
      "metadata": {
        "id": "9x8KFcH3irFJ",
        "cellView": "form",
        "outputId": "74b8dc41-a634-4cdb-d772-1e4460105721",
        "colab": {
          "base_uri": "https://localhost:8080/",
          "height": 309
        }
      },
      "source": [
        "\n",
        "np.random.seed(12)\n",
        "X = 2 * np.random.rand(20, 1)\n",
        "y = 2 - 2 * X  + 5* X**2+ (0.5*np.random.randn(20, 1))\n",
        "\n",
        "#Create polynomial features\n",
        "from sklearn.preprocessing import PolynomialFeatures\n",
        "Degree_of_the_Polynomial_Model=18 #@param {type:\"integer\", min:1, max:14, step:1}\n",
        "poly_features = PolynomialFeatures(degree=Degree_of_the_Polynomial_Model, include_bias=False)\n",
        "X_poly = poly_features.fit_transform(X)\n",
        "\n",
        "#Fit model\n",
        "lin_reg = LinearRegression()\n",
        "lin_reg.fit(X_poly, y)\n",
        "\n",
        "#Compute cost\n",
        "coe=lin_reg.coef_\n",
        "interc=lin_reg.intercept_\n",
        "coe=coe.reshape(coe.size,1)\n",
        "interc=interc.reshape(interc.size,1)\n",
        "theta_p=np.vstack([interc,coe])\n",
        "##Add X_0= ones for our intercept\n",
        "X_new_poly2 = np.hstack([np.ones(shape=(y.size,1)), X_poly])\n",
        "cost=computeCost(X_new_poly2, y, theta_p)\n",
        "\n",
        "from sklearn.preprocessing import StandardScaler\n",
        "from sklearn.pipeline import Pipeline\n",
        "from sklearn.metrics import mean_squared_error, r2_score\n",
        "X_new=np.linspace(0, 2, 100).reshape(100, 1)\n",
        "\n",
        "style=\"g-\" \n",
        "width=1\n",
        "degree=Degree_of_the_Polynomial_Model\n",
        "\n",
        "polybig_features = PolynomialFeatures(degree=degree, include_bias=False)\n",
        "std_scaler = StandardScaler()\n",
        "lin_reg = LinearRegression()\n",
        "\n",
        "\n",
        "polynomial_regression = Pipeline([\n",
        "        (\"poly_features\", polybig_features),\n",
        "        (\"std_scaler\", std_scaler),\n",
        "        (\"lin_reg\", lin_reg),\n",
        "    ])\n",
        "polynomial_regression.fit(X, y)\n",
        "y_newbig = polynomial_regression.predict(X_new)\n",
        "\n",
        "\n",
        "\n",
        "plt.plot(X_new, y_newbig, \"r\", linewidth=width)\n",
        "#plt.text(0.25, 20,\"Degree of Polymial={}\".format(degree), fontsize=16, color=\"r\")\n",
        "\n",
        "\n",
        "\n",
        "plt.plot(X, y, \"b.\", linewidth=3)\n",
        "plt.xlabel(\"$x_1$\", fontsize=18)\n",
        "plt.ylabel(\"$y$\", rotation=0, fontsize=18)\n",
        "#plt.axis([0, 2.1, -20, 30])\n",
        "\n",
        "#plt.text(0.25, 15,\"Cost={}\".format(round(cost,4)), fontsize=16, color=\"r\")\n"
      ],
      "execution_count": null,
      "outputs": [
        {
          "output_type": "execute_result",
          "data": {
            "text/plain": [
              "Text(0, 0.5, '$y$')"
            ]
          },
          "metadata": {
            "tags": []
          },
          "execution_count": 6
        },
        {
          "output_type": "display_data",
          "data": {
            "image/png": "[encoded data removed]",
            "text/plain": [
              "<Figure size 432x288 with 1 Axes>"
            ]
          },
          "metadata": {
            "tags": [],
            "needs_background": "light"
          }
        }
      ]
    },
    {
      "cell_type": "markdown",
      "metadata": {
        "id": "b22v2lRRjiDy"
      },
      "source": [
        "Lets go back to our bigger dataset (m=100)"
      ]
    },
    {
      "cell_type": "code",
      "metadata": {
        "id": "VHdGiAxWTD1i",
        "outputId": "97b0a46a-d431-492e-c0d3-18de5e735747",
        "cellView": "form",
        "colab": {
          "base_uri": "https://localhost:8080/",
          "height": 291
        }
      },
      "source": [
        "np.random.seed(42)\n",
        "m = 100\n",
        "X = 6 * np.random.rand(m, 1) - 3\n",
        "y = 0.5 * X**2 + X + 2 + np.random.randn(m, 1)\n",
        "X_new=np.linspace(-3, 3, 100).reshape(100, 1)\n",
        "X_new_poly = poly_features.transform(X_new)\n",
        "\n",
        "from sklearn.preprocessing import StandardScaler\n",
        "from sklearn.pipeline import Pipeline\n",
        "\n",
        "for style, width, degree in ((\"g-\", 1, 200), (\"b--\", 2, 2), (\"r-+\", 2, 1)):\n",
        "    polybig_features = PolynomialFeatures(degree=degree, include_bias=False)\n",
        "    std_scaler = StandardScaler()\n",
        "    lin_reg = LinearRegression()\n",
        "    polynomial_regression = Pipeline([\n",
        "            (\"poly_features\", polybig_features),\n",
        "            (\"std_scaler\", std_scaler),\n",
        "            (\"lin_reg\", lin_reg),\n",
        "        ])\n",
        "    polynomial_regression.fit(X, y)\n",
        "    y_newbig = polynomial_regression.predict(X_new)\n",
        "    plt.plot(X_new, y_newbig, style, label=str(degree), linewidth=width)\n",
        "\n",
        "plt.plot(X, y, \"b.\", linewidth=3)\n",
        "plt.legend(loc=\"upper left\")\n",
        "plt.xlabel(\"$x_1$\", fontsize=18)\n",
        "plt.ylabel(\"$y$\", rotation=0, fontsize=18)\n",
        "y_min=-10 #@param {type:\"integer\",step:5}\n",
        "y_max=20 #@param {type:\"integer\",step:5}\n",
        "plt.axis([-3, 3, y_min, y_max])\n",
        "plt.show()"
      ],
      "execution_count": null,
      "outputs": [
        {
          "output_type": "display_data",
          "data": {
            "image/png": "[encoded data removed]",
            "text/plain": [
              "<Figure size 432x288 with 1 Axes>"
            ]
          },
          "metadata": {
            "tags": [],
            "needs_background": "light"
          }
        }
      ]
    },
    {
      "cell_type": "markdown",
      "metadata": {
        "id": "Wjq5y-zNkLbC"
      },
      "source": [
        "#Which of this model will GENERALIZE better?"
      ]
    },
    {
      "cell_type": "markdown",
      "metadata": {
        "id": "lUY6JeMlm30q"
      },
      "source": [
        "Lets try different models  (1,2,5,10, 15)"
      ]
    },
    {
      "cell_type": "code",
      "metadata": {
        "id": "X0SHpj7aTEMO",
        "cellView": "form",
        "outputId": "b870b1e7-be73-468a-aad7-1387d6a8998b",
        "colab": {
          "base_uri": "https://localhost:8080/",
          "height": 305
        }
      },
      "source": [
        "from sklearn.metrics import mean_squared_error\n",
        "from sklearn.model_selection import train_test_split\n",
        "\n",
        "def plot_learning_curves(model, X, y):\n",
        "    np.random.seed(12)\n",
        "    np.random.seed(122334)\n",
        "    X_train, X_val, y_train, y_val = train_test_split(X, y, test_size=0.2, random_state=10)\n",
        "    train_errors, val_errors = [], []\n",
        "    for m in range(1, len(X_train)):\n",
        "        model.fit(X_train[:m], y_train[:m])\n",
        "        y_train_predict = model.predict(X_train[:m])\n",
        "        y_val_predict = model.predict(X_val)\n",
        "        train_errors.append(mean_squared_error(y_train[:m], y_train_predict))\n",
        "        val_errors.append(mean_squared_error(y_val, y_val_predict))\n",
        "\n",
        "    plt.plot((train_errors), \"r-+\", linewidth=2, label=\"training\")\n",
        "    plt.plot((val_errors), \"b-\", linewidth=3, label=\"validation\")\n",
        "    plt.legend(loc=\"upper right\", fontsize=14)   # not shown in the book\n",
        "    plt.xlabel(\"Training set size\", fontsize=14) # not shown\n",
        "    plt.ylabel(\"MSE/ Cost\", fontsize=14)              # not shown\n",
        "\n",
        "from sklearn.pipeline import Pipeline\n",
        "\n",
        "Degree_of_the_Polynomial_Model=2 #@param {type:\"integer\", min:1, max:14, step:1}\n",
        "polynomial_regression = Pipeline([\n",
        "        (\"poly_features\", PolynomialFeatures(degree=Degree_of_the_Polynomial_Model, include_bias=False)),\n",
        "        (\"lin_reg\", LinearRegression()),\n",
        "    ])\n",
        "\n",
        "plot_learning_curves(polynomial_regression, X, y)\n",
        "plt.axis([0, 80, 0, 10])           # not shown               # not shown in the book\n",
        "plt.axhline(y=0.9, color='y', linestyle='--')\n",
        "print(\"Polynomial model Degree ={}\".format(Degree_of_the_Polynomial_Model))"
      ],
      "execution_count": null,
      "outputs": [
        {
          "output_type": "stream",
          "text": [
            "Polynomial model Degree =2\n"
          ],
          "name": "stdout"
        },
        {
          "output_type": "display_data",
          "data": {
            "image/png": "[encoded data removed]",
            "text/plain": [
              "<Figure size 432x288 with 1 Axes>"
            ]
          },
          "metadata": {
            "tags": [],
            "needs_background": "light"
          }
        }
      ]
    },
    {
      "cell_type": "markdown",
      "metadata": {
        "id": "aAAhqwX9xQHh"
      },
      "source": [
        "Lets compare models  degree= 15 vs degree=2 vs degree=1"
      ]
    },
    {
      "cell_type": "code",
      "metadata": {
        "cellView": "form",
        "outputId": "786b1ca2-01d7-4c86-8206-1b5b8356a85f",
        "id": "CmoX96WWxXTA",
        "colab": {
          "base_uri": "https://localhost:8080/",
          "height": 305
        }
      },
      "source": [
        "from sklearn.metrics import mean_squared_error\n",
        "from sklearn.model_selection import train_test_split\n",
        "\n",
        "def plot_learning_curves(model, X, y):\n",
        "    np.random.seed(12)\n",
        "    X_train, X_val, y_train, y_val = train_test_split(X, y, test_size=0.2, random_state=10)\n",
        "    train_errors, val_errors = [], []\n",
        "    for m in range(1, len(X_train)):\n",
        "        model.fit(X_train[:m], y_train[:m])\n",
        "        y_train_predict = model.predict(X_train[:m])\n",
        "        y_val_predict = model.predict(X_val)\n",
        "        train_errors.append(mean_squared_error(y_train[:m], y_train_predict))\n",
        "        val_errors.append(mean_squared_error(y_val, y_val_predict))\n",
        "\n",
        "    plt.plot((train_errors), \"r-+\", linewidth=2, label=\"training\")\n",
        "    plt.plot((val_errors), \"b-\", linewidth=3, label=\"validation\")\n",
        "    plt.legend(loc=\"upper right\", fontsize=14)   # not shown in the book\n",
        "    plt.xlabel(\"Training set size\", fontsize=14) # not shown\n",
        "    plt.ylabel(\"MSE/ Cost\", fontsize=14)              # not shown\n",
        "\n",
        "from sklearn.pipeline import Pipeline\n",
        "\n",
        "Degree_of_the_Polynomial_Model=15 #@param {type:\"integer\", min:1, max:14, step:1}\n",
        "polynomial_regression = Pipeline([\n",
        "        (\"poly_features\", PolynomialFeatures(degree=Degree_of_the_Polynomial_Model, include_bias=False)),\n",
        "        (\"lin_reg\", LinearRegression()),\n",
        "    ])\n",
        "\n",
        "plot_learning_curves(polynomial_regression, X, y)\n",
        "plt.axis([0, 80, 0, 6])           # not shown               # not shown in the book\n",
        "plt.axhline(y=1, color='y', linestyle='--')\n",
        "print(\"Polynomial model Degree ={}\".format(Degree_of_the_Polynomial_Model))"
      ],
      "execution_count": null,
      "outputs": [
        {
          "output_type": "stream",
          "text": [
            "Polynomial model Degree =15\n"
          ],
          "name": "stdout"
        },
        {
          "output_type": "display_data",
          "data": {
            "image/png": "[encoded data removed]",
            "text/plain": [
              "<Figure size 432x288 with 1 Axes>"
            ]
          },
          "metadata": {
            "tags": [],
            "needs_background": "light"
          }
        }
      ]
    },
    {
      "cell_type": "markdown",
      "metadata": {
        "id": "ICx9YlT__qMp"
      },
      "source": [
        "One way to improve an overfitting model is to feed it more training\n",
        "data until the validation error reaches the training error."
      ]
    },
    {
      "cell_type": "code",
      "metadata": {
        "id": "JofidaWrzYLO",
        "cellView": "form",
        "outputId": "0c97b64c-f626-49fd-d50a-bfc331b10b11",
        "colab": {
          "base_uri": "https://localhost:8080/",
          "height": 305
        }
      },
      "source": [
        "from sklearn.metrics import mean_squared_error\n",
        "from sklearn.model_selection import train_test_split\n",
        "\n",
        "def plot_learning_curves(model, X, y):\n",
        "    np.random.seed(12)\n",
        "    X_train, X_val, y_train, y_val = train_test_split(X, y, test_size=0.2, random_state=10)\n",
        "    train_errors, val_errors = [], []\n",
        "    for m in range(1, len(X_train)):\n",
        "        model.fit(X_train[:m], y_train[:m])\n",
        "        y_train_predict = model.predict(X_train[:m])\n",
        "        y_val_predict = model.predict(X_val)\n",
        "        train_errors.append(mean_squared_error(y_train[:m], y_train_predict))\n",
        "        val_errors.append(mean_squared_error(y_val, y_val_predict))\n",
        "\n",
        "    plt.plot((train_errors), \"r-+\", linewidth=2, label=\"training\")\n",
        "    plt.plot((val_errors), \"b-\", linewidth=3, label=\"validation\")\n",
        "    plt.legend(loc=\"upper right\", fontsize=14)   # not shown in the book\n",
        "    plt.xlabel(\"Training set size\", fontsize=14) # not shown\n",
        "    plt.ylabel(\"MSE/ Cost\", fontsize=14)              # not shown\n",
        "\n",
        "from sklearn.pipeline import Pipeline\n",
        "\n",
        "Degree_of_the_Polynomial_Model=2 #@param {type:\"integer\", min:1, max:14, step:1}\n",
        "polynomial_regression = Pipeline([\n",
        "        (\"poly_features\", PolynomialFeatures(degree=Degree_of_the_Polynomial_Model, include_bias=False)),\n",
        "        (\"lin_reg\", LinearRegression()),\n",
        "    ])\n",
        "\n",
        "plot_learning_curves(polynomial_regression, X, y)\n",
        "plt.axis([0, 80, 0, 6])           # not shown               # not shown in the book\n",
        "plt.axhline(y=0.9, color='y', linestyle='--')\n",
        "print(\"Polynomial model Degree ={}\".format(Degree_of_the_Polynomial_Model))"
      ],
      "execution_count": null,
      "outputs": [
        {
          "output_type": "stream",
          "text": [
            "Polynomial model Degree =2\n"
          ],
          "name": "stdout"
        },
        {
          "output_type": "display_data",
          "data": {
            "image/png": "[encoded data removed]",
            "text/plain": [
              "<Figure size 432x288 with 1 Axes>"
            ]
          },
          "metadata": {
            "tags": [],
            "needs_background": "light"
          }
        }
      ]
    },
    {
      "cell_type": "code",
      "metadata": {
        "cellView": "form",
        "outputId": "7958e485-a567-4b19-c11d-1254b308f1e9",
        "id": "_9O4VH9ExxMb",
        "colab": {
          "base_uri": "https://localhost:8080/",
          "height": 305
        }
      },
      "source": [
        "from sklearn.metrics import mean_squared_error\n",
        "from sklearn.model_selection import train_test_split\n",
        "\n",
        "def plot_learning_curves(model, X, y):\n",
        "    np.random.seed(12)\n",
        "    np.random.seed(12234)\n",
        "    X_train, X_val, y_train, y_val = train_test_split(X, y, test_size=0.2, random_state=10)\n",
        "    train_errors, val_errors = [], []\n",
        "    for m in range(1, len(X_train)):\n",
        "        model.fit(X_train[:m], y_train[:m])\n",
        "        y_train_predict = model.predict(X_train[:m])\n",
        "        y_val_predict = model.predict(X_val)\n",
        "        train_errors.append(mean_squared_error(y_train[:m], y_train_predict))\n",
        "        val_errors.append(mean_squared_error(y_val, y_val_predict))\n",
        "\n",
        "    plt.plot((train_errors), \"r-+\", linewidth=2, label=\"training\")\n",
        "    plt.plot((val_errors), \"b-\", linewidth=3, label=\"validation\")\n",
        "    plt.legend(loc=\"upper right\", fontsize=14)   # not shown in the book\n",
        "    plt.xlabel(\"Training set size\", fontsize=14) # not shown\n",
        "    plt.ylabel(\"MSE/ Cost\", fontsize=14)              # not shown\n",
        "\n",
        "from sklearn.pipeline import Pipeline\n",
        "\n",
        "Degree_of_the_Polynomial_Model=1 #@param {type:\"integer\", min:1, max:14, step:1}\n",
        "polynomial_regression = Pipeline([\n",
        "        (\"poly_features\", PolynomialFeatures(degree=Degree_of_the_Polynomial_Model, include_bias=False)),\n",
        "        (\"lin_reg\", LinearRegression()),\n",
        "    ])\n",
        "\n",
        "plot_learning_curves(polynomial_regression, X, y)\n",
        "plt.axis([0, 80, 0, 6])           # not shown               # not shown in the book\n",
        "plt.axhline(y=3.2, color='y', linestyle='--')\n",
        "print(\"Polynomial model Degree ={}\".format(Degree_of_the_Polynomial_Model))"
      ],
      "execution_count": null,
      "outputs": [
        {
          "output_type": "stream",
          "text": [
            "Polynomial model Degree =1\n"
          ],
          "name": "stdout"
        },
        {
          "output_type": "display_data",
          "data": {
            "image/png": "[encoded data removed]",
            "text/plain": [
              "<Figure size 432x288 with 1 Axes>"
            ]
          },
          "metadata": {
            "tags": [],
            "needs_background": "light"
          }
        }
      ]
    },
    {
      "cell_type": "markdown",
      "metadata": {
        "id": "N_qrvFYm_shf"
      },
      "source": [
        "If your model is underfitting the training data, adding more training\n",
        "examples will not help. You need to use a more complex model\n",
        "or come up with better features."
      ]
    },
    {
      "cell_type": "markdown",
      "metadata": {
        "id": "RxMEbuOgzH2k"
      },
      "source": [
        "#[Occam's razor principle](https://simple.wikipedia.org/wiki/Occam%27s_razor)"
      ]
    },
    {
      "cell_type": "markdown",
      "metadata": {
        "id": "Rd-Nn1a52l9j"
      },
      "source": [
        "Go to PPT"
      ]
    }
  ]
}