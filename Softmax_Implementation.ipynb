{
  "nbformat": 4,
  "nbformat_minor": 0,
  "metadata": {
    "kernelspec": {
      "display_name": "Python 3",
      "language": "python",
      "name": "python3"
    },
    "language_info": {
      "codemirror_mode": {
        "name": "ipython",
        "version": 3
      },
      "file_extension": ".py",
      "mimetype": "text/x-python",
      "name": "python",
      "nbconvert_exporter": "python",
      "pygments_lexer": "ipython3",
      "version": "3.7.3"
    },
    "nav_menu": {},
    "toc": {
      "navigate_menu": true,
      "number_sections": true,
      "sideBar": true,
      "threshold": 6,
      "toc_cell": false,
      "toc_section_display": "block",
      "toc_window_display": false
    },
    "colab": {
      "provenance": [],
      "toc_visible": true
    }
  },
  "cells": [
    {
      "cell_type": "markdown",
      "metadata": {
        "id": "8pySxNIJ8ZhE"
      },
      "source": [
        "<center><b>© Content is made available under the CC-BY-NC-ND 4.0 license. Christian Lopez, lopezbec@lafayette.edu<center>"
      ]
    },
    {
      "cell_type": "markdown",
      "source": [
        "\n",
        "<table align=\"left\">\n",
        "  <td>\n",
        "    <a href=\"https://colab.research.google.com/github/lopezbec/intro_python_notebooks/blob/master/Softmax_Implementation.ipynb\" target=\"_parent\"><img src=\"https://colab.research.google.com/assets/colab-badge.svg\" alt=\"Open In Colab\"/></a>\n",
        "  </td>\n",
        "  <td>\n",
        "         </table>\n",
        "          <br><br></br> "
      ],
      "metadata": {
        "id": "FZu8dq7f85-8"
      }
    },
    {
      "cell_type": "markdown",
      "metadata": {
        "id": "Cekq7VLGUAui"
      },
      "source": [
        "# Softmax and Early Stopping Implementation"
      ]
    },
    {
      "cell_type": "markdown",
      "metadata": {
        "id": "Lfz58eKB8t6f"
      },
      "source": [
        "In this assigment you will implement Batch Gradient Descent with early stopping for Softmax Regression (without using Scikit-Learn)"
      ]
    },
    {
      "cell_type": "markdown",
      "metadata": {
        "id": "V4HIDlsrUAu8"
      },
      "source": [
        "### Setup"
      ]
    },
    {
      "cell_type": "code",
      "metadata": {
        "id": "muQrurkWUAvL"
      },
      "source": [
        "# Python ≥3.5 is required\n",
        "import sys\n",
        "assert sys.version_info >= (3, 5)\n",
        "\n",
        "# Scikit-Learn ≥0.20 is required\n",
        "import sklearn\n",
        "assert sklearn.__version__ >= \"0.20\"\n",
        "\n",
        "# Common imports\n",
        "import numpy as np\n",
        "import os\n",
        "\n",
        "import time \n",
        "\n",
        "# To plot pretty figures\n",
        "%matplotlib inline\n",
        "import matplotlib as mpl\n",
        "import matplotlib.pyplot as plt\n",
        "mpl.rc('axes', labelsize=14)\n",
        "mpl.rc('xtick', labelsize=12)\n",
        "mpl.rc('ytick', labelsize=12)\n",
        "\n",
        "# Ignore useless warnings (see SciPy issue #5998)\n",
        "import warnings\n",
        "warnings.filterwarnings(action=\"ignore\", message=\"^internal gelsd\")"
      ],
      "execution_count": null,
      "outputs": []
    },
    {
      "cell_type": "markdown",
      "metadata": {
        "id": "vFKH-4PiUA27"
      },
      "source": [
        "## Batch Gradient Descent with early stopping for Softmax Regression\n",
        "(without using Scikit-Learn)"
      ]
    },
    {
      "cell_type": "markdown",
      "metadata": {
        "id": "9qXrfInuUA28"
      },
      "source": [
        "Let's start by loading the data. We will use the Iris dataset."
      ]
    },
    {
      "cell_type": "code",
      "metadata": {
        "id": "qmF7RmXX_EzE",
        "colab": {
          "base_uri": "https://localhost:8080/"
        },
        "outputId": "fd4b203f-355f-440f-e4d2-b6bfb81816cb"
      },
      "source": [
        "from sklearn import datasets\n",
        "iris = datasets.load_iris()\n",
        "list(iris.keys())"
      ],
      "execution_count": null,
      "outputs": [
        {
          "output_type": "execute_result",
          "data": {
            "text/plain": [
              "['data',\n",
              " 'target',\n",
              " 'frame',\n",
              " 'target_names',\n",
              " 'DESCR',\n",
              " 'feature_names',\n",
              " 'filename',\n",
              " 'data_module']"
            ]
          },
          "metadata": {},
          "execution_count": 2
        }
      ]
    },
    {
      "cell_type": "code",
      "metadata": {
        "id": "LfVwmBUz_Mlw",
        "colab": {
          "base_uri": "https://localhost:8080/"
        },
        "outputId": "51e081b8-5f7d-4d81-e2b3-2401982a542c"
      },
      "source": [
        "print(iris.DESCR)"
      ],
      "execution_count": null,
      "outputs": [
        {
          "output_type": "stream",
          "name": "stdout",
          "text": [
            ".. _iris_dataset:\n",
            "\n",
            "Iris plants dataset\n",
            "--------------------\n",
            "\n",
            "**Data Set Characteristics:**\n",
            "\n",
            "    :Number of Instances: 150 (50 in each of three classes)\n",
            "    :Number of Attributes: 4 numeric, predictive attributes and the class\n",
            "    :Attribute Information:\n",
            "        - sepal length in cm\n",
            "        - sepal width in cm\n",
            "        - petal length in cm\n",
            "        - petal width in cm\n",
            "        - class:\n",
            "                - Iris-Setosa\n",
            "                - Iris-Versicolour\n",
            "                - Iris-Virginica\n",
            "                \n",
            "    :Summary Statistics:\n",
            "\n",
            "    ============== ==== ==== ======= ===== ====================\n",
            "                    Min  Max   Mean    SD   Class Correlation\n",
            "    ============== ==== ==== ======= ===== ====================\n",
            "    sepal length:   4.3  7.9   5.84   0.83    0.7826\n",
            "    sepal width:    2.0  4.4   3.05   0.43   -0.4194\n",
            "    petal length:   1.0  6.9   3.76   1.76    0.9490  (high!)\n",
            "    petal width:    0.1  2.5   1.20   0.76    0.9565  (high!)\n",
            "    ============== ==== ==== ======= ===== ====================\n",
            "\n",
            "    :Missing Attribute Values: None\n",
            "    :Class Distribution: 33.3% for each of 3 classes.\n",
            "    :Creator: R.A. Fisher\n",
            "    :Donor: Michael Marshall (MARSHALL%PLU@io.arc.nasa.gov)\n",
            "    :Date: July, 1988\n",
            "\n",
            "The famous Iris database, first used by Sir R.A. Fisher. The dataset is taken\n",
            "from Fisher's paper. Note that it's the same as in R, but not as in the UCI\n",
            "Machine Learning Repository, which has two wrong data points.\n",
            "\n",
            "This is perhaps the best known database to be found in the\n",
            "pattern recognition literature.  Fisher's paper is a classic in the field and\n",
            "is referenced frequently to this day.  (See Duda & Hart, for example.)  The\n",
            "data set contains 3 classes of 50 instances each, where each class refers to a\n",
            "type of iris plant.  One class is linearly separable from the other 2; the\n",
            "latter are NOT linearly separable from each other.\n",
            "\n",
            ".. topic:: References\n",
            "\n",
            "   - Fisher, R.A. \"The use of multiple measurements in taxonomic problems\"\n",
            "     Annual Eugenics, 7, Part II, 179-188 (1936); also in \"Contributions to\n",
            "     Mathematical Statistics\" (John Wiley, NY, 1950).\n",
            "   - Duda, R.O., & Hart, P.E. (1973) Pattern Classification and Scene Analysis.\n",
            "     (Q327.D83) John Wiley & Sons.  ISBN 0-471-22361-1.  See page 218.\n",
            "   - Dasarathy, B.V. (1980) \"Nosing Around the Neighborhood: A New System\n",
            "     Structure and Classification Rule for Recognition in Partially Exposed\n",
            "     Environments\".  IEEE Transactions on Pattern Analysis and Machine\n",
            "     Intelligence, Vol. PAMI-2, No. 1, 67-71.\n",
            "   - Gates, G.W. (1972) \"The Reduced Nearest Neighbor Rule\".  IEEE Transactions\n",
            "     on Information Theory, May 1972, 431-433.\n",
            "   - See also: 1988 MLC Proceedings, 54-64.  Cheeseman et al\"s AUTOCLASS II\n",
            "     conceptual clustering system finds 3 classes in the data.\n",
            "   - Many, many more ...\n"
          ]
        }
      ]
    },
    {
      "cell_type": "code",
      "metadata": {
        "id": "PGDdfAhqUA29"
      },
      "source": [
        "X = iris[\"data\"][:, (2, 3)]  # petal length, petal width\n",
        "y = iris[\"target\"]"
      ],
      "execution_count": null,
      "outputs": []
    },
    {
      "cell_type": "markdown",
      "metadata": {
        "id": "49SakiYnUA2_"
      },
      "source": [
        "We need to add the bias term for every instance ($x_0 = 1$):"
      ]
    },
    {
      "cell_type": "code",
      "metadata": {
        "id": "PCpxk8_QUA2_"
      },
      "source": [
        "X_with_bias = np.c_[np.ones([len(X), 1]), X]"
      ],
      "execution_count": null,
      "outputs": []
    },
    {
      "cell_type": "markdown",
      "metadata": {
        "id": "gH-soBuIUA3B"
      },
      "source": [
        "And let's set the random seed so the output of this exercise solution is reproducible:"
      ]
    },
    {
      "cell_type": "code",
      "metadata": {
        "id": "l9gdtQvrUA3D"
      },
      "source": [
        "np.random.seed(2042)"
      ],
      "execution_count": null,
      "outputs": []
    },
    {
      "cell_type": "markdown",
      "metadata": {
        "id": "gcb8mYLjUA3G"
      },
      "source": [
        "The easiest option to split the dataset into a training set, a validation set and a test set would be to use Scikit-Learn's `train_test_split()` function, but the point of this exercise is to try understand the algorithms by implementing them manually. So here is one possible implementation:"
      ]
    },
    {
      "cell_type": "code",
      "metadata": {
        "id": "KUlPwEuWUA3G"
      },
      "source": [
        "test_ratio = 0.2\n",
        "validation_ratio = 0.2\n",
        "total_size = len(X_with_bias)\n",
        "\n",
        "test_size = int(total_size * test_ratio)\n",
        "validation_size = int(total_size * validation_ratio)\n",
        "train_size = total_size - test_size - validation_size\n",
        "\n",
        "rnd_indices = np.random.permutation(total_size)\n",
        "\n",
        "X_train = X_with_bias[rnd_indices[:train_size]]\n",
        "y_train = y[rnd_indices[:train_size]]\n",
        "X_valid = X_with_bias[rnd_indices[train_size:-test_size]]\n",
        "y_valid = y[rnd_indices[train_size:-test_size]]\n",
        "X_test = X_with_bias[rnd_indices[-test_size:]]\n",
        "y_test = y[rnd_indices[-test_size:]]"
      ],
      "execution_count": null,
      "outputs": []
    },
    {
      "cell_type": "markdown",
      "metadata": {
        "id": "D8l7pFtyUA3I"
      },
      "source": [
        "The targets are currently class indices (0, 1 or 2), but we need target class probabilities to train the Softmax Regression model. Each instance will have target class probabilities equal to 0.0 for all classes except for the target class which will have a probability of 1.0 (in other words, the vector of class probabilities for ay given instance is a one-hot vector). Let's write a small function to convert the vector of class indices into a matrix containing a one-hot vector for each instance:"
      ]
    },
    {
      "cell_type": "code",
      "metadata": {
        "id": "BnHQj-18UA3J"
      },
      "source": [
        "def to_one_hot(y):\n",
        "    n_classes = y.max() + 1\n",
        "    m = len(y)\n",
        "    Y_one_hot = np.zeros((m, n_classes))\n",
        "    Y_one_hot[np.arange(m), y] = 1\n",
        "    return Y_one_hot"
      ],
      "execution_count": null,
      "outputs": []
    },
    {
      "cell_type": "markdown",
      "metadata": {
        "id": "nc8IE7KWUA3L"
      },
      "source": [
        "Let's test this function on the first 10 instances:"
      ]
    },
    {
      "cell_type": "code",
      "metadata": {
        "id": "6r5Ap5cNUA3N",
        "colab": {
          "base_uri": "https://localhost:8080/"
        },
        "outputId": "ab54e52f-3b84-4e6e-d561-462aeae007c3"
      },
      "source": [
        "y_train[:10]"
      ],
      "execution_count": null,
      "outputs": [
        {
          "output_type": "execute_result",
          "data": {
            "text/plain": [
              "array([0, 1, 2, 1, 1, 0, 1, 1, 1, 0])"
            ]
          },
          "metadata": {},
          "execution_count": 27
        }
      ]
    },
    {
      "cell_type": "code",
      "metadata": {
        "id": "r97Rukc-UA3O",
        "colab": {
          "base_uri": "https://localhost:8080/"
        },
        "outputId": "b139d968-a680-47f0-bd9e-a2c61dfd8fc1"
      },
      "source": [
        "to_one_hot(y_train[:10])"
      ],
      "execution_count": null,
      "outputs": [
        {
          "output_type": "execute_result",
          "data": {
            "text/plain": [
              "array([[1., 0., 0.],\n",
              "       [0., 1., 0.],\n",
              "       [0., 0., 1.],\n",
              "       [0., 1., 0.],\n",
              "       [0., 1., 0.],\n",
              "       [1., 0., 0.],\n",
              "       [0., 1., 0.],\n",
              "       [0., 1., 0.],\n",
              "       [0., 1., 0.],\n",
              "       [1., 0., 0.]])"
            ]
          },
          "metadata": {},
          "execution_count": 28
        }
      ]
    },
    {
      "cell_type": "markdown",
      "metadata": {
        "id": "GFch3gRhUA3Q"
      },
      "source": [
        "Looks good, so let's create the target class probabilities matrix for the training set and the test set:"
      ]
    },
    {
      "cell_type": "code",
      "metadata": {
        "id": "8pzb3H9gUA3R"
      },
      "source": [
        "Y_train_one_hot = to_one_hot(y_train)\n",
        "Y_valid_one_hot = to_one_hot(y_valid)\n",
        "Y_test_one_hot = to_one_hot(y_test)"
      ],
      "execution_count": null,
      "outputs": []
    },
    {
      "cell_type": "markdown",
      "metadata": {
        "id": "6BKgD8fiUA3S"
      },
      "source": [
        "Now let's implement the Softmax function. Recall that it is defined by the following equation:\n",
        "\n",
        "$\\sigma\\left(\\mathbf{s}(\\mathbf{x})\\right)_k = \\dfrac{\\exp\\left(s_k(\\mathbf{x})\\right)}{\\sum\\limits_{j=1}^{K}{\\exp\\left(s_j(\\mathbf{x})\\right)}}$\n",
        "\n",
        "*Be advise when using `np.sum` which axis you are summing"
      ]
    },
    {
      "cell_type": "code",
      "metadata": {
        "id": "Ysxr-KbiUA3S"
      },
      "source": [
        "def softmax(logits):\n",
        "    \"\"\"\n",
        "    Computes the Softmax function. The output is the probability \n",
        "    that the instance belongs to class k. \n",
        "    Parameters\n",
        "    ----------\n",
        "    Logists : array_like\n",
        "        The Softmax score (m x k).\n",
        "    \n",
        "    Returns\n",
        "    -------\n",
        "    Softmax probability : array_like\n",
        "    Probability that the instance belongs to class k (m x k).\n",
        "\n",
        "    Instructions\n",
        "    ------------\n",
        "    Remember that you can use np.sum to calculate the \n",
        "    sum by colums or by rows.\n",
        "    \"\"\"\n",
        "\n",
        "    ###========== START CODE HERE=========== ### (≈ 2 lines of code)\n",
        "\n",
        "\n",
        "\n",
        "    ###========== END CODE HERE============= ### \n",
        "\n",
        "    return exps / exp_sums"
      ],
      "execution_count": null,
      "outputs": []
    },
    {
      "cell_type": "markdown",
      "metadata": {
        "id": "shNQMSYVUA3X"
      },
      "source": [
        "We are almost ready to start training. Let's define the number of inputs and outputs:"
      ]
    },
    {
      "cell_type": "code",
      "metadata": {
        "id": "koflQ-EZUA3Y"
      },
      "source": [
        "n_inputs = X_train.shape[1] # == 3 (2 features plus the bias term)\n",
        "n_outputs = len(np.unique(y_train))   # == 3 (3 iris classes)"
      ],
      "execution_count": null,
      "outputs": []
    },
    {
      "cell_type": "markdown",
      "metadata": {
        "id": "Fmeavu2PMAgy"
      },
      "source": [
        "Also, lets test your softmax functions"
      ]
    },
    {
      "cell_type": "code",
      "metadata": {
        "id": "zm36Sw5pMDdJ",
        "colab": {
          "base_uri": "https://localhost:8080/"
        },
        "outputId": "82bb9d36-6048-457a-e59c-2eecc0e89b94"
      },
      "source": [
        "Theta = np.zeros( (n_inputs, n_outputs))\n",
        "Y_proba = softmax(X_train.dot(Theta))\n",
        "print(Y_proba[0,:])"
      ],
      "execution_count": null,
      "outputs": [
        {
          "output_type": "stream",
          "name": "stdout",
          "text": [
            "[0.33333333 0.33333333 0.33333333]\n"
          ]
        }
      ]
    },
    {
      "cell_type": "markdown",
      "metadata": {
        "id": "HFCmVSyQMnh9"
      },
      "source": [
        "**Expected Output:**\n",
        "\n",
        "\n",
        "```\n",
        "[0.33333333 0.33333333 0.33333333]\n",
        "```\n",
        "\n"
      ]
    },
    {
      "cell_type": "markdown",
      "metadata": {
        "id": "T8xe6GD3UA3a"
      },
      "source": [
        "Now here comes the hardest part: training! Theoretically, it's simple: it's just a matter of translating the math equations into Python code. But in practice, it can be quite tricky: in particular, it's easy to mix up the order of the terms, or the indices. You can even end up with code that looks like it's working but is actually not computing exactly the right thing. When unsure, you should write down the shape of each term in the equation and make sure the corresponding terms in your code match closely. It can also help to evaluate each term independently and print them out. The good news it that you won't have to do this everyday, since all this is well implemented by Scikit-Learn, but it will help you understand what's going on under the hood.\n",
        "\n",
        "So the equations we will need are the cost function:\n",
        "\n",
        "$J(\\mathbf{\\Theta}) =\n",
        "- \\dfrac{1}{m}\\sum\\limits_{i=1}^{m}\\sum\\limits_{k=1}^{K}{y_k^{(i)}\\log\\left(\\hat{p}_k^{(i)}\\right)}$\n",
        "\n",
        "And the equation for the gradients:\n",
        "\n",
        "$\\nabla_{\\mathbf{\\theta}^{(k)}} \\, J(\\mathbf{\\Theta}) = \\dfrac{1}{m} \\sum\\limits_{i=1}^{m}{ \\left ( \\hat{p}^{(i)}_k - y_k^{(i)} \\right ) \\mathbf{x}^{(i)}}$\n",
        "\n",
        "Note that $\\log\\left(\\hat{p}_k^{(i)}\\right)$ may not be computable if $\\hat{p}_k^{(i)} = 0$. So we will add a tiny value $\\epsilon$ `epsilon`to $\\log\\left(\\hat{p}_k^{(i)}\\right)$ to avoid getting `nan` values."
      ]
    },
    {
      "cell_type": "code",
      "metadata": {
        "id": "f_0wFTZcUA3a",
        "colab": {
          "base_uri": "https://localhost:8080/"
        },
        "outputId": "bb83ff5c-4971-4aad-aa91-3c72d6361f39"
      },
      "source": [
        "alpha = 0.01\n",
        "n_iterations = 5001\n",
        "m = len(X_train)\n",
        "epsilon = 1e-7\n",
        "\n",
        "Theta = np.zeros( (n_inputs, n_outputs))\n",
        "tic = time.process_time()\n",
        "for iteration in range(n_iterations):\n",
        "    ###========== START CODE HERE=========== ### (≈ 4 lines of code)\n",
        "\n",
        "\n",
        "\n",
        "\n",
        "\n",
        "\n",
        "\n",
        "    ###========== END CODE HERE============= ### \n",
        "\n",
        "    if iteration % 1000 == 0:\n",
        "        print(iteration, loss)\n",
        "toc = time.process_time() \n",
        "print(\"Time to run:\"+str(1000*(toc - tic)) + \"ms\")"
      ],
      "execution_count": null,
      "outputs": [
        {
          "output_type": "stream",
          "name": "stdout",
          "text": [
            "0 1.098611988668155\n",
            "1000 0.6528112953408097\n",
            "2000 0.5258602243739757\n",
            "3000 0.4613835308670922\n",
            "4000 0.4203056454133403\n",
            "5000 0.39063748789532077\n",
            "Time to run:258.04154300000005ms\n"
          ]
        }
      ]
    },
    {
      "cell_type": "markdown",
      "metadata": {
        "id": "5rzJzh7Kjplb"
      },
      "source": [
        "**Expected Output:**\n",
        "\n",
        "\n",
        "```\n",
        "0 1.098611988668155\n",
        "1000 0.6528112953408097\n",
        "2000 0.5258602243739757\n",
        "3000 0.46138353086709233\n",
        "4000 0.4203056454133403\n",
        "5000 0.39063748789532077\n",
        "```\n",
        "\n"
      ]
    },
    {
      "cell_type": "markdown",
      "metadata": {
        "id": "-yBY3yfJUA3c"
      },
      "source": [
        "And that's it! The Softmax model is trained. Let's look at the model parameters:"
      ]
    },
    {
      "cell_type": "code",
      "metadata": {
        "id": "C8RCT2xklnl_",
        "colab": {
          "base_uri": "https://localhost:8080/"
        },
        "outputId": "8b454037-ff44-4d3a-f108-9066e39425e9"
      },
      "source": [
        "Theta"
      ],
      "execution_count": null,
      "outputs": [
        {
          "output_type": "execute_result",
          "data": {
            "text/plain": [
              "array([[ 3.32338744, -0.55674245, -2.76664499],\n",
              "       [-0.70418728,  0.44882349,  0.25536379],\n",
              "       [-1.32887421, -0.34927308,  1.67814729]])"
            ]
          },
          "metadata": {},
          "execution_count": 33
        }
      ]
    },
    {
      "cell_type": "markdown",
      "metadata": {
        "id": "ohFf6bGiUA3i"
      },
      "source": [
        "Let's make predictions for the validation set and check the accuracy score:"
      ]
    },
    {
      "cell_type": "code",
      "metadata": {
        "id": "_xXHtp0eUA3i",
        "colab": {
          "base_uri": "https://localhost:8080/"
        },
        "outputId": "60a17d57-cf4b-4b0c-af41-0a8f1f7a6ef3"
      },
      "source": [
        "logits = X_valid.dot(Theta)\n",
        "Y_proba = softmax(logits)\n",
        "y_predict = np.argmax(Y_proba, axis=1)\n",
        "\n",
        "accuracy_score_1 = np.mean(y_predict == y_valid)\n",
        "accuracy_score_1"
      ],
      "execution_count": null,
      "outputs": [
        {
          "output_type": "execute_result",
          "data": {
            "text/plain": [
              "0.9666666666666667"
            ]
          },
          "metadata": {},
          "execution_count": 34
        }
      ]
    },
    {
      "cell_type": "markdown",
      "metadata": {
        "id": "bVuyCZ_Sjv04"
      },
      "source": [
        "**Expected Output:**\n",
        "\n",
        "\n",
        "```\n",
        "0.96667\n",
        "```\n",
        "\n"
      ]
    },
    {
      "cell_type": "markdown",
      "metadata": {
        "id": "-ZXaDQZcUA3k"
      },
      "source": [
        "Well, this model looks pretty good. For the sake of the exercise, let's add a bit of $\\ell_2$ regularization. The following training code is similar to the one above, but the loss now has an additional $\\ell_2$ penalty, and the gradients have the proper additional term (note that we don't regularize the first element of `Theta` since this corresponds to the bias term). Also, let's try increasing the learning rate `alpha`."
      ]
    },
    {
      "cell_type": "code",
      "metadata": {
        "id": "43_u_RzgUA3k",
        "colab": {
          "base_uri": "https://localhost:8080/"
        },
        "outputId": "048e63ef-318c-47f7-ca95-c0fca29c4dec"
      },
      "source": [
        "alpha = 0.1  \n",
        "lambda_ = 0.1 # regularization hyperparameter\n",
        "n_iterations = 5001\n",
        "m = len(X_train)\n",
        "epsilon = 1e-7\n",
        "\n",
        "\n",
        "Theta = np.zeros( (n_inputs, n_outputs))\n",
        "tic = time.process_time() \n",
        "for iteration in range(n_iterations):\n",
        "    ###========== START CODE HERE=========== ### (≈ 7 lines of code)\n",
        "\n",
        "\n",
        "\n",
        "\n",
        "\n",
        "\n",
        "\n",
        "\n",
        "    ###========== END CODE HERE============= ### \n",
        "\n",
        "\n",
        "    if iteration % 1000 == 0:\n",
        "        print(iteration, loss)\n",
        "\n",
        "toc = time.process_time() \n",
        "print(\"Time to run:\"+str(1000*(toc - tic)) + \"ms\")"
      ],
      "execution_count": null,
      "outputs": [
        {
          "output_type": "stream",
          "name": "stdout",
          "text": [
            "0 1.098611988668155\n",
            "1000 0.5031061422252818\n",
            "2000 0.4912201643938035\n",
            "3000 0.48928488282746363\n",
            "4000 0.48891453688933284\n",
            "5000 0.48883973203963516\n",
            "Time to run:493.21898100000004ms\n"
          ]
        }
      ]
    },
    {
      "cell_type": "code",
      "metadata": {
        "colab": {
          "base_uri": "https://localhost:8080/"
        },
        "id": "0XsSFk-iN07V",
        "outputId": "fa810f96-ce7a-4461-8af9-2d2a3f0ac5c9"
      },
      "source": [
        "l2_loss"
      ],
      "execution_count": null,
      "outputs": [
        {
          "output_type": "execute_result",
          "data": {
            "text/plain": [
              "0.13527892688002827"
            ]
          },
          "metadata": {},
          "execution_count": 19
        }
      ]
    },
    {
      "cell_type": "markdown",
      "metadata": {
        "id": "RhwiI7J0j04U"
      },
      "source": [
        "**Expected Output:**\n",
        "\n",
        "\n",
        "```\n",
        "0 1.098611988668155\n",
        "1000 0.5031061422252818\n",
        "2000 0.4912201643938035\n",
        "3000 0.48928488282746363\n",
        "4000 0.4889145368893328\n",
        "5000 0.48883973203963516\n",
        "```\n",
        "\n"
      ]
    },
    {
      "cell_type": "markdown",
      "metadata": {
        "id": "sMWrpWSCUA3l"
      },
      "source": [
        "Because of the additional $\\ell_2$ penalty, the loss seems greater than earlier, but perhaps this model will perform better? Let's find out:"
      ]
    },
    {
      "cell_type": "code",
      "metadata": {
        "id": "fNV6-XGKUA3m",
        "colab": {
          "base_uri": "https://localhost:8080/"
        },
        "outputId": "94c8a2d4-4ce2-47ad-c596-06059ec13558"
      },
      "source": [
        "logits = X_valid.dot(Theta)\n",
        "Y_proba = softmax(logits)\n",
        "y_predict = np.argmax(Y_proba, axis=1)\n",
        "\n",
        "accuracy_score_l2 = np.mean(y_predict == y_valid)\n",
        "accuracy_score_l2"
      ],
      "execution_count": null,
      "outputs": [
        {
          "output_type": "execute_result",
          "data": {
            "text/plain": [
              "1.0"
            ]
          },
          "metadata": {},
          "execution_count": 20
        }
      ]
    },
    {
      "cell_type": "markdown",
      "metadata": {
        "id": "Wcnzs1zukADM"
      },
      "source": [
        "**Expected Output:**\n",
        "\n",
        "\n",
        "```\n",
        "1.0\n",
        "```\n",
        "\n"
      ]
    },
    {
      "cell_type": "markdown",
      "metadata": {
        "id": "srEkmIluUA3n"
      },
      "source": [
        "Perfect  accuracy! This was just because we got lucky with out Validation Dataset. If you change the randon seed you will see we would get a different value (due to the random partition of our dataset). However, if you do so, make sure to change it back to the original random seed value."
      ]
    },
    {
      "cell_type": "markdown",
      "metadata": {
        "id": "8m2MkbbiUA3o"
      },
      "source": [
        "Now let's add early stopping with $\\ell_2$ regularization. For this we just need to measure the loss on the validation set at every iteration and stop when the error starts growing. This has to be "
      ]
    },
    {
      "cell_type": "code",
      "metadata": {
        "id": "0QPhdZzFUA3o",
        "colab": {
          "base_uri": "https://localhost:8080/"
        },
        "outputId": "e862d26a-a233-4eb0-b39c-70b819f21b86"
      },
      "source": [
        "eta = 0.1 \n",
        "n_iterations = 5001\n",
        "m = len(X_train)\n",
        "epsilon = 1e-7\n",
        "alpha = 0.1  # regularization hyperparameter\n",
        "best_loss = np.infty\n",
        "\n",
        "Theta = np.zeros( (n_inputs, n_outputs))\n",
        "tic = time.process_time() \n",
        "for iteration in range(n_iterations):\n",
        "    ###========== START CODE HERE=========== ### (≈ 12 lines of code)\n",
        "\n",
        "\n",
        "\n",
        "\n",
        "\n",
        "\n",
        "\n",
        "\n",
        "\n",
        "\n",
        "\n",
        "\n",
        "\n",
        "\n",
        "    ###========== END CODE HERE============= ### \n",
        "\n",
        "    if iteration % 500 == 0:\n",
        "        print(iteration, loss)\n",
        "    if loss < best_loss:\n",
        "        best_loss = loss\n",
        "    else:\n",
        "        print(iteration - 1, best_loss)\n",
        "        print(iteration, loss, \"early stopping!\")\n",
        "        break\n",
        "\n",
        "toc = time.process_time() \n",
        "print(\"Time to run:\"+str(1000*(toc - tic)) + \"ms\")"
      ],
      "execution_count": null,
      "outputs": [
        {
          "output_type": "stream",
          "name": "stdout",
          "text": [
            "0 1.014404760552415\n",
            "500 0.5647879014284448\n",
            "1000 0.5413066198652687\n",
            "1500 0.5349305990077056\n",
            "2000 0.5330197060703865\n",
            "2500 0.5325667694803817\n",
            "2683 0.532545346810422\n",
            "2684 0.5325453475163391 early stopping!\n",
            "Time to run:385.50517100000013ms\n"
          ]
        }
      ]
    },
    {
      "cell_type": "markdown",
      "metadata": {
        "id": "9n5h461GkOIX"
      },
      "source": [
        "**Expected Output:**\n",
        "\n",
        "\n",
        "```\n",
        "0 1.0221838565315413\n",
        "1000 0.5519096548049391\n",
        "2000 0.5398513388336552\n",
        "3000 0.5369991641388994\n",
        "4000 0.5361209481049856\n",
        "5000 0.5357989673136738\n",
        "```\n",
        "\n"
      ]
    },
    {
      "cell_type": "code",
      "metadata": {
        "id": "jmRlUWdVUA3r",
        "colab": {
          "base_uri": "https://localhost:8080/"
        },
        "outputId": "2cc31c15-6cac-4666-c4a1-42c141a4dafd"
      },
      "source": [
        "logits = X_valid.dot(Theta)\n",
        "Y_proba = softmax(logits)\n",
        "y_predict = np.argmax(Y_proba, axis=1)\n",
        "\n",
        "accuracy_score_estop = np.mean(y_predict == y_valid)\n",
        "accuracy_score_estop"
      ],
      "execution_count": null,
      "outputs": [
        {
          "output_type": "execute_result",
          "data": {
            "text/plain": [
              "1.0"
            ]
          },
          "metadata": {},
          "execution_count": 22
        }
      ]
    },
    {
      "cell_type": "markdown",
      "metadata": {
        "id": "5-MRwuAXkQu6"
      },
      "source": [
        "**Expected Output:**\n",
        "\n",
        "\n",
        "```\n",
        "1.0\n",
        "```\n",
        "\n"
      ]
    },
    {
      "cell_type": "markdown",
      "metadata": {
        "id": "HXP0rnH6UA31"
      },
      "source": [
        "Still the same accurracy , but faster."
      ]
    },
    {
      "cell_type": "markdown",
      "metadata": {
        "id": "zYUOvqNmUA31"
      },
      "source": [
        "Now let's plot the model's predictions on the whole dataset:"
      ]
    },
    {
      "cell_type": "code",
      "metadata": {
        "id": "Q5WPl0fdUA32",
        "colab": {
          "base_uri": "https://localhost:8080/",
          "height": 291
        },
        "outputId": "67f5bb8e-71ee-47ec-aee8-9868243b1425"
      },
      "source": [
        "x0, x1 = np.meshgrid(\n",
        "        np.linspace(0, 8, 500).reshape(-1, 1),\n",
        "        np.linspace(0, 3.5, 200).reshape(-1, 1),\n",
        "    )\n",
        "X_new = np.c_[x0.ravel(), x1.ravel()]\n",
        "X_new_with_bias = np.c_[np.ones([len(X_new), 1]), X_new]\n",
        "\n",
        "logits = X_new_with_bias.dot(Theta)\n",
        "Y_proba = softmax(logits)\n",
        "y_predict = np.argmax(Y_proba, axis=1)\n",
        "\n",
        "zz1 = Y_proba[:, 1].reshape(x0.shape)\n",
        "zz = y_predict.reshape(x0.shape)\n",
        "\n",
        "plt.figure(figsize=(10, 4))\n",
        "plt.plot(X[y==2, 0], X[y==2, 1], \"g^\", label=\"Iris virginica\")\n",
        "plt.plot(X[y==1, 0], X[y==1, 1], \"bs\", label=\"Iris versicolor\")\n",
        "plt.plot(X[y==0, 0], X[y==0, 1], \"yo\", label=\"Iris setosa\")\n",
        "\n",
        "from matplotlib.colors import ListedColormap\n",
        "custom_cmap = ListedColormap(['#fafab0','#9898ff','#a0faa0'])\n",
        "\n",
        "plt.contourf(x0, x1, zz, cmap=custom_cmap)\n",
        "contour = plt.contour(x0, x1, zz1, cmap=plt.cm.brg)\n",
        "plt.clabel(contour, inline=1, fontsize=12)\n",
        "plt.xlabel(\"Petal length\", fontsize=14)\n",
        "plt.ylabel(\"Petal width\", fontsize=14)\n",
        "plt.legend(loc=\"upper left\", fontsize=14)\n",
        "plt.axis([0, 7, 0, 3.5])\n",
        "plt.show()"
      ],
      "execution_count": null,
      "outputs": [
        {
          "output_type": "display_data",
          "data": {
            "text/plain": [
              "<Figure size 720x288 with 1 Axes>"
            ],
            "image/png": "[encoded data removed]"
          },
          "metadata": {
            "needs_background": "light"
          }
        }
      ]
    },
    {
      "cell_type": "markdown",
      "metadata": {
        "id": "k1z5bWzYUA33"
      },
      "source": [
        "And now let's measure the final model's accuracy on the test set:"
      ]
    },
    {
      "cell_type": "code",
      "metadata": {
        "id": "jgoRJzV1UA34",
        "colab": {
          "base_uri": "https://localhost:8080/"
        },
        "outputId": "e638ad2b-e479-439d-cf10-21a520c48f49"
      },
      "source": [
        "logits = X_test.dot(Theta)\n",
        "Y_proba = softmax(logits)\n",
        "y_predict = np.argmax(Y_proba, axis=1)\n",
        "accuracy_score_final = np.mean(y_predict == y_test)\n",
        "accuracy_score_final"
      ],
      "execution_count": null,
      "outputs": [
        {
          "output_type": "execute_result",
          "data": {
            "text/plain": [
              "0.9333333333333333"
            ]
          },
          "metadata": {},
          "execution_count": 24
        }
      ]
    },
    {
      "cell_type": "markdown",
      "metadata": {
        "id": "HlhZbuQuUA36"
      },
      "source": [
        "Our perfect model turns out to have slight imperfections. This variability is likely due to the very small size of the dataset: depending on how you sample the training set, validation set and the test set, you can get quite different results. Try changing the random seed and running the code again a few times, you will see that the results will vary."
      ]
    },
    {
      "cell_type": "markdown",
      "metadata": {
        "id": "ISTpQe0xHoaq"
      },
      "source": [
        "###### **DO NOT DELETE NOR MODIFY THESE CODE CELLS**\n"
      ]
    },
    {
      "cell_type": "code",
      "metadata": {
        "id": "ONpWv6SDHnoR",
        "colab": {
          "base_uri": "https://localhost:8080/"
        },
        "outputId": "02b0afaf-3c76-468d-c7ad-6754da02de2d"
      },
      "source": [
        "# # ###DO NOT DELETE NOR MODIFY THIS CODE CELL####\n",
        "!wget https://raw.githubusercontent.com/lopezbec/intro_python_notebooks/main/GRADING_SoftM.py\n",
        "from GRADING_SoftM import GRADING_SoftM\n",
        "\n",
        "\n",
        "try:\n",
        "    accuracy_score_1\n",
        "except:\n",
        "    accuracy_score_1=None\n",
        "try:\n",
        "    accuracy_score_l2\n",
        "except:\n",
        "    accuracy_score_l2=None\n",
        "try:\n",
        "    accuracy_score_estop\n",
        "except:\n",
        "    accuracy_score_estop=None\n",
        "try:\n",
        "    accuracy_score_final\n",
        "except:\n",
        "    accuracy_score_final=None\n",
        "\n",
        "GRADING_SoftM(accuracy_score_1, accuracy_score_l2,accuracy_score_estop,accuracy_score_final)\n"
      ],
      "execution_count": null,
      "outputs": [
        {
          "output_type": "stream",
          "name": "stdout",
          "text": [
            "--2023-02-09 16:23:23--  https://raw.githubusercontent.com/lopezbec/intro_python_notebooks/main/GRADING_SoftM.py\n",
            "Resolving raw.githubusercontent.com (raw.githubusercontent.com)... 185.199.108.133, 185.199.109.133, 185.199.110.133, ...\n",
            "Connecting to raw.githubusercontent.com (raw.githubusercontent.com)|185.199.108.133|:443... connected.\n",
            "HTTP request sent, awaiting response... 200 OK\n",
            "Length: 869 [text/plain]\n",
            "Saving to: ‘GRADING_SoftM.py’\n",
            "\n",
            "\rGRADING_SoftM.py      0%[                    ]       0  --.-KB/s               \rGRADING_SoftM.py    100%[===================>]     869  --.-KB/s    in 0s      \n",
            "\n",
            "2023-02-09 16:23:24 (44.7 MB/s) - ‘GRADING_SoftM.py’ saved [869/869]\n",
            "\n",
            "accuracy_score_1 : False\n",
            "accuracy_score_l2 : True\n",
            "accuracy_score_estop : True\n",
            "accuracy_score_final : True\n"
          ]
        }
      ]
    }
  ]
}