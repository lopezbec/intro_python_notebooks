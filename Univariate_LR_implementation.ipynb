{
  "nbformat": 4,
  "nbformat_minor": 0,
  "metadata": {
    "kernelspec": {
      "display_name": "Python 3",
      "language": "python",
      "name": "python3"
    },
    "language_info": {
      "codemirror_mode": {
        "name": "ipython",
        "version": 3
      },
      "file_extension": ".py",
      "mimetype": "text/x-python",
      "name": "python",
      "nbconvert_exporter": "python",
      "pygments_lexer": "ipython3",
      "version": "3.6.4"
    },
    "colab": {
      "provenance": []
    }
  },
  "cells": [
    {
      "cell_type": "markdown",
      "metadata": {
        "id": "YRkIEC7XmK4C"
      },
      "source": [
        "<center><b>© Content is made available under the CC-BY-NC-ND 4.0 license. Christian Lopez, lopezbec@lafayette.edu<center>"
      ]
    },
    {
      "cell_type": "markdown",
      "source": [
        "<table align=\"left\">\n",
        "  <td>\n",
        "    <a href=\"https://colab.research.google.com/github/lopezbec/intro_python_notebooks/blob/master/Univariate_LR_implementation.ipynb\" target=\"_parent\"><img src=\"https://colab.research.google.com/assets/colab-badge.svg\" alt=\"Open In Colab\"/></a>\n",
        "  </td>\n",
        "  <td>\n",
        "      </table>"
      ],
      "metadata": {
        "id": "hMOrkAGch_iQ"
      }
    },
    {
      "cell_type": "markdown",
      "metadata": {
        "id": "FTHAMc6QmL5D"
      },
      "source": [
        "#Implementation of Univariate of Linear Regression\n",
        "This notebook will show you how to implement (i.e., train) a univariate Linear Regression model. \n",
        "\n",
        "Most of the notebooks we are going to be using are inspired from existing notebooks that available online and are made  free for educational purposes (e.g., the work of [Andre Ng]( https://en.wikipedia.org/wiki/Andrew_Ng) and the notebooks from the [Python Data Science Handbook](http://shop.oreilly.com/product/0636920034919.do)). Nonetheless, the  notebooks should not be share without prior permission of the instructor. When working in an assignment always remember the [Student Code of Conduct]( https://conduct.lafayette.edu/student-handbook/student-code-of-conduct/).  \n"
      ]
    },
    {
      "cell_type": "markdown",
      "metadata": {
        "id": "3o65RqvnHtM1"
      },
      "source": [
        "###**Instructions:**\n",
        "- You will be using Python 3.\n",
        "\n",
        "- Only modify the code that is within the comments:\n",
        "\n",
        "`### START CODE HERE ###`\n",
        "\n",
        "`### END CODE HERE ###`\n",
        "\n",
        "\n",
        "- You need to run all the code cells on the notebok sequentially\n",
        "- If you are asked to change/update a cell, change/update and run it to check if your result is correct.\n"
      ]
    },
    {
      "cell_type": "markdown",
      "metadata": {
        "id": "t2sRosoUPC4P"
      },
      "source": [
        "\n",
        "Before we begin, we need to import all libraries required for this programming exercise."
      ]
    },
    {
      "cell_type": "code",
      "metadata": {
        "id": "hYAVdOzUPC4W"
      },
      "source": [
        "# used for manipulating directory paths\n",
        "import os\n",
        "\n",
        "# Scientific and vector computation for python\n",
        "import numpy as np\n",
        "\n",
        "# Plotting library\n",
        "import matplotlib.pyplot as plt\n",
        "from mpl_toolkits.mplot3d import Axes3D  # needed to plot 3-D surfaces\n",
        "\n",
        "# tells matplotlib to embed plots within the notebook\n",
        "%matplotlib inline\n",
        "\n",
        "#Pandas for summary statistics\n",
        "import pandas as pd\n",
        "\n",
        "#Scikit-learn for implemeting LinearRegression from a existing algorithm.\n",
        "from sklearn.linear_model import LinearRegression\n",
        "\n",
        "#To check how long our implementation takes\n",
        "import time\n",
        "\n",
        "!wget https://raw.githubusercontent.com/lopezbec/intro_python_notebooks/main/Data_LRIntro/ex1data1.txt\n",
        "!wget https://raw.githubusercontent.com/lopezbec/intro_python_notebooks/main/Data_LRIntro/ex1data2.txt\n"
      ],
      "execution_count": null,
      "outputs": []
    },
    {
      "cell_type": "markdown",
      "metadata": {
        "id": "s0rYDuKXPC5j"
      },
      "source": [
        "#Univariate Linear regression\n",
        "\n",
        "We will now implement linear regression with one variable to predict profits for a food truck.\n",
        "\n",
        "Suppose you are the CEO of a restaurant franchise and are considering different cities for opening a new outlet. The chain already has trucks in various cities and you have data for profits and populations from the cities. You would like to use this data to help you select which city to expand to next. \n",
        "\n",
        "The file `ex1data1.txt` contains the dataset for our linear regression problem. The first column is the population of a city (in 10,000s) and the second column is the profit of a food truck in that city (in $10,000s). A negative value for profit indicates a loss. \n",
        "\n",
        "We provide you with the code needed to load this data. The dataset is loaded from the data file into the variables `x` and `y`:"
      ]
    },
    {
      "cell_type": "code",
      "metadata": {
        "id": "se3BUG2bPC5m"
      },
      "source": [
        "# Read comma separated data\n",
        "data = np.loadtxt('ex1data1.txt', delimiter=',')\n",
        "x, y = data[:, 0], data[:, 1]\n",
        "\n",
        "m = y.size  # number of training examples"
      ],
      "execution_count": null,
      "outputs": []
    },
    {
      "cell_type": "markdown",
      "metadata": {
        "id": "tKZk31mTPC5y"
      },
      "source": [
        "##1- Exploratory Data Analysis\n",
        "\n",
        "Before starting  any data related task, you need to understand the data. Once way of doing this is by visualizing it and looking at it. For this dataset, you can use a scatter plotsince it has only two features to plot (profit and population). Many other problems that you will encounter in real life are multi-dimensional and cannot be plotted on a 2-d plot. There are many plotting libraries in python (see this [blog post](https://blog.modeanalytics.com/python-data-visualization-libraries/) for a good summary of the most popular ones). \n",
        "\n",
        "In this course, we will be mainly using [Matplotlib](https://matplotlib.org/) to do all our plotting. `matplotlib` is one of the most popular scientific plotting libraries in Python and has extensive tools and functions to make  plots. `pyplot` is a module within `matplotlib` which provides a simplified interface to `matplotlib`'s most common plotting tasks, mimicking MATLAB's plotting interface. We have imported the `pyplot` module at the beginning of this exercise using the command and named `plt`.\n"
      ]
    },
    {
      "cell_type": "code",
      "metadata": {
        "id": "G2Zi9bHiPC6I"
      },
      "source": [
        "    fig = plt.figure()  # open a new figure\n",
        "    plt.plot(x, y, 'ob', ms=5)\n",
        "    plt.ylabel('Profit in $10,000')\n",
        "    plt.xlabel('Population of City in 10,000s')"
      ],
      "execution_count": null,
      "outputs": []
    },
    {
      "cell_type": "code",
      "metadata": {
        "id": "OYeiteRB2gbx"
      },
      "source": [
        "print(\"Shape of x=\", x.shape)\n",
        "print(x[1:5])\n",
        "print(\"Shape of y=\",y.shape)\n",
        "print(y[1:5])"
      ],
      "execution_count": null,
      "outputs": []
    },
    {
      "cell_type": "code",
      "metadata": {
        "id": "8VoLJwGb2klq"
      },
      "source": [
        "#Lets reshape our data to column vectors\n",
        "x=x.reshape(-1,1)\n",
        "y=y.reshape(-1,1)\n",
        "print(\"Shape of x=\", x.shape)\n",
        "print(x[1:5,:])\n",
        "print(\"Shape of y=\",y.shape)\n",
        "print(y[1:5, :])"
      ],
      "execution_count": null,
      "outputs": []
    },
    {
      "cell_type": "code",
      "metadata": {
        "id": "KCuXOZBP3dER"
      },
      "source": [
        "#lets print some summary statistics (50 percentile= median)\n",
        "pd.DataFrame({\"Population of City in 10,000s (x)\":x[:,0], \"Profit in $10,000 (y)\":y[:,0]}).describe(include= 'all')\n"
      ],
      "execution_count": null,
      "outputs": []
    },
    {
      "cell_type": "markdown",
      "metadata": {
        "id": "5Qcz8dLsPC6o"
      },
      "source": [
        "\n",
        "##2- Gradient Descent\n",
        "\n",
        "In this part, you will fit the univariate linear regression parameters $\\theta_0$ & $\\theta_1$ to our dataset using gradient descent.\n",
        "\n",
        "#### 1.2.1 Main points \n",
        "\n",
        "The objective of linear regression is to minimize the cost function\n",
        "\n",
        "$$ J(\\theta) = \\frac{1}{2m} \\sum_{i=1}^m \\left( h_{\\theta}(x^{(i)}) - y^{(i)}\\right)^2$$\n",
        "\n",
        "where the hypothesis $h_\\theta(x)$ is given by the linear model\n",
        "$$ h_\\theta(x) = \\theta_0 + \\theta_1 x^{(i)}$$\n",
        "\n",
        "Recall that the parameters of your model are  $\\theta_0$ & $\\theta_1$. These are\n",
        "the values you will adjust to minimize cost $J(\\theta)$. One way to do this is to\n",
        "use the batch gradient descent algorithm. In batch gradient descent, each\n",
        "iteration performs the update\n",
        "\n",
        "$$ \\theta_0 = \\theta_0 - \\alpha \\frac{1}{m} \\sum_{i=1}^m \\left( h_\\theta(x^{(i)}) - y^{(i)}\\right)$$\n",
        "\n",
        "$$ \\theta_1 = \\theta_1 - \\alpha \\frac{1}{m} \\sum_{i=1}^m \\left( h_\\theta(x^{(i)}) - y^{(i)}\\right)x_j^{(i)}$$\n",
        "\n",
        "$$ \\qquad \\text{simultaneously update } \\theta_0 \\text{ and } \\theta_1$$\n",
        "\n",
        "With each step of gradient descent, your parameters come closer to the optimal values that will achieve the lowest cost J($\\theta$).\n",
        "\n",
        "\n"
      ]
    },
    {
      "cell_type": "markdown",
      "metadata": {
        "id": "5JQ9Cwmh6wG0"
      },
      "source": [
        "\n",
        "###2.1- Implementation\n",
        "\n",
        "\n"
      ]
    },
    {
      "cell_type": "markdown",
      "metadata": {
        "id": "t_tthzWZ7JsM"
      },
      "source": [
        "Let's just go ahead and code the pseudocode implementation of our batch gradient descent"
      ]
    },
    {
      "cell_type": "code",
      "metadata": {
        "id": "_oFwG44m8N_8"
      },
      "source": [
        "def Classic_gradientDescent_univariate_LR(x, y,m, alpha, T):\n",
        "    \"\"\"\n",
        "    Performs gradient descent to learn `theta_0` & `theta_1` for Univariate LR. Updates theta by taking `T`\n",
        "    gradient steps with learning rate `alpha`.\n",
        "    \"\"\"\n",
        "    # Initialize some useful values\n",
        "    theta_0=0\n",
        "    theta_1=0\n",
        "\n",
        "    ### START CODE HERE ### (= 12 lines of code)\n",
        "\n",
        "\n",
        "\n",
        "\n",
        "\n",
        "\n",
        "\n",
        "\n",
        "\n",
        "\n",
        "\n",
        "\n",
        "\n",
        "    ### END CODE HERE ###\n",
        "\n",
        "    return theta_0, theta_1"
      ],
      "execution_count": null,
      "outputs": []
    },
    {
      "cell_type": "code",
      "metadata": {
        "id": "3tY4Wdb-9Sna"
      },
      "source": [
        "# Lets try our code with T=1000\n",
        "T = 1000\n",
        "alpha = 0.01\n",
        "m=y.size\n",
        "\n",
        "tic = time.process_time()\n",
        "theta_0, theta_1 = Classic_gradientDescent_univariate_LR(x ,y, m, alpha, T)\n",
        "toc = time.process_time()\n",
        "print('Theta found by gradient descent after {0} iterations: {1}, {2}'.format(T,theta_0,theta_1))\n",
        "print(\"Time to run:\"+str(1000*(toc - tic)) + \"ms\")"
      ],
      "execution_count": null,
      "outputs": []
    },
    {
      "cell_type": "markdown",
      "metadata": {
        "id": "DKMrKWe2-7I2"
      },
      "source": [
        "**Expected output:**\n",
        "\n",
        "\n",
        "```\n",
        "Theta found by gradient descent after 1000 iterations: [-3.24140214], [1.1272942]\n",
        "```\n",
        "\n"
      ]
    },
    {
      "cell_type": "code",
      "metadata": {
        "id": "tZs3tP1k_HOk"
      },
      "source": [
        "# Lets try our code with T=5000\n",
        "T = 5000\n",
        "\n",
        "tic = time.process_time()\n",
        "theta_0, theta_1 = Classic_gradientDescent_univariate_LR(x ,y, m, alpha, T)\n",
        "toc = time.process_time()\n",
        "print('Theta found by gradient descent after {0} iterations: {1}, {2}'.format(T,theta_0,theta_1))\n",
        "print(\"Time to run:\"+str(1000*(toc - tic)) + \"ms\")"
      ],
      "execution_count": null,
      "outputs": []
    },
    {
      "cell_type": "markdown",
      "metadata": {
        "id": "z8p4_2Vl-__9"
      },
      "source": [
        "**Expected output:**\n",
        "\n",
        "\n",
        "```\n",
        "Theta found by gradient descent after 5000 iterations: [-3.89530051], [1.19298539]\n",
        "```\n",
        "\n"
      ]
    },
    {
      "cell_type": "markdown",
      "source": [
        "Now lets see if the values we found look good:"
      ],
      "metadata": {
        "id": "kap_wAJHfMbK"
      }
    },
    {
      "cell_type": "code",
      "source": [
        "\n",
        "Theta_0=-2 #@param\n",
        "Theta_1=1 #@param \n",
        "new_y=[t1+Theta_0 for t1 in [xx *Theta_1  for xx in x]]\n",
        "plt.plot(x, new_y, color='blue', linewidth=3)\n",
        "plt.plot(x, y, \"b.\")\n",
        "plt.text(5, 23, \"$h(x)$={0}+ {1}$x$\".format(Theta_0,Theta_1), fontsize=16, color=\"g\")\n",
        "#plt.axis([0, 2, 0, 15])\n",
        "plt.xlabel(\"$x_1$\", fontsize=18)\n",
        "plt.ylabel(\"$y$\", rotation=0, fontsize=18)\n",
        "plt.show()\n",
        "    "
      ],
      "metadata": {
        "cellView": "form",
        "id": "yr7zHhG1fNGs"
      },
      "execution_count": null,
      "outputs": []
    },
    {
      "cell_type": "markdown",
      "metadata": {
        "id": "5cjwhIEX_ga6"
      },
      "source": [
        "#........................................................................?\n",
        "<h1><center> 1) What would be a more efficient way to run this algorithm?</center><h1>\n",
        "\n",
        "<h1><center> 2) How do we know we have converged to the global minimum of $J(\\theta)$? </center><h1>\n",
        "\n"
      ]
    },
    {
      "cell_type": "markdown",
      "metadata": {
        "id": "03NIW6UWPC65"
      },
      "source": [
        "\n",
        "#### 3- Computing the cost $J(\\theta)$\n",
        "\n",
        "\n"
      ]
    },
    {
      "cell_type": "markdown",
      "metadata": {
        "id": "c9Luq4457CQz"
      },
      "source": [
        " We started by storing each example as a column vector $x$. To take into account the intercept term ($\\theta_0$), we add an additional first column to $x$ and set it to all ones, making it now a matrix $X$ of dimension $[m\\times2]$. This allows us to treat $\\theta_0$ as simply another 'feature'!\n",
        "</div>\n",
        "\n",
        "We have already set up the data for linear regression. In the following code cell, we add another dimension to our data to accommodate the $\\theta_0$ intercept term. "
      ]
    },
    {
      "cell_type": "code",
      "metadata": {
        "id": "ykl_hd8jPC6r"
      },
      "source": [
        "# Add a column of ones to X. The numpy function stack joins arrays along a given axis. \n",
        "# The first axis (axis=0) refers to rows (training examples) \n",
        "# and second axis (axis=1) refers to columns (features).\n",
        "X = np.stack([np.ones(m), x[:,0]], axis=1)"
      ],
      "execution_count": null,
      "outputs": []
    },
    {
      "cell_type": "markdown",
      "metadata": {
        "id": "0mBmEYlPFifh"
      },
      "source": [
        "As you perform gradient descent to learn minimize the cost function $J(\\theta)$,it is helpful to monitor the convergence by computing the cost. Now, we will implement a function to calculate $J(\\theta)$ so you can check the convergence of your gradient descent implementation. \n",
        "\n",
        "Your next task is to complete the code for the function `computeCost` which computes $J(\\theta)$. As you are doing this, remember that the variables $X$ and $y$ are not scalar values. $X$ is a matrix whose rows represent the examples from the training set and $y$ is a column vector with each element represent the value at a given row of $X$.\n",
        "\n",
        "**Hint**: recall about the NumPy functions of `np.sum` & `np.square`. Look at the documentation for these functions"
      ]
    },
    {
      "cell_type": "code",
      "metadata": {
        "id": "m9LL3V6xiS12"
      },
      "source": [
        "np.sum?"
      ],
      "execution_count": null,
      "outputs": []
    },
    {
      "cell_type": "code",
      "source": [
        "np.square?"
      ],
      "metadata": {
        "id": "mlnjFmKKgjQ0"
      },
      "execution_count": null,
      "outputs": []
    },
    {
      "cell_type": "code",
      "metadata": {
        "id": "14wQXkanPC68"
      },
      "source": [
        "def computeCost(X, y, theta):\n",
        "    \"\"\"\n",
        "    Compute cost for linear regression. Computes the cost of using theta as the\n",
        "    parameter for linear regression to fit the data points in X and y.\n",
        "    \n",
        "    Parameters\n",
        "    ----------\n",
        "    X : array_like\n",
        "        The input dataset of shape (m x n), where m is the number of examples,\n",
        "        and n is the number of features. . We assume a vector of one's already \n",
        "        appended to the features, so in the  univariate case n=1+1 columns.\n",
        "    \n",
        "    y : array_like\n",
        "        The values of the function at each data point. This is a vector of\n",
        "        shape (m x 1).\n",
        "    \n",
        "    theta : array_like\n",
        "        The parameters for the regression function. This is a vector of \n",
        "        shape (2,1) for the univariate case.\n",
        "    \n",
        "    Returns\n",
        "    -------\n",
        "    J : float\n",
        "        The value of the regression cost function.\n",
        "    \n",
        "    Instructions\n",
        "    ------------\n",
        "    Compute the cost of a particular choice of theta. \n",
        "    You should set J to the cost.\n",
        "    \"\"\"\n",
        "    \n",
        "    # initialize some useful values\n",
        "    m = y.size  # number of training examples\n",
        "    \n",
        "    # You need to return the following variables correctly\n",
        "    J = 0\n",
        "    \n",
        "    ### START CODE HERE ### (≈ 2 lines of code)\n",
        "\n",
        "\n",
        "    ### END CODE HERE ###\n",
        "\n",
        "    return J"
      ],
      "execution_count": null,
      "outputs": []
    },
    {
      "cell_type": "markdown",
      "metadata": {
        "id": "xbVY-7T1PC7a"
      },
      "source": [
        "Once you have completed the function, the next step will run `computeCost` two times using two different initializations of $\\theta$. You will see the cost printed to the screen."
      ]
    },
    {
      "cell_type": "code",
      "metadata": {
        "id": "MeeRRE3hPC7r"
      },
      "source": [
        "J = computeCost(X, y, theta=np.array([[0.0], [0.0]]))\n",
        "print('With theta = [0, 0] \\nCost computed = %.2f' % J)\n",
        "print('\\n')\n",
        "\n",
        "# further testing of the cost function\n",
        "J = computeCost(X, y, theta=np.array([[-4],[1]]))\n",
        "print('With theta = [-4, 1]\\nCost computed = %.2f' % J)\n"
      ],
      "execution_count": null,
      "outputs": []
    },
    {
      "cell_type": "markdown",
      "metadata": {
        "id": "R_sin-q9_Loh"
      },
      "source": [
        "**Expected output:**\n",
        "\n",
        "\n",
        "```\n",
        "With theta = [0, 0] \n",
        "Cost computed = 32.07\n",
        "\n",
        "\n",
        "With theta = [-4, 1]\n",
        "Cost computed = 6.16\n",
        "```\n",
        "\n"
      ]
    },
    {
      "cell_type": "markdown",
      "metadata": {
        "id": "ckwBoArQPC8v"
      },
      "source": [
        "\n",
        "#### 4- Vectorized Gradient descent\n",
        "\n",
        "Next, you will complete a function which implements a vectorized version of  gradient descent.\n",
        "The loop structure has been written for you, and you only need to supply the updates to $\\theta$ within each iteration. \n",
        "\n",
        "As you program, make sure you understand what you are trying to optimize and what is being updated. Keep in mind that the cost $J(\\theta)$ is parameterized by the vector $\\theta$, not $X$ and $y$. That is, we minimize the value of $J(\\theta)$ by changing the values of the vector $\\theta$, not by changing $X$ or $y$. A good way to verify that gradient descent is working correctly is to look at the value of $J(\\theta)$ and check that it is decreasing with each step. \n",
        "\n",
        "The starter code for the function `gradientDescent` calls `computeCost` on every iteration and saves the cost to a `python list`. Assuming you have implemented gradient descent and `computeCost` correctly, your value of $J(\\theta)$ should never increase, and should converge to a steady value by the end of the algorithm.\n",
        "<br><br>\n"
      ]
    },
    {
      "cell_type": "code",
      "metadata": {
        "id": "ySeYeNxEPC84"
      },
      "source": [
        "def gradientDescent(X, y, theta, alpha, num_iters):\n",
        "    \"\"\"\n",
        "    Performs a vectorized gradient descent to learn `theta`. Updates theta by taking `num_iters`\n",
        "    gradient steps with learning rate `alpha`.\n",
        "    \n",
        "    Parameters\n",
        "    ----------\n",
        "    X : array_like\n",
        "        The input dataset of shape (m x n+1).\n",
        "    \n",
        "    y : arra_like\n",
        "        Value at given features. A vector of shape (m x 1 ).\n",
        "    \n",
        "    theta : array_like\n",
        "        Initial values for the linear regression parameters. \n",
        "        A vector of shape (n+1 x 1).\n",
        "    \n",
        "    alpha : float\n",
        "        The learning rate.\n",
        "    \n",
        "    num_iters : int\n",
        "        The number of iterations for gradient descent. \n",
        "    \n",
        "    Returns\n",
        "    -------\n",
        "    theta : array_like\n",
        "        The learned linear regression parameters. A vector of shape (n+1 x 1 ).\n",
        "    \n",
        "    J_history : list\n",
        "        A python list for the values of the cost function after each iteration.\n",
        "    \n",
        "    Instructions\n",
        "    ------------\n",
        "    Peform a single gradient step on the parameter vector theta.\n",
        "\n",
        "    While debugging, it can be useful to print out the values of \n",
        "    the cost function (computeCost) and gradient.\n",
        "    \"\"\"\n",
        "    # Initialize some useful values\n",
        "    m = y.shape[0]  # number of training examples\n",
        "    \n",
        "    # make a copy of theta, to avoid changing the original array, since numpy arrays\n",
        "    # are passed by reference to functions!!!\n",
        "    theta = theta.copy()\n",
        "    \n",
        "    \n",
        "  \n",
        "    J_history = [] # Use a python list to save cost in every iteration\n",
        "    for i in range(num_iters):\n",
        "\n",
        "    ### START CODE HERE ### (≈ 2 lines of code)\n",
        "\n",
        "\n",
        "\n",
        "    ### END CODE HERE ###\n",
        "    \n",
        "        # save the cost J in every iteration\n",
        "        J_history.append(computeCost(X, y, theta)) \n",
        "\n",
        "    return theta, J_history"
      ],
      "execution_count": null,
      "outputs": []
    },
    {
      "cell_type": "markdown",
      "metadata": {
        "id": "0r8pTvwePC9B"
      },
      "source": [
        "After you are finished we will call the implemented `gradientDescent` function and print the computed $\\theta$. We initialize the $\\theta$ parameters to 0 and the learning rate $\\alpha$ to 0.01. Execute the following cell to check your code."
      ]
    },
    {
      "cell_type": "code",
      "metadata": {
        "id": "6L-GbCCDPC9D"
      },
      "source": [
        "# initialize fitting parameters\n",
        "theta = np.zeros(2).reshape(2,1)\n",
        "\n",
        "# some gradient descent settings\n",
        "iterations = 5000\n",
        "alpha = 0.01\n",
        "\n",
        "tic = time.process_time()\n",
        "theta, J_history = gradientDescent(X ,y, theta, alpha, iterations)\n",
        "toc = time.process_time()\n",
        "print('Theta found by gradient descent: {0}, {1}'.format(theta[0,0],theta[1,0] ))\n",
        "print(\"Time to run:\"+str(1000*(toc - tic)) + \"ms\")"
      ],
      "execution_count": null,
      "outputs": []
    },
    {
      "cell_type": "markdown",
      "metadata": {
        "id": "qIGQknBE_3PH"
      },
      "source": [
        "**Expected output:**\n",
        "\n",
        "\n",
        "```\n",
        "Theta found by gradient descent: -3.8953005106571683, 1.1929853860482196\n",
        "```\n",
        "\n"
      ]
    },
    {
      "cell_type": "markdown",
      "metadata": {
        "id": "nFNXMzSZ-lzH"
      },
      "source": [
        "#### Compare this with the results of your non-vectorized gradient descent algorithm, look at the \"Time to run\"!! above"
      ]
    },
    {
      "cell_type": "code",
      "metadata": {
        "id": "zZveQieX-rUy"
      },
      "source": [
        "T = 5000\n",
        "\n",
        "tic = time.process_time()\n",
        "theta_0, theta_1 = Classic_gradientDescent_univariate_LR(x ,y, m, alpha, T)\n",
        "toc = time.process_time()\n",
        "print('Theta found by gradient descent after {0} iterations: {1}, {2}'.format(T,theta_0,theta_1))\n",
        "print(\"Time to run:\"+str(1000*(toc - tic)) + \"ms\")"
      ],
      "execution_count": null,
      "outputs": []
    },
    {
      "cell_type": "markdown",
      "metadata": {
        "id": "KiY4YQlB-2JT"
      },
      "source": [
        "**What** a difference in time!!"
      ]
    },
    {
      "cell_type": "markdown",
      "metadata": {
        "id": "Pzmnb2aUPC94"
      },
      "source": [
        "### 5- Visualizing $J(\\theta)$\n",
        "\n",
        "We have created our vectorized implementation of our gradient descent algorithm. However, for how long should we run our algorithm (i.e., for how many iterations should we calculate the gradient and update our model parameters)?\n",
        "\n",
        "A way to know is to plot the value of the cost function over the number of iterations."
      ]
    },
    {
      "cell_type": "code",
      "metadata": {
        "id": "Vhq_RN8WYsYD"
      },
      "source": [
        "# initialize fitting parameters\n",
        "theta = np.zeros(2).reshape(2,1)\n",
        "iterations = 4000\n",
        "alpha = 0.01\n",
        "theta, J_history = gradientDescent(X ,y, theta, alpha, iterations)\n",
        "print('Theta found by gradient descent: {0}, {1}'.format(theta[0,0],theta[1,0] ))\n",
        "print(\"Cost value\" ,computeCost(X, y, theta))\n",
        "# theta for minimized cost J\n",
        "plt.plot(J_history)\n",
        "plt.xlim(xmin=0.0)\n",
        "plt.ylabel('Cost J')\n",
        "plt.xlabel('Iterations');"
      ],
      "execution_count": null,
      "outputs": []
    },
    {
      "cell_type": "markdown",
      "metadata": {
        "id": "o17OM9gUCGfL"
      },
      "source": [
        "It looks like the cost function plateaus after 2000 iterations, let's see what we get:"
      ]
    },
    {
      "cell_type": "code",
      "metadata": {
        "id": "8LEh25DMCF3K"
      },
      "source": [
        "theta = np.zeros(2).reshape(2,1)\n",
        "iterations = 2000\n",
        "alpha = 0.01\n",
        "theta, J_history = gradientDescent(X ,y, theta, alpha, iterations)\n",
        "print('Theta found by gradient descent: {0}, {1}'.format(theta[0,0],theta[1,0] ))\n",
        "print(\"Cost value\" ,computeCost(X, y, theta))"
      ],
      "execution_count": null,
      "outputs": []
    },
    {
      "cell_type": "markdown",
      "metadata": {
        "id": "J42IRqs_DmSE"
      },
      "source": [
        "Our cost values is very similar but the model parameters are a bit different. We can do an iterative process to check what value minimizes the $J(\\theta)$, but we know a way to get the optimal value already, right? ...."
      ]
    },
    {
      "cell_type": "markdown",
      "metadata": {
        "id": "GkyOYlS7PC_Z"
      },
      "source": [
        "\n",
        "### 6 Normal Equations\n",
        "\n",
        "You learned that the closed-form solution to linear regression is:\n",
        "\n",
        "$$ \\theta = \\left( X^T X\\right)^{-1} X^T{y}$$\n",
        "\n",
        "By using this formula, you will get an exact solution in one calculation: there is no “loop until convergence” like in gradient descent. \n",
        "\n",
        " Remember that we  need to use our matrix $X$ that has a column of 1’s for our intercept term ($\\theta_0$)."
      ]
    },
    {
      "cell_type": "markdown",
      "metadata": {
        "id": "ViNb6kYqPC_e"
      },
      "source": [
        "Complete the code for the function `normalEqn` below to use the formula above to calculate $\\theta$. \n",
        "\n",
        "<a id=\"normalEqn\"></a>"
      ]
    },
    {
      "cell_type": "code",
      "metadata": {
        "id": "MhRSd0R1PC_f"
      },
      "source": [
        "def normalEqn(X, y):\n",
        "    \"\"\"\n",
        "    Computes the closed-form solution to linear regression using the normal equations.\n",
        "    \n",
        "    Parameters\n",
        "    ----------\n",
        "    X : array_like\n",
        "        The dataset of shape (m x n+1).\n",
        "    \n",
        "    y : array_like\n",
        "        The value at each data point. A vector of shape (m x 1).\n",
        "    \n",
        "    Returns\n",
        "    -------\n",
        "    theta : array_like\n",
        "        Estimated linear regression parameters. A vector of shape (n+1 x 1).\n",
        "    \n",
        "    Instructions\n",
        "    ------------\n",
        "    Complete the code to compute the closed form solution to linear\n",
        "    regression and put the result in theta.\n",
        "    \n",
        "    Hint\n",
        "    ----\n",
        "    Look up the function `np.linalg.pinv` for computing matrix inverse.\n",
        "    \"\"\"\n",
        "    theta = np.zeros(X.shape[1])\n",
        "    \n",
        "    ### START CODE HERE ### (≈ 1 lines of code)\n",
        "\n",
        "\n",
        "\n",
        "    ### END CODE HERE ###\n",
        "    \n",
        "    return theta.reshape(X.shape[1],1)"
      ],
      "execution_count": null,
      "outputs": []
    },
    {
      "cell_type": "code",
      "metadata": {
        "id": "xx7eZMzqonFt"
      },
      "source": [
        "tic = time.process_time()\n",
        "theta_best = normalEqn(X,y)\n",
        "toc = time.process_time()\n",
        "print('Theta found by Normal Equation: {0}, {1}'.format(theta_best[0,0],theta_best[1,0]))\n",
        "print(\"Cost value\" ,computeCost(X, y, theta_best))\n",
        "print(\"Time to run:\"+str(1000*(toc - tic)) + \"ms\")"
      ],
      "execution_count": null,
      "outputs": []
    },
    {
      "cell_type": "markdown",
      "metadata": {
        "id": "6TQMLHlQAyIX"
      },
      "source": [
        "**Expected output:**\n",
        "\n",
        "\n",
        "```\n",
        "Theta found by Normal Equation: -3.8957808783118772, 1.1930336441895957\n",
        "Cost value 4.476971375975179\n",
        "```\n",
        "\n"
      ]
    },
    {
      "cell_type": "markdown",
      "metadata": {
        "id": "-DerHEL5m_mf"
      },
      "source": [
        "###7- Linear Regression with Scikit-Learn"
      ]
    },
    {
      "cell_type": "markdown",
      "metadata": {
        "id": "s-NV0ivtGs3H"
      },
      "source": [
        "We can also train our Linear Regression Model using the `LinearRegression` class, which is based on the `scipy.linalg.lstsq()` function (the name stands for \"least squares\" from the [Scikit-Learn](https://scikit-learn.org/stable/) library).  We can call it directly as:\n"
      ]
    },
    {
      "cell_type": "code",
      "metadata": {
        "id": "T8RYH_Lsm51R"
      },
      "source": [
        "tic = time.process_time()\n",
        "lin_reg = LinearRegression()\n",
        "lin_reg.fit(X, y)\n",
        "toc = time.process_time()\n",
        "\n",
        "print('Theta found by sklearn.linear_model: {0}, {1}'.format(lin_reg.intercept_[0],lin_reg.coef_[0,1]))\n",
        "theta_sl=np.array([lin_reg.intercept_[0],lin_reg.coef_[0,1]]).reshape(2,1)\n",
        "print(\"Cost value\" ,computeCost(X, y, theta_sl))\n",
        "print(\"Time to run:\"+str(1000*(toc - tic)) + \"ms\")"
      ],
      "execution_count": null,
      "outputs": []
    },
    {
      "cell_type": "markdown",
      "metadata": {
        "id": "X-wtNy1JHbds"
      },
      "source": [
        "\n",
        "This function computes $\\mathbf{X}^+\\mathbf{y}$, where $\\mathbf{X}^{+}$ is the _pseudoinverse_ of $\\mathbf{X}$ (specifically the Moore-Penrose inverse). You can use `np.linalg.pinv()` to compute the pseudoinverse directly. It implements a algorith for using Singular-Value Decomposition (SVD)"
      ]
    },
    {
      "cell_type": "markdown",
      "metadata": {
        "id": "gpbJB048H4XM"
      },
      "source": [
        "##8- Visualizing our model"
      ]
    },
    {
      "cell_type": "markdown",
      "metadata": {
        "id": "cafMlI2sPC9Q"
      },
      "source": [
        "Finally, we can use your model parameters to plot the linear fit to the data. \n"
      ]
    },
    {
      "cell_type": "code",
      "metadata": {
        "id": "1Exxgt8oPC9S"
      },
      "source": [
        "theta = np.zeros(2).reshape(2,1)\n",
        "# some gradient descent settings\n",
        "iterations = 2000\n",
        "alpha = 0.01\n",
        "theta, J_history = gradientDescent(X ,y, theta, alpha, iterations)\n",
        "\n",
        "xx = np.arange(5,23)\n",
        "yy = theta[0]+theta[1]*xx\n",
        "\n",
        "# Plot gradient descent\n",
        "\n",
        "plt.scatter(X[:,1], y, s=30, c='c', marker='o', linewidths=1)\n",
        "plt.plot(xx,yy, label='Linear regression (Gradient descent 2k iters.)')\n",
        "plt.rcParams['figure.figsize'] = [20, 10]\n",
        "# Compare with Scikit-learn Linear regression \n",
        "regr = LinearRegression()\n",
        "regr.fit(X[:,1].reshape(-1,1), y.ravel())\n",
        "plt.plot(xx, regr.intercept_+regr.coef_*xx, label='Linear regression (Scikit-learn)')\n",
        "\n",
        "plt.xlim(4,24)\n",
        "plt.xlabel('Population of City in 10,000s')\n",
        "plt.ylabel('Profit in $10,000s')\n",
        "plt.legend(loc=4);"
      ],
      "execution_count": null,
      "outputs": []
    },
    {
      "cell_type": "markdown",
      "metadata": {
        "id": "5rslBqXgPC9g"
      },
      "source": [
        "Your final values for $\\theta$ will also be used to make predictions on profits in areas of 35,000 and 70,000 people.\n"
      ]
    },
    {
      "cell_type": "code",
      "metadata": {
        "id": "15ZSrDNuPC9k"
      },
      "source": [
        "# Predict values for population sizes of 35,000 and 70,000\n",
        "predict1 = np.dot([1, 3.5], theta)\n",
        "\n",
        "print('For population = 35,000, we predict a profit of {:.2f}\\n'.format(predict1[0]*10000))\n",
        "\n",
        "predict2 = np.dot([1, 7], theta)\n",
        "print('For population = 70,000, we predict a profit of {:.2f}\\n'.format(predict2[0]*10000))"
      ],
      "execution_count": null,
      "outputs": []
    },
    {
      "cell_type": "markdown",
      "metadata": {
        "id": "ygW4pHR7Yshn"
      },
      "source": [
        "## 9- The Learning Rate $\\alpha$"
      ]
    },
    {
      "cell_type": "markdown",
      "metadata": {
        "id": "uouomr2WYxNg"
      },
      "source": [
        "Our Gradient Descent implementation with $\\alpha$=0.01 and 10,000 iterations find the same parameters as our Normal Equation implementation.\n"
      ]
    },
    {
      "cell_type": "code",
      "metadata": {
        "id": "sKY1-24SY4Yh"
      },
      "source": [
        "# initialize fitting parameters\n",
        "theta = np.zeros(2).reshape(2,1)\n",
        "# some gradient descent settings\n",
        "iterations = 10000\n",
        "alpha = 0.01\n",
        "\n",
        "theta, J_history = gradientDescent(X ,y, theta, alpha, iterations)\n",
        "\n",
        "print('Theta found by gradient descent: {0}, {1}'.format(theta[0,0],theta[1,0] ))\n",
        "print(\"Cost value\" ,computeCost(X, y, theta))\n"
      ],
      "execution_count": null,
      "outputs": []
    },
    {
      "cell_type": "code",
      "metadata": {
        "id": "9iQanKLoY8sG"
      },
      "source": [
        "theta_best = normalEqn(X,y)\n",
        "print('Theta found by Normal Equation: {0}, {1}'.format(theta_best[0,0],theta_best[1,0]))\n",
        "print(\"Cost value\" ,computeCost(X, y, theta_best))"
      ],
      "execution_count": null,
      "outputs": []
    },
    {
      "cell_type": "code",
      "metadata": {
        "id": "ZpcFSmQwZStB"
      },
      "source": [
        "if (computeCost(X, y, theta)==computeCost(X, y, theta_best) ):\n",
        "    print(\"Gradient Descent and the Normal Equation approach find the same parameters\")"
      ],
      "execution_count": null,
      "outputs": []
    },
    {
      "cell_type": "markdown",
      "metadata": {
        "id": "p_3GDe1PZ94U"
      },
      "source": [
        "\n",
        "But what if you had used a different learning rate? \n",
        "\n",
        "The plots below shows the first 10 steps of Gradient Descent using three different learning rates (the dashed line represents the starting point)."
      ]
    },
    {
      "cell_type": "code",
      "metadata": {
        "id": "p04dmh6ZaPHQ"
      },
      "source": [
        "theta_path_bgd = []\n",
        "\n",
        "X_new = np.array([[  min(X[:,1])  ], [  max(X[:,1])]]    )\n",
        "X_new_b = np.c_[np.ones((2, 1)), X_new]  # add x0 = 1 to each instance\n",
        "\n",
        "def plot_gradient_descent(theta, alpha, theta_path=None):\n",
        "    m = len(X)\n",
        "    plt.plot(X, y, \"b.\")\n",
        "    n_iterations = 1000\n",
        "    for iteration in range(n_iterations):\n",
        "        if iteration < 10:\n",
        "            y_predict = X_new_b.dot(theta)\n",
        "            style = \"b-\" if iteration > 0 else \"r--\"\n",
        "            plt.plot(X_new, y_predict, style)\n",
        "        gradients = 1/m * X.T.dot(X.dot(theta) - y)\n",
        "        theta = theta - alpha * gradients\n",
        "        if theta_path is not None:\n",
        "            theta_path.append(theta)\n",
        "    plt.xlabel(\"$x_1$\", fontsize=18)\n",
        "    plt.axis([min(X[:,1]), max(X[:,1]), min(y[:,0]), max(y[:,0])])\n",
        "    plt.title(r\"$\\alpha = {}$\".format(alpha), fontsize=16)"
      ],
      "execution_count": null,
      "outputs": []
    },
    {
      "cell_type": "code",
      "metadata": {
        "id": "o_kgqf72aWVc"
      },
      "source": [
        "np.random.seed(42)\n",
        "theta = np.random.randn(2,1)  # random initialization\n",
        "\n",
        "plt.figure(figsize=(10,4))\n",
        "plt.subplot(131); plot_gradient_descent(theta, alpha=0.001)\n",
        "plt.ylabel(\"$y$\", rotation=0, fontsize=18)\n",
        "plt.subplot(132); plot_gradient_descent(theta, alpha=0.01, theta_path=theta_path_bgd)\n",
        "plt.subplot(133); plot_gradient_descent(theta, alpha=0.025)\n",
        "\n",
        "plt.show()"
      ],
      "execution_count": null,
      "outputs": []
    }
  ]
}